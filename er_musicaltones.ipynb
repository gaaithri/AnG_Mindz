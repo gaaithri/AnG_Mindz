{
  "nbformat": 4,
  "nbformat_minor": 0,
  "metadata": {
    "colab": {
      "provenance": [],
      "mount_file_id": "1-r_pGwQUGSoPdpn5lAyLUIrGo81Aoo4H",
      "authorship_tag": "ABX9TyPjs7Sb8EDHXOdmEzgMKdeP",
      "include_colab_link": true
    },
    "kernelspec": {
      "name": "python3",
      "display_name": "Python 3"
    },
    "language_info": {
      "name": "python"
    }
  },
  "cells": [
    {
      "cell_type": "markdown",
      "metadata": {
        "id": "view-in-github",
        "colab_type": "text"
      },
      "source": [
        "<a href=\"https://colab.research.google.com/github/gaaithri/AnG_Mindz/blob/Dec24_B04/er_musicaltones.ipynb\" target=\"_parent\"><img src=\"https://colab.research.google.com/assets/colab-badge.svg\" alt=\"Open In Colab\"/></a>"
      ]
    },
    {
      "cell_type": "code",
      "execution_count": null,
      "metadata": {
        "id": "gmXR_ZsTMhmQ"
      },
      "outputs": [],
      "source": [
        "import librosa"
      ]
    },
    {
      "cell_type": "code",
      "source": [
        "import numpy as np\n",
        "import pandas as pd\n",
        "import os"
      ],
      "metadata": {
        "id": "DQMbn8IiMkYw"
      },
      "execution_count": null,
      "outputs": []
    },
    {
      "cell_type": "code",
      "source": [
        "def extract_features(file_path):\n",
        "    y, sr = librosa.load(file_path)  # Load audio file (30s max duration)\n",
        "\n",
        "    # Extract features\n",
        "    mfccs = np.mean(librosa.feature.mfcc(y=y, sr=sr, n_mfcc=13).T, axis=0)\n",
        "    chroma = np.mean(librosa.feature.chroma_stft(y=y, sr=sr).T, axis=0)\n",
        "    spectral_contrast = np.mean(librosa.feature.spectral_contrast(y=y, sr=sr).T, axis=0)\n",
        "    tempo, _ = librosa.beat.beat_track(y=y, sr=sr)\n",
        "    # Combine all features into a single array\n",
        "    features = np.hstack([mfccs, chroma, spectral_contrast, tempo])\n",
        "    return features"
      ],
      "metadata": {
        "id": "H34_GFUHMq2v"
      },
      "execution_count": null,
      "outputs": []
    },
    {
      "cell_type": "code",
      "source": [
        "def process_dataset(data_dir,  output_csv):\n",
        "    features_list = []\n",
        "    emotions = []\n",
        "    # Walk through the data directory\n",
        "    for emotion_folder in os.listdir(data_dir):\n",
        "        emotion_path = os.path.join(data_dir, emotion_folder)\n",
        "\n",
        "        if os.path.isdir(emotion_path):  # Check if it's a folder\n",
        "            print(f\"Processing emotion: {emotion_folder}\")\n",
        "\n",
        "            for audio_file in os.listdir(emotion_path):\n",
        "                file_path = os.path.join(emotion_path, audio_file)\n",
        "                try:\n",
        "                    # Extract features for the audio file\n",
        "                    features = extract_features(file_path)\n",
        "                    features_list.append(features)\n",
        "                    emotions.append(emotion_folder)  # Use folder name as label\n",
        "                except Exception as e:\n",
        "                    print(f\"Error processing {file_path}: {e}\")\n",
        "\n",
        "    # Convert to DataFrame\n",
        "    feature_df = pd.DataFrame(features_list)\n",
        "    feature_df['emotion'] = emotions  # Add the emotion labels column\n",
        "    feature_df.to_csv(output_csv, index=False)\n",
        "    print(f\"Features saved to {output_csv}\")\n"
      ],
      "metadata": {
        "id": "Wm8hyRskMvuN"
      },
      "execution_count": null,
      "outputs": []
    },
    {
      "cell_type": "code",
      "source": [
        "!mkdir -p ~/.kaggle\n",
        "!cp /content/kaggle/kaggle.json ~/.kaggle/\n",
        "\n"
      ],
      "metadata": {
        "id": "1CNvsmD_Q2T9"
      },
      "execution_count": null,
      "outputs": []
    },
    {
      "cell_type": "code",
      "source": [
        "!ls -a /root/.kaggle/"
      ],
      "metadata": {
        "colab": {
          "base_uri": "https://localhost:8080/"
        },
        "id": "081tuK8bRfe2",
        "outputId": "b4eb7489-4db3-4ee7-9033-08fdd2ddb909"
      },
      "execution_count": null,
      "outputs": [
        {
          "output_type": "stream",
          "name": "stdout",
          "text": [
            ".  ..  kaggle.json\n"
          ]
        }
      ]
    },
    {
      "cell_type": "code",
      "source": [
        "\n"
      ],
      "metadata": {
        "colab": {
          "base_uri": "https://localhost:8080/"
        },
        "id": "6E_xOrrnOFzj",
        "outputId": "510001ea-a34e-43f9-9332-25a165d64a51"
      },
      "execution_count": null,
      "outputs": [
        {
          "output_type": "stream",
          "name": "stdout",
          "text": [
            "Archive:  /content/to-classify-tones-of-musical-emotion-files.zip\n",
            "  End-of-central-directory signature not found.  Either this file is not\n",
            "  a zipfile, or it constitutes one disk of a multi-part archive.  In the\n",
            "  latter case the central directory and zipfile comment will be found on\n",
            "  the last disk(s) of this archive.\n",
            "unzip:  cannot find zipfile directory in one of /content/to-classify-tones-of-musical-emotion-files.zip or\n",
            "        /content/to-classify-tones-of-musical-emotion-files.zip.zip, and cannot find /content/to-classify-tones-of-musical-emotion-files.zip.ZIP, period.\n"
          ]
        }
      ]
    },
    {
      "cell_type": "code",
      "source": [
        "!kaggle competitions download -c to-classify-tones-of-musical-emotion-files --force"
      ],
      "metadata": {
        "colab": {
          "base_uri": "https://localhost:8080/"
        },
        "id": "G9RFnLK5P_S7",
        "outputId": "7cf38788-cc91-4adf-f809-6d4a41d551bc"
      },
      "execution_count": null,
      "outputs": [
        {
          "output_type": "stream",
          "name": "stdout",
          "text": [
            "Warning: Your Kaggle API key is readable by other users on this system! To fix this, you can run 'chmod 600 /root/.kaggle/kaggle.json'\n",
            "Downloading to-classify-tones-of-musical-emotion-files.zip to /content\n",
            " 98% 628M/641M [00:05<00:00, 138MB/s]\n",
            "100% 641M/641M [00:05<00:00, 118MB/s]\n"
          ]
        }
      ]
    },
    {
      "cell_type": "code",
      "source": [
        "!unzip -o /content/to-classify-tones-of-musical-emotion-files.zip -d /content/data/\n"
      ],
      "metadata": {
        "colab": {
          "base_uri": "https://localhost:8080/"
        },
        "collapsed": true,
        "id": "PFj2567eSDY-",
        "outputId": "0680ea65-07f1-49b2-aca7-92ee614cd526"
      },
      "execution_count": null,
      "outputs": [
        {
          "output_type": "stream",
          "name": "stdout",
          "text": [
            "Archive:  /content/to-classify-tones-of-musical-emotion-files.zip\n",
            "  inflating: /content/data/Test/Test/1.wav  \n",
            "  inflating: /content/data/Test/Test/10.wav  \n",
            "  inflating: /content/data/Test/Test/100.wav  \n",
            "  inflating: /content/data/Test/Test/101.wav  \n",
            "  inflating: /content/data/Test/Test/102.wav  \n",
            "  inflating: /content/data/Test/Test/103.wav  \n",
            "  inflating: /content/data/Test/Test/104.wav  \n",
            "  inflating: /content/data/Test/Test/105.wav  \n",
            "  inflating: /content/data/Test/Test/106.wav  \n",
            "  inflating: /content/data/Test/Test/107.wav  \n",
            "  inflating: /content/data/Test/Test/108.wav  \n",
            "  inflating: /content/data/Test/Test/109.wav  \n",
            "  inflating: /content/data/Test/Test/11.wav  \n",
            "  inflating: /content/data/Test/Test/110.wav  \n",
            "  inflating: /content/data/Test/Test/111.wav  \n",
            "  inflating: /content/data/Test/Test/112.wav  \n",
            "  inflating: /content/data/Test/Test/113.wav  \n",
            "  inflating: /content/data/Test/Test/114.wav  \n",
            "  inflating: /content/data/Test/Test/115.wav  \n",
            "  inflating: /content/data/Test/Test/116.wav  \n",
            "  inflating: /content/data/Test/Test/117.wav  \n",
            "  inflating: /content/data/Test/Test/118.wav  \n",
            "  inflating: /content/data/Test/Test/119.wav  \n",
            "  inflating: /content/data/Test/Test/12.wav  \n",
            "  inflating: /content/data/Test/Test/120.wav  \n",
            "  inflating: /content/data/Test/Test/121.wav  \n",
            "  inflating: /content/data/Test/Test/122.wav  \n",
            "  inflating: /content/data/Test/Test/123.wav  \n",
            "  inflating: /content/data/Test/Test/124.wav  \n",
            "  inflating: /content/data/Test/Test/125.wav  \n",
            "  inflating: /content/data/Test/Test/126.wav  \n",
            "  inflating: /content/data/Test/Test/127.wav  \n",
            "  inflating: /content/data/Test/Test/128.wav  \n",
            "  inflating: /content/data/Test/Test/129.wav  \n",
            "  inflating: /content/data/Test/Test/13.wav  \n",
            "  inflating: /content/data/Test/Test/130.wav  \n",
            "  inflating: /content/data/Test/Test/131.wav  \n",
            "  inflating: /content/data/Test/Test/132.wav  \n",
            "  inflating: /content/data/Test/Test/133.wav  \n",
            "  inflating: /content/data/Test/Test/134.wav  \n",
            "  inflating: /content/data/Test/Test/135.wav  \n",
            "  inflating: /content/data/Test/Test/136.wav  \n",
            "  inflating: /content/data/Test/Test/137.wav  \n",
            "  inflating: /content/data/Test/Test/138.wav  \n",
            "  inflating: /content/data/Test/Test/139.wav  \n",
            "  inflating: /content/data/Test/Test/14.wav  \n",
            "  inflating: /content/data/Test/Test/140.wav  \n",
            "  inflating: /content/data/Test/Test/141.wav  \n",
            "  inflating: /content/data/Test/Test/142.wav  \n",
            "  inflating: /content/data/Test/Test/143.wav  \n",
            "  inflating: /content/data/Test/Test/144.wav  \n",
            "  inflating: /content/data/Test/Test/145.wav  \n",
            "  inflating: /content/data/Test/Test/146.wav  \n",
            "  inflating: /content/data/Test/Test/147.wav  \n",
            "  inflating: /content/data/Test/Test/148.wav  \n",
            "  inflating: /content/data/Test/Test/149.wav  \n",
            "  inflating: /content/data/Test/Test/15.wav  \n",
            "  inflating: /content/data/Test/Test/150.wav  \n",
            "  inflating: /content/data/Test/Test/151.wav  \n",
            "  inflating: /content/data/Test/Test/152.wav  \n",
            "  inflating: /content/data/Test/Test/153.wav  \n",
            "  inflating: /content/data/Test/Test/154.wav  \n",
            "  inflating: /content/data/Test/Test/155.wav  \n",
            "  inflating: /content/data/Test/Test/156.wav  \n",
            "  inflating: /content/data/Test/Test/157.wav  \n",
            "  inflating: /content/data/Test/Test/158.wav  \n",
            "  inflating: /content/data/Test/Test/159.wav  \n",
            "  inflating: /content/data/Test/Test/16.wav  \n",
            "  inflating: /content/data/Test/Test/160.wav  \n",
            "  inflating: /content/data/Test/Test/161.wav  \n",
            "  inflating: /content/data/Test/Test/162.wav  \n",
            "  inflating: /content/data/Test/Test/163.wav  \n",
            "  inflating: /content/data/Test/Test/164.wav  \n",
            "  inflating: /content/data/Test/Test/165.wav  \n",
            "  inflating: /content/data/Test/Test/166.wav  \n",
            "  inflating: /content/data/Test/Test/167.wav  \n",
            "  inflating: /content/data/Test/Test/168.wav  \n",
            "  inflating: /content/data/Test/Test/169.wav  \n",
            "  inflating: /content/data/Test/Test/17.wav  \n",
            "  inflating: /content/data/Test/Test/170.wav  \n",
            "  inflating: /content/data/Test/Test/171.wav  \n",
            "  inflating: /content/data/Test/Test/172.wav  \n",
            "  inflating: /content/data/Test/Test/173.wav  \n",
            "  inflating: /content/data/Test/Test/174.wav  \n",
            "  inflating: /content/data/Test/Test/175.wav  \n",
            "  inflating: /content/data/Test/Test/176.wav  \n",
            "  inflating: /content/data/Test/Test/177.wav  \n",
            "  inflating: /content/data/Test/Test/178.wav  \n",
            "  inflating: /content/data/Test/Test/179.wav  \n",
            "  inflating: /content/data/Test/Test/18.wav  \n",
            "  inflating: /content/data/Test/Test/180.wav  \n",
            "  inflating: /content/data/Test/Test/181.wav  \n",
            "  inflating: /content/data/Test/Test/182.wav  \n",
            "  inflating: /content/data/Test/Test/183.wav  \n",
            "  inflating: /content/data/Test/Test/184.wav  \n",
            "  inflating: /content/data/Test/Test/185.wav  \n",
            "  inflating: /content/data/Test/Test/186.wav  \n",
            "  inflating: /content/data/Test/Test/187.wav  \n",
            "  inflating: /content/data/Test/Test/188.wav  \n",
            "  inflating: /content/data/Test/Test/189.wav  \n",
            "  inflating: /content/data/Test/Test/19.wav  \n",
            "  inflating: /content/data/Test/Test/190.wav  \n",
            "  inflating: /content/data/Test/Test/191.wav  \n",
            "  inflating: /content/data/Test/Test/192.wav  \n",
            "  inflating: /content/data/Test/Test/193.wav  \n",
            "  inflating: /content/data/Test/Test/194.wav  \n",
            "  inflating: /content/data/Test/Test/195.wav  \n",
            "  inflating: /content/data/Test/Test/196.wav  \n",
            "  inflating: /content/data/Test/Test/197.wav  \n",
            "  inflating: /content/data/Test/Test/198.wav  \n",
            "  inflating: /content/data/Test/Test/199.wav  \n",
            "  inflating: /content/data/Test/Test/2.wav  \n",
            "  inflating: /content/data/Test/Test/20.wav  \n",
            "  inflating: /content/data/Test/Test/200.wav  \n",
            "  inflating: /content/data/Test/Test/201.wav  \n",
            "  inflating: /content/data/Test/Test/202.wav  \n",
            "  inflating: /content/data/Test/Test/203.wav  \n",
            "  inflating: /content/data/Test/Test/204.wav  \n",
            "  inflating: /content/data/Test/Test/205.wav  \n",
            "  inflating: /content/data/Test/Test/206.wav  \n",
            "  inflating: /content/data/Test/Test/207.wav  \n",
            "  inflating: /content/data/Test/Test/208.wav  \n",
            "  inflating: /content/data/Test/Test/209.wav  \n",
            "  inflating: /content/data/Test/Test/21.wav  \n",
            "  inflating: /content/data/Test/Test/210.wav  \n",
            "  inflating: /content/data/Test/Test/211.wav  \n",
            "  inflating: /content/data/Test/Test/212.wav  \n",
            "  inflating: /content/data/Test/Test/213.wav  \n",
            "  inflating: /content/data/Test/Test/214.wav  \n",
            "  inflating: /content/data/Test/Test/215.wav  \n",
            "  inflating: /content/data/Test/Test/216.wav  \n",
            "  inflating: /content/data/Test/Test/217.wav  \n",
            "  inflating: /content/data/Test/Test/218.wav  \n",
            "  inflating: /content/data/Test/Test/219.wav  \n",
            "  inflating: /content/data/Test/Test/22.wav  \n",
            "  inflating: /content/data/Test/Test/220.wav  \n",
            "  inflating: /content/data/Test/Test/221.wav  \n",
            "  inflating: /content/data/Test/Test/222.wav  \n",
            "  inflating: /content/data/Test/Test/223.wav  \n",
            "  inflating: /content/data/Test/Test/224.wav  \n",
            "  inflating: /content/data/Test/Test/225.wav  \n",
            "  inflating: /content/data/Test/Test/226.wav  \n",
            "  inflating: /content/data/Test/Test/227.wav  \n",
            "  inflating: /content/data/Test/Test/228.wav  \n",
            "  inflating: /content/data/Test/Test/229.wav  \n",
            "  inflating: /content/data/Test/Test/23.wav  \n",
            "  inflating: /content/data/Test/Test/230.wav  \n",
            "  inflating: /content/data/Test/Test/231.wav  \n",
            "  inflating: /content/data/Test/Test/232.wav  \n",
            "  inflating: /content/data/Test/Test/233.wav  \n",
            "  inflating: /content/data/Test/Test/234.wav  \n",
            "  inflating: /content/data/Test/Test/235.wav  \n",
            "  inflating: /content/data/Test/Test/236.wav  \n",
            "  inflating: /content/data/Test/Test/237.wav  \n",
            "  inflating: /content/data/Test/Test/238.wav  \n",
            "  inflating: /content/data/Test/Test/239.wav  \n",
            "  inflating: /content/data/Test/Test/24.wav  \n",
            "  inflating: /content/data/Test/Test/240.wav  \n",
            "  inflating: /content/data/Test/Test/241.wav  \n",
            "  inflating: /content/data/Test/Test/242.wav  \n",
            "  inflating: /content/data/Test/Test/243.wav  \n",
            "  inflating: /content/data/Test/Test/244.wav  \n",
            "  inflating: /content/data/Test/Test/245.wav  \n",
            "  inflating: /content/data/Test/Test/246.wav  \n",
            "  inflating: /content/data/Test/Test/247.wav  \n",
            "  inflating: /content/data/Test/Test/248.wav  \n",
            "  inflating: /content/data/Test/Test/249.wav  \n",
            "  inflating: /content/data/Test/Test/25.wav  \n",
            "  inflating: /content/data/Test/Test/250.wav  \n",
            "  inflating: /content/data/Test/Test/251.wav  \n",
            "  inflating: /content/data/Test/Test/252.wav  \n",
            "  inflating: /content/data/Test/Test/253.wav  \n",
            "  inflating: /content/data/Test/Test/26.wav  \n",
            "  inflating: /content/data/Test/Test/27.wav  \n",
            "  inflating: /content/data/Test/Test/28.wav  \n",
            "  inflating: /content/data/Test/Test/29.wav  \n",
            "  inflating: /content/data/Test/Test/3.wav  \n",
            "  inflating: /content/data/Test/Test/30.wav  \n",
            "  inflating: /content/data/Test/Test/31.wav  \n",
            "  inflating: /content/data/Test/Test/32.wav  \n",
            "  inflating: /content/data/Test/Test/33.wav  \n",
            "  inflating: /content/data/Test/Test/34.wav  \n",
            "  inflating: /content/data/Test/Test/35.wav  \n",
            "  inflating: /content/data/Test/Test/36.wav  \n",
            "  inflating: /content/data/Test/Test/37.wav  \n",
            "  inflating: /content/data/Test/Test/38.wav  \n",
            "  inflating: /content/data/Test/Test/39.wav  \n",
            "  inflating: /content/data/Test/Test/4.wav  \n",
            "  inflating: /content/data/Test/Test/40.wav  \n",
            "  inflating: /content/data/Test/Test/41.wav  \n",
            "  inflating: /content/data/Test/Test/42.wav  \n",
            "  inflating: /content/data/Test/Test/43.wav  \n",
            "  inflating: /content/data/Test/Test/44.wav  \n",
            "  inflating: /content/data/Test/Test/45.wav  \n",
            "  inflating: /content/data/Test/Test/46.wav  \n",
            "  inflating: /content/data/Test/Test/47.wav  \n",
            "  inflating: /content/data/Test/Test/48.wav  \n",
            "  inflating: /content/data/Test/Test/49.wav  \n",
            "  inflating: /content/data/Test/Test/5.wav  \n",
            "  inflating: /content/data/Test/Test/50.wav  \n",
            "  inflating: /content/data/Test/Test/51.wav  \n",
            "  inflating: /content/data/Test/Test/52.wav  \n",
            "  inflating: /content/data/Test/Test/53.wav  \n",
            "  inflating: /content/data/Test/Test/54.wav  \n",
            "  inflating: /content/data/Test/Test/55.wav  \n",
            "  inflating: /content/data/Test/Test/56.wav  \n",
            "  inflating: /content/data/Test/Test/57.wav  \n",
            "  inflating: /content/data/Test/Test/58.wav  \n",
            "  inflating: /content/data/Test/Test/59.wav  \n",
            "  inflating: /content/data/Test/Test/6.wav  \n",
            "  inflating: /content/data/Test/Test/60.wav  \n",
            "  inflating: /content/data/Test/Test/61.wav  \n",
            "  inflating: /content/data/Test/Test/62.wav  \n",
            "  inflating: /content/data/Test/Test/63.wav  \n",
            "  inflating: /content/data/Test/Test/64.wav  \n",
            "  inflating: /content/data/Test/Test/65.wav  \n",
            "  inflating: /content/data/Test/Test/66.wav  \n",
            "  inflating: /content/data/Test/Test/67.wav  \n",
            "  inflating: /content/data/Test/Test/68.wav  \n",
            "  inflating: /content/data/Test/Test/69.wav  \n",
            "  inflating: /content/data/Test/Test/7.wav  \n",
            "  inflating: /content/data/Test/Test/70.wav  \n",
            "  inflating: /content/data/Test/Test/71.wav  \n",
            "  inflating: /content/data/Test/Test/72.wav  \n",
            "  inflating: /content/data/Test/Test/73.wav  \n",
            "  inflating: /content/data/Test/Test/74.wav  \n",
            "  inflating: /content/data/Test/Test/75.wav  \n",
            "  inflating: /content/data/Test/Test/76.wav  \n",
            "  inflating: /content/data/Test/Test/77.wav  \n",
            "  inflating: /content/data/Test/Test/78.wav  \n",
            "  inflating: /content/data/Test/Test/79.wav  \n",
            "  inflating: /content/data/Test/Test/8.wav  \n",
            "  inflating: /content/data/Test/Test/80.wav  \n",
            "  inflating: /content/data/Test/Test/81.wav  \n",
            "  inflating: /content/data/Test/Test/82.wav  \n",
            "  inflating: /content/data/Test/Test/83.wav  \n",
            "  inflating: /content/data/Test/Test/84.wav  \n",
            "  inflating: /content/data/Test/Test/85.wav  \n",
            "  inflating: /content/data/Test/Test/86.wav  \n",
            "  inflating: /content/data/Test/Test/87.wav  \n",
            "  inflating: /content/data/Test/Test/88.wav  \n",
            "  inflating: /content/data/Test/Test/89.wav  \n",
            "  inflating: /content/data/Test/Test/9.wav  \n",
            "  inflating: /content/data/Test/Test/90.wav  \n",
            "  inflating: /content/data/Test/Test/91.wav  \n",
            "  inflating: /content/data/Test/Test/92.wav  \n",
            "  inflating: /content/data/Test/Test/93.wav  \n",
            "  inflating: /content/data/Test/Test/94.wav  \n",
            "  inflating: /content/data/Test/Test/95.wav  \n",
            "  inflating: /content/data/Test/Test/96.wav  \n",
            "  inflating: /content/data/Test/Test/97.wav  \n",
            "  inflating: /content/data/Test/Test/98.wav  \n",
            "  inflating: /content/data/Test/Test/99.wav  \n",
            "  inflating: /content/data/Train/Train/Happy/Happy10200.wav  \n",
            "  inflating: /content/data/Train/Train/Happy/Happy10201.wav  \n",
            "  inflating: /content/data/Train/Train/Happy/Happy10202.wav  \n",
            "  inflating: /content/data/Train/Train/Happy/Happy10203.wav  \n",
            "  inflating: /content/data/Train/Train/Happy/Happy10204.wav  \n",
            "  inflating: /content/data/Train/Train/Happy/Happy10205.wav  \n",
            "  inflating: /content/data/Train/Train/Happy/Happy10206.wav  \n",
            "  inflating: /content/data/Train/Train/Happy/Happy10207.wav  \n",
            "  inflating: /content/data/Train/Train/Happy/Happy10208.wav  \n",
            "  inflating: /content/data/Train/Train/Happy/Happy10209.wav  \n",
            "  inflating: /content/data/Train/Train/Happy/Happy10210.wav  \n",
            "  inflating: /content/data/Train/Train/Happy/Happy10211.wav  \n",
            "  inflating: /content/data/Train/Train/Happy/Happy10212.wav  \n",
            "  inflating: /content/data/Train/Train/Happy/Happy10213.wav  \n",
            "  inflating: /content/data/Train/Train/Happy/Happy10214.wav  \n",
            "  inflating: /content/data/Train/Train/Happy/Happy11100.wav  \n",
            "  inflating: /content/data/Train/Train/Happy/Happy11101.wav  \n",
            "  inflating: /content/data/Train/Train/Happy/Happy11102.wav  \n",
            "  inflating: /content/data/Train/Train/Happy/Happy11103.wav  \n",
            "  inflating: /content/data/Train/Train/Happy/Happy11104.wav  \n",
            "  inflating: /content/data/Train/Train/Happy/Happy11105.wav  \n",
            "  inflating: /content/data/Train/Train/Happy/Happy11106.wav  \n",
            "  inflating: /content/data/Train/Train/Happy/Happy11107.wav  \n",
            "  inflating: /content/data/Train/Train/Happy/Happy11108.wav  \n",
            "  inflating: /content/data/Train/Train/Happy/Happy11109.wav  \n",
            "  inflating: /content/data/Train/Train/Happy/Happy11110.wav  \n",
            "  inflating: /content/data/Train/Train/Happy/Happy11111.wav  \n",
            "  inflating: /content/data/Train/Train/Happy/Happy11112.wav  \n",
            "  inflating: /content/data/Train/Train/Happy/Happy11113.wav  \n",
            "  inflating: /content/data/Train/Train/Happy/Happy11500.wav  \n",
            "  inflating: /content/data/Train/Train/Happy/Happy11501.wav  \n",
            "  inflating: /content/data/Train/Train/Happy/Happy11502.wav  \n",
            "  inflating: /content/data/Train/Train/Happy/Happy11503.wav  \n",
            "  inflating: /content/data/Train/Train/Happy/Happy11504.wav  \n",
            "  inflating: /content/data/Train/Train/Happy/Happy11505.wav  \n",
            "  inflating: /content/data/Train/Train/Happy/Happy11506.wav  \n",
            "  inflating: /content/data/Train/Train/Happy/Happy11507.wav  \n",
            "  inflating: /content/data/Train/Train/Happy/Happy11508.wav  \n",
            "  inflating: /content/data/Train/Train/Happy/Happy11509.wav  \n",
            "  inflating: /content/data/Train/Train/Happy/Happy11510.wav  \n",
            "  inflating: /content/data/Train/Train/Happy/Happy11511.wav  \n",
            "  inflating: /content/data/Train/Train/Happy/Happy11512.wav  \n",
            "  inflating: /content/data/Train/Train/Happy/Happy11513.wav  \n",
            "  inflating: /content/data/Train/Train/Happy/Happy11514.wav  \n",
            "  inflating: /content/data/Train/Train/Happy/Happy11515.wav  \n",
            "  inflating: /content/data/Train/Train/Happy/Happy11516.wav  \n",
            "  inflating: /content/data/Train/Train/Happy/Happy13200.wav  \n",
            "  inflating: /content/data/Train/Train/Happy/Happy13201.wav  \n",
            "  inflating: /content/data/Train/Train/Happy/Happy13202.wav  \n",
            "  inflating: /content/data/Train/Train/Happy/Happy13203.wav  \n",
            "  inflating: /content/data/Train/Train/Happy/Happy13204.wav  \n",
            "  inflating: /content/data/Train/Train/Happy/Happy13205.wav  \n",
            "  inflating: /content/data/Train/Train/Happy/Happy13206.wav  \n",
            "  inflating: /content/data/Train/Train/Happy/Happy13207.wav  \n",
            "  inflating: /content/data/Train/Train/Happy/Happy13208.wav  \n",
            "  inflating: /content/data/Train/Train/Happy/Happy13209.wav  \n",
            "  inflating: /content/data/Train/Train/Happy/Happy13210.wav  \n",
            "  inflating: /content/data/Train/Train/Happy/Happy13211.wav  \n",
            "  inflating: /content/data/Train/Train/Happy/Happy13212.wav  \n",
            "  inflating: /content/data/Train/Train/Happy/Happy13213.wav  \n",
            "  inflating: /content/data/Train/Train/Happy/Happy13214.wav  \n",
            "  inflating: /content/data/Train/Train/Happy/Happy13215.wav  \n",
            "  inflating: /content/data/Train/Train/Happy/Happy13216.wav  \n",
            "  inflating: /content/data/Train/Train/Happy/Happy13500.wav  \n",
            "  inflating: /content/data/Train/Train/Happy/Happy13501.wav  \n",
            "  inflating: /content/data/Train/Train/Happy/Happy13502.wav  \n",
            "  inflating: /content/data/Train/Train/Happy/Happy13503.wav  \n",
            "  inflating: /content/data/Train/Train/Happy/Happy13504.wav  \n",
            "  inflating: /content/data/Train/Train/Happy/Happy13505.wav  \n",
            "  inflating: /content/data/Train/Train/Happy/Happy13506.wav  \n",
            "  inflating: /content/data/Train/Train/Happy/Happy13507.wav  \n",
            "  inflating: /content/data/Train/Train/Happy/Happy13508.wav  \n",
            "  inflating: /content/data/Train/Train/Happy/Happy13509.wav  \n",
            "  inflating: /content/data/Train/Train/Happy/Happy13510.wav  \n",
            "  inflating: /content/data/Train/Train/Happy/Happy13511.wav  \n",
            "  inflating: /content/data/Train/Train/Happy/Happy13512.wav  \n",
            "  inflating: /content/data/Train/Train/Happy/Happy13513.wav  \n",
            "  inflating: /content/data/Train/Train/Happy/Happy13514.wav  \n",
            "  inflating: /content/data/Train/Train/Happy/Happy13600.wav  \n",
            "  inflating: /content/data/Train/Train/Happy/Happy13601.wav  \n",
            "  inflating: /content/data/Train/Train/Happy/Happy13602.wav  \n",
            "  inflating: /content/data/Train/Train/Happy/Happy13603.wav  \n",
            "  inflating: /content/data/Train/Train/Happy/Happy13604.wav  \n",
            "  inflating: /content/data/Train/Train/Happy/Happy13605.wav  \n",
            "  inflating: /content/data/Train/Train/Happy/Happy13606.wav  \n",
            "  inflating: /content/data/Train/Train/Happy/Happy13607.wav  \n",
            "  inflating: /content/data/Train/Train/Happy/Happy13608.wav  \n",
            "  inflating: /content/data/Train/Train/Happy/Happy13609.wav  \n",
            "  inflating: /content/data/Train/Train/Happy/Happy13610.wav  \n",
            "  inflating: /content/data/Train/Train/Happy/Happy13611.wav  \n",
            "  inflating: /content/data/Train/Train/Happy/Happy13612.wav  \n",
            "  inflating: /content/data/Train/Train/Happy/Happy13613.wav  \n",
            "  inflating: /content/data/Train/Train/Happy/Happy13614.wav  \n",
            "  inflating: /content/data/Train/Train/Happy/Happy13615.wav  \n",
            "  inflating: /content/data/Train/Train/Happy/Happy13616.wav  \n",
            "  inflating: /content/data/Train/Train/Happy/Happy14000.wav  \n",
            "  inflating: /content/data/Train/Train/Happy/Happy14001.wav  \n",
            "  inflating: /content/data/Train/Train/Happy/Happy14002.wav  \n",
            "  inflating: /content/data/Train/Train/Happy/Happy14003.wav  \n",
            "  inflating: /content/data/Train/Train/Happy/Happy14004.wav  \n",
            "  inflating: /content/data/Train/Train/Happy/Happy14005.wav  \n",
            "  inflating: /content/data/Train/Train/Happy/Happy14006.wav  \n",
            "  inflating: /content/data/Train/Train/Happy/Happy14007.wav  \n",
            "  inflating: /content/data/Train/Train/Happy/Happy14008.wav  \n",
            "  inflating: /content/data/Train/Train/Happy/Happy14009.wav  \n",
            "  inflating: /content/data/Train/Train/Happy/Happy14010.wav  \n",
            "  inflating: /content/data/Train/Train/Happy/Happy14011.wav  \n",
            "  inflating: /content/data/Train/Train/Happy/Happy14012.wav  \n",
            "  inflating: /content/data/Train/Train/Happy/Happy14400.wav  \n",
            "  inflating: /content/data/Train/Train/Happy/Happy14401.wav  \n",
            "  inflating: /content/data/Train/Train/Happy/Happy14402.wav  \n",
            "  inflating: /content/data/Train/Train/Happy/Happy14403.wav  \n",
            "  inflating: /content/data/Train/Train/Happy/Happy14404.wav  \n",
            "  inflating: /content/data/Train/Train/Happy/Happy14405.wav  \n",
            "  inflating: /content/data/Train/Train/Happy/Happy14406.wav  \n",
            "  inflating: /content/data/Train/Train/Happy/Happy14407.wav  \n",
            "  inflating: /content/data/Train/Train/Happy/Happy14408.wav  \n",
            "  inflating: /content/data/Train/Train/Happy/Happy14409.wav  \n",
            "  inflating: /content/data/Train/Train/Happy/Happy14410.wav  \n",
            "  inflating: /content/data/Train/Train/Happy/Happy14411.wav  \n",
            "  inflating: /content/data/Train/Train/Happy/Happy14412.wav  \n",
            "  inflating: /content/data/Train/Train/Happy/Happy14413.wav  \n",
            "  inflating: /content/data/Train/Train/Happy/Happy14414.wav  \n",
            "  inflating: /content/data/Train/Train/Happy/Happy14415.wav  \n",
            "  inflating: /content/data/Train/Train/Happy/Happy14416.wav  \n",
            "  inflating: /content/data/Train/Train/Happy/Happy14417.wav  \n",
            "  inflating: /content/data/Train/Train/Happy/Happy14418.wav  \n",
            "  inflating: /content/data/Train/Train/Happy/Happy15200.wav  \n",
            "  inflating: /content/data/Train/Train/Happy/Happy15201.wav  \n",
            "  inflating: /content/data/Train/Train/Happy/Happy15202.wav  \n",
            "  inflating: /content/data/Train/Train/Happy/Happy15203.wav  \n",
            "  inflating: /content/data/Train/Train/Happy/Happy15204.wav  \n",
            "  inflating: /content/data/Train/Train/Happy/Happy15205.wav  \n",
            "  inflating: /content/data/Train/Train/Happy/Happy15206.wav  \n",
            "  inflating: /content/data/Train/Train/Happy/Happy15207.wav  \n",
            "  inflating: /content/data/Train/Train/Happy/Happy15208.wav  \n",
            "  inflating: /content/data/Train/Train/Happy/Happy15209.wav  \n",
            "  inflating: /content/data/Train/Train/Happy/Happy15210.wav  \n",
            "  inflating: /content/data/Train/Train/Happy/Happy15211.wav  \n",
            "  inflating: /content/data/Train/Train/Happy/Happy15212.wav  \n",
            "  inflating: /content/data/Train/Train/Happy/Happy15213.wav  \n",
            "  inflating: /content/data/Train/Train/Happy/Happy15214.wav  \n",
            "  inflating: /content/data/Train/Train/Happy/Happy15215.wav  \n",
            "  inflating: /content/data/Train/Train/Happy/Happy15216.wav  \n",
            "  inflating: /content/data/Train/Train/Happy/Happy15217.wav  \n",
            "  inflating: /content/data/Train/Train/Happy/Happy15218.wav  \n",
            "  inflating: /content/data/Train/Train/Happy/Happy15800.wav  \n",
            "  inflating: /content/data/Train/Train/Happy/Happy15801.wav  \n",
            "  inflating: /content/data/Train/Train/Happy/Happy15802.wav  \n",
            "  inflating: /content/data/Train/Train/Happy/Happy15803.wav  \n",
            "  inflating: /content/data/Train/Train/Happy/Happy15804.wav  \n",
            "  inflating: /content/data/Train/Train/Happy/Happy15805.wav  \n",
            "  inflating: /content/data/Train/Train/Happy/Happy15806.wav  \n",
            "  inflating: /content/data/Train/Train/Happy/Happy15807.wav  \n",
            "  inflating: /content/data/Train/Train/Happy/Happy15808.wav  \n",
            "  inflating: /content/data/Train/Train/Happy/Happy15809.wav  \n",
            "  inflating: /content/data/Train/Train/Happy/Happy15810.wav  \n",
            "  inflating: /content/data/Train/Train/Happy/Happy15811.wav  \n",
            "  inflating: /content/data/Train/Train/Happy/Happy15812.wav  \n",
            "  inflating: /content/data/Train/Train/Happy/Happy15813.wav  \n",
            "  inflating: /content/data/Train/Train/Happy/Happy15814.wav  \n",
            "  inflating: /content/data/Train/Train/Happy/Happy15815.wav  \n",
            "  inflating: /content/data/Train/Train/Happy/Happy17200.wav  \n",
            "  inflating: /content/data/Train/Train/Happy/Happy17201.wav  \n",
            "  inflating: /content/data/Train/Train/Happy/Happy17202.wav  \n",
            "  inflating: /content/data/Train/Train/Happy/Happy17203.wav  \n",
            "  inflating: /content/data/Train/Train/Happy/Happy17204.wav  \n",
            "  inflating: /content/data/Train/Train/Happy/Happy17205.wav  \n",
            "  inflating: /content/data/Train/Train/Happy/Happy17206.wav  \n",
            "  inflating: /content/data/Train/Train/Happy/Happy17207.wav  \n",
            "  inflating: /content/data/Train/Train/Happy/Happy17208.wav  \n",
            "  inflating: /content/data/Train/Train/Happy/Happy17209.wav  \n",
            "  inflating: /content/data/Train/Train/Happy/Happy17210.wav  \n",
            "  inflating: /content/data/Train/Train/Happy/Happy17211.wav  \n",
            "  inflating: /content/data/Train/Train/Happy/Happy17212.wav  \n",
            "  inflating: /content/data/Train/Train/Happy/Happy17213.wav  \n",
            "  inflating: /content/data/Train/Train/Happy/Happy17800.wav  \n",
            "  inflating: /content/data/Train/Train/Happy/Happy17801.wav  \n",
            "  inflating: /content/data/Train/Train/Happy/Happy17802.wav  \n",
            "  inflating: /content/data/Train/Train/Happy/Happy17803.wav  \n",
            "  inflating: /content/data/Train/Train/Happy/Happy17804.wav  \n",
            "  inflating: /content/data/Train/Train/Happy/Happy17805.wav  \n",
            "  inflating: /content/data/Train/Train/Happy/Happy17806.wav  \n",
            "  inflating: /content/data/Train/Train/Happy/Happy17807.wav  \n",
            "  inflating: /content/data/Train/Train/Happy/Happy17808.wav  \n",
            "  inflating: /content/data/Train/Train/Happy/Happy17809.wav  \n",
            "  inflating: /content/data/Train/Train/Happy/Happy17810.wav  \n",
            "  inflating: /content/data/Train/Train/Happy/Happy17811.wav  \n",
            "  inflating: /content/data/Train/Train/Happy/Happy17812.wav  \n",
            "  inflating: /content/data/Train/Train/Happy/Happy17813.wav  \n",
            "  inflating: /content/data/Train/Train/Happy/Happy17814.wav  \n",
            "  inflating: /content/data/Train/Train/Happy/Happy17815.wav  \n",
            "  inflating: /content/data/Train/Train/Happy/Happy17816.wav  \n",
            "  inflating: /content/data/Train/Train/Happy/Happy17817.wav  \n",
            "  inflating: /content/data/Train/Train/Happy/Happy17818.wav  \n",
            "  inflating: /content/data/Train/Train/Happy/Happy17819.wav  \n",
            "  inflating: /content/data/Train/Train/Happy/Happy17820.wav  \n",
            "  inflating: /content/data/Train/Train/Happy/Happy17821.wav  \n",
            "  inflating: /content/data/Train/Train/Happy/Happy17822.wav  \n",
            "  inflating: /content/data/Train/Train/Happy/Happy17823.wav  \n",
            "  inflating: /content/data/Train/Train/Happy/Happy17824.wav  \n",
            "  inflating: /content/data/Train/Train/Happy/Happy18100.wav  \n",
            "  inflating: /content/data/Train/Train/Happy/Happy18101.wav  \n",
            "  inflating: /content/data/Train/Train/Happy/Happy18102.wav  \n",
            "  inflating: /content/data/Train/Train/Happy/Happy18103.wav  \n",
            "  inflating: /content/data/Train/Train/Happy/Happy18600.wav  \n",
            "  inflating: /content/data/Train/Train/Happy/Happy18601.wav  \n",
            "  inflating: /content/data/Train/Train/Happy/Happy18602.wav  \n",
            "  inflating: /content/data/Train/Train/Happy/Happy18603.wav  \n",
            "  inflating: /content/data/Train/Train/Happy/Happy18604.wav  \n",
            "  inflating: /content/data/Train/Train/Happy/Happy18605.wav  \n",
            "  inflating: /content/data/Train/Train/Happy/Happy18606.wav  \n",
            "  inflating: /content/data/Train/Train/Happy/Happy18607.wav  \n",
            "  inflating: /content/data/Train/Train/Happy/Happy18608.wav  \n",
            "  inflating: /content/data/Train/Train/Happy/Happy18609.wav  \n",
            "  inflating: /content/data/Train/Train/Happy/Happy19700.wav  \n",
            "  inflating: /content/data/Train/Train/Happy/Happy19701.wav  \n",
            "  inflating: /content/data/Train/Train/Happy/Happy19702.wav  \n",
            "  inflating: /content/data/Train/Train/Happy/Happy19703.wav  \n",
            "  inflating: /content/data/Train/Train/Happy/Happy19704.wav  \n",
            "  inflating: /content/data/Train/Train/Happy/Happy19705.wav  \n",
            "  inflating: /content/data/Train/Train/Happy/Happy19706.wav  \n",
            "  inflating: /content/data/Train/Train/Happy/Happy19707.wav  \n",
            "  inflating: /content/data/Train/Train/Happy/Happy19708.wav  \n",
            "  inflating: /content/data/Train/Train/Happy/Happy19709.wav  \n",
            "  inflating: /content/data/Train/Train/Happy/Happy19710.wav  \n",
            "  inflating: /content/data/Train/Train/Happy/Happy19711.wav  \n",
            "  inflating: /content/data/Train/Train/Happy/Happy19712.wav  \n",
            "  inflating: /content/data/Train/Train/Happy/Happy19713.wav  \n",
            "  inflating: /content/data/Train/Train/Happy/Happy19714.wav  \n",
            "  inflating: /content/data/Train/Train/Happy/Happy19715.wav  \n",
            "  inflating: /content/data/Train/Train/Happy/Happy19716.wav  \n",
            "  inflating: /content/data/Train/Train/Happy/Happy19717.wav  \n",
            "  inflating: /content/data/Train/Train/Happy/Happy19718.wav  \n",
            "  inflating: /content/data/Train/Train/Happy/Happy19719.wav  \n",
            "  inflating: /content/data/Train/Train/Happy/Happy19720.wav  \n",
            "  inflating: /content/data/Train/Train/Happy/Happy19900.wav  \n",
            "  inflating: /content/data/Train/Train/Happy/Happy19901.wav  \n",
            "  inflating: /content/data/Train/Train/Happy/Happy19902.wav  \n",
            "  inflating: /content/data/Train/Train/Happy/Happy19903.wav  \n",
            "  inflating: /content/data/Train/Train/Happy/Happy19904.wav  \n",
            "  inflating: /content/data/Train/Train/Happy/Happy19905.wav  \n",
            "  inflating: /content/data/Train/Train/Happy/Happy19906.wav  \n",
            "  inflating: /content/data/Train/Train/Happy/Happy19907.wav  \n",
            "  inflating: /content/data/Train/Train/Happy/Happy19908.wav  \n",
            "  inflating: /content/data/Train/Train/Happy/Happy19909.wav  \n",
            "  inflating: /content/data/Train/Train/Happy/Happy19910.wav  \n",
            "  inflating: /content/data/Train/Train/Happy/Happy19911.wav  \n",
            "  inflating: /content/data/Train/Train/Happy/Happy19912.wav  \n",
            "  inflating: /content/data/Train/Train/Happy/Happy19913.wav  \n",
            "  inflating: /content/data/Train/Train/Happy/Happy19914.wav  \n",
            "  inflating: /content/data/Train/Train/Happy/Happy19915.wav  \n",
            "  inflating: /content/data/Train/Train/Happy/Happy19916.wav  \n",
            "  inflating: /content/data/Train/Train/Happy/Happy19917.wav  \n",
            "  inflating: /content/data/Train/Train/Happy/Happy19918.wav  \n",
            "  inflating: /content/data/Train/Train/Happy/Happy21400.wav  \n",
            "  inflating: /content/data/Train/Train/Happy/Happy21401.wav  \n",
            "  inflating: /content/data/Train/Train/Happy/Happy21402.wav  \n",
            "  inflating: /content/data/Train/Train/Happy/Happy21403.wav  \n",
            "  inflating: /content/data/Train/Train/Happy/Happy21404.wav  \n",
            "  inflating: /content/data/Train/Train/Happy/Happy21405.wav  \n",
            "  inflating: /content/data/Train/Train/Happy/Happy21406.wav  \n",
            "  inflating: /content/data/Train/Train/Happy/Happy21407.wav  \n",
            "  inflating: /content/data/Train/Train/Happy/Happy21408.wav  \n",
            "  inflating: /content/data/Train/Train/Happy/Happy21409.wav  \n",
            "  inflating: /content/data/Train/Train/Happy/Happy21410.wav  \n",
            "  inflating: /content/data/Train/Train/Happy/Happy21411.wav  \n",
            "  inflating: /content/data/Train/Train/Happy/Happy21412.wav  \n",
            "  inflating: /content/data/Train/Train/Happy/Happy21413.wav  \n",
            "  inflating: /content/data/Train/Train/Happy/Happy21414.wav  \n",
            "  inflating: /content/data/Train/Train/Happy/Happy21415.wav  \n",
            "  inflating: /content/data/Train/Train/Happy/Happy21416.wav  \n",
            "  inflating: /content/data/Train/Train/Happy/Happy21417.wav  \n",
            "  inflating: /content/data/Train/Train/Happy/Happy21418.wav  \n",
            "  inflating: /content/data/Train/Train/Happy/Happy21419.wav  \n",
            "  inflating: /content/data/Train/Train/Happy/Happy21900.wav  \n",
            "  inflating: /content/data/Train/Train/Happy/Happy21901.wav  \n",
            "  inflating: /content/data/Train/Train/Happy/Happy21902.wav  \n",
            "  inflating: /content/data/Train/Train/Happy/Happy21903.wav  \n",
            "  inflating: /content/data/Train/Train/Happy/Happy21904.wav  \n",
            "  inflating: /content/data/Train/Train/Happy/Happy21905.wav  \n",
            "  inflating: /content/data/Train/Train/Happy/Happy21906.wav  \n",
            "  inflating: /content/data/Train/Train/Happy/Happy21907.wav  \n",
            "  inflating: /content/data/Train/Train/Happy/Happy21908.wav  \n",
            "  inflating: /content/data/Train/Train/Happy/Happy21909.wav  \n",
            "  inflating: /content/data/Train/Train/Happy/Happy21910.wav  \n",
            "  inflating: /content/data/Train/Train/Happy/Happy21911.wav  \n",
            "  inflating: /content/data/Train/Train/Happy/Happy21912.wav  \n",
            "  inflating: /content/data/Train/Train/Happy/Happy21913.wav  \n",
            "  inflating: /content/data/Train/Train/Happy/Happy21914.wav  \n",
            "  inflating: /content/data/Train/Train/Happy/Happy21915.wav  \n",
            "  inflating: /content/data/Train/Train/Happy/Happy22000.wav  \n",
            "  inflating: /content/data/Train/Train/Happy/Happy22001.wav  \n",
            "  inflating: /content/data/Train/Train/Happy/Happy22002.wav  \n",
            "  inflating: /content/data/Train/Train/Happy/Happy22003.wav  \n",
            "  inflating: /content/data/Train/Train/Happy/Happy22004.wav  \n",
            "  inflating: /content/data/Train/Train/Happy/Happy22005.wav  \n",
            "  inflating: /content/data/Train/Train/Happy/Happy22006.wav  \n",
            "  inflating: /content/data/Train/Train/Happy/Happy22007.wav  \n",
            "  inflating: /content/data/Train/Train/Happy/Happy22008.wav  \n",
            "  inflating: /content/data/Train/Train/Happy/Happy22009.wav  \n",
            "  inflating: /content/data/Train/Train/Happy/Happy22010.wav  \n",
            "  inflating: /content/data/Train/Train/Happy/Happy22011.wav  \n",
            "  inflating: /content/data/Train/Train/Happy/Happy22012.wav  \n",
            "  inflating: /content/data/Train/Train/Happy/Happy22013.wav  \n",
            "  inflating: /content/data/Train/Train/Happy/Happy22014.wav  \n",
            "  inflating: /content/data/Train/Train/Happy/Happy22015.wav  \n",
            "  inflating: /content/data/Train/Train/Happy/Happy22016.wav  \n",
            "  inflating: /content/data/Train/Train/Happy/Happy22017.wav  \n",
            "  inflating: /content/data/Train/Train/Happy/Happy23100.wav  \n",
            "  inflating: /content/data/Train/Train/Happy/Happy23101.wav  \n",
            "  inflating: /content/data/Train/Train/Happy/Happy23102.wav  \n",
            "  inflating: /content/data/Train/Train/Happy/Happy23103.wav  \n",
            "  inflating: /content/data/Train/Train/Happy/Happy23104.wav  \n",
            "  inflating: /content/data/Train/Train/Happy/Happy23105.wav  \n",
            "  inflating: /content/data/Train/Train/Happy/Happy23106.wav  \n",
            "  inflating: /content/data/Train/Train/Happy/Happy23107.wav  \n",
            "  inflating: /content/data/Train/Train/Happy/Happy23108.wav  \n",
            "  inflating: /content/data/Train/Train/Happy/Happy23109.wav  \n",
            "  inflating: /content/data/Train/Train/Happy/Happy23110.wav  \n",
            "  inflating: /content/data/Train/Train/Happy/Happy23111.wav  \n",
            "  inflating: /content/data/Train/Train/Happy/Happy23112.wav  \n",
            "  inflating: /content/data/Train/Train/Happy/Happy23113.wav  \n",
            "  inflating: /content/data/Train/Train/Happy/Happy25300.wav  \n",
            "  inflating: /content/data/Train/Train/Happy/Happy25301.wav  \n",
            "  inflating: /content/data/Train/Train/Happy/Happy25302.wav  \n",
            "  inflating: /content/data/Train/Train/Happy/Happy25303.wav  \n",
            "  inflating: /content/data/Train/Train/Happy/Happy25304.wav  \n",
            "  inflating: /content/data/Train/Train/Happy/Happy25305.wav  \n",
            "  inflating: /content/data/Train/Train/Happy/Happy25306.wav  \n",
            "  inflating: /content/data/Train/Train/Happy/Happy25307.wav  \n",
            "  inflating: /content/data/Train/Train/Happy/Happy25308.wav  \n",
            "  inflating: /content/data/Train/Train/Happy/Happy25309.wav  \n",
            "  inflating: /content/data/Train/Train/Happy/Happy25310.wav  \n",
            "  inflating: /content/data/Train/Train/Happy/Happy25311.wav  \n",
            "  inflating: /content/data/Train/Train/Happy/Happy25312.wav  \n",
            "  inflating: /content/data/Train/Train/Happy/Happy25313.wav  \n",
            "  inflating: /content/data/Train/Train/Happy/Happy25314.wav  \n",
            "  inflating: /content/data/Train/Train/Happy/Happy25315.wav  \n",
            "  inflating: /content/data/Train/Train/Happy/Happy25316.wav  \n",
            "  inflating: /content/data/Train/Train/Happy/Happy25317.wav  \n",
            "  inflating: /content/data/Train/Train/Happy/Happy25318.wav  \n",
            "  inflating: /content/data/Train/Train/Happy/Happy25319.wav  \n",
            "  inflating: /content/data/Train/Train/Happy/Happy25320.wav  \n",
            "  inflating: /content/data/Train/Train/Happy/Happy25321.wav  \n",
            "  inflating: /content/data/Train/Train/Happy/Happy25322.wav  \n",
            "  inflating: /content/data/Train/Train/Happy/Happy25323.wav  \n",
            "  inflating: /content/data/Train/Train/Happy/Happy25600.wav  \n",
            "  inflating: /content/data/Train/Train/Happy/Happy25601.wav  \n",
            "  inflating: /content/data/Train/Train/Happy/Happy25602.wav  \n",
            "  inflating: /content/data/Train/Train/Happy/Happy25603.wav  \n",
            "  inflating: /content/data/Train/Train/Happy/Happy26200.wav  \n",
            "  inflating: /content/data/Train/Train/Happy/Happy26201.wav  \n",
            "  inflating: /content/data/Train/Train/Happy/Happy26202.wav  \n",
            "  inflating: /content/data/Train/Train/Happy/Happy26203.wav  \n",
            "  inflating: /content/data/Train/Train/Happy/Happy26204.wav  \n",
            "  inflating: /content/data/Train/Train/Happy/Happy26205.wav  \n",
            "  inflating: /content/data/Train/Train/Happy/Happy26206.wav  \n",
            "  inflating: /content/data/Train/Train/Happy/Happy26207.wav  \n",
            "  inflating: /content/data/Train/Train/Happy/Happy26208.wav  \n",
            "  inflating: /content/data/Train/Train/Happy/Happy26209.wav  \n",
            "  inflating: /content/data/Train/Train/Happy/Happy26210.wav  \n",
            "  inflating: /content/data/Train/Train/Happy/Happy26211.wav  \n",
            "  inflating: /content/data/Train/Train/Happy/Happy26212.wav  \n",
            "  inflating: /content/data/Train/Train/Happy/Happy26213.wav  \n",
            "  inflating: /content/data/Train/Train/Happy/Happy26214.wav  \n",
            "  inflating: /content/data/Train/Train/Happy/Happy26500.wav  \n",
            "  inflating: /content/data/Train/Train/Happy/Happy26501.wav  \n",
            "  inflating: /content/data/Train/Train/Happy/Happy26502.wav  \n",
            "  inflating: /content/data/Train/Train/Happy/Happy26503.wav  \n",
            "  inflating: /content/data/Train/Train/Happy/Happy26504.wav  \n",
            "  inflating: /content/data/Train/Train/Happy/Happy26505.wav  \n",
            "  inflating: /content/data/Train/Train/Happy/Happy26506.wav  \n",
            "  inflating: /content/data/Train/Train/Happy/Happy26507.wav  \n",
            "  inflating: /content/data/Train/Train/Happy/Happy26508.wav  \n",
            "  inflating: /content/data/Train/Train/Happy/Happy26509.wav  \n",
            "  inflating: /content/data/Train/Train/Happy/Happy26510.wav  \n",
            "  inflating: /content/data/Train/Train/Happy/Happy26511.wav  \n",
            "  inflating: /content/data/Train/Train/Happy/Happy26512.wav  \n",
            "  inflating: /content/data/Train/Train/Happy/Happy26513.wav  \n",
            "  inflating: /content/data/Train/Train/Happy/Happy26514.wav  \n",
            "  inflating: /content/data/Train/Train/Happy/Happy26515.wav  \n",
            "  inflating: /content/data/Train/Train/Happy/Happy26516.wav  \n",
            "  inflating: /content/data/Train/Train/Happy/Happy26517.wav  \n",
            "  inflating: /content/data/Train/Train/Happy/Happy26518.wav  \n",
            "  inflating: /content/data/Train/Train/Happy/Happy26519.wav  \n",
            "  inflating: /content/data/Train/Train/Happy/Happy26520.wav  \n",
            "  inflating: /content/data/Train/Train/Happy/Happy26521.wav  \n",
            "  inflating: /content/data/Train/Train/Happy/Happy26522.wav  \n",
            "  inflating: /content/data/Train/Train/Happy/Happy26523.wav  \n",
            "  inflating: /content/data/Train/Train/Happy/Happy27900.wav  \n",
            "  inflating: /content/data/Train/Train/Happy/Happy27901.wav  \n",
            "  inflating: /content/data/Train/Train/Happy/Happy27902.wav  \n",
            "  inflating: /content/data/Train/Train/Happy/Happy27903.wav  \n",
            "  inflating: /content/data/Train/Train/Happy/Happy27904.wav  \n",
            "  inflating: /content/data/Train/Train/Happy/Happy27905.wav  \n",
            "  inflating: /content/data/Train/Train/Happy/Happy27906.wav  \n",
            "  inflating: /content/data/Train/Train/Happy/Happy27907.wav  \n",
            "  inflating: /content/data/Train/Train/Happy/Happy27908.wav  \n",
            "  inflating: /content/data/Train/Train/Happy/Happy27909.wav  \n",
            "  inflating: /content/data/Train/Train/Happy/Happy27910.wav  \n",
            "  inflating: /content/data/Train/Train/Happy/Happy27911.wav  \n",
            "  inflating: /content/data/Train/Train/Happy/Happy27912.wav  \n",
            "  inflating: /content/data/Train/Train/Happy/Happy28300.wav  \n",
            "  inflating: /content/data/Train/Train/Happy/Happy28301.wav  \n",
            "  inflating: /content/data/Train/Train/Happy/Happy28302.wav  \n",
            "  inflating: /content/data/Train/Train/Happy/Happy28303.wav  \n",
            "  inflating: /content/data/Train/Train/Happy/Happy28304.wav  \n",
            "  inflating: /content/data/Train/Train/Happy/Happy28305.wav  \n",
            "  inflating: /content/data/Train/Train/Happy/Happy28306.wav  \n",
            "  inflating: /content/data/Train/Train/Happy/Happy28307.wav  \n",
            "  inflating: /content/data/Train/Train/Happy/Happy28308.wav  \n",
            "  inflating: /content/data/Train/Train/Happy/Happy28309.wav  \n",
            "  inflating: /content/data/Train/Train/Happy/Happy28310.wav  \n",
            "  inflating: /content/data/Train/Train/Happy/Happy28311.wav  \n",
            "  inflating: /content/data/Train/Train/Happy/Happy28312.wav  \n",
            "  inflating: /content/data/Train/Train/Happy/Happy28313.wav  \n",
            "  inflating: /content/data/Train/Train/Happy/Happy28314.wav  \n",
            "  inflating: /content/data/Train/Train/Happy/Happy28315.wav  \n",
            "  inflating: /content/data/Train/Train/Happy/Happy28316.wav  \n",
            "  inflating: /content/data/Train/Train/Happy/Happy28317.wav  \n",
            "  inflating: /content/data/Train/Train/Happy/Happy28318.wav  \n",
            "  inflating: /content/data/Train/Train/Happy/Happy28319.wav  \n",
            "  inflating: /content/data/Train/Train/Happy/Happy28320.wav  \n",
            "  inflating: /content/data/Train/Train/Happy/Happy28321.wav  \n",
            "  inflating: /content/data/Train/Train/Happy/Happy28322.wav  \n",
            "  inflating: /content/data/Train/Train/Happy/Happy28323.wav  \n",
            "  inflating: /content/data/Train/Train/Happy/Happy28324.wav  \n",
            "  inflating: /content/data/Train/Train/Happy/Happy28325.wav  \n",
            "  inflating: /content/data/Train/Train/Happy/Happy29000.wav  \n",
            "  inflating: /content/data/Train/Train/Happy/Happy29001.wav  \n",
            "  inflating: /content/data/Train/Train/Happy/Happy29002.wav  \n",
            "  inflating: /content/data/Train/Train/Happy/Happy29003.wav  \n",
            "  inflating: /content/data/Train/Train/Happy/Happy29004.wav  \n",
            "  inflating: /content/data/Train/Train/Happy/Happy29005.wav  \n",
            "  inflating: /content/data/Train/Train/Happy/Happy29006.wav  \n",
            "  inflating: /content/data/Train/Train/Happy/Happy29007.wav  \n",
            "  inflating: /content/data/Train/Train/Happy/Happy29008.wav  \n",
            "  inflating: /content/data/Train/Train/Happy/Happy29009.wav  \n",
            "  inflating: /content/data/Train/Train/Happy/Happy29010.wav  \n",
            "  inflating: /content/data/Train/Train/Happy/Happy29011.wav  \n",
            "  inflating: /content/data/Train/Train/Happy/Happy29012.wav  \n",
            "  inflating: /content/data/Train/Train/Happy/Happy29013.wav  \n",
            "  inflating: /content/data/Train/Train/Happy/Happy29014.wav  \n",
            "  inflating: /content/data/Train/Train/Happy/Happy29015.wav  \n",
            "  inflating: /content/data/Train/Train/Happy/Happy29016.wav  \n",
            "  inflating: /content/data/Train/Train/Happy/Happy29017.wav  \n",
            "  inflating: /content/data/Train/Train/Happy/Happy29018.wav  \n",
            "  inflating: /content/data/Train/Train/Happy/Happy29019.wav  \n",
            "  inflating: /content/data/Train/Train/Happy/Happy29020.wav  \n",
            "  inflating: /content/data/Train/Train/Happy/Happy29021.wav  \n",
            "  inflating: /content/data/Train/Train/Happy/Happy29022.wav  \n",
            "  inflating: /content/data/Train/Train/Happy/Happy29500.wav  \n",
            "  inflating: /content/data/Train/Train/Happy/Happy29501.wav  \n",
            "  inflating: /content/data/Train/Train/Happy/Happy29502.wav  \n",
            "  inflating: /content/data/Train/Train/Happy/Happy29503.wav  \n",
            "  inflating: /content/data/Train/Train/Happy/Happy29504.wav  \n",
            "  inflating: /content/data/Train/Train/Happy/Happy29505.wav  \n",
            "  inflating: /content/data/Train/Train/Happy/Happy29506.wav  \n",
            "  inflating: /content/data/Train/Train/Happy/Happy29507.wav  \n",
            "  inflating: /content/data/Train/Train/Happy/Happy29508.wav  \n",
            "  inflating: /content/data/Train/Train/Happy/Happy29509.wav  \n",
            "  inflating: /content/data/Train/Train/Happy/Happy29510.wav  \n",
            "  inflating: /content/data/Train/Train/Happy/Happy29511.wav  \n",
            "  inflating: /content/data/Train/Train/Happy/Happy29512.wav  \n",
            "  inflating: /content/data/Train/Train/Happy/Happy29513.wav  \n",
            "  inflating: /content/data/Train/Train/Happy/Happy29514.wav  \n",
            "  inflating: /content/data/Train/Train/Happy/Happy29515.wav  \n",
            "  inflating: /content/data/Train/Train/Happy/Happy29516.wav  \n",
            "  inflating: /content/data/Train/Train/Happy/Happy29517.wav  \n",
            "  inflating: /content/data/Train/Train/Happy/Happy29900.wav  \n",
            "  inflating: /content/data/Train/Train/Happy/Happy29901.wav  \n",
            "  inflating: /content/data/Train/Train/Happy/Happy29902.wav  \n",
            "  inflating: /content/data/Train/Train/Happy/Happy29903.wav  \n",
            "  inflating: /content/data/Train/Train/Happy/Happy29904.wav  \n",
            "  inflating: /content/data/Train/Train/Happy/Happy29905.wav  \n",
            "  inflating: /content/data/Train/Train/Happy/Happy29906.wav  \n",
            "  inflating: /content/data/Train/Train/Happy/Happy29907.wav  \n",
            "  inflating: /content/data/Train/Train/Happy/Happy29908.wav  \n",
            "  inflating: /content/data/Train/Train/Happy/Happy29909.wav  \n",
            "  inflating: /content/data/Train/Train/Happy/Happy29910.wav  \n",
            "  inflating: /content/data/Train/Train/Happy/Happy29911.wav  \n",
            "  inflating: /content/data/Train/Train/Happy/Happy29912.wav  \n",
            "  inflating: /content/data/Train/Train/Happy/Happy29913.wav  \n",
            "  inflating: /content/data/Train/Train/Happy/Happy29914.wav  \n",
            "  inflating: /content/data/Train/Train/Happy/Happy29915.wav  \n",
            "  inflating: /content/data/Train/Train/Happy/Happy31400.wav  \n",
            "  inflating: /content/data/Train/Train/Happy/Happy31401.wav  \n",
            "  inflating: /content/data/Train/Train/Happy/Happy31402.wav  \n",
            "  inflating: /content/data/Train/Train/Happy/Happy31403.wav  \n",
            "  inflating: /content/data/Train/Train/Happy/Happy31404.wav  \n",
            "  inflating: /content/data/Train/Train/Happy/Happy31405.wav  \n",
            "  inflating: /content/data/Train/Train/Happy/Happy31406.wav  \n",
            "  inflating: /content/data/Train/Train/Happy/Happy31407.wav  \n",
            "  inflating: /content/data/Train/Train/Happy/Happy31408.wav  \n",
            "  inflating: /content/data/Train/Train/Happy/Happy31409.wav  \n",
            "  inflating: /content/data/Train/Train/Happy/Happy31410.wav  \n",
            "  inflating: /content/data/Train/Train/Happy/Happy31411.wav  \n",
            "  inflating: /content/data/Train/Train/Happy/Happy31412.wav  \n",
            "  inflating: /content/data/Train/Train/Happy/Happy32700.wav  \n",
            "  inflating: /content/data/Train/Train/Happy/Happy32701.wav  \n",
            "  inflating: /content/data/Train/Train/Happy/Happy32702.wav  \n",
            "  inflating: /content/data/Train/Train/Happy/Happy32703.wav  \n",
            "  inflating: /content/data/Train/Train/Happy/Happy32704.wav  \n",
            "  inflating: /content/data/Train/Train/Happy/Happy32705.wav  \n",
            "  inflating: /content/data/Train/Train/Happy/Happy32706.wav  \n",
            "  inflating: /content/data/Train/Train/Happy/Happy32707.wav  \n",
            "  inflating: /content/data/Train/Train/Happy/Happy32708.wav  \n",
            "  inflating: /content/data/Train/Train/Happy/Happy32709.wav  \n",
            "  inflating: /content/data/Train/Train/Happy/Happy32710.wav  \n",
            "  inflating: /content/data/Train/Train/Happy/Happy32711.wav  \n",
            "  inflating: /content/data/Train/Train/Happy/Happy32712.wav  \n",
            "  inflating: /content/data/Train/Train/Happy/Happy32713.wav  \n",
            "  inflating: /content/data/Train/Train/Happy/Happy32714.wav  \n",
            "  inflating: /content/data/Train/Train/Happy/Happy32715.wav  \n",
            "  inflating: /content/data/Train/Train/Happy/Happy32716.wav  \n",
            "  inflating: /content/data/Train/Train/Happy/Happy32717.wav  \n",
            "  inflating: /content/data/Train/Train/Happy/Happy32718.wav  \n",
            "  inflating: /content/data/Train/Train/Happy/Happy32719.wav  \n",
            "  inflating: /content/data/Train/Train/Happy/Happy33400.wav  \n",
            "  inflating: /content/data/Train/Train/Happy/Happy33401.wav  \n",
            "  inflating: /content/data/Train/Train/Happy/Happy33402.wav  \n",
            "  inflating: /content/data/Train/Train/Happy/Happy33403.wav  \n",
            "  inflating: /content/data/Train/Train/Happy/Happy33404.wav  \n",
            "  inflating: /content/data/Train/Train/Happy/Happy33405.wav  \n",
            "  inflating: /content/data/Train/Train/Happy/Happy33406.wav  \n",
            "  inflating: /content/data/Train/Train/Happy/Happy33407.wav  \n",
            "  inflating: /content/data/Train/Train/Happy/Happy33408.wav  \n",
            "  inflating: /content/data/Train/Train/Happy/Happy33409.wav  \n",
            "  inflating: /content/data/Train/Train/Happy/Happy33410.wav  \n",
            "  inflating: /content/data/Train/Train/Happy/Happy33411.wav  \n",
            "  inflating: /content/data/Train/Train/Happy/Happy33412.wav  \n",
            "  inflating: /content/data/Train/Train/Happy/Happy33413.wav  \n",
            "  inflating: /content/data/Train/Train/Happy/Happy33414.wav  \n",
            "  inflating: /content/data/Train/Train/Happy/Happy33415.wav  \n",
            "  inflating: /content/data/Train/Train/Happy/Happy33416.wav  \n",
            "  inflating: /content/data/Train/Train/Happy/Happy33417.wav  \n",
            "  inflating: /content/data/Train/Train/Happy/Happy33418.wav  \n",
            "  inflating: /content/data/Train/Train/Happy/Happy33500.wav  \n",
            "  inflating: /content/data/Train/Train/Happy/Happy33501.wav  \n",
            "  inflating: /content/data/Train/Train/Happy/Happy33502.wav  \n",
            "  inflating: /content/data/Train/Train/Happy/Happy33503.wav  \n",
            "  inflating: /content/data/Train/Train/Happy/Happy33504.wav  \n",
            "  inflating: /content/data/Train/Train/Happy/Happy33505.wav  \n",
            "  inflating: /content/data/Train/Train/Happy/Happy33506.wav  \n",
            "  inflating: /content/data/Train/Train/Happy/Happy33507.wav  \n",
            "  inflating: /content/data/Train/Train/Happy/Happy33508.wav  \n",
            "  inflating: /content/data/Train/Train/Happy/Happy33509.wav  \n",
            "  inflating: /content/data/Train/Train/Happy/Happy33510.wav  \n",
            "  inflating: /content/data/Train/Train/Happy/Happy33511.wav  \n",
            "  inflating: /content/data/Train/Train/Happy/Happy33512.wav  \n",
            "  inflating: /content/data/Train/Train/Happy/Happy33513.wav  \n",
            "  inflating: /content/data/Train/Train/Happy/Happy33600.wav  \n",
            "  inflating: /content/data/Train/Train/Happy/Happy33601.wav  \n",
            "  inflating: /content/data/Train/Train/Happy/Happy33602.wav  \n",
            "  inflating: /content/data/Train/Train/Happy/Happy33603.wav  \n",
            "  inflating: /content/data/Train/Train/Happy/Happy33604.wav  \n",
            "  inflating: /content/data/Train/Train/Happy/Happy33605.wav  \n",
            "  inflating: /content/data/Train/Train/Happy/Happy33606.wav  \n",
            "  inflating: /content/data/Train/Train/Happy/Happy33607.wav  \n",
            "  inflating: /content/data/Train/Train/Happy/Happy33608.wav  \n",
            "  inflating: /content/data/Train/Train/Happy/Happy33609.wav  \n",
            "  inflating: /content/data/Train/Train/Happy/Happy33610.wav  \n",
            "  inflating: /content/data/Train/Train/Happy/Happy33611.wav  \n",
            "  inflating: /content/data/Train/Train/Happy/Happy33612.wav  \n",
            "  inflating: /content/data/Train/Train/Happy/Happy33613.wav  \n",
            "  inflating: /content/data/Train/Train/Happy/Happy35700.wav  \n",
            "  inflating: /content/data/Train/Train/Happy/Happy35701.wav  \n",
            "  inflating: /content/data/Train/Train/Happy/Happy35702.wav  \n",
            "  inflating: /content/data/Train/Train/Happy/Happy35703.wav  \n",
            "  inflating: /content/data/Train/Train/Happy/Happy35704.wav  \n",
            "  inflating: /content/data/Train/Train/Happy/Happy35705.wav  \n",
            "  inflating: /content/data/Train/Train/Happy/Happy35706.wav  \n",
            "  inflating: /content/data/Train/Train/Happy/Happy35707.wav  \n",
            "  inflating: /content/data/Train/Train/Happy/Happy35708.wav  \n",
            "  inflating: /content/data/Train/Train/Happy/Happy35709.wav  \n",
            "  inflating: /content/data/Train/Train/Happy/Happy35710.wav  \n",
            "  inflating: /content/data/Train/Train/Happy/Happy35711.wav  \n",
            "  inflating: /content/data/Train/Train/Happy/Happy35712.wav  \n",
            "  inflating: /content/data/Train/Train/Happy/Happy35713.wav  \n",
            "  inflating: /content/data/Train/Train/Happy/Happy35714.wav  \n",
            "  inflating: /content/data/Train/Train/Happy/Happy35715.wav  \n",
            "  inflating: /content/data/Train/Train/Happy/Happy35900.wav  \n",
            "  inflating: /content/data/Train/Train/Happy/Happy35901.wav  \n",
            "  inflating: /content/data/Train/Train/Happy/Happy35902.wav  \n",
            "  inflating: /content/data/Train/Train/Happy/Happy35903.wav  \n",
            "  inflating: /content/data/Train/Train/Happy/Happy35904.wav  \n",
            "  inflating: /content/data/Train/Train/Happy/Happy35905.wav  \n",
            "  inflating: /content/data/Train/Train/Happy/Happy35906.wav  \n",
            "  inflating: /content/data/Train/Train/Happy/Happy35907.wav  \n",
            "  inflating: /content/data/Train/Train/Happy/Happy35908.wav  \n",
            "  inflating: /content/data/Train/Train/Happy/Happy35909.wav  \n",
            "  inflating: /content/data/Train/Train/Happy/Happy35910.wav  \n",
            "  inflating: /content/data/Train/Train/Happy/Happy35911.wav  \n",
            "  inflating: /content/data/Train/Train/Happy/Happy35912.wav  \n",
            "  inflating: /content/data/Train/Train/Happy/Happy35913.wav  \n",
            "  inflating: /content/data/Train/Train/Happy/Happy35914.wav  \n",
            "  inflating: /content/data/Train/Train/Happy/Happy35915.wav  \n",
            "  inflating: /content/data/Train/Train/Happy/Happy36300.wav  \n",
            "  inflating: /content/data/Train/Train/Happy/Happy36301.wav  \n",
            "  inflating: /content/data/Train/Train/Happy/Happy36302.wav  \n",
            "  inflating: /content/data/Train/Train/Happy/Happy36303.wav  \n",
            "  inflating: /content/data/Train/Train/Happy/Happy36304.wav  \n",
            "  inflating: /content/data/Train/Train/Happy/Happy36305.wav  \n",
            "  inflating: /content/data/Train/Train/Happy/Happy36306.wav  \n",
            "  inflating: /content/data/Train/Train/Happy/Happy36307.wav  \n",
            "  inflating: /content/data/Train/Train/Happy/Happy36308.wav  \n",
            "  inflating: /content/data/Train/Train/Happy/Happy36309.wav  \n",
            "  inflating: /content/data/Train/Train/Happy/Happy36310.wav  \n",
            "  inflating: /content/data/Train/Train/Happy/Happy36311.wav  \n",
            "  inflating: /content/data/Train/Train/Happy/Happy36312.wav  \n",
            "  inflating: /content/data/Train/Train/Happy/Happy36313.wav  \n",
            "  inflating: /content/data/Train/Train/Happy/Happy36314.wav  \n",
            "  inflating: /content/data/Train/Train/Happy/Happy36500.wav  \n",
            "  inflating: /content/data/Train/Train/Happy/Happy36501.wav  \n",
            "  inflating: /content/data/Train/Train/Happy/Happy36502.wav  \n",
            "  inflating: /content/data/Train/Train/Happy/Happy36503.wav  \n",
            "  inflating: /content/data/Train/Train/Happy/Happy36504.wav  \n",
            "  inflating: /content/data/Train/Train/Happy/Happy36505.wav  \n",
            "  inflating: /content/data/Train/Train/Happy/Happy36506.wav  \n",
            "  inflating: /content/data/Train/Train/Happy/Happy36507.wav  \n",
            "  inflating: /content/data/Train/Train/Happy/Happy36508.wav  \n",
            "  inflating: /content/data/Train/Train/Happy/Happy36509.wav  \n",
            "  inflating: /content/data/Train/Train/Happy/Happy36510.wav  \n",
            "  inflating: /content/data/Train/Train/Happy/Happy36511.wav  \n",
            "  inflating: /content/data/Train/Train/Happy/Happy36512.wav  \n",
            "  inflating: /content/data/Train/Train/Happy/Happy36513.wav  \n",
            "  inflating: /content/data/Train/Train/Happy/Happy36514.wav  \n",
            "  inflating: /content/data/Train/Train/Happy/Happy36515.wav  \n",
            "  inflating: /content/data/Train/Train/Happy/Happy36516.wav  \n",
            "  inflating: /content/data/Train/Train/Happy/Happy36517.wav  \n",
            "  inflating: /content/data/Train/Train/Happy/Happy36518.wav  \n",
            "  inflating: /content/data/Train/Train/Happy/Happy36519.wav  \n",
            "  inflating: /content/data/Train/Train/Happy/Happy36520.wav  \n",
            "  inflating: /content/data/Train/Train/Happy/Happy36521.wav  \n",
            "  inflating: /content/data/Train/Train/Happy/Happy36522.wav  \n",
            "  inflating: /content/data/Train/Train/Happy/Happy36523.wav  \n",
            "  inflating: /content/data/Train/Train/Happy/Happy36700.wav  \n",
            "  inflating: /content/data/Train/Train/Happy/Happy36701.wav  \n",
            "  inflating: /content/data/Train/Train/Happy/Happy36702.wav  \n",
            "  inflating: /content/data/Train/Train/Happy/Happy36703.wav  \n",
            "  inflating: /content/data/Train/Train/Happy/Happy36704.wav  \n",
            "  inflating: /content/data/Train/Train/Happy/Happy36705.wav  \n",
            "  inflating: /content/data/Train/Train/Happy/Happy36706.wav  \n",
            "  inflating: /content/data/Train/Train/Happy/Happy36707.wav  \n",
            "  inflating: /content/data/Train/Train/Happy/Happy36708.wav  \n",
            "  inflating: /content/data/Train/Train/Happy/Happy36709.wav  \n",
            "  inflating: /content/data/Train/Train/Happy/Happy36710.wav  \n",
            "  inflating: /content/data/Train/Train/Happy/Happy36711.wav  \n",
            "  inflating: /content/data/Train/Train/Happy/Happy36712.wav  \n",
            "  inflating: /content/data/Train/Train/Happy/Happy36713.wav  \n",
            "  inflating: /content/data/Train/Train/Happy/Happy36714.wav  \n",
            "  inflating: /content/data/Train/Train/Happy/Happy36715.wav  \n",
            "  inflating: /content/data/Train/Train/Happy/Happy36716.wav  \n",
            "  inflating: /content/data/Train/Train/Happy/Happy37400.wav  \n",
            "  inflating: /content/data/Train/Train/Happy/Happy37401.wav  \n",
            "  inflating: /content/data/Train/Train/Happy/Happy37402.wav  \n",
            "  inflating: /content/data/Train/Train/Happy/Happy37403.wav  \n",
            "  inflating: /content/data/Train/Train/Happy/Happy37404.wav  \n",
            "  inflating: /content/data/Train/Train/Happy/Happy37405.wav  \n",
            "  inflating: /content/data/Train/Train/Happy/Happy37406.wav  \n",
            "  inflating: /content/data/Train/Train/Happy/Happy37407.wav  \n",
            "  inflating: /content/data/Train/Train/Happy/Happy37408.wav  \n",
            "  inflating: /content/data/Train/Train/Happy/Happy37409.wav  \n",
            "  inflating: /content/data/Train/Train/Happy/Happy37410.wav  \n",
            "  inflating: /content/data/Train/Train/Happy/Happy37411.wav  \n",
            "  inflating: /content/data/Train/Train/Happy/Happy37412.wav  \n",
            "  inflating: /content/data/Train/Train/Happy/Happy38200.wav  \n",
            "  inflating: /content/data/Train/Train/Happy/Happy38201.wav  \n",
            "  inflating: /content/data/Train/Train/Happy/Happy38202.wav  \n",
            "  inflating: /content/data/Train/Train/Happy/Happy38203.wav  \n",
            "  inflating: /content/data/Train/Train/Happy/Happy38204.wav  \n",
            "  inflating: /content/data/Train/Train/Happy/Happy38205.wav  \n",
            "  inflating: /content/data/Train/Train/Happy/Happy38206.wav  \n",
            "  inflating: /content/data/Train/Train/Happy/Happy38207.wav  \n",
            "  inflating: /content/data/Train/Train/Happy/Happy38208.wav  \n",
            "  inflating: /content/data/Train/Train/Happy/Happy38209.wav  \n",
            "  inflating: /content/data/Train/Train/Happy/Happy38210.wav  \n",
            "  inflating: /content/data/Train/Train/Happy/Happy38211.wav  \n",
            "  inflating: /content/data/Train/Train/Happy/Happy38212.wav  \n",
            "  inflating: /content/data/Train/Train/Happy/Happy38213.wav  \n",
            "  inflating: /content/data/Train/Train/Happy/Happy38214.wav  \n",
            "  inflating: /content/data/Train/Train/Happy/Happy38215.wav  \n",
            "  inflating: /content/data/Train/Train/Happy/Happy38216.wav  \n",
            "  inflating: /content/data/Train/Train/Happy/Happy38217.wav  \n",
            "  inflating: /content/data/Train/Train/Happy/Happy38900.wav  \n",
            "  inflating: /content/data/Train/Train/Happy/Happy38901.wav  \n",
            "  inflating: /content/data/Train/Train/Happy/Happy38902.wav  \n",
            "  inflating: /content/data/Train/Train/Happy/Happy38903.wav  \n",
            "  inflating: /content/data/Train/Train/Happy/Happy38904.wav  \n",
            "  inflating: /content/data/Train/Train/Happy/Happy38905.wav  \n",
            "  inflating: /content/data/Train/Train/Happy/Happy38906.wav  \n",
            "  inflating: /content/data/Train/Train/Happy/Happy38907.wav  \n",
            "  inflating: /content/data/Train/Train/Happy/Happy38908.wav  \n",
            "  inflating: /content/data/Train/Train/Happy/Happy38909.wav  \n",
            "  inflating: /content/data/Train/Train/Happy/Happy38910.wav  \n",
            "  inflating: /content/data/Train/Train/Happy/Happy38911.wav  \n",
            "  inflating: /content/data/Train/Train/Happy/Happy38912.wav  \n",
            "  inflating: /content/data/Train/Train/Happy/Happy38913.wav  \n",
            "  inflating: /content/data/Train/Train/Happy/Happy38914.wav  \n",
            "  inflating: /content/data/Train/Train/Happy/Happy38915.wav  \n",
            "  inflating: /content/data/Train/Train/Happy/Happy38916.wav  \n",
            "  inflating: /content/data/Train/Train/Happy/Happy38917.wav  \n",
            "  inflating: /content/data/Train/Train/Happy/Happy38918.wav  \n",
            "  inflating: /content/data/Train/Train/Happy/Happy39100.wav  \n",
            "  inflating: /content/data/Train/Train/Happy/Happy39101.wav  \n",
            "  inflating: /content/data/Train/Train/Happy/Happy39102.wav  \n",
            "  inflating: /content/data/Train/Train/Happy/Happy39103.wav  \n",
            "  inflating: /content/data/Train/Train/Happy/Happy39104.wav  \n",
            "  inflating: /content/data/Train/Train/Happy/Happy39105.wav  \n",
            "  inflating: /content/data/Train/Train/Happy/Happy39106.wav  \n",
            "  inflating: /content/data/Train/Train/Happy/Happy39107.wav  \n",
            "  inflating: /content/data/Train/Train/Happy/Happy39108.wav  \n",
            "  inflating: /content/data/Train/Train/Happy/Happy39109.wav  \n",
            "  inflating: /content/data/Train/Train/Happy/Happy39110.wav  \n",
            "  inflating: /content/data/Train/Train/Happy/Happy39111.wav  \n",
            "  inflating: /content/data/Train/Train/Happy/Happy39112.wav  \n",
            "  inflating: /content/data/Train/Train/Happy/Happy39900.wav  \n",
            "  inflating: /content/data/Train/Train/Happy/Happy39901.wav  \n",
            "  inflating: /content/data/Train/Train/Happy/Happy39902.wav  \n",
            "  inflating: /content/data/Train/Train/Happy/Happy39903.wav  \n",
            "  inflating: /content/data/Train/Train/Happy/Happy40200.wav  \n",
            "  inflating: /content/data/Train/Train/Happy/Happy40201.wav  \n",
            "  inflating: /content/data/Train/Train/Happy/Happy40202.wav  \n",
            "  inflating: /content/data/Train/Train/Happy/Happy40203.wav  \n",
            "  inflating: /content/data/Train/Train/Happy/Happy40204.wav  \n",
            "  inflating: /content/data/Train/Train/Happy/Happy40205.wav  \n",
            "  inflating: /content/data/Train/Train/Happy/Happy40206.wav  \n",
            "  inflating: /content/data/Train/Train/Happy/Happy40207.wav  \n",
            "  inflating: /content/data/Train/Train/Happy/Happy40208.wav  \n",
            "  inflating: /content/data/Train/Train/Happy/Happy40209.wav  \n",
            "  inflating: /content/data/Train/Train/Happy/Happy40210.wav  \n",
            "  inflating: /content/data/Train/Train/Happy/Happy40211.wav  \n",
            "  inflating: /content/data/Train/Train/Happy/Happy40212.wav  \n",
            "  inflating: /content/data/Train/Train/Happy/Happy40213.wav  \n",
            "  inflating: /content/data/Train/Train/Happy/Happy40214.wav  \n",
            "  inflating: /content/data/Train/Train/Happy/Happy41200.wav  \n",
            "  inflating: /content/data/Train/Train/Happy/Happy41201.wav  \n",
            "  inflating: /content/data/Train/Train/Happy/Happy41202.wav  \n",
            "  inflating: /content/data/Train/Train/Happy/Happy41203.wav  \n",
            "  inflating: /content/data/Train/Train/Happy/Happy41204.wav  \n",
            "  inflating: /content/data/Train/Train/Happy/Happy41205.wav  \n",
            "  inflating: /content/data/Train/Train/Happy/Happy41206.wav  \n",
            "  inflating: /content/data/Train/Train/Happy/Happy41207.wav  \n",
            "  inflating: /content/data/Train/Train/Happy/Happy41208.wav  \n",
            "  inflating: /content/data/Train/Train/Happy/Happy41209.wav  \n",
            "  inflating: /content/data/Train/Train/Happy/Happy41210.wav  \n",
            "  inflating: /content/data/Train/Train/Happy/Happy41211.wav  \n",
            "  inflating: /content/data/Train/Train/Happy/Happy41212.wav  \n",
            "  inflating: /content/data/Train/Train/Happy/Happy41213.wav  \n",
            "  inflating: /content/data/Train/Train/Happy/Happy41214.wav  \n",
            "  inflating: /content/data/Train/Train/Happy/Happy41215.wav  \n",
            "  inflating: /content/data/Train/Train/Happy/Happy41216.wav  \n",
            "  inflating: /content/data/Train/Train/Happy/Happy41217.wav  \n",
            "  inflating: /content/data/Train/Train/Happy/Happy41218.wav  \n",
            "  inflating: /content/data/Train/Train/Happy/Happy41500.wav  \n",
            "  inflating: /content/data/Train/Train/Happy/Happy41501.wav  \n",
            "  inflating: /content/data/Train/Train/Happy/Happy41502.wav  \n",
            "  inflating: /content/data/Train/Train/Happy/Happy41503.wav  \n",
            "  inflating: /content/data/Train/Train/Happy/Happy41504.wav  \n",
            "  inflating: /content/data/Train/Train/Happy/Happy41505.wav  \n",
            "  inflating: /content/data/Train/Train/Happy/Happy41506.wav  \n",
            "  inflating: /content/data/Train/Train/Happy/Happy41507.wav  \n",
            "  inflating: /content/data/Train/Train/Happy/Happy41508.wav  \n",
            "  inflating: /content/data/Train/Train/Happy/Happy41509.wav  \n",
            "  inflating: /content/data/Train/Train/Happy/Happy41510.wav  \n",
            "  inflating: /content/data/Train/Train/Happy/Happy41511.wav  \n",
            "  inflating: /content/data/Train/Train/Happy/Happy41512.wav  \n",
            "  inflating: /content/data/Train/Train/Happy/Happy41513.wav  \n",
            "  inflating: /content/data/Train/Train/Happy/Happy41514.wav  \n",
            "  inflating: /content/data/Train/Train/Happy/Happy41515.wav  \n",
            "  inflating: /content/data/Train/Train/Happy/Happy41800.wav  \n",
            "  inflating: /content/data/Train/Train/Happy/Happy41801.wav  \n",
            "  inflating: /content/data/Train/Train/Happy/Happy41802.wav  \n",
            "  inflating: /content/data/Train/Train/Happy/Happy41803.wav  \n",
            "  inflating: /content/data/Train/Train/Happy/Happy41804.wav  \n",
            "  inflating: /content/data/Train/Train/Happy/Happy41805.wav  \n",
            "  inflating: /content/data/Train/Train/Happy/Happy41806.wav  \n",
            "  inflating: /content/data/Train/Train/Happy/Happy41807.wav  \n",
            "  inflating: /content/data/Train/Train/Happy/Happy41808.wav  \n",
            "  inflating: /content/data/Train/Train/Happy/Happy41809.wav  \n",
            "  inflating: /content/data/Train/Train/Happy/Happy41810.wav  \n",
            "  inflating: /content/data/Train/Train/Happy/Happy41811.wav  \n",
            "  inflating: /content/data/Train/Train/Happy/Happy41812.wav  \n",
            "  inflating: /content/data/Train/Train/Happy/Happy41813.wav  \n",
            "  inflating: /content/data/Train/Train/Happy/Happy43000.wav  \n",
            "  inflating: /content/data/Train/Train/Happy/Happy43001.wav  \n",
            "  inflating: /content/data/Train/Train/Happy/Happy43002.wav  \n",
            "  inflating: /content/data/Train/Train/Happy/Happy43003.wav  \n",
            "  inflating: /content/data/Train/Train/Happy/Happy43004.wav  \n",
            "  inflating: /content/data/Train/Train/Happy/Happy43005.wav  \n",
            "  inflating: /content/data/Train/Train/Happy/Happy43006.wav  \n",
            "  inflating: /content/data/Train/Train/Happy/Happy43007.wav  \n",
            "  inflating: /content/data/Train/Train/Happy/Happy43008.wav  \n",
            "  inflating: /content/data/Train/Train/Happy/Happy43009.wav  \n",
            "  inflating: /content/data/Train/Train/Happy/Happy43010.wav  \n",
            "  inflating: /content/data/Train/Train/Happy/Happy43011.wav  \n",
            "  inflating: /content/data/Train/Train/Happy/Happy43012.wav  \n",
            "  inflating: /content/data/Train/Train/Happy/Happy43013.wav  \n",
            "  inflating: /content/data/Train/Train/Happy/Happy43014.wav  \n",
            "  inflating: /content/data/Train/Train/Happy/Happy43015.wav  \n",
            "  inflating: /content/data/Train/Train/Happy/Happy43016.wav  \n",
            "  inflating: /content/data/Train/Train/Happy/Happy43400.wav  \n",
            "  inflating: /content/data/Train/Train/Happy/Happy43401.wav  \n",
            "  inflating: /content/data/Train/Train/Happy/Happy43402.wav  \n",
            "  inflating: /content/data/Train/Train/Happy/Happy43403.wav  \n",
            "  inflating: /content/data/Train/Train/Happy/Happy43404.wav  \n",
            "  inflating: /content/data/Train/Train/Happy/Happy43405.wav  \n",
            "  inflating: /content/data/Train/Train/Happy/Happy43406.wav  \n",
            "  inflating: /content/data/Train/Train/Happy/Happy43407.wav  \n",
            "  inflating: /content/data/Train/Train/Happy/Happy43408.wav  \n",
            "  inflating: /content/data/Train/Train/Happy/Happy43409.wav  \n",
            "  inflating: /content/data/Train/Train/Happy/Happy43410.wav  \n",
            "  inflating: /content/data/Train/Train/Happy/Happy43411.wav  \n",
            "  inflating: /content/data/Train/Train/Happy/Happy43412.wav  \n",
            "  inflating: /content/data/Train/Train/Happy/Happy43413.wav  \n",
            "  inflating: /content/data/Train/Train/Happy/Happy43414.wav  \n",
            "  inflating: /content/data/Train/Train/Happy/Happy43415.wav  \n",
            "  inflating: /content/data/Train/Train/Happy/Happy43416.wav  \n",
            "  inflating: /content/data/Train/Train/Happy/Happy43417.wav  \n",
            "  inflating: /content/data/Train/Train/Happy/Happy43418.wav  \n",
            "  inflating: /content/data/Train/Train/Happy/Happy43419.wav  \n",
            "  inflating: /content/data/Train/Train/Happy/Happy43420.wav  \n",
            "  inflating: /content/data/Train/Train/Happy/Happy43421.wav  \n",
            "  inflating: /content/data/Train/Train/Happy/Happy43422.wav  \n",
            "  inflating: /content/data/Train/Train/Happy/Happy43423.wav  \n",
            "  inflating: /content/data/Train/Train/Happy/Happy43424.wav  \n",
            "  inflating: /content/data/Train/Train/Happy/Happy43425.wav  \n",
            "  inflating: /content/data/Train/Train/Sad/Sad11600.wav  \n",
            "  inflating: /content/data/Train/Train/Sad/Sad11601.wav  \n",
            "  inflating: /content/data/Train/Train/Sad/Sad11602.wav  \n",
            "  inflating: /content/data/Train/Train/Sad/Sad11603.wav  \n",
            "  inflating: /content/data/Train/Train/Sad/Sad11604.wav  \n",
            "  inflating: /content/data/Train/Train/Sad/Sad11605.wav  \n",
            "  inflating: /content/data/Train/Train/Sad/Sad11606.wav  \n",
            "  inflating: /content/data/Train/Train/Sad/Sad11607.wav  \n",
            "  inflating: /content/data/Train/Train/Sad/Sad11608.wav  \n",
            "  inflating: /content/data/Train/Train/Sad/Sad11609.wav  \n",
            "  inflating: /content/data/Train/Train/Sad/Sad11610.wav  \n",
            "  inflating: /content/data/Train/Train/Sad/Sad11611.wav  \n",
            "  inflating: /content/data/Train/Train/Sad/Sad11612.wav  \n",
            "  inflating: /content/data/Train/Train/Sad/Sad11613.wav  \n",
            "  inflating: /content/data/Train/Train/Sad/Sad11614.wav  \n",
            "  inflating: /content/data/Train/Train/Sad/Sad11615.wav  \n",
            "  inflating: /content/data/Train/Train/Sad/Sad11616.wav  \n",
            "  inflating: /content/data/Train/Train/Sad/Sad12900.wav  \n",
            "  inflating: /content/data/Train/Train/Sad/Sad12901.wav  \n",
            "  inflating: /content/data/Train/Train/Sad/Sad12902.wav  \n",
            "  inflating: /content/data/Train/Train/Sad/Sad12903.wav  \n",
            "  inflating: /content/data/Train/Train/Sad/Sad12904.wav  \n",
            "  inflating: /content/data/Train/Train/Sad/Sad12905.wav  \n",
            "  inflating: /content/data/Train/Train/Sad/Sad12906.wav  \n",
            "  inflating: /content/data/Train/Train/Sad/Sad12907.wav  \n",
            "  inflating: /content/data/Train/Train/Sad/Sad12908.wav  \n",
            "  inflating: /content/data/Train/Train/Sad/Sad12909.wav  \n",
            "  inflating: /content/data/Train/Train/Sad/Sad12910.wav  \n",
            "  inflating: /content/data/Train/Train/Sad/Sad12911.wav  \n",
            "  inflating: /content/data/Train/Train/Sad/Sad12912.wav  \n",
            "  inflating: /content/data/Train/Train/Sad/Sad12913.wav  \n",
            "  inflating: /content/data/Train/Train/Sad/Sad12914.wav  \n",
            "  inflating: /content/data/Train/Train/Sad/Sad12915.wav  \n",
            "  inflating: /content/data/Train/Train/Sad/Sad12916.wav  \n",
            "  inflating: /content/data/Train/Train/Sad/Sad12917.wav  \n",
            "  inflating: /content/data/Train/Train/Sad/Sad12918.wav  \n",
            "  inflating: /content/data/Train/Train/Sad/Sad12919.wav  \n",
            "  inflating: /content/data/Train/Train/Sad/Sad12920.wav  \n",
            "  inflating: /content/data/Train/Train/Sad/Sad12921.wav  \n",
            "  inflating: /content/data/Train/Train/Sad/Sad12922.wav  \n",
            "  inflating: /content/data/Train/Train/Sad/Sad12923.wav  \n",
            "  inflating: /content/data/Train/Train/Sad/Sad12924.wav  \n",
            "  inflating: /content/data/Train/Train/Sad/Sad12925.wav  \n",
            "  inflating: /content/data/Train/Train/Sad/Sad12926.wav  \n",
            "  inflating: /content/data/Train/Train/Sad/Sad12927.wav  \n",
            "  inflating: /content/data/Train/Train/Sad/Sad12928.wav  \n",
            "  inflating: /content/data/Train/Train/Sad/Sad12929.wav  \n",
            "  inflating: /content/data/Train/Train/Sad/Sad12930.wav  \n",
            "  inflating: /content/data/Train/Train/Sad/Sad12931.wav  \n",
            "  inflating: /content/data/Train/Train/Sad/Sad12932.wav  \n",
            "  inflating: /content/data/Train/Train/Sad/Sad12933.wav  \n",
            "  inflating: /content/data/Train/Train/Sad/Sad12934.wav  \n",
            "  inflating: /content/data/Train/Train/Sad/Sad12935.wav  \n",
            "  inflating: /content/data/Train/Train/Sad/Sad12936.wav  \n",
            "  inflating: /content/data/Train/Train/Sad/Sad12937.wav  \n",
            "  inflating: /content/data/Train/Train/Sad/Sad12938.wav  \n",
            "  inflating: /content/data/Train/Train/Sad/Sad12939.wav  \n",
            "  inflating: /content/data/Train/Train/Sad/Sad14100.wav  \n",
            "  inflating: /content/data/Train/Train/Sad/Sad14101.wav  \n",
            "  inflating: /content/data/Train/Train/Sad/Sad14102.wav  \n",
            "  inflating: /content/data/Train/Train/Sad/Sad14103.wav  \n",
            "  inflating: /content/data/Train/Train/Sad/Sad14104.wav  \n",
            "  inflating: /content/data/Train/Train/Sad/Sad14105.wav  \n",
            "  inflating: /content/data/Train/Train/Sad/Sad14106.wav  \n",
            "  inflating: /content/data/Train/Train/Sad/Sad14107.wav  \n",
            "  inflating: /content/data/Train/Train/Sad/Sad14108.wav  \n",
            "  inflating: /content/data/Train/Train/Sad/Sad14109.wav  \n",
            "  inflating: /content/data/Train/Train/Sad/Sad14110.wav  \n",
            "  inflating: /content/data/Train/Train/Sad/Sad14111.wav  \n",
            "  inflating: /content/data/Train/Train/Sad/Sad14112.wav  \n",
            "  inflating: /content/data/Train/Train/Sad/Sad14113.wav  \n",
            "  inflating: /content/data/Train/Train/Sad/Sad14114.wav  \n",
            "  inflating: /content/data/Train/Train/Sad/Sad14115.wav  \n",
            "  inflating: /content/data/Train/Train/Sad/Sad14116.wav  \n",
            "  inflating: /content/data/Train/Train/Sad/Sad14117.wav  \n",
            "  inflating: /content/data/Train/Train/Sad/Sad14118.wav  \n",
            "  inflating: /content/data/Train/Train/Sad/Sad14119.wav  \n",
            "  inflating: /content/data/Train/Train/Sad/Sad14400.wav  \n",
            "  inflating: /content/data/Train/Train/Sad/Sad14401.wav  \n",
            "  inflating: /content/data/Train/Train/Sad/Sad14402.wav  \n",
            "  inflating: /content/data/Train/Train/Sad/Sad14403.wav  \n",
            "  inflating: /content/data/Train/Train/Sad/Sad14404.wav  \n",
            "  inflating: /content/data/Train/Train/Sad/Sad14405.wav  \n",
            "  inflating: /content/data/Train/Train/Sad/Sad14406.wav  \n",
            "  inflating: /content/data/Train/Train/Sad/Sad14407.wav  \n",
            "  inflating: /content/data/Train/Train/Sad/Sad14408.wav  \n",
            "  inflating: /content/data/Train/Train/Sad/Sad14409.wav  \n",
            "  inflating: /content/data/Train/Train/Sad/Sad14410.wav  \n",
            "  inflating: /content/data/Train/Train/Sad/Sad14411.wav  \n",
            "  inflating: /content/data/Train/Train/Sad/Sad14412.wav  \n",
            "  inflating: /content/data/Train/Train/Sad/Sad14413.wav  \n",
            "  inflating: /content/data/Train/Train/Sad/Sad14414.wav  \n",
            "  inflating: /content/data/Train/Train/Sad/Sad14415.wav  \n",
            "  inflating: /content/data/Train/Train/Sad/Sad14416.wav  \n",
            "  inflating: /content/data/Train/Train/Sad/Sad14417.wav  \n",
            "  inflating: /content/data/Train/Train/Sad/Sad14418.wav  \n",
            "  inflating: /content/data/Train/Train/Sad/Sad14419.wav  \n",
            "  inflating: /content/data/Train/Train/Sad/Sad14420.wav  \n",
            "  inflating: /content/data/Train/Train/Sad/Sad14421.wav  \n",
            "  inflating: /content/data/Train/Train/Sad/Sad14422.wav  \n",
            "  inflating: /content/data/Train/Train/Sad/Sad14423.wav  \n",
            "  inflating: /content/data/Train/Train/Sad/Sad15200.wav  \n",
            "  inflating: /content/data/Train/Train/Sad/Sad15201.wav  \n",
            "  inflating: /content/data/Train/Train/Sad/Sad15202.wav  \n",
            "  inflating: /content/data/Train/Train/Sad/Sad15203.wav  \n",
            "  inflating: /content/data/Train/Train/Sad/Sad15204.wav  \n",
            "  inflating: /content/data/Train/Train/Sad/Sad15205.wav  \n",
            "  inflating: /content/data/Train/Train/Sad/Sad15206.wav  \n",
            "  inflating: /content/data/Train/Train/Sad/Sad15207.wav  \n",
            "  inflating: /content/data/Train/Train/Sad/Sad15208.wav  \n",
            "  inflating: /content/data/Train/Train/Sad/Sad15209.wav  \n",
            "  inflating: /content/data/Train/Train/Sad/Sad15210.wav  \n",
            "  inflating: /content/data/Train/Train/Sad/Sad15211.wav  \n",
            "  inflating: /content/data/Train/Train/Sad/Sad15800.wav  \n",
            "  inflating: /content/data/Train/Train/Sad/Sad15801.wav  \n",
            "  inflating: /content/data/Train/Train/Sad/Sad15802.wav  \n",
            "  inflating: /content/data/Train/Train/Sad/Sad15803.wav  \n",
            "  inflating: /content/data/Train/Train/Sad/Sad15804.wav  \n",
            "  inflating: /content/data/Train/Train/Sad/Sad15805.wav  \n",
            "  inflating: /content/data/Train/Train/Sad/Sad15806.wav  \n",
            "  inflating: /content/data/Train/Train/Sad/Sad15807.wav  \n",
            "  inflating: /content/data/Train/Train/Sad/Sad15808.wav  \n",
            "  inflating: /content/data/Train/Train/Sad/Sad15809.wav  \n",
            "  inflating: /content/data/Train/Train/Sad/Sad15810.wav  \n",
            "  inflating: /content/data/Train/Train/Sad/Sad15811.wav  \n",
            "  inflating: /content/data/Train/Train/Sad/Sad15812.wav  \n",
            "  inflating: /content/data/Train/Train/Sad/Sad15813.wav  \n",
            "  inflating: /content/data/Train/Train/Sad/Sad15814.wav  \n",
            "  inflating: /content/data/Train/Train/Sad/Sad15815.wav  \n",
            "  inflating: /content/data/Train/Train/Sad/Sad15816.wav  \n",
            "  inflating: /content/data/Train/Train/Sad/Sad15817.wav  \n",
            "  inflating: /content/data/Train/Train/Sad/Sad15818.wav  \n",
            "  inflating: /content/data/Train/Train/Sad/Sad16000.wav  \n",
            "  inflating: /content/data/Train/Train/Sad/Sad16001.wav  \n",
            "  inflating: /content/data/Train/Train/Sad/Sad16002.wav  \n",
            "  inflating: /content/data/Train/Train/Sad/Sad16003.wav  \n",
            "  inflating: /content/data/Train/Train/Sad/Sad16004.wav  \n",
            "  inflating: /content/data/Train/Train/Sad/Sad16005.wav  \n",
            "  inflating: /content/data/Train/Train/Sad/Sad16006.wav  \n",
            "  inflating: /content/data/Train/Train/Sad/Sad16007.wav  \n",
            "  inflating: /content/data/Train/Train/Sad/Sad16008.wav  \n",
            "  inflating: /content/data/Train/Train/Sad/Sad16009.wav  \n",
            "  inflating: /content/data/Train/Train/Sad/Sad16010.wav  \n",
            "  inflating: /content/data/Train/Train/Sad/Sad16011.wav  \n",
            "  inflating: /content/data/Train/Train/Sad/Sad16012.wav  \n",
            "  inflating: /content/data/Train/Train/Sad/Sad16013.wav  \n",
            "  inflating: /content/data/Train/Train/Sad/Sad16014.wav  \n",
            "  inflating: /content/data/Train/Train/Sad/Sad16015.wav  \n",
            "  inflating: /content/data/Train/Train/Sad/Sad16016.wav  \n",
            "  inflating: /content/data/Train/Train/Sad/Sad16017.wav  \n",
            "  inflating: /content/data/Train/Train/Sad/Sad16018.wav  \n",
            "  inflating: /content/data/Train/Train/Sad/Sad16019.wav  \n",
            "  inflating: /content/data/Train/Train/Sad/Sad16200.wav  \n",
            "  inflating: /content/data/Train/Train/Sad/Sad16201.wav  \n",
            "  inflating: /content/data/Train/Train/Sad/Sad16202.wav  \n",
            "  inflating: /content/data/Train/Train/Sad/Sad16203.wav  \n",
            "  inflating: /content/data/Train/Train/Sad/Sad16204.wav  \n",
            "  inflating: /content/data/Train/Train/Sad/Sad16205.wav  \n",
            "  inflating: /content/data/Train/Train/Sad/Sad16206.wav  \n",
            "  inflating: /content/data/Train/Train/Sad/Sad16207.wav  \n",
            "  inflating: /content/data/Train/Train/Sad/Sad16208.wav  \n",
            "  inflating: /content/data/Train/Train/Sad/Sad16209.wav  \n",
            "  inflating: /content/data/Train/Train/Sad/Sad16210.wav  \n",
            "  inflating: /content/data/Train/Train/Sad/Sad16211.wav  \n",
            "  inflating: /content/data/Train/Train/Sad/Sad16212.wav  \n",
            "  inflating: /content/data/Train/Train/Sad/Sad16213.wav  \n",
            "  inflating: /content/data/Train/Train/Sad/Sad16214.wav  \n",
            "  inflating: /content/data/Train/Train/Sad/Sad16215.wav  \n",
            "  inflating: /content/data/Train/Train/Sad/Sad16216.wav  \n",
            "  inflating: /content/data/Train/Train/Sad/Sad16217.wav  \n",
            "  inflating: /content/data/Train/Train/Sad/Sad16218.wav  \n",
            "  inflating: /content/data/Train/Train/Sad/Sad16219.wav  \n",
            "  inflating: /content/data/Train/Train/Sad/Sad16220.wav  \n",
            "  inflating: /content/data/Train/Train/Sad/Sad16221.wav  \n",
            "  inflating: /content/data/Train/Train/Sad/Sad16222.wav  \n",
            "  inflating: /content/data/Train/Train/Sad/Sad16223.wav  \n",
            "  inflating: /content/data/Train/Train/Sad/Sad17400.wav  \n",
            "  inflating: /content/data/Train/Train/Sad/Sad17401.wav  \n",
            "  inflating: /content/data/Train/Train/Sad/Sad17402.wav  \n",
            "  inflating: /content/data/Train/Train/Sad/Sad17403.wav  \n",
            "  inflating: /content/data/Train/Train/Sad/Sad17404.wav  \n",
            "  inflating: /content/data/Train/Train/Sad/Sad17405.wav  \n",
            "  inflating: /content/data/Train/Train/Sad/Sad17406.wav  \n",
            "  inflating: /content/data/Train/Train/Sad/Sad17407.wav  \n",
            "  inflating: /content/data/Train/Train/Sad/Sad17408.wav  \n",
            "  inflating: /content/data/Train/Train/Sad/Sad17409.wav  \n",
            "  inflating: /content/data/Train/Train/Sad/Sad17410.wav  \n",
            "  inflating: /content/data/Train/Train/Sad/Sad17411.wav  \n",
            "  inflating: /content/data/Train/Train/Sad/Sad17412.wav  \n",
            "  inflating: /content/data/Train/Train/Sad/Sad17413.wav  \n",
            "  inflating: /content/data/Train/Train/Sad/Sad17414.wav  \n",
            "  inflating: /content/data/Train/Train/Sad/Sad17415.wav  \n",
            "  inflating: /content/data/Train/Train/Sad/Sad17416.wav  \n",
            "  inflating: /content/data/Train/Train/Sad/Sad17417.wav  \n",
            "  inflating: /content/data/Train/Train/Sad/Sad17418.wav  \n",
            "  inflating: /content/data/Train/Train/Sad/Sad17419.wav  \n",
            "  inflating: /content/data/Train/Train/Sad/Sad17420.wav  \n",
            "  inflating: /content/data/Train/Train/Sad/Sad17421.wav  \n",
            "  inflating: /content/data/Train/Train/Sad/Sad17422.wav  \n",
            "  inflating: /content/data/Train/Train/Sad/Sad17423.wav  \n",
            "  inflating: /content/data/Train/Train/Sad/Sad17424.wav  \n",
            "  inflating: /content/data/Train/Train/Sad/Sad17425.wav  \n",
            "  inflating: /content/data/Train/Train/Sad/Sad19300.wav  \n",
            "  inflating: /content/data/Train/Train/Sad/Sad19301.wav  \n",
            "  inflating: /content/data/Train/Train/Sad/Sad19302.wav  \n",
            "  inflating: /content/data/Train/Train/Sad/Sad19303.wav  \n",
            "  inflating: /content/data/Train/Train/Sad/Sad19304.wav  \n",
            "  inflating: /content/data/Train/Train/Sad/Sad19305.wav  \n",
            "  inflating: /content/data/Train/Train/Sad/Sad19306.wav  \n",
            "  inflating: /content/data/Train/Train/Sad/Sad19307.wav  \n",
            "  inflating: /content/data/Train/Train/Sad/Sad19308.wav  \n",
            "  inflating: /content/data/Train/Train/Sad/Sad19309.wav  \n",
            "  inflating: /content/data/Train/Train/Sad/Sad19310.wav  \n",
            "  inflating: /content/data/Train/Train/Sad/Sad19311.wav  \n",
            "  inflating: /content/data/Train/Train/Sad/Sad19312.wav  \n",
            "  inflating: /content/data/Train/Train/Sad/Sad19313.wav  \n",
            "  inflating: /content/data/Train/Train/Sad/Sad19314.wav  \n",
            "  inflating: /content/data/Train/Train/Sad/Sad19315.wav  \n",
            "  inflating: /content/data/Train/Train/Sad/Sad19316.wav  \n",
            "  inflating: /content/data/Train/Train/Sad/Sad19317.wav  \n",
            "  inflating: /content/data/Train/Train/Sad/Sad19318.wav  \n",
            "  inflating: /content/data/Train/Train/Sad/Sad19319.wav  \n",
            "  inflating: /content/data/Train/Train/Sad/Sad19320.wav  \n",
            "  inflating: /content/data/Train/Train/Sad/Sad19321.wav  \n",
            "  inflating: /content/data/Train/Train/Sad/Sad19400.wav  \n",
            "  inflating: /content/data/Train/Train/Sad/Sad19401.wav  \n",
            "  inflating: /content/data/Train/Train/Sad/Sad19402.wav  \n",
            "  inflating: /content/data/Train/Train/Sad/Sad19403.wav  \n",
            "  inflating: /content/data/Train/Train/Sad/Sad19404.wav  \n",
            "  inflating: /content/data/Train/Train/Sad/Sad19405.wav  \n",
            "  inflating: /content/data/Train/Train/Sad/Sad19406.wav  \n",
            "  inflating: /content/data/Train/Train/Sad/Sad19407.wav  \n",
            "  inflating: /content/data/Train/Train/Sad/Sad19408.wav  \n",
            "  inflating: /content/data/Train/Train/Sad/Sad19409.wav  \n",
            "  inflating: /content/data/Train/Train/Sad/Sad19410.wav  \n",
            "  inflating: /content/data/Train/Train/Sad/Sad19411.wav  \n",
            "  inflating: /content/data/Train/Train/Sad/Sad19412.wav  \n",
            "  inflating: /content/data/Train/Train/Sad/Sad19413.wav  \n",
            "  inflating: /content/data/Train/Train/Sad/Sad19414.wav  \n",
            "  inflating: /content/data/Train/Train/Sad/Sad19415.wav  \n",
            "  inflating: /content/data/Train/Train/Sad/Sad19416.wav  \n",
            "  inflating: /content/data/Train/Train/Sad/Sad19417.wav  \n",
            "  inflating: /content/data/Train/Train/Sad/Sad19500.wav  \n",
            "  inflating: /content/data/Train/Train/Sad/Sad19501.wav  \n",
            "  inflating: /content/data/Train/Train/Sad/Sad19502.wav  \n",
            "  inflating: /content/data/Train/Train/Sad/Sad19503.wav  \n",
            "  inflating: /content/data/Train/Train/Sad/Sad19504.wav  \n",
            "  inflating: /content/data/Train/Train/Sad/Sad19505.wav  \n",
            "  inflating: /content/data/Train/Train/Sad/Sad19506.wav  \n",
            "  inflating: /content/data/Train/Train/Sad/Sad19507.wav  \n",
            "  inflating: /content/data/Train/Train/Sad/Sad19508.wav  \n",
            "  inflating: /content/data/Train/Train/Sad/Sad19509.wav  \n",
            "  inflating: /content/data/Train/Train/Sad/Sad19510.wav  \n",
            "  inflating: /content/data/Train/Train/Sad/Sad19511.wav  \n",
            "  inflating: /content/data/Train/Train/Sad/Sad19512.wav  \n",
            "  inflating: /content/data/Train/Train/Sad/Sad19513.wav  \n",
            "  inflating: /content/data/Train/Train/Sad/Sad19514.wav  \n",
            "  inflating: /content/data/Train/Train/Sad/Sad19515.wav  \n",
            "  inflating: /content/data/Train/Train/Sad/Sad19516.wav  \n",
            "  inflating: /content/data/Train/Train/Sad/Sad19517.wav  \n",
            "  inflating: /content/data/Train/Train/Sad/Sad19518.wav  \n",
            "  inflating: /content/data/Train/Train/Sad/Sad19600.wav  \n",
            "  inflating: /content/data/Train/Train/Sad/Sad19601.wav  \n",
            "  inflating: /content/data/Train/Train/Sad/Sad19602.wav  \n",
            "  inflating: /content/data/Train/Train/Sad/Sad19603.wav  \n",
            "  inflating: /content/data/Train/Train/Sad/Sad19604.wav  \n",
            "  inflating: /content/data/Train/Train/Sad/Sad19605.wav  \n",
            "  inflating: /content/data/Train/Train/Sad/Sad19606.wav  \n",
            "  inflating: /content/data/Train/Train/Sad/Sad19607.wav  \n",
            "  inflating: /content/data/Train/Train/Sad/Sad19608.wav  \n",
            "  inflating: /content/data/Train/Train/Sad/Sad19609.wav  \n",
            "  inflating: /content/data/Train/Train/Sad/Sad19610.wav  \n",
            "  inflating: /content/data/Train/Train/Sad/Sad19611.wav  \n",
            "  inflating: /content/data/Train/Train/Sad/Sad19612.wav  \n",
            "  inflating: /content/data/Train/Train/Sad/Sad19613.wav  \n",
            "  inflating: /content/data/Train/Train/Sad/Sad19614.wav  \n",
            "  inflating: /content/data/Train/Train/Sad/Sad19615.wav  \n",
            "  inflating: /content/data/Train/Train/Sad/Sad19616.wav  \n",
            "  inflating: /content/data/Train/Train/Sad/Sad19617.wav  \n",
            "  inflating: /content/data/Train/Train/Sad/Sad19618.wav  \n",
            "  inflating: /content/data/Train/Train/Sad/Sad19800.wav  \n",
            "  inflating: /content/data/Train/Train/Sad/Sad19801.wav  \n",
            "  inflating: /content/data/Train/Train/Sad/Sad19802.wav  \n",
            "  inflating: /content/data/Train/Train/Sad/Sad19803.wav  \n",
            "  inflating: /content/data/Train/Train/Sad/Sad19804.wav  \n",
            "  inflating: /content/data/Train/Train/Sad/Sad19805.wav  \n",
            "  inflating: /content/data/Train/Train/Sad/Sad19806.wav  \n",
            "  inflating: /content/data/Train/Train/Sad/Sad19807.wav  \n",
            "  inflating: /content/data/Train/Train/Sad/Sad19808.wav  \n",
            "  inflating: /content/data/Train/Train/Sad/Sad19809.wav  \n",
            "  inflating: /content/data/Train/Train/Sad/Sad19810.wav  \n",
            "  inflating: /content/data/Train/Train/Sad/Sad19811.wav  \n",
            "  inflating: /content/data/Train/Train/Sad/Sad19812.wav  \n",
            "  inflating: /content/data/Train/Train/Sad/Sad19813.wav  \n",
            "  inflating: /content/data/Train/Train/Sad/Sad19814.wav  \n",
            "  inflating: /content/data/Train/Train/Sad/Sad19815.wav  \n",
            "  inflating: /content/data/Train/Train/Sad/Sad19816.wav  \n",
            "  inflating: /content/data/Train/Train/Sad/Sad19817.wav  \n",
            "  inflating: /content/data/Train/Train/Sad/Sad19818.wav  \n",
            "  inflating: /content/data/Train/Train/Sad/Sad19819.wav  \n",
            "  inflating: /content/data/Train/Train/Sad/Sad19820.wav  \n",
            "  inflating: /content/data/Train/Train/Sad/Sad19821.wav  \n",
            "  inflating: /content/data/Train/Train/Sad/Sad20500.wav  \n",
            "  inflating: /content/data/Train/Train/Sad/Sad20501.wav  \n",
            "  inflating: /content/data/Train/Train/Sad/Sad20502.wav  \n",
            "  inflating: /content/data/Train/Train/Sad/Sad20503.wav  \n",
            "  inflating: /content/data/Train/Train/Sad/Sad20504.wav  \n",
            "  inflating: /content/data/Train/Train/Sad/Sad20505.wav  \n",
            "  inflating: /content/data/Train/Train/Sad/Sad20506.wav  \n",
            "  inflating: /content/data/Train/Train/Sad/Sad20507.wav  \n",
            "  inflating: /content/data/Train/Train/Sad/Sad20508.wav  \n",
            "  inflating: /content/data/Train/Train/Sad/Sad20509.wav  \n",
            "  inflating: /content/data/Train/Train/Sad/Sad20510.wav  \n",
            "  inflating: /content/data/Train/Train/Sad/Sad20511.wav  \n",
            "  inflating: /content/data/Train/Train/Sad/Sad20512.wav  \n",
            "  inflating: /content/data/Train/Train/Sad/Sad20513.wav  \n",
            "  inflating: /content/data/Train/Train/Sad/Sad20514.wav  \n",
            "  inflating: /content/data/Train/Train/Sad/Sad20515.wav  \n",
            "  inflating: /content/data/Train/Train/Sad/Sad21800.wav  \n",
            "  inflating: /content/data/Train/Train/Sad/Sad21801.wav  \n",
            "  inflating: /content/data/Train/Train/Sad/Sad21802.wav  \n",
            "  inflating: /content/data/Train/Train/Sad/Sad21803.wav  \n",
            "  inflating: /content/data/Train/Train/Sad/Sad21804.wav  \n",
            "  inflating: /content/data/Train/Train/Sad/Sad21805.wav  \n",
            "  inflating: /content/data/Train/Train/Sad/Sad21806.wav  \n",
            "  inflating: /content/data/Train/Train/Sad/Sad21807.wav  \n",
            "  inflating: /content/data/Train/Train/Sad/Sad21808.wav  \n",
            "  inflating: /content/data/Train/Train/Sad/Sad21809.wav  \n",
            "  inflating: /content/data/Train/Train/Sad/Sad21810.wav  \n",
            "  inflating: /content/data/Train/Train/Sad/Sad21811.wav  \n",
            "  inflating: /content/data/Train/Train/Sad/Sad21812.wav  \n",
            "  inflating: /content/data/Train/Train/Sad/Sad21813.wav  \n",
            "  inflating: /content/data/Train/Train/Sad/Sad21814.wav  \n",
            "  inflating: /content/data/Train/Train/Sad/Sad21815.wav  \n",
            "  inflating: /content/data/Train/Train/Sad/Sad21816.wav  \n",
            "  inflating: /content/data/Train/Train/Sad/Sad21817.wav  \n",
            "  inflating: /content/data/Train/Train/Sad/Sad21818.wav  \n",
            "  inflating: /content/data/Train/Train/Sad/Sad21819.wav  \n",
            "  inflating: /content/data/Train/Train/Sad/Sad21820.wav  \n",
            "  inflating: /content/data/Train/Train/Sad/Sad21821.wav  \n",
            "  inflating: /content/data/Train/Train/Sad/Sad21822.wav  \n",
            "  inflating: /content/data/Train/Train/Sad/Sad21823.wav  \n",
            "  inflating: /content/data/Train/Train/Sad/Sad21824.wav  \n",
            "  inflating: /content/data/Train/Train/Sad/Sad21825.wav  \n",
            "  inflating: /content/data/Train/Train/Sad/Sad21826.wav  \n",
            "  inflating: /content/data/Train/Train/Sad/Sad21827.wav  \n",
            "  inflating: /content/data/Train/Train/Sad/Sad21828.wav  \n",
            "  inflating: /content/data/Train/Train/Sad/Sad21829.wav  \n",
            "  inflating: /content/data/Train/Train/Sad/Sad21830.wav  \n",
            "  inflating: /content/data/Train/Train/Sad/Sad21831.wav  \n",
            "  inflating: /content/data/Train/Train/Sad/Sad21832.wav  \n",
            "  inflating: /content/data/Train/Train/Sad/Sad21833.wav  \n",
            "  inflating: /content/data/Train/Train/Sad/Sad21834.wav  \n",
            "  inflating: /content/data/Train/Train/Sad/Sad21835.wav  \n",
            "  inflating: /content/data/Train/Train/Sad/Sad21836.wav  \n",
            "  inflating: /content/data/Train/Train/Sad/Sad21837.wav  \n",
            "  inflating: /content/data/Train/Train/Sad/Sad21838.wav  \n",
            "  inflating: /content/data/Train/Train/Sad/Sad21839.wav  \n",
            "  inflating: /content/data/Train/Train/Sad/Sad21840.wav  \n",
            "  inflating: /content/data/Train/Train/Sad/Sad21841.wav  \n",
            "  inflating: /content/data/Train/Train/Sad/Sad21842.wav  \n",
            "  inflating: /content/data/Train/Train/Sad/Sad21843.wav  \n",
            "  inflating: /content/data/Train/Train/Sad/Sad21844.wav  \n",
            "  inflating: /content/data/Train/Train/Sad/Sad21845.wav  \n",
            "  inflating: /content/data/Train/Train/Sad/Sad21846.wav  \n",
            "  inflating: /content/data/Train/Train/Sad/Sad21847.wav  \n",
            "  inflating: /content/data/Train/Train/Sad/Sad21848.wav  \n",
            "  inflating: /content/data/Train/Train/Sad/Sad21849.wav  \n",
            "  inflating: /content/data/Train/Train/Sad/Sad21850.wav  \n",
            "  inflating: /content/data/Train/Train/Sad/Sad21851.wav  \n",
            "  inflating: /content/data/Train/Train/Sad/Sad21852.wav  \n",
            "  inflating: /content/data/Train/Train/Sad/Sad21853.wav  \n",
            "  inflating: /content/data/Train/Train/Sad/Sad21854.wav  \n",
            "  inflating: /content/data/Train/Train/Sad/Sad21855.wav  \n",
            "  inflating: /content/data/Train/Train/Sad/Sad22000.wav  \n",
            "  inflating: /content/data/Train/Train/Sad/Sad22001.wav  \n",
            "  inflating: /content/data/Train/Train/Sad/Sad22002.wav  \n",
            "  inflating: /content/data/Train/Train/Sad/Sad22003.wav  \n",
            "  inflating: /content/data/Train/Train/Sad/Sad22004.wav  \n",
            "  inflating: /content/data/Train/Train/Sad/Sad22005.wav  \n",
            "  inflating: /content/data/Train/Train/Sad/Sad22006.wav  \n",
            "  inflating: /content/data/Train/Train/Sad/Sad22007.wav  \n",
            "  inflating: /content/data/Train/Train/Sad/Sad22008.wav  \n",
            "  inflating: /content/data/Train/Train/Sad/Sad22009.wav  \n",
            "  inflating: /content/data/Train/Train/Sad/Sad22010.wav  \n",
            "  inflating: /content/data/Train/Train/Sad/Sad22011.wav  \n",
            "  inflating: /content/data/Train/Train/Sad/Sad22012.wav  \n",
            "  inflating: /content/data/Train/Train/Sad/Sad22013.wav  \n",
            "  inflating: /content/data/Train/Train/Sad/Sad22200.wav  \n",
            "  inflating: /content/data/Train/Train/Sad/Sad22201.wav  \n",
            "  inflating: /content/data/Train/Train/Sad/Sad22202.wav  \n",
            "  inflating: /content/data/Train/Train/Sad/Sad22203.wav  \n",
            "  inflating: /content/data/Train/Train/Sad/Sad22204.wav  \n",
            "  inflating: /content/data/Train/Train/Sad/Sad22205.wav  \n",
            "  inflating: /content/data/Train/Train/Sad/Sad22206.wav  \n",
            "  inflating: /content/data/Train/Train/Sad/Sad22207.wav  \n",
            "  inflating: /content/data/Train/Train/Sad/Sad22208.wav  \n",
            "  inflating: /content/data/Train/Train/Sad/Sad22209.wav  \n",
            "  inflating: /content/data/Train/Train/Sad/Sad22210.wav  \n",
            "  inflating: /content/data/Train/Train/Sad/Sad22211.wav  \n",
            "  inflating: /content/data/Train/Train/Sad/Sad22212.wav  \n",
            "  inflating: /content/data/Train/Train/Sad/Sad22213.wav  \n",
            "  inflating: /content/data/Train/Train/Sad/Sad22214.wav  \n",
            "  inflating: /content/data/Train/Train/Sad/Sad22215.wav  \n",
            "  inflating: /content/data/Train/Train/Sad/Sad22216.wav  \n",
            "  inflating: /content/data/Train/Train/Sad/Sad22217.wav  \n",
            "  inflating: /content/data/Train/Train/Sad/Sad22218.wav  \n",
            "  inflating: /content/data/Train/Train/Sad/Sad22219.wav  \n",
            "  inflating: /content/data/Train/Train/Sad/Sad22220.wav  \n",
            "  inflating: /content/data/Train/Train/Sad/Sad22221.wav  \n",
            "  inflating: /content/data/Train/Train/Sad/Sad22222.wav  \n",
            "  inflating: /content/data/Train/Train/Sad/Sad22223.wav  \n",
            "  inflating: /content/data/Train/Train/Sad/Sad22224.wav  \n",
            "  inflating: /content/data/Train/Train/Sad/Sad22225.wav  \n",
            "  inflating: /content/data/Train/Train/Sad/Sad22500.wav  \n",
            "  inflating: /content/data/Train/Train/Sad/Sad22501.wav  \n",
            "  inflating: /content/data/Train/Train/Sad/Sad22502.wav  \n",
            "  inflating: /content/data/Train/Train/Sad/Sad22503.wav  \n",
            "  inflating: /content/data/Train/Train/Sad/Sad22504.wav  \n",
            "  inflating: /content/data/Train/Train/Sad/Sad22505.wav  \n",
            "  inflating: /content/data/Train/Train/Sad/Sad22506.wav  \n",
            "  inflating: /content/data/Train/Train/Sad/Sad22507.wav  \n",
            "  inflating: /content/data/Train/Train/Sad/Sad22508.wav  \n",
            "  inflating: /content/data/Train/Train/Sad/Sad22509.wav  \n",
            "  inflating: /content/data/Train/Train/Sad/Sad22510.wav  \n",
            "  inflating: /content/data/Train/Train/Sad/Sad22511.wav  \n",
            "  inflating: /content/data/Train/Train/Sad/Sad22512.wav  \n",
            "  inflating: /content/data/Train/Train/Sad/Sad22513.wav  \n",
            "  inflating: /content/data/Train/Train/Sad/Sad22514.wav  \n",
            "  inflating: /content/data/Train/Train/Sad/Sad22515.wav  \n",
            "  inflating: /content/data/Train/Train/Sad/Sad22516.wav  \n",
            "  inflating: /content/data/Train/Train/Sad/Sad22517.wav  \n",
            "  inflating: /content/data/Train/Train/Sad/Sad22518.wav  \n",
            "  inflating: /content/data/Train/Train/Sad/Sad22519.wav  \n",
            "  inflating: /content/data/Train/Train/Sad/Sad22520.wav  \n",
            "  inflating: /content/data/Train/Train/Sad/Sad22521.wav  \n",
            "  inflating: /content/data/Train/Train/Sad/Sad22522.wav  \n",
            "  inflating: /content/data/Train/Train/Sad/Sad22523.wav  \n",
            "  inflating: /content/data/Train/Train/Sad/Sad23500.wav  \n",
            "  inflating: /content/data/Train/Train/Sad/Sad23501.wav  \n",
            "  inflating: /content/data/Train/Train/Sad/Sad23502.wav  \n",
            "  inflating: /content/data/Train/Train/Sad/Sad23503.wav  \n",
            "  inflating: /content/data/Train/Train/Sad/Sad23504.wav  \n",
            "  inflating: /content/data/Train/Train/Sad/Sad23505.wav  \n",
            "  inflating: /content/data/Train/Train/Sad/Sad23506.wav  \n",
            "  inflating: /content/data/Train/Train/Sad/Sad23507.wav  \n",
            "  inflating: /content/data/Train/Train/Sad/Sad23508.wav  \n",
            "  inflating: /content/data/Train/Train/Sad/Sad23509.wav  \n",
            "  inflating: /content/data/Train/Train/Sad/Sad23510.wav  \n",
            "  inflating: /content/data/Train/Train/Sad/Sad23511.wav  \n",
            "  inflating: /content/data/Train/Train/Sad/Sad23512.wav  \n",
            "  inflating: /content/data/Train/Train/Sad/Sad23513.wav  \n",
            "  inflating: /content/data/Train/Train/Sad/Sad23514.wav  \n",
            "  inflating: /content/data/Train/Train/Sad/Sad23515.wav  \n",
            "  inflating: /content/data/Train/Train/Sad/Sad23516.wav  \n",
            "  inflating: /content/data/Train/Train/Sad/Sad23517.wav  \n",
            "  inflating: /content/data/Train/Train/Sad/Sad23518.wav  \n",
            "  inflating: /content/data/Train/Train/Sad/Sad23519.wav  \n",
            "  inflating: /content/data/Train/Train/Sad/Sad23520.wav  \n",
            "  inflating: /content/data/Train/Train/Sad/Sad23521.wav  \n",
            "  inflating: /content/data/Train/Train/Sad/Sad23522.wav  \n",
            "  inflating: /content/data/Train/Train/Sad/Sad23523.wav  \n",
            "  inflating: /content/data/Train/Train/Sad/Sad23524.wav  \n",
            "  inflating: /content/data/Train/Train/Sad/Sad23525.wav  \n",
            "  inflating: /content/data/Train/Train/Sad/Sad23526.wav  \n",
            "  inflating: /content/data/Train/Train/Sad/Sad23527.wav  \n",
            "  inflating: /content/data/Train/Train/Sad/Sad23528.wav  \n",
            "  inflating: /content/data/Train/Train/Sad/Sad23529.wav  \n",
            "  inflating: /content/data/Train/Train/Sad/Sad23530.wav  \n",
            "  inflating: /content/data/Train/Train/Sad/Sad23531.wav  \n",
            "  inflating: /content/data/Train/Train/Sad/Sad23532.wav  \n",
            "  inflating: /content/data/Train/Train/Sad/Sad23900.wav  \n",
            "  inflating: /content/data/Train/Train/Sad/Sad23901.wav  \n",
            "  inflating: /content/data/Train/Train/Sad/Sad23902.wav  \n",
            "  inflating: /content/data/Train/Train/Sad/Sad23903.wav  \n",
            "  inflating: /content/data/Train/Train/Sad/Sad23904.wav  \n",
            "  inflating: /content/data/Train/Train/Sad/Sad23905.wav  \n",
            "  inflating: /content/data/Train/Train/Sad/Sad23906.wav  \n",
            "  inflating: /content/data/Train/Train/Sad/Sad23907.wav  \n",
            "  inflating: /content/data/Train/Train/Sad/Sad23908.wav  \n",
            "  inflating: /content/data/Train/Train/Sad/Sad23909.wav  \n",
            "  inflating: /content/data/Train/Train/Sad/Sad23910.wav  \n",
            "  inflating: /content/data/Train/Train/Sad/Sad23911.wav  \n",
            "  inflating: /content/data/Train/Train/Sad/Sad23912.wav  \n",
            "  inflating: /content/data/Train/Train/Sad/Sad23913.wav  \n",
            "  inflating: /content/data/Train/Train/Sad/Sad23914.wav  \n",
            "  inflating: /content/data/Train/Train/Sad/Sad23915.wav  \n",
            "  inflating: /content/data/Train/Train/Sad/Sad23916.wav  \n",
            "  inflating: /content/data/Train/Train/Sad/Sad23917.wav  \n",
            "  inflating: /content/data/Train/Train/Sad/Sad23918.wav  \n",
            "  inflating: /content/data/Train/Train/Sad/Sad23919.wav  \n",
            "  inflating: /content/data/Train/Train/Sad/Sad23920.wav  \n",
            "  inflating: /content/data/Train/Train/Sad/Sad23921.wav  \n",
            "  inflating: /content/data/Train/Train/Sad/Sad23922.wav  \n",
            "  inflating: /content/data/Train/Train/Sad/Sad25400.wav  \n",
            "  inflating: /content/data/Train/Train/Sad/Sad25401.wav  \n",
            "  inflating: /content/data/Train/Train/Sad/Sad25402.wav  \n",
            "  inflating: /content/data/Train/Train/Sad/Sad25403.wav  \n",
            "  inflating: /content/data/Train/Train/Sad/Sad25404.wav  \n",
            "  inflating: /content/data/Train/Train/Sad/Sad25405.wav  \n",
            "  inflating: /content/data/Train/Train/Sad/Sad25406.wav  \n",
            "  inflating: /content/data/Train/Train/Sad/Sad25407.wav  \n",
            "  inflating: /content/data/Train/Train/Sad/Sad25408.wav  \n",
            "  inflating: /content/data/Train/Train/Sad/Sad25409.wav  \n",
            "  inflating: /content/data/Train/Train/Sad/Sad25410.wav  \n",
            "  inflating: /content/data/Train/Train/Sad/Sad25411.wav  \n",
            "  inflating: /content/data/Train/Train/Sad/Sad25412.wav  \n",
            "  inflating: /content/data/Train/Train/Sad/Sad25700.wav  \n",
            "  inflating: /content/data/Train/Train/Sad/Sad25701.wav  \n",
            "  inflating: /content/data/Train/Train/Sad/Sad25702.wav  \n",
            "  inflating: /content/data/Train/Train/Sad/Sad25703.wav  \n",
            "  inflating: /content/data/Train/Train/Sad/Sad25704.wav  \n",
            "  inflating: /content/data/Train/Train/Sad/Sad25705.wav  \n",
            "  inflating: /content/data/Train/Train/Sad/Sad25706.wav  \n",
            "  inflating: /content/data/Train/Train/Sad/Sad25707.wav  \n",
            "  inflating: /content/data/Train/Train/Sad/Sad25708.wav  \n",
            "  inflating: /content/data/Train/Train/Sad/Sad25709.wav  \n",
            "  inflating: /content/data/Train/Train/Sad/Sad25710.wav  \n",
            "  inflating: /content/data/Train/Train/Sad/Sad25711.wav  \n",
            "  inflating: /content/data/Train/Train/Sad/Sad25712.wav  \n",
            "  inflating: /content/data/Train/Train/Sad/Sad25713.wav  \n",
            "  inflating: /content/data/Train/Train/Sad/Sad25714.wav  \n",
            "  inflating: /content/data/Train/Train/Sad/Sad25715.wav  \n",
            "  inflating: /content/data/Train/Train/Sad/Sad25716.wav  \n",
            "  inflating: /content/data/Train/Train/Sad/Sad25717.wav  \n",
            "  inflating: /content/data/Train/Train/Sad/Sad25718.wav  \n",
            "  inflating: /content/data/Train/Train/Sad/Sad25719.wav  \n",
            "  inflating: /content/data/Train/Train/Sad/Sad25720.wav  \n",
            "  inflating: /content/data/Train/Train/Sad/Sad25721.wav  \n",
            "  inflating: /content/data/Train/Train/Sad/Sad25722.wav  \n",
            "  inflating: /content/data/Train/Train/Sad/Sad25723.wav  \n",
            "  inflating: /content/data/Train/Train/Sad/Sad25900.wav  \n",
            "  inflating: /content/data/Train/Train/Sad/Sad25901.wav  \n",
            "  inflating: /content/data/Train/Train/Sad/Sad25902.wav  \n",
            "  inflating: /content/data/Train/Train/Sad/Sad25903.wav  \n",
            "  inflating: /content/data/Train/Train/Sad/Sad25904.wav  \n",
            "  inflating: /content/data/Train/Train/Sad/Sad25905.wav  \n",
            "  inflating: /content/data/Train/Train/Sad/Sad25906.wav  \n",
            "  inflating: /content/data/Train/Train/Sad/Sad25907.wav  \n",
            "  inflating: /content/data/Train/Train/Sad/Sad25908.wav  \n",
            "  inflating: /content/data/Train/Train/Sad/Sad25909.wav  \n",
            "  inflating: /content/data/Train/Train/Sad/Sad25910.wav  \n",
            "  inflating: /content/data/Train/Train/Sad/Sad25911.wav  \n",
            "  inflating: /content/data/Train/Train/Sad/Sad25912.wav  \n",
            "  inflating: /content/data/Train/Train/Sad/Sad25913.wav  \n",
            "  inflating: /content/data/Train/Train/Sad/Sad25914.wav  \n",
            "  inflating: /content/data/Train/Train/Sad/Sad25915.wav  \n",
            "  inflating: /content/data/Train/Train/Sad/Sad25916.wav  \n",
            "  inflating: /content/data/Train/Train/Sad/Sad25917.wav  \n",
            "  inflating: /content/data/Train/Train/Sad/Sad25918.wav  \n",
            "  inflating: /content/data/Train/Train/Sad/Sad25919.wav  \n",
            "  inflating: /content/data/Train/Train/Sad/Sad25920.wav  \n",
            "  inflating: /content/data/Train/Train/Sad/Sad25921.wav  \n",
            "  inflating: /content/data/Train/Train/Sad/Sad25922.wav  \n",
            "  inflating: /content/data/Train/Train/Sad/Sad25923.wav  \n",
            "  inflating: /content/data/Train/Train/Sad/Sad25924.wav  \n",
            "  inflating: /content/data/Train/Train/Sad/Sad25925.wav  \n",
            "  inflating: /content/data/Train/Train/Sad/Sad25926.wav  \n",
            "  inflating: /content/data/Train/Train/Sad/Sad25927.wav  \n",
            "  inflating: /content/data/Train/Train/Sad/Sad25928.wav  \n",
            "  inflating: /content/data/Train/Train/Sad/Sad25929.wav  \n",
            "  inflating: /content/data/Train/Train/Sad/Sad25930.wav  \n",
            "  inflating: /content/data/Train/Train/Sad/Sad25931.wav  \n",
            "  inflating: /content/data/Train/Train/Sad/Sad25932.wav  \n",
            "  inflating: /content/data/Train/Train/Sad/Sad25933.wav  \n",
            "  inflating: /content/data/Train/Train/Sad/Sad25934.wav  \n",
            "  inflating: /content/data/Train/Train/Sad/Sad27300.wav  \n",
            "  inflating: /content/data/Train/Train/Sad/Sad27301.wav  \n",
            "  inflating: /content/data/Train/Train/Sad/Sad27302.wav  \n",
            "  inflating: /content/data/Train/Train/Sad/Sad27303.wav  \n",
            "  inflating: /content/data/Train/Train/Sad/Sad27304.wav  \n",
            "  inflating: /content/data/Train/Train/Sad/Sad27305.wav  \n",
            "  inflating: /content/data/Train/Train/Sad/Sad27306.wav  \n",
            "  inflating: /content/data/Train/Train/Sad/Sad27307.wav  \n",
            "  inflating: /content/data/Train/Train/Sad/Sad27308.wav  \n",
            "  inflating: /content/data/Train/Train/Sad/Sad27309.wav  \n",
            "  inflating: /content/data/Train/Train/Sad/Sad27310.wav  \n",
            "  inflating: /content/data/Train/Train/Sad/Sad27311.wav  \n",
            "  inflating: /content/data/Train/Train/Sad/Sad27312.wav  \n",
            "  inflating: /content/data/Train/Train/Sad/Sad27313.wav  \n",
            "  inflating: /content/data/Train/Train/Sad/Sad30000.wav  \n",
            "  inflating: /content/data/Train/Train/Sad/Sad30001.wav  \n",
            "  inflating: /content/data/Train/Train/Sad/Sad30002.wav  \n",
            "  inflating: /content/data/Train/Train/Sad/Sad30003.wav  \n",
            "  inflating: /content/data/Train/Train/Sad/Sad30004.wav  \n",
            "  inflating: /content/data/Train/Train/Sad/Sad30005.wav  \n",
            "  inflating: /content/data/Train/Train/Sad/Sad30006.wav  \n",
            "  inflating: /content/data/Train/Train/Sad/Sad30007.wav  \n",
            "  inflating: /content/data/Train/Train/Sad/Sad30008.wav  \n",
            "  inflating: /content/data/Train/Train/Sad/Sad30009.wav  \n",
            "  inflating: /content/data/Train/Train/Sad/Sad30010.wav  \n",
            "  inflating: /content/data/Train/Train/Sad/Sad30011.wav  \n",
            "  inflating: /content/data/Train/Train/Sad/Sad30012.wav  \n",
            "  inflating: /content/data/Train/Train/Sad/Sad30013.wav  \n",
            "  inflating: /content/data/Train/Train/Sad/Sad30014.wav  \n",
            "  inflating: /content/data/Train/Train/Sad/Sad30015.wav  \n",
            "  inflating: /content/data/Train/Train/Sad/Sad30016.wav  \n",
            "  inflating: /content/data/Train/Train/Sad/Sad30017.wav  \n",
            "  inflating: /content/data/Train/Train/Sad/Sad30018.wav  \n",
            "  inflating: /content/data/Train/Train/Sad/Sad30019.wav  \n",
            "  inflating: /content/data/Train/Train/Sad/Sad30020.wav  \n",
            "  inflating: /content/data/Train/Train/Sad/Sad30100.wav  \n",
            "  inflating: /content/data/Train/Train/Sad/Sad30101.wav  \n",
            "  inflating: /content/data/Train/Train/Sad/Sad30102.wav  \n",
            "  inflating: /content/data/Train/Train/Sad/Sad30103.wav  \n",
            "  inflating: /content/data/Train/Train/Sad/Sad30104.wav  \n",
            "  inflating: /content/data/Train/Train/Sad/Sad30105.wav  \n",
            "  inflating: /content/data/Train/Train/Sad/Sad30106.wav  \n",
            "  inflating: /content/data/Train/Train/Sad/Sad30107.wav  \n",
            "  inflating: /content/data/Train/Train/Sad/Sad30108.wav  \n",
            "  inflating: /content/data/Train/Train/Sad/Sad30109.wav  \n",
            "  inflating: /content/data/Train/Train/Sad/Sad30110.wav  \n",
            "  inflating: /content/data/Train/Train/Sad/Sad30111.wav  \n",
            "  inflating: /content/data/Train/Train/Sad/Sad30112.wav  \n",
            "  inflating: /content/data/Train/Train/Sad/Sad30113.wav  \n",
            "  inflating: /content/data/Train/Train/Sad/Sad30114.wav  \n",
            "  inflating: /content/data/Train/Train/Sad/Sad30115.wav  \n",
            "  inflating: /content/data/Train/Train/Sad/Sad30600.wav  \n",
            "  inflating: /content/data/Train/Train/Sad/Sad30601.wav  \n",
            "  inflating: /content/data/Train/Train/Sad/Sad30602.wav  \n",
            "  inflating: /content/data/Train/Train/Sad/Sad30603.wav  \n",
            "  inflating: /content/data/Train/Train/Sad/Sad30604.wav  \n",
            "  inflating: /content/data/Train/Train/Sad/Sad30605.wav  \n",
            "  inflating: /content/data/Train/Train/Sad/Sad30606.wav  \n",
            "  inflating: /content/data/Train/Train/Sad/Sad30607.wav  \n",
            "  inflating: /content/data/Train/Train/Sad/Sad30608.wav  \n",
            "  inflating: /content/data/Train/Train/Sad/Sad30609.wav  \n",
            "  inflating: /content/data/Train/Train/Sad/Sad30610.wav  \n",
            "  inflating: /content/data/Train/Train/Sad/Sad30611.wav  \n",
            "  inflating: /content/data/Train/Train/Sad/Sad30612.wav  \n",
            "  inflating: /content/data/Train/Train/Sad/Sad30613.wav  \n",
            "  inflating: /content/data/Train/Train/Sad/Sad30614.wav  \n",
            "  inflating: /content/data/Train/Train/Sad/Sad30615.wav  \n",
            "  inflating: /content/data/Train/Train/Sad/Sad30616.wav  \n",
            "  inflating: /content/data/Train/Train/Sad/Sad30617.wav  \n",
            "  inflating: /content/data/Train/Train/Sad/Sad30618.wav  \n",
            "  inflating: /content/data/Train/Train/Sad/Sad30619.wav  \n",
            "  inflating: /content/data/Train/Train/Sad/Sad30620.wav  \n",
            "  inflating: /content/data/Train/Train/Sad/Sad30621.wav  \n",
            "  inflating: /content/data/Train/Train/Sad/Sad30800.wav  \n",
            "  inflating: /content/data/Train/Train/Sad/Sad30801.wav  \n",
            "  inflating: /content/data/Train/Train/Sad/Sad30802.wav  \n",
            "  inflating: /content/data/Train/Train/Sad/Sad30803.wav  \n",
            "  inflating: /content/data/Train/Train/Sad/Sad30804.wav  \n",
            "  inflating: /content/data/Train/Train/Sad/Sad30805.wav  \n",
            "  inflating: /content/data/Train/Train/Sad/Sad30806.wav  \n",
            "  inflating: /content/data/Train/Train/Sad/Sad30807.wav  \n",
            "  inflating: /content/data/Train/Train/Sad/Sad30808.wav  \n",
            "  inflating: /content/data/Train/Train/Sad/Sad30809.wav  \n",
            "  inflating: /content/data/Train/Train/Sad/Sad30810.wav  \n",
            "  inflating: /content/data/Train/Train/Sad/Sad30811.wav  \n",
            "  inflating: /content/data/Train/Train/Sad/Sad30812.wav  \n",
            "  inflating: /content/data/Train/Train/Sad/Sad30813.wav  \n",
            "  inflating: /content/data/Train/Train/Sad/Sad30814.wav  \n",
            "  inflating: /content/data/Train/Train/Sad/Sad30815.wav  \n",
            "  inflating: /content/data/Train/Train/Sad/Sad30816.wav  \n",
            "  inflating: /content/data/Train/Train/Sad/Sad30817.wav  \n",
            "  inflating: /content/data/Train/Train/Sad/Sad30818.wav  \n",
            "  inflating: /content/data/Train/Train/Sad/Sad30819.wav  \n",
            "  inflating: /content/data/Train/Train/Sad/Sad30820.wav  \n",
            "  inflating: /content/data/Train/Train/Sad/Sad31200.wav  \n",
            "  inflating: /content/data/Train/Train/Sad/Sad31201.wav  \n",
            "  inflating: /content/data/Train/Train/Sad/Sad31202.wav  \n",
            "  inflating: /content/data/Train/Train/Sad/Sad31203.wav  \n",
            "  inflating: /content/data/Train/Train/Sad/Sad31204.wav  \n",
            "  inflating: /content/data/Train/Train/Sad/Sad31205.wav  \n",
            "  inflating: /content/data/Train/Train/Sad/Sad31206.wav  \n",
            "  inflating: /content/data/Train/Train/Sad/Sad31207.wav  \n",
            "  inflating: /content/data/Train/Train/Sad/Sad31208.wav  \n",
            "  inflating: /content/data/Train/Train/Sad/Sad31209.wav  \n",
            "  inflating: /content/data/Train/Train/Sad/Sad31210.wav  \n",
            "  inflating: /content/data/Train/Train/Sad/Sad31211.wav  \n",
            "  inflating: /content/data/Train/Train/Sad/Sad31212.wav  \n",
            "  inflating: /content/data/Train/Train/Sad/Sad31213.wav  \n",
            "  inflating: /content/data/Train/Train/Sad/Sad31214.wav  \n",
            "  inflating: /content/data/Train/Train/Sad/Sad31215.wav  \n",
            "  inflating: /content/data/Train/Train/Sad/Sad31216.wav  \n",
            "  inflating: /content/data/Train/Train/Sad/Sad31217.wav  \n",
            "  inflating: /content/data/Train/Train/Sad/Sad31218.wav  \n",
            "  inflating: /content/data/Train/Train/Sad/Sad31219.wav  \n",
            "  inflating: /content/data/Train/Train/Sad/Sad31220.wav  \n",
            "  inflating: /content/data/Train/Train/Sad/Sad31221.wav  \n",
            "  inflating: /content/data/Train/Train/Sad/Sad31222.wav  \n",
            "  inflating: /content/data/Train/Train/Sad/Sad31700.wav  \n",
            "  inflating: /content/data/Train/Train/Sad/Sad31701.wav  \n",
            "  inflating: /content/data/Train/Train/Sad/Sad31702.wav  \n",
            "  inflating: /content/data/Train/Train/Sad/Sad31703.wav  \n",
            "  inflating: /content/data/Train/Train/Sad/Sad31704.wav  \n",
            "  inflating: /content/data/Train/Train/Sad/Sad31705.wav  \n",
            "  inflating: /content/data/Train/Train/Sad/Sad31706.wav  \n",
            "  inflating: /content/data/Train/Train/Sad/Sad31707.wav  \n",
            "  inflating: /content/data/Train/Train/Sad/Sad31708.wav  \n",
            "  inflating: /content/data/Train/Train/Sad/Sad31709.wav  \n",
            "  inflating: /content/data/Train/Train/Sad/Sad31710.wav  \n",
            "  inflating: /content/data/Train/Train/Sad/Sad31711.wav  \n",
            "  inflating: /content/data/Train/Train/Sad/Sad31712.wav  \n",
            "  inflating: /content/data/Train/Train/Sad/Sad31713.wav  \n",
            "  inflating: /content/data/Train/Train/Sad/Sad31714.wav  \n",
            "  inflating: /content/data/Train/Train/Sad/Sad31715.wav  \n",
            "  inflating: /content/data/Train/Train/Sad/Sad31716.wav  \n",
            "  inflating: /content/data/Train/Train/Sad/Sad31717.wav  \n",
            "  inflating: /content/data/Train/Train/Sad/Sad31718.wav  \n",
            "  inflating: /content/data/Train/Train/Sad/Sad31719.wav  \n",
            "  inflating: /content/data/Train/Train/Sad/Sad31720.wav  \n",
            "  inflating: /content/data/Train/Train/Sad/Sad31721.wav  \n",
            "  inflating: /content/data/Train/Train/Sad/Sad31722.wav  \n",
            "  inflating: /content/data/Train/Train/Sad/Sad31723.wav  \n",
            "  inflating: /content/data/Train/Train/Sad/Sad31724.wav  \n",
            "  inflating: /content/data/Train/Train/Sad/Sad33100.wav  \n",
            "  inflating: /content/data/Train/Train/Sad/Sad33101.wav  \n",
            "  inflating: /content/data/Train/Train/Sad/Sad33102.wav  \n",
            "  inflating: /content/data/Train/Train/Sad/Sad33103.wav  \n",
            "  inflating: /content/data/Train/Train/Sad/Sad33104.wav  \n",
            "  inflating: /content/data/Train/Train/Sad/Sad33105.wav  \n",
            "  inflating: /content/data/Train/Train/Sad/Sad33106.wav  \n",
            "  inflating: /content/data/Train/Train/Sad/Sad33107.wav  \n",
            "  inflating: /content/data/Train/Train/Sad/Sad33108.wav  \n",
            "  inflating: /content/data/Train/Train/Sad/Sad33109.wav  \n",
            "  inflating: /content/data/Train/Train/Sad/Sad33110.wav  \n",
            "  inflating: /content/data/Train/Train/Sad/Sad33111.wav  \n",
            "  inflating: /content/data/Train/Train/Sad/Sad33112.wav  \n",
            "  inflating: /content/data/Train/Train/Sad/Sad33113.wav  \n",
            "  inflating: /content/data/Train/Train/Sad/Sad33114.wav  \n",
            "  inflating: /content/data/Train/Train/Sad/Sad33115.wav  \n",
            "  inflating: /content/data/Train/Train/Sad/Sad33116.wav  \n",
            "  inflating: /content/data/Train/Train/Sad/Sad33117.wav  \n",
            "  inflating: /content/data/Train/Train/Sad/Sad33118.wav  \n",
            "  inflating: /content/data/Train/Train/Sad/Sad33119.wav  \n",
            "  inflating: /content/data/Train/Train/Sad/Sad33120.wav  \n",
            "  inflating: /content/data/Train/Train/Sad/Sad33121.wav  \n",
            "  inflating: /content/data/Train/Train/Sad/Sad33122.wav  \n",
            "  inflating: /content/data/Train/Train/Sad/Sad33400.wav  \n",
            "  inflating: /content/data/Train/Train/Sad/Sad33401.wav  \n",
            "  inflating: /content/data/Train/Train/Sad/Sad33402.wav  \n",
            "  inflating: /content/data/Train/Train/Sad/Sad33403.wav  \n",
            "  inflating: /content/data/Train/Train/Sad/Sad33404.wav  \n",
            "  inflating: /content/data/Train/Train/Sad/Sad33405.wav  \n",
            "  inflating: /content/data/Train/Train/Sad/Sad33406.wav  \n",
            "  inflating: /content/data/Train/Train/Sad/Sad33407.wav  \n",
            "  inflating: /content/data/Train/Train/Sad/Sad33408.wav  \n",
            "  inflating: /content/data/Train/Train/Sad/Sad33409.wav  \n",
            "  inflating: /content/data/Train/Train/Sad/Sad33410.wav  \n",
            "  inflating: /content/data/Train/Train/Sad/Sad33411.wav  \n",
            "  inflating: /content/data/Train/Train/Sad/Sad33412.wav  \n",
            "  inflating: /content/data/Train/Train/Sad/Sad33413.wav  \n",
            "  inflating: /content/data/Train/Train/Sad/Sad33414.wav  \n",
            "  inflating: /content/data/Train/Train/Sad/Sad33415.wav  \n",
            "  inflating: /content/data/Train/Train/Sad/Sad33416.wav  \n",
            "  inflating: /content/data/Train/Train/Sad/Sad33417.wav  \n",
            "  inflating: /content/data/Train/Train/Sad/Sad33418.wav  \n",
            "  inflating: /content/data/Train/Train/Sad/Sad33419.wav  \n",
            "  inflating: /content/data/Train/Train/Sad/Sad33420.wav  \n",
            "  inflating: /content/data/Train/Train/Sad/Sad33421.wav  \n",
            "  inflating: /content/data/Train/Train/Sad/Sad33422.wav  \n",
            "  inflating: /content/data/Train/Train/Sad/Sad33423.wav  \n",
            "  inflating: /content/data/Train/Train/Sad/Sad33424.wav  \n",
            "  inflating: /content/data/Train/Train/Sad/Sad33425.wav  \n",
            "  inflating: /content/data/Train/Train/Sad/Sad34100.wav  \n",
            "  inflating: /content/data/Train/Train/Sad/Sad34101.wav  \n",
            "  inflating: /content/data/Train/Train/Sad/Sad34102.wav  \n",
            "  inflating: /content/data/Train/Train/Sad/Sad34103.wav  \n",
            "  inflating: /content/data/Train/Train/Sad/Sad34104.wav  \n",
            "  inflating: /content/data/Train/Train/Sad/Sad34105.wav  \n",
            "  inflating: /content/data/Train/Train/Sad/Sad34106.wav  \n",
            "  inflating: /content/data/Train/Train/Sad/Sad34107.wav  \n",
            "  inflating: /content/data/Train/Train/Sad/Sad34108.wav  \n",
            "  inflating: /content/data/Train/Train/Sad/Sad34109.wav  \n",
            "  inflating: /content/data/Train/Train/Sad/Sad34110.wav  \n",
            "  inflating: /content/data/Train/Train/Sad/Sad34111.wav  \n",
            "  inflating: /content/data/Train/Train/Sad/Sad34112.wav  \n",
            "  inflating: /content/data/Train/Train/Sad/Sad34113.wav  \n",
            "  inflating: /content/data/Train/Train/Sad/Sad34114.wav  \n",
            "  inflating: /content/data/Train/Train/Sad/Sad34115.wav  \n",
            "  inflating: /content/data/Train/Train/Sad/Sad34116.wav  \n",
            "  inflating: /content/data/Train/Train/Sad/Sad34117.wav  \n",
            "  inflating: /content/data/Train/Train/Sad/Sad34118.wav  \n",
            "  inflating: /content/data/Train/Train/Sad/Sad34119.wav  \n",
            "  inflating: /content/data/Train/Train/Sad/Sad35000.wav  \n",
            "  inflating: /content/data/Train/Train/Sad/Sad35001.wav  \n",
            "  inflating: /content/data/Train/Train/Sad/Sad35002.wav  \n",
            "  inflating: /content/data/Train/Train/Sad/Sad35003.wav  \n",
            "  inflating: /content/data/Train/Train/Sad/Sad35004.wav  \n",
            "  inflating: /content/data/Train/Train/Sad/Sad35005.wav  \n",
            "  inflating: /content/data/Train/Train/Sad/Sad35006.wav  \n",
            "  inflating: /content/data/Train/Train/Sad/Sad35007.wav  \n",
            "  inflating: /content/data/Train/Train/Sad/Sad35008.wav  \n",
            "  inflating: /content/data/Train/Train/Sad/Sad35009.wav  \n",
            "  inflating: /content/data/Train/Train/Sad/Sad35010.wav  \n",
            "  inflating: /content/data/Train/Train/Sad/Sad35011.wav  \n",
            "  inflating: /content/data/Train/Train/Sad/Sad35012.wav  \n",
            "  inflating: /content/data/Train/Train/Sad/Sad35013.wav  \n",
            "  inflating: /content/data/Train/Train/Sad/Sad35014.wav  \n",
            "  inflating: /content/data/Train/Train/Sad/Sad35015.wav  \n",
            "  inflating: /content/data/Train/Train/Sad/Sad35016.wav  \n",
            "  inflating: /content/data/Train/Train/Sad/Sad35017.wav  \n",
            "  inflating: /content/data/Train/Train/Sad/Sad35018.wav  \n",
            "  inflating: /content/data/Train/Train/Sad/Sad35019.wav  \n",
            "  inflating: /content/data/Train/Train/Sad/Sad35200.wav  \n",
            "  inflating: /content/data/Train/Train/Sad/Sad35201.wav  \n",
            "  inflating: /content/data/Train/Train/Sad/Sad35202.wav  \n",
            "  inflating: /content/data/Train/Train/Sad/Sad35203.wav  \n",
            "  inflating: /content/data/Train/Train/Sad/Sad35204.wav  \n",
            "  inflating: /content/data/Train/Train/Sad/Sad35205.wav  \n",
            "  inflating: /content/data/Train/Train/Sad/Sad35206.wav  \n",
            "  inflating: /content/data/Train/Train/Sad/Sad35207.wav  \n",
            "  inflating: /content/data/Train/Train/Sad/Sad35208.wav  \n",
            "  inflating: /content/data/Train/Train/Sad/Sad35209.wav  \n",
            "  inflating: /content/data/Train/Train/Sad/Sad35210.wav  \n",
            "  inflating: /content/data/Train/Train/Sad/Sad35211.wav  \n",
            "  inflating: /content/data/Train/Train/Sad/Sad35212.wav  \n",
            "  inflating: /content/data/Train/Train/Sad/Sad35213.wav  \n",
            "  inflating: /content/data/Train/Train/Sad/Sad35214.wav  \n",
            "  inflating: /content/data/Train/Train/Sad/Sad35215.wav  \n",
            "  inflating: /content/data/Train/Train/Sad/Sad35216.wav  \n",
            "  inflating: /content/data/Train/Train/Sad/Sad35217.wav  \n",
            "  inflating: /content/data/Train/Train/Sad/Sad35218.wav  \n",
            "  inflating: /content/data/Train/Train/Sad/Sad36000.wav  \n",
            "  inflating: /content/data/Train/Train/Sad/Sad36001.wav  \n",
            "  inflating: /content/data/Train/Train/Sad/Sad36002.wav  \n",
            "  inflating: /content/data/Train/Train/Sad/Sad36003.wav  \n",
            "  inflating: /content/data/Train/Train/Sad/Sad36004.wav  \n",
            "  inflating: /content/data/Train/Train/Sad/Sad36005.wav  \n",
            "  inflating: /content/data/Train/Train/Sad/Sad36006.wav  \n",
            "  inflating: /content/data/Train/Train/Sad/Sad36007.wav  \n",
            "  inflating: /content/data/Train/Train/Sad/Sad36008.wav  \n",
            "  inflating: /content/data/Train/Train/Sad/Sad36009.wav  \n",
            "  inflating: /content/data/Train/Train/Sad/Sad36010.wav  \n",
            "  inflating: /content/data/Train/Train/Sad/Sad36011.wav  \n",
            "  inflating: /content/data/Train/Train/Sad/Sad36012.wav  \n",
            "  inflating: /content/data/Train/Train/Sad/Sad36013.wav  \n",
            "  inflating: /content/data/Train/Train/Sad/Sad36014.wav  \n",
            "  inflating: /content/data/Train/Train/Sad/Sad36015.wav  \n",
            "  inflating: /content/data/Train/Train/Sad/Sad36016.wav  \n",
            "  inflating: /content/data/Train/Train/Sad/Sad36017.wav  \n",
            "  inflating: /content/data/Train/Train/Sad/Sad36018.wav  \n",
            "  inflating: /content/data/Train/Train/Sad/Sad36019.wav  \n",
            "  inflating: /content/data/Train/Train/Sad/Sad36900.wav  \n",
            "  inflating: /content/data/Train/Train/Sad/Sad36901.wav  \n",
            "  inflating: /content/data/Train/Train/Sad/Sad36902.wav  \n",
            "  inflating: /content/data/Train/Train/Sad/Sad36903.wav  \n",
            "  inflating: /content/data/Train/Train/Sad/Sad36904.wav  \n",
            "  inflating: /content/data/Train/Train/Sad/Sad36905.wav  \n",
            "  inflating: /content/data/Train/Train/Sad/Sad36906.wav  \n",
            "  inflating: /content/data/Train/Train/Sad/Sad36907.wav  \n",
            "  inflating: /content/data/Train/Train/Sad/Sad36908.wav  \n",
            "  inflating: /content/data/Train/Train/Sad/Sad36909.wav  \n",
            "  inflating: /content/data/Train/Train/Sad/Sad36910.wav  \n",
            "  inflating: /content/data/Train/Train/Sad/Sad36911.wav  \n",
            "  inflating: /content/data/Train/Train/Sad/Sad36912.wav  \n",
            "  inflating: /content/data/Train/Train/Sad/Sad36913.wav  \n",
            "  inflating: /content/data/Train/Train/Sad/Sad36914.wav  \n",
            "  inflating: /content/data/Train/Train/Sad/Sad36915.wav  \n",
            "  inflating: /content/data/Train/Train/Sad/Sad36916.wav  \n",
            "  inflating: /content/data/Train/Train/Sad/Sad36917.wav  \n",
            "  inflating: /content/data/Train/Train/Sad/Sad36918.wav  \n",
            "  inflating: /content/data/Train/Train/Sad/Sad36919.wav  \n",
            "  inflating: /content/data/Train/Train/Sad/Sad36920.wav  \n",
            "  inflating: /content/data/Train/Train/Sad/Sad36921.wav  \n",
            "  inflating: /content/data/Train/Train/Sad/Sad37600.wav  \n",
            "  inflating: /content/data/Train/Train/Sad/Sad37601.wav  \n",
            "  inflating: /content/data/Train/Train/Sad/Sad37602.wav  \n",
            "  inflating: /content/data/Train/Train/Sad/Sad37603.wav  \n",
            "  inflating: /content/data/Train/Train/Sad/Sad37604.wav  \n",
            "  inflating: /content/data/Train/Train/Sad/Sad37605.wav  \n",
            "  inflating: /content/data/Train/Train/Sad/Sad37606.wav  \n",
            "  inflating: /content/data/Train/Train/Sad/Sad37607.wav  \n",
            "  inflating: /content/data/Train/Train/Sad/Sad37608.wav  \n",
            "  inflating: /content/data/Train/Train/Sad/Sad37609.wav  \n",
            "  inflating: /content/data/Train/Train/Sad/Sad37610.wav  \n",
            "  inflating: /content/data/Train/Train/Sad/Sad37611.wav  \n",
            "  inflating: /content/data/Train/Train/Sad/Sad37612.wav  \n",
            "  inflating: /content/data/Train/Train/Sad/Sad37613.wav  \n",
            "  inflating: /content/data/Train/Train/Sad/Sad37614.wav  \n",
            "  inflating: /content/data/Train/Train/Sad/Sad37615.wav  \n",
            "  inflating: /content/data/Train/Train/Sad/Sad37616.wav  \n",
            "  inflating: /content/data/Train/Train/Sad/Sad38600.wav  \n",
            "  inflating: /content/data/Train/Train/Sad/Sad38601.wav  \n",
            "  inflating: /content/data/Train/Train/Sad/Sad38602.wav  \n",
            "  inflating: /content/data/Train/Train/Sad/Sad38603.wav  \n",
            "  inflating: /content/data/Train/Train/Sad/Sad38604.wav  \n",
            "  inflating: /content/data/Train/Train/Sad/Sad38605.wav  \n",
            "  inflating: /content/data/Train/Train/Sad/Sad38606.wav  \n",
            "  inflating: /content/data/Train/Train/Sad/Sad38607.wav  \n",
            "  inflating: /content/data/Train/Train/Sad/Sad38608.wav  \n",
            "  inflating: /content/data/Train/Train/Sad/Sad38609.wav  \n",
            "  inflating: /content/data/Train/Train/Sad/Sad38610.wav  \n",
            "  inflating: /content/data/Train/Train/Sad/Sad38611.wav  \n",
            "  inflating: /content/data/Train/Train/Sad/Sad38612.wav  \n",
            "  inflating: /content/data/Train/Train/Sad/Sad38613.wav  \n",
            "  inflating: /content/data/Train/Train/Sad/Sad38614.wav  \n",
            "  inflating: /content/data/Train/Train/Sad/Sad38615.wav  \n",
            "  inflating: /content/data/Train/Train/Sad/Sad38800.wav  \n",
            "  inflating: /content/data/Train/Train/Sad/Sad38801.wav  \n",
            "  inflating: /content/data/Train/Train/Sad/Sad38802.wav  \n",
            "  inflating: /content/data/Train/Train/Sad/Sad38803.wav  \n",
            "  inflating: /content/data/Train/Train/Sad/Sad38804.wav  \n",
            "  inflating: /content/data/Train/Train/Sad/Sad38805.wav  \n",
            "  inflating: /content/data/Train/Train/Sad/Sad38806.wav  \n",
            "  inflating: /content/data/Train/Train/Sad/Sad38807.wav  \n",
            "  inflating: /content/data/Train/Train/Sad/Sad38808.wav  \n",
            "  inflating: /content/data/Train/Train/Sad/Sad38809.wav  \n",
            "  inflating: /content/data/Train/Train/Sad/Sad38810.wav  \n",
            "  inflating: /content/data/Train/Train/Sad/Sad38811.wav  \n",
            "  inflating: /content/data/Train/Train/Sad/Sad38812.wav  \n",
            "  inflating: /content/data/Train/Train/Sad/Sad38813.wav  \n",
            "  inflating: /content/data/Train/Train/Sad/Sad38814.wav  \n",
            "  inflating: /content/data/Train/Train/Sad/Sad38815.wav  \n",
            "  inflating: /content/data/Train/Train/Sad/Sad38816.wav  \n",
            "  inflating: /content/data/Train/Train/Sad/Sad38817.wav  \n",
            "  inflating: /content/data/Train/Train/Sad/Sad38818.wav  \n",
            "  inflating: /content/data/Train/Train/Sad/Sad38819.wav  \n",
            "  inflating: /content/data/Train/Train/Sad/Sad39700.wav  \n",
            "  inflating: /content/data/Train/Train/Sad/Sad39701.wav  \n",
            "  inflating: /content/data/Train/Train/Sad/Sad39702.wav  \n",
            "  inflating: /content/data/Train/Train/Sad/Sad39703.wav  \n",
            "  inflating: /content/data/Train/Train/Sad/Sad39704.wav  \n",
            "  inflating: /content/data/Train/Train/Sad/Sad39705.wav  \n",
            "  inflating: /content/data/Train/Train/Sad/Sad39706.wav  \n",
            "  inflating: /content/data/Train/Train/Sad/Sad39707.wav  \n",
            "  inflating: /content/data/Train/Train/Sad/Sad39708.wav  \n",
            "  inflating: /content/data/Train/Train/Sad/Sad39709.wav  \n",
            "  inflating: /content/data/Train/Train/Sad/Sad39710.wav  \n",
            "  inflating: /content/data/Train/Train/Sad/Sad39711.wav  \n",
            "  inflating: /content/data/Train/Train/Sad/Sad39712.wav  \n",
            "  inflating: /content/data/Train/Train/Sad/Sad39713.wav  \n",
            "  inflating: /content/data/Train/Train/Sad/Sad39900.wav  \n",
            "  inflating: /content/data/Train/Train/Sad/Sad39901.wav  \n",
            "  inflating: /content/data/Train/Train/Sad/Sad39902.wav  \n",
            "  inflating: /content/data/Train/Train/Sad/Sad39903.wav  \n",
            "  inflating: /content/data/Train/Train/Sad/Sad39904.wav  \n",
            "  inflating: /content/data/Train/Train/Sad/Sad39905.wav  \n",
            "  inflating: /content/data/Train/Train/Sad/Sad39906.wav  \n",
            "  inflating: /content/data/Train/Train/Sad/Sad39907.wav  \n",
            "  inflating: /content/data/Train/Train/Sad/Sad39908.wav  \n",
            "  inflating: /content/data/Train/Train/Sad/Sad39909.wav  \n",
            "  inflating: /content/data/Train/Train/Sad/Sad39910.wav  \n",
            "  inflating: /content/data/Train/Train/Sad/Sad39911.wav  \n",
            "  inflating: /content/data/Train/Train/Sad/Sad39912.wav  \n",
            "  inflating: /content/data/Train/Train/Sad/Sad39913.wav  \n",
            "  inflating: /content/data/Train/Train/Sad/Sad39914.wav  \n",
            "  inflating: /content/data/Train/Train/Sad/Sad39915.wav  \n",
            "  inflating: /content/data/Train/Train/Sad/Sad39916.wav  \n",
            "  inflating: /content/data/Train/Train/Sad/Sad39917.wav  \n",
            "  inflating: /content/data/Train/Train/Sad/Sad39918.wav  \n",
            "  inflating: /content/data/Train/Train/Sad/Sad39919.wav  \n",
            "  inflating: /content/data/Train/Train/Sad/Sad39920.wav  \n",
            "  inflating: /content/data/Train/Train/Sad/Sad40500.wav  \n",
            "  inflating: /content/data/Train/Train/Sad/Sad40501.wav  \n",
            "  inflating: /content/data/Train/Train/Sad/Sad40502.wav  \n",
            "  inflating: /content/data/Train/Train/Sad/Sad40503.wav  \n",
            "  inflating: /content/data/Train/Train/Sad/Sad40504.wav  \n",
            "  inflating: /content/data/Train/Train/Sad/Sad40505.wav  \n",
            "  inflating: /content/data/Train/Train/Sad/Sad40506.wav  \n",
            "  inflating: /content/data/Train/Train/Sad/Sad40507.wav  \n",
            "  inflating: /content/data/Train/Train/Sad/Sad40508.wav  \n",
            "  inflating: /content/data/Train/Train/Sad/Sad40509.wav  \n",
            "  inflating: /content/data/Train/Train/Sad/Sad40510.wav  \n",
            "  inflating: /content/data/Train/Train/Sad/Sad40511.wav  \n",
            "  inflating: /content/data/Train/Train/Sad/Sad40512.wav  \n",
            "  inflating: /content/data/Train/Train/Sad/Sad40513.wav  \n",
            "  inflating: /content/data/Train/Train/Sad/Sad40514.wav  \n",
            "  inflating: /content/data/Train/Train/Sad/Sad40515.wav  \n",
            "  inflating: /content/data/Train/Train/Sad/Sad40516.wav  \n",
            "  inflating: /content/data/Train/Train/Sad/Sad40800.wav  \n",
            "  inflating: /content/data/Train/Train/Sad/Sad40801.wav  \n",
            "  inflating: /content/data/Train/Train/Sad/Sad40802.wav  \n",
            "  inflating: /content/data/Train/Train/Sad/Sad40803.wav  \n",
            "  inflating: /content/data/Train/Train/Sad/Sad40804.wav  \n",
            "  inflating: /content/data/Train/Train/Sad/Sad40805.wav  \n",
            "  inflating: /content/data/Train/Train/Sad/Sad40806.wav  \n",
            "  inflating: /content/data/Train/Train/Sad/Sad40807.wav  \n",
            "  inflating: /content/data/Train/Train/Sad/Sad40808.wav  \n",
            "  inflating: /content/data/Train/Train/Sad/Sad40809.wav  \n",
            "  inflating: /content/data/Train/Train/Sad/Sad40810.wav  \n",
            "  inflating: /content/data/Train/Train/Sad/Sad40811.wav  \n",
            "  inflating: /content/data/Train/Train/Sad/Sad40812.wav  \n",
            "  inflating: /content/data/Train/Train/Sad/Sad40813.wav  \n",
            "  inflating: /content/data/Train/Train/Sad/Sad40814.wav  \n",
            "  inflating: /content/data/Train/Train/Sad/Sad40815.wav  \n",
            "  inflating: /content/data/Train/Train/Sad/Sad40816.wav  \n",
            "  inflating: /content/data/Train/Train/Sad/Sad40817.wav  \n",
            "  inflating: /content/data/Train/Train/Sad/Sad40818.wav  \n",
            "  inflating: /content/data/Train/Train/Sad/Sad40819.wav  \n",
            "  inflating: /content/data/Train/Train/Sad/Sad40820.wav  \n",
            "  inflating: /content/data/Train/Train/Sad/Sad40821.wav  \n",
            "  inflating: /content/data/Train/Train/Sad/Sad40822.wav  \n",
            "  inflating: /content/data/Train/Train/Sad/Sad40823.wav  \n",
            "  inflating: /content/data/Train/Train/Sad/Sad42200.wav  \n",
            "  inflating: /content/data/Train/Train/Sad/Sad42201.wav  \n",
            "  inflating: /content/data/Train/Train/Sad/Sad42202.wav  \n",
            "  inflating: /content/data/Train/Train/Sad/Sad42203.wav  \n",
            "  inflating: /content/data/Train/Train/Sad/Sad42204.wav  \n",
            "  inflating: /content/data/Train/Train/Sad/Sad42205.wav  \n",
            "  inflating: /content/data/Train/Train/Sad/Sad42206.wav  \n",
            "  inflating: /content/data/Train/Train/Sad/Sad42207.wav  \n",
            "  inflating: /content/data/Train/Train/Sad/Sad42208.wav  \n",
            "  inflating: /content/data/Train/Train/Sad/Sad42209.wav  \n",
            "  inflating: /content/data/Train/Train/Sad/Sad42210.wav  \n",
            "  inflating: /content/data/Train/Train/Sad/Sad42211.wav  \n",
            "  inflating: /content/data/Train/Train/Sad/Sad42212.wav  \n",
            "  inflating: /content/data/Train/Train/Sad/Sad42213.wav  \n",
            "  inflating: /content/data/Train/Train/Sad/Sad42214.wav  \n",
            "  inflating: /content/data/Train/Train/Sad/Sad42215.wav  \n",
            "  inflating: /content/data/Train/Train/Sad/Sad42216.wav  \n",
            "  inflating: /content/data/Train/Train/Sad/Sad42217.wav  \n",
            "  inflating: /content/data/Train/Train/Sad/Sad42218.wav  \n",
            "  inflating: /content/data/Train/Train/Sad/Sad42219.wav  \n",
            "  inflating: /content/data/Train/Train/Sad/Sad44400.wav  \n",
            "  inflating: /content/data/Train/Train/Sad/Sad44401.wav  \n",
            "  inflating: /content/data/Train/Train/Sad/Sad44402.wav  \n",
            "  inflating: /content/data/Train/Train/Sad/Sad44403.wav  \n",
            "  inflating: /content/data/Train/Train/Sad/Sad44404.wav  \n",
            "  inflating: /content/data/Train/Train/Sad/Sad44405.wav  \n",
            "  inflating: /content/data/Train/Train/Sad/Sad44406.wav  \n",
            "  inflating: /content/data/Train/Train/Sad/Sad44407.wav  \n",
            "  inflating: /content/data/Train/Train/Sad/Sad44408.wav  \n",
            "  inflating: /content/data/Train/Train/Sad/Sad44409.wav  \n",
            "  inflating: /content/data/Train/Train/Sad/Sad44410.wav  \n",
            "  inflating: /content/data/Train/Train/Sad/Sad44411.wav  \n",
            "  inflating: /content/data/Train/Train/Sad/Sad44412.wav  \n",
            "  inflating: /content/data/Train/Train/Sad/Sad44413.wav  \n",
            "  inflating: /content/data/Train/Train/Sad/Sad44414.wav  \n",
            "  inflating: /content/data/Train/Train/Sad/Sad44415.wav  \n",
            "  inflating: /content/data/Train/Train/Sad/Sad44416.wav  \n",
            "  inflating: /content/data/Train/Train/Sad/Sad44417.wav  \n",
            "  inflating: /content/data/Train/Train/Sad/Sad44418.wav  \n",
            "  inflating: /content/data/Train/Train/Sad/Sad44419.wav  \n",
            "  inflating: /content/data/Train/Train/Sad/Sad44420.wav  \n",
            "  inflating: /content/data/Train/Train/Sad/Sad45900.wav  \n",
            "  inflating: /content/data/Train/Train/Sad/Sad45901.wav  \n",
            "  inflating: /content/data/Train/Train/Sad/Sad45902.wav  \n",
            "  inflating: /content/data/Train/Train/Sad/Sad45903.wav  \n",
            "  inflating: /content/data/Train/Train/Sad/Sad45904.wav  \n",
            "  inflating: /content/data/Train/Train/Sad/Sad45905.wav  \n",
            "  inflating: /content/data/Train/Train/Sad/Sad45906.wav  \n",
            "  inflating: /content/data/Train/Train/Sad/Sad45907.wav  \n",
            "  inflating: /content/data/Train/Train/Sad/Sad45908.wav  \n",
            "  inflating: /content/data/Train/Train/Sad/Sad45909.wav  \n",
            "  inflating: /content/data/Train/Train/Sad/Sad45910.wav  \n",
            "  inflating: /content/data/Train/Train/Sad/Sad45911.wav  \n",
            "  inflating: /content/data/Train/Train/Sad/Sad45912.wav  \n",
            "  inflating: /content/data/Train/Train/Sad/Sad45913.wav  \n",
            "  inflating: /content/data/Train/Train/Sad/Sad45914.wav  \n",
            "  inflating: /content/data/Train/Train/Sad/Sad45915.wav  \n",
            "  inflating: /content/data/Train/Train/Sad/Sad45916.wav  \n",
            "  inflating: /content/data/sample_submission.csv  \n"
          ]
        }
      ]
    },
    {
      "cell_type": "code",
      "source": [
        "if __name__ == \"__main__\":\n",
        "    data_dir = \"/content/data/Train/Train\"  # Path to the dataset folder\n",
        "    output_csv = \"features.csv\"  # Output file for extracted features\n",
        "    process_dataset(data_dir, output_csv)"
      ],
      "metadata": {
        "colab": {
          "base_uri": "https://localhost:8080/"
        },
        "id": "9dU2hUPLMwCh",
        "outputId": "e49a9fbf-2005-4e12-b866-ea7ec45b8ac4"
      },
      "execution_count": null,
      "outputs": [
        {
          "output_type": "stream",
          "name": "stdout",
          "text": [
            "Processing emotion: Happy\n"
          ]
        },
        {
          "output_type": "stream",
          "name": "stderr",
          "text": [
            "<ipython-input-3-0eccb6810094>:2: UserWarning: PySoundFile failed. Trying audioread instead.\n",
            "  y, sr = librosa.load(file_path, duration=30)  # Load audio file (30s max duration)\n",
            "/usr/local/lib/python3.10/dist-packages/librosa/core/audio.py:184: FutureWarning: librosa.core.audio.__audioread_load\n",
            "\tDeprecated as of librosa version 0.10.0.\n",
            "\tIt will be removed in librosa version 1.0.\n",
            "  y, sr_native = __audioread_load(path, offset, duration, dtype)\n",
            "/usr/local/lib/python3.10/dist-packages/librosa/core/pitch.py:101: UserWarning: Trying to estimate tuning from empty frequency set.\n",
            "  return pitch_tuning(\n",
            "/usr/local/lib/python3.10/dist-packages/librosa/core/spectrum.py:266: UserWarning: n_fft=2048 is too large for input signal of length=1059\n",
            "  warnings.warn(\n"
          ]
        },
        {
          "output_type": "stream",
          "name": "stdout",
          "text": [
            "Processing emotion: Sad\n"
          ]
        },
        {
          "output_type": "stream",
          "name": "stderr",
          "text": [
            "<ipython-input-3-0eccb6810094>:2: UserWarning: PySoundFile failed. Trying audioread instead.\n",
            "  y, sr = librosa.load(file_path, duration=30)  # Load audio file (30s max duration)\n",
            "/usr/local/lib/python3.10/dist-packages/librosa/core/audio.py:184: FutureWarning: librosa.core.audio.__audioread_load\n",
            "\tDeprecated as of librosa version 0.10.0.\n",
            "\tIt will be removed in librosa version 1.0.\n",
            "  y, sr_native = __audioread_load(path, offset, duration, dtype)\n",
            "/usr/local/lib/python3.10/dist-packages/librosa/core/spectrum.py:266: UserWarning: n_fft=2048 is too large for input signal of length=576\n",
            "  warnings.warn(\n",
            "/usr/local/lib/python3.10/dist-packages/librosa/core/pitch.py:101: UserWarning: Trying to estimate tuning from empty frequency set.\n",
            "  return pitch_tuning(\n",
            "/usr/local/lib/python3.10/dist-packages/librosa/core/spectrum.py:266: UserWarning: n_fft=2048 is too large for input signal of length=1059\n",
            "  warnings.warn(\n"
          ]
        },
        {
          "output_type": "stream",
          "name": "stdout",
          "text": [
            "Features saved to features.csv\n"
          ]
        }
      ]
    },
    {
      "cell_type": "code",
      "source": [
        "from google.colab import files"
      ],
      "metadata": {
        "id": "5zmaXURnV-qS"
      },
      "execution_count": null,
      "outputs": []
    },
    {
      "cell_type": "code",
      "source": [
        "files.download('features.csv')"
      ],
      "metadata": {
        "id": "C9xHM1WKWQVB",
        "outputId": "c2623612-8183-44a7-f83d-42ade9bb0630",
        "colab": {
          "base_uri": "https://localhost:8080/",
          "height": 34
        }
      },
      "execution_count": null,
      "outputs": [
        {
          "output_type": "display_data",
          "data": {
            "text/plain": [
              "<IPython.core.display.Javascript object>"
            ],
            "application/javascript": [
              "\n",
              "    async function download(id, filename, size) {\n",
              "      if (!google.colab.kernel.accessAllowed) {\n",
              "        return;\n",
              "      }\n",
              "      const div = document.createElement('div');\n",
              "      const label = document.createElement('label');\n",
              "      label.textContent = `Downloading \"${filename}\": `;\n",
              "      div.appendChild(label);\n",
              "      const progress = document.createElement('progress');\n",
              "      progress.max = size;\n",
              "      div.appendChild(progress);\n",
              "      document.body.appendChild(div);\n",
              "\n",
              "      const buffers = [];\n",
              "      let downloaded = 0;\n",
              "\n",
              "      const channel = await google.colab.kernel.comms.open(id);\n",
              "      // Send a message to notify the kernel that we're ready.\n",
              "      channel.send({})\n",
              "\n",
              "      for await (const message of channel.messages) {\n",
              "        // Send a message to notify the kernel that we're ready.\n",
              "        channel.send({})\n",
              "        if (message.buffers) {\n",
              "          for (const buffer of message.buffers) {\n",
              "            buffers.push(buffer);\n",
              "            downloaded += buffer.byteLength;\n",
              "            progress.value = downloaded;\n",
              "          }\n",
              "        }\n",
              "      }\n",
              "      const blob = new Blob(buffers, {type: 'application/binary'});\n",
              "      const a = document.createElement('a');\n",
              "      a.href = window.URL.createObjectURL(blob);\n",
              "      a.download = filename;\n",
              "      div.appendChild(a);\n",
              "      a.click();\n",
              "      div.remove();\n",
              "    }\n",
              "  "
            ]
          },
          "metadata": {}
        },
        {
          "output_type": "display_data",
          "data": {
            "text/plain": [
              "<IPython.core.display.Javascript object>"
            ],
            "application/javascript": [
              "download(\"download_d87c6fa5-9c35-457e-b067-2a9747932ba4\", \"features.csv\", 1171973)"
            ]
          },
          "metadata": {}
        }
      ]
    },
    {
      "cell_type": "code",
      "source": [
        "feature_df = pd.read_csv('features.csv')"
      ],
      "metadata": {
        "id": "tYMCBeZmnYBI"
      },
      "execution_count": null,
      "outputs": []
    },
    {
      "cell_type": "code",
      "source": [
        "feature_df.head()"
      ],
      "metadata": {
        "colab": {
          "base_uri": "https://localhost:8080/",
          "height": 256
        },
        "id": "d8rj2Xw6ncPM",
        "outputId": "f23f09c4-31b8-4b3c-cd9d-97511f314779"
      },
      "execution_count": null,
      "outputs": [
        {
          "output_type": "execute_result",
          "data": {
            "text/plain": [
              "            0           1          2          3          4          5  \\\n",
              "0 -283.664886  114.643318  -3.422896  12.399040   5.720970   9.187010   \n",
              "1 -213.653641  123.405327  41.646015  31.584463   5.865325   8.335013   \n",
              "2 -196.167862   92.602646 -32.050175 -10.164488 -28.048426 -26.362625   \n",
              "3 -171.568695   98.110352   6.975595  30.051249  10.491893  13.563554   \n",
              "4  -84.795876   98.720978  -5.087060  23.435846   9.867958  15.145605   \n",
              "\n",
              "           6          7          8          9  ...        24         25  \\\n",
              "0  -4.477114  -8.436920  -4.185121   1.690086  ...  0.327954  16.400437   \n",
              "1  -2.025046  -0.135169   3.647515  10.442255  ...  0.212835  20.937373   \n",
              "2 -10.145836 -14.981299 -18.413662 -19.810719  ...  0.206357  17.016560   \n",
              "3   1.679214   5.712331   2.698179   6.895680  ...  0.303774  24.814025   \n",
              "4   2.464056  10.896419   4.017085   8.349455  ...  0.247124  19.167291   \n",
              "\n",
              "          26         27         28         29         30         31  \\\n",
              "0  21.853811  24.518057  26.822664  28.856874  28.279258  49.641102   \n",
              "1  18.857915  23.384914  22.851888  18.671187  14.571556  46.018750   \n",
              "2  17.830542  21.262915  25.266843  25.932096  22.879036  52.193855   \n",
              "3  19.156171  21.364617  20.369616  19.408362  16.612146  45.793646   \n",
              "4  17.525142  21.059391  23.195782  24.190151  21.570631  47.925739   \n",
              "\n",
              "           32  emotion  \n",
              "0  135.999178    Happy  \n",
              "1   99.384014    Happy  \n",
              "2  143.554688    Happy  \n",
              "3  103.359375    Happy  \n",
              "4  172.265625    Happy  \n",
              "\n",
              "[5 rows x 34 columns]"
            ],
            "text/html": [
              "\n",
              "  <div id=\"df-e6c59ca5-0507-4498-a2ae-bc8651002994\" class=\"colab-df-container\">\n",
              "    <div>\n",
              "<style scoped>\n",
              "    .dataframe tbody tr th:only-of-type {\n",
              "        vertical-align: middle;\n",
              "    }\n",
              "\n",
              "    .dataframe tbody tr th {\n",
              "        vertical-align: top;\n",
              "    }\n",
              "\n",
              "    .dataframe thead th {\n",
              "        text-align: right;\n",
              "    }\n",
              "</style>\n",
              "<table border=\"1\" class=\"dataframe\">\n",
              "  <thead>\n",
              "    <tr style=\"text-align: right;\">\n",
              "      <th></th>\n",
              "      <th>0</th>\n",
              "      <th>1</th>\n",
              "      <th>2</th>\n",
              "      <th>3</th>\n",
              "      <th>4</th>\n",
              "      <th>5</th>\n",
              "      <th>6</th>\n",
              "      <th>7</th>\n",
              "      <th>8</th>\n",
              "      <th>9</th>\n",
              "      <th>...</th>\n",
              "      <th>24</th>\n",
              "      <th>25</th>\n",
              "      <th>26</th>\n",
              "      <th>27</th>\n",
              "      <th>28</th>\n",
              "      <th>29</th>\n",
              "      <th>30</th>\n",
              "      <th>31</th>\n",
              "      <th>32</th>\n",
              "      <th>emotion</th>\n",
              "    </tr>\n",
              "  </thead>\n",
              "  <tbody>\n",
              "    <tr>\n",
              "      <th>0</th>\n",
              "      <td>-283.664886</td>\n",
              "      <td>114.643318</td>\n",
              "      <td>-3.422896</td>\n",
              "      <td>12.399040</td>\n",
              "      <td>5.720970</td>\n",
              "      <td>9.187010</td>\n",
              "      <td>-4.477114</td>\n",
              "      <td>-8.436920</td>\n",
              "      <td>-4.185121</td>\n",
              "      <td>1.690086</td>\n",
              "      <td>...</td>\n",
              "      <td>0.327954</td>\n",
              "      <td>16.400437</td>\n",
              "      <td>21.853811</td>\n",
              "      <td>24.518057</td>\n",
              "      <td>26.822664</td>\n",
              "      <td>28.856874</td>\n",
              "      <td>28.279258</td>\n",
              "      <td>49.641102</td>\n",
              "      <td>135.999178</td>\n",
              "      <td>Happy</td>\n",
              "    </tr>\n",
              "    <tr>\n",
              "      <th>1</th>\n",
              "      <td>-213.653641</td>\n",
              "      <td>123.405327</td>\n",
              "      <td>41.646015</td>\n",
              "      <td>31.584463</td>\n",
              "      <td>5.865325</td>\n",
              "      <td>8.335013</td>\n",
              "      <td>-2.025046</td>\n",
              "      <td>-0.135169</td>\n",
              "      <td>3.647515</td>\n",
              "      <td>10.442255</td>\n",
              "      <td>...</td>\n",
              "      <td>0.212835</td>\n",
              "      <td>20.937373</td>\n",
              "      <td>18.857915</td>\n",
              "      <td>23.384914</td>\n",
              "      <td>22.851888</td>\n",
              "      <td>18.671187</td>\n",
              "      <td>14.571556</td>\n",
              "      <td>46.018750</td>\n",
              "      <td>99.384014</td>\n",
              "      <td>Happy</td>\n",
              "    </tr>\n",
              "    <tr>\n",
              "      <th>2</th>\n",
              "      <td>-196.167862</td>\n",
              "      <td>92.602646</td>\n",
              "      <td>-32.050175</td>\n",
              "      <td>-10.164488</td>\n",
              "      <td>-28.048426</td>\n",
              "      <td>-26.362625</td>\n",
              "      <td>-10.145836</td>\n",
              "      <td>-14.981299</td>\n",
              "      <td>-18.413662</td>\n",
              "      <td>-19.810719</td>\n",
              "      <td>...</td>\n",
              "      <td>0.206357</td>\n",
              "      <td>17.016560</td>\n",
              "      <td>17.830542</td>\n",
              "      <td>21.262915</td>\n",
              "      <td>25.266843</td>\n",
              "      <td>25.932096</td>\n",
              "      <td>22.879036</td>\n",
              "      <td>52.193855</td>\n",
              "      <td>143.554688</td>\n",
              "      <td>Happy</td>\n",
              "    </tr>\n",
              "    <tr>\n",
              "      <th>3</th>\n",
              "      <td>-171.568695</td>\n",
              "      <td>98.110352</td>\n",
              "      <td>6.975595</td>\n",
              "      <td>30.051249</td>\n",
              "      <td>10.491893</td>\n",
              "      <td>13.563554</td>\n",
              "      <td>1.679214</td>\n",
              "      <td>5.712331</td>\n",
              "      <td>2.698179</td>\n",
              "      <td>6.895680</td>\n",
              "      <td>...</td>\n",
              "      <td>0.303774</td>\n",
              "      <td>24.814025</td>\n",
              "      <td>19.156171</td>\n",
              "      <td>21.364617</td>\n",
              "      <td>20.369616</td>\n",
              "      <td>19.408362</td>\n",
              "      <td>16.612146</td>\n",
              "      <td>45.793646</td>\n",
              "      <td>103.359375</td>\n",
              "      <td>Happy</td>\n",
              "    </tr>\n",
              "    <tr>\n",
              "      <th>4</th>\n",
              "      <td>-84.795876</td>\n",
              "      <td>98.720978</td>\n",
              "      <td>-5.087060</td>\n",
              "      <td>23.435846</td>\n",
              "      <td>9.867958</td>\n",
              "      <td>15.145605</td>\n",
              "      <td>2.464056</td>\n",
              "      <td>10.896419</td>\n",
              "      <td>4.017085</td>\n",
              "      <td>8.349455</td>\n",
              "      <td>...</td>\n",
              "      <td>0.247124</td>\n",
              "      <td>19.167291</td>\n",
              "      <td>17.525142</td>\n",
              "      <td>21.059391</td>\n",
              "      <td>23.195782</td>\n",
              "      <td>24.190151</td>\n",
              "      <td>21.570631</td>\n",
              "      <td>47.925739</td>\n",
              "      <td>172.265625</td>\n",
              "      <td>Happy</td>\n",
              "    </tr>\n",
              "  </tbody>\n",
              "</table>\n",
              "<p>5 rows × 34 columns</p>\n",
              "</div>\n",
              "    <div class=\"colab-df-buttons\">\n",
              "\n",
              "  <div class=\"colab-df-container\">\n",
              "    <button class=\"colab-df-convert\" onclick=\"convertToInteractive('df-e6c59ca5-0507-4498-a2ae-bc8651002994')\"\n",
              "            title=\"Convert this dataframe to an interactive table.\"\n",
              "            style=\"display:none;\">\n",
              "\n",
              "  <svg xmlns=\"http://www.w3.org/2000/svg\" height=\"24px\" viewBox=\"0 -960 960 960\">\n",
              "    <path d=\"M120-120v-720h720v720H120Zm60-500h600v-160H180v160Zm220 220h160v-160H400v160Zm0 220h160v-160H400v160ZM180-400h160v-160H180v160Zm440 0h160v-160H620v160ZM180-180h160v-160H180v160Zm440 0h160v-160H620v160Z\"/>\n",
              "  </svg>\n",
              "    </button>\n",
              "\n",
              "  <style>\n",
              "    .colab-df-container {\n",
              "      display:flex;\n",
              "      gap: 12px;\n",
              "    }\n",
              "\n",
              "    .colab-df-convert {\n",
              "      background-color: #E8F0FE;\n",
              "      border: none;\n",
              "      border-radius: 50%;\n",
              "      cursor: pointer;\n",
              "      display: none;\n",
              "      fill: #1967D2;\n",
              "      height: 32px;\n",
              "      padding: 0 0 0 0;\n",
              "      width: 32px;\n",
              "    }\n",
              "\n",
              "    .colab-df-convert:hover {\n",
              "      background-color: #E2EBFA;\n",
              "      box-shadow: 0px 1px 2px rgba(60, 64, 67, 0.3), 0px 1px 3px 1px rgba(60, 64, 67, 0.15);\n",
              "      fill: #174EA6;\n",
              "    }\n",
              "\n",
              "    .colab-df-buttons div {\n",
              "      margin-bottom: 4px;\n",
              "    }\n",
              "\n",
              "    [theme=dark] .colab-df-convert {\n",
              "      background-color: #3B4455;\n",
              "      fill: #D2E3FC;\n",
              "    }\n",
              "\n",
              "    [theme=dark] .colab-df-convert:hover {\n",
              "      background-color: #434B5C;\n",
              "      box-shadow: 0px 1px 3px 1px rgba(0, 0, 0, 0.15);\n",
              "      filter: drop-shadow(0px 1px 2px rgba(0, 0, 0, 0.3));\n",
              "      fill: #FFFFFF;\n",
              "    }\n",
              "  </style>\n",
              "\n",
              "    <script>\n",
              "      const buttonEl =\n",
              "        document.querySelector('#df-e6c59ca5-0507-4498-a2ae-bc8651002994 button.colab-df-convert');\n",
              "      buttonEl.style.display =\n",
              "        google.colab.kernel.accessAllowed ? 'block' : 'none';\n",
              "\n",
              "      async function convertToInteractive(key) {\n",
              "        const element = document.querySelector('#df-e6c59ca5-0507-4498-a2ae-bc8651002994');\n",
              "        const dataTable =\n",
              "          await google.colab.kernel.invokeFunction('convertToInteractive',\n",
              "                                                    [key], {});\n",
              "        if (!dataTable) return;\n",
              "\n",
              "        const docLinkHtml = 'Like what you see? Visit the ' +\n",
              "          '<a target=\"_blank\" href=https://colab.research.google.com/notebooks/data_table.ipynb>data table notebook</a>'\n",
              "          + ' to learn more about interactive tables.';\n",
              "        element.innerHTML = '';\n",
              "        dataTable['output_type'] = 'display_data';\n",
              "        await google.colab.output.renderOutput(dataTable, element);\n",
              "        const docLink = document.createElement('div');\n",
              "        docLink.innerHTML = docLinkHtml;\n",
              "        element.appendChild(docLink);\n",
              "      }\n",
              "    </script>\n",
              "  </div>\n",
              "\n",
              "\n",
              "<div id=\"df-01cc0aec-9a0f-478b-850c-be81dfd88214\">\n",
              "  <button class=\"colab-df-quickchart\" onclick=\"quickchart('df-01cc0aec-9a0f-478b-850c-be81dfd88214')\"\n",
              "            title=\"Suggest charts\"\n",
              "            style=\"display:none;\">\n",
              "\n",
              "<svg xmlns=\"http://www.w3.org/2000/svg\" height=\"24px\"viewBox=\"0 0 24 24\"\n",
              "     width=\"24px\">\n",
              "    <g>\n",
              "        <path d=\"M19 3H5c-1.1 0-2 .9-2 2v14c0 1.1.9 2 2 2h14c1.1 0 2-.9 2-2V5c0-1.1-.9-2-2-2zM9 17H7v-7h2v7zm4 0h-2V7h2v10zm4 0h-2v-4h2v4z\"/>\n",
              "    </g>\n",
              "</svg>\n",
              "  </button>\n",
              "\n",
              "<style>\n",
              "  .colab-df-quickchart {\n",
              "      --bg-color: #E8F0FE;\n",
              "      --fill-color: #1967D2;\n",
              "      --hover-bg-color: #E2EBFA;\n",
              "      --hover-fill-color: #174EA6;\n",
              "      --disabled-fill-color: #AAA;\n",
              "      --disabled-bg-color: #DDD;\n",
              "  }\n",
              "\n",
              "  [theme=dark] .colab-df-quickchart {\n",
              "      --bg-color: #3B4455;\n",
              "      --fill-color: #D2E3FC;\n",
              "      --hover-bg-color: #434B5C;\n",
              "      --hover-fill-color: #FFFFFF;\n",
              "      --disabled-bg-color: #3B4455;\n",
              "      --disabled-fill-color: #666;\n",
              "  }\n",
              "\n",
              "  .colab-df-quickchart {\n",
              "    background-color: var(--bg-color);\n",
              "    border: none;\n",
              "    border-radius: 50%;\n",
              "    cursor: pointer;\n",
              "    display: none;\n",
              "    fill: var(--fill-color);\n",
              "    height: 32px;\n",
              "    padding: 0;\n",
              "    width: 32px;\n",
              "  }\n",
              "\n",
              "  .colab-df-quickchart:hover {\n",
              "    background-color: var(--hover-bg-color);\n",
              "    box-shadow: 0 1px 2px rgba(60, 64, 67, 0.3), 0 1px 3px 1px rgba(60, 64, 67, 0.15);\n",
              "    fill: var(--button-hover-fill-color);\n",
              "  }\n",
              "\n",
              "  .colab-df-quickchart-complete:disabled,\n",
              "  .colab-df-quickchart-complete:disabled:hover {\n",
              "    background-color: var(--disabled-bg-color);\n",
              "    fill: var(--disabled-fill-color);\n",
              "    box-shadow: none;\n",
              "  }\n",
              "\n",
              "  .colab-df-spinner {\n",
              "    border: 2px solid var(--fill-color);\n",
              "    border-color: transparent;\n",
              "    border-bottom-color: var(--fill-color);\n",
              "    animation:\n",
              "      spin 1s steps(1) infinite;\n",
              "  }\n",
              "\n",
              "  @keyframes spin {\n",
              "    0% {\n",
              "      border-color: transparent;\n",
              "      border-bottom-color: var(--fill-color);\n",
              "      border-left-color: var(--fill-color);\n",
              "    }\n",
              "    20% {\n",
              "      border-color: transparent;\n",
              "      border-left-color: var(--fill-color);\n",
              "      border-top-color: var(--fill-color);\n",
              "    }\n",
              "    30% {\n",
              "      border-color: transparent;\n",
              "      border-left-color: var(--fill-color);\n",
              "      border-top-color: var(--fill-color);\n",
              "      border-right-color: var(--fill-color);\n",
              "    }\n",
              "    40% {\n",
              "      border-color: transparent;\n",
              "      border-right-color: var(--fill-color);\n",
              "      border-top-color: var(--fill-color);\n",
              "    }\n",
              "    60% {\n",
              "      border-color: transparent;\n",
              "      border-right-color: var(--fill-color);\n",
              "    }\n",
              "    80% {\n",
              "      border-color: transparent;\n",
              "      border-right-color: var(--fill-color);\n",
              "      border-bottom-color: var(--fill-color);\n",
              "    }\n",
              "    90% {\n",
              "      border-color: transparent;\n",
              "      border-bottom-color: var(--fill-color);\n",
              "    }\n",
              "  }\n",
              "</style>\n",
              "\n",
              "  <script>\n",
              "    async function quickchart(key) {\n",
              "      const quickchartButtonEl =\n",
              "        document.querySelector('#' + key + ' button');\n",
              "      quickchartButtonEl.disabled = true;  // To prevent multiple clicks.\n",
              "      quickchartButtonEl.classList.add('colab-df-spinner');\n",
              "      try {\n",
              "        const charts = await google.colab.kernel.invokeFunction(\n",
              "            'suggestCharts', [key], {});\n",
              "      } catch (error) {\n",
              "        console.error('Error during call to suggestCharts:', error);\n",
              "      }\n",
              "      quickchartButtonEl.classList.remove('colab-df-spinner');\n",
              "      quickchartButtonEl.classList.add('colab-df-quickchart-complete');\n",
              "    }\n",
              "    (() => {\n",
              "      let quickchartButtonEl =\n",
              "        document.querySelector('#df-01cc0aec-9a0f-478b-850c-be81dfd88214 button');\n",
              "      quickchartButtonEl.style.display =\n",
              "        google.colab.kernel.accessAllowed ? 'block' : 'none';\n",
              "    })();\n",
              "  </script>\n",
              "</div>\n",
              "\n",
              "    </div>\n",
              "  </div>\n"
            ],
            "application/vnd.google.colaboratory.intrinsic+json": {
              "type": "dataframe",
              "variable_name": "feature_df"
            }
          },
          "metadata": {},
          "execution_count": 84
        }
      ]
    },
    {
      "cell_type": "code",
      "source": [
        "import matplotlib.pyplot as plt\n",
        "from sklearn.decomposition import PCA\n",
        "\n",
        "# Apply PCA to reduce to 2D\n",
        "pca = PCA(n_components=2)\n",
        "pca_result = pca.fit_transform(feature_df.drop('emotion', axis=1))\n",
        "\n",
        "# Plot the 2D scatter\n",
        "plt.scatter(pca_result[:, 0], pca_result[:, 1], c=feature_df['emotion'].apply(lambda x: 0 if x == 'Sad' else 1), cmap='viridis')\n",
        "plt.xlabel('PCA Component 1')\n",
        "plt.ylabel('PCA Component 2')\n",
        "plt.title('PCA - 2D Visualization')\n",
        "plt.show()\n"
      ],
      "metadata": {
        "id": "wyuIm9WTWPjj",
        "colab": {
          "base_uri": "https://localhost:8080/",
          "height": 216
        },
        "outputId": "6d0170a1-d646-4908-a99b-105a43d952fc"
      },
      "execution_count": null,
      "outputs": [
        {
          "output_type": "error",
          "ename": "NameError",
          "evalue": "name 'feature_df' is not defined",
          "traceback": [
            "\u001b[0;31m---------------------------------------------------------------------------\u001b[0m",
            "\u001b[0;31mNameError\u001b[0m                                 Traceback (most recent call last)",
            "\u001b[0;32m<ipython-input-2-dc97f36d89cb>\u001b[0m in \u001b[0;36m<cell line: 6>\u001b[0;34m()\u001b[0m\n\u001b[1;32m      4\u001b[0m \u001b[0;31m# Apply PCA to reduce to 2D\u001b[0m\u001b[0;34m\u001b[0m\u001b[0;34m\u001b[0m\u001b[0m\n\u001b[1;32m      5\u001b[0m \u001b[0mpca\u001b[0m \u001b[0;34m=\u001b[0m \u001b[0mPCA\u001b[0m\u001b[0;34m(\u001b[0m\u001b[0mn_components\u001b[0m\u001b[0;34m=\u001b[0m\u001b[0;36m2\u001b[0m\u001b[0;34m)\u001b[0m\u001b[0;34m\u001b[0m\u001b[0;34m\u001b[0m\u001b[0m\n\u001b[0;32m----> 6\u001b[0;31m \u001b[0mpca_result\u001b[0m \u001b[0;34m=\u001b[0m \u001b[0mpca\u001b[0m\u001b[0;34m.\u001b[0m\u001b[0mfit_transform\u001b[0m\u001b[0;34m(\u001b[0m\u001b[0mfeature_df\u001b[0m\u001b[0;34m.\u001b[0m\u001b[0mdrop\u001b[0m\u001b[0;34m(\u001b[0m\u001b[0;34m'emotion'\u001b[0m\u001b[0;34m,\u001b[0m \u001b[0maxis\u001b[0m\u001b[0;34m=\u001b[0m\u001b[0;36m1\u001b[0m\u001b[0;34m)\u001b[0m\u001b[0;34m)\u001b[0m\u001b[0;34m\u001b[0m\u001b[0;34m\u001b[0m\u001b[0m\n\u001b[0m\u001b[1;32m      7\u001b[0m \u001b[0;34m\u001b[0m\u001b[0m\n\u001b[1;32m      8\u001b[0m \u001b[0;31m# Plot the 2D scatter\u001b[0m\u001b[0;34m\u001b[0m\u001b[0;34m\u001b[0m\u001b[0m\n",
            "\u001b[0;31mNameError\u001b[0m: name 'feature_df' is not defined"
          ]
        }
      ]
    },
    {
      "cell_type": "code",
      "source": [
        "import seaborn as sns\n",
        "\n",
        "# Pair plot\n",
        "sns.pairplot(feature_df, hue='emotion', palette='coolwarm')\n",
        "plt.show()\n"
      ],
      "metadata": {
        "id": "A61XPwbgn1oc"
      },
      "execution_count": null,
      "outputs": []
    },
    {
      "cell_type": "code",
      "source": [
        "sns.boxplot(x='emotion', y='Happy', data=feature_df)\n",
        "plt.show()"
      ],
      "metadata": {
        "id": "E5FuzUjKoAL-"
      },
      "execution_count": null,
      "outputs": []
    },
    {
      "cell_type": "code",
      "source": [
        "# Correlation matrix\n",
        "correlation_matrix = feature_df.drop('emotion', axis=1).corr()\n",
        "\n",
        "# Heatmap of correlation matrix\n",
        "sns.heatmap(correlation_matrix, annot=True, cmap='coolwarm', fmt='.2f')\n",
        "plt.title('Feature Correlation Heatmap')\n",
        "plt.show()\n"
      ],
      "metadata": {
        "id": "OiIrJRgdoLqd"
      },
      "execution_count": null,
      "outputs": []
    },
    {
      "cell_type": "code",
      "source": [
        "from sklearn.manifold import TSNE\n",
        "\n",
        "# Apply t-SNE to reduce to 2D\n",
        "tsne = TSNE(n_components=2)\n",
        "tsne_result = tsne.fit_transform(feature_df.drop('emotion', axis=1))\n",
        "\n",
        "# Plot t-SNE result\n",
        "plt.scatter(tsne_result[:, 0], tsne_result[:, 1], c=feature_df['emotion'].apply(lambda x: 0 if x == 'Sad' else 1), cmap='viridis')\n",
        "plt.xlabel('t-SNE Component 1')\n",
        "plt.ylabel('t-SNE Component 2')\n",
        "plt.title('t-SNE - 2D Visualization')\n",
        "plt.show()\n"
      ],
      "metadata": {
        "id": "kKg6ofvBoTVA"
      },
      "execution_count": null,
      "outputs": []
    },
    {
      "cell_type": "markdown",
      "source": [
        "# New Section"
      ],
      "metadata": {
        "id": "sA12GX0-mFb_"
      }
    },
    {
      "cell_type": "code",
      "source": [
        "# Separate features (X) and labels (y)\n",
        "X = feature_df.iloc[:, :-1]  # All columns except the last one\n",
        "y = feature_df.iloc[:, -1]   # Only the last column (Emotion)\n",
        "\n",
        "# Check shapes\n",
        "print(\"Features shape:\", X.shape)\n",
        "print(\"Labels shape:\", y.shape)\n"
      ],
      "metadata": {
        "colab": {
          "base_uri": "https://localhost:8080/"
        },
        "id": "SLbUQIwtp-1f",
        "outputId": "e8efa62c-2082-4f82-ef89-821a87f792c0"
      },
      "execution_count": null,
      "outputs": [
        {
          "output_type": "stream",
          "name": "stdout",
          "text": [
            "Features shape: (1873, 33)\n",
            "Labels shape: (1873,)\n"
          ]
        }
      ]
    },
    {
      "cell_type": "code",
      "source": [
        "from sklearn.preprocessing import LabelEncoder\n",
        "\n",
        "label_encoder = LabelEncoder()\n",
        "y_encoded = label_encoder.fit_transform(y)\n",
        "\n",
        "# Save the mapping for later use\n",
        "label_mapping = dict(zip(label_encoder.classes_, label_encoder.transform(label_encoder.classes_)))\n",
        "print(\"Label Mapping:\", label_mapping)\n"
      ],
      "metadata": {
        "colab": {
          "base_uri": "https://localhost:8080/"
        },
        "id": "VhngTdBiqLyI",
        "outputId": "f3844c85-a332-486d-e3b6-26cb76ffbfcc"
      },
      "execution_count": null,
      "outputs": [
        {
          "output_type": "stream",
          "name": "stdout",
          "text": [
            "Label Mapping: {'Happy': 0, 'Sad': 1}\n"
          ]
        }
      ]
    },
    {
      "cell_type": "code",
      "source": [
        "from sklearn.model_selection import train_test_split\n",
        "\n",
        "X_train, X_test, y_train, y_test = train_test_split(X, y_encoded, test_size=0.2, random_state=42)\n",
        "\n",
        "print(\"Training set size:\", X_train.shape)\n",
        "print(\"Test set size:\", X_test.shape)\n"
      ],
      "metadata": {
        "colab": {
          "base_uri": "https://localhost:8080/"
        },
        "id": "C6SKgitBqQ1D",
        "outputId": "01674f63-a2de-4856-b76e-b1bbe58ea8ea"
      },
      "execution_count": null,
      "outputs": [
        {
          "output_type": "stream",
          "name": "stdout",
          "text": [
            "Training set size: (1498, 33)\n",
            "Test set size: (375, 33)\n"
          ]
        }
      ]
    },
    {
      "cell_type": "code",
      "source": [
        "from sklearn.preprocessing import StandardScaler\n",
        "\n",
        "scaler = StandardScaler()\n",
        "X_train_scaled = scaler.fit_transform(X_train)\n",
        "X_test_scaled = scaler.transform(X_test)\n"
      ],
      "metadata": {
        "id": "wdmpd1ekqUNz"
      },
      "execution_count": null,
      "outputs": []
    },
    {
      "cell_type": "code",
      "source": [
        "!pip show tensorflow\n"
      ],
      "metadata": {
        "colab": {
          "base_uri": "https://localhost:8080/"
        },
        "id": "6vh380LzrGAd",
        "outputId": "37549935-5a9d-4fdc-e876-ae53b2aafcbf"
      },
      "execution_count": null,
      "outputs": [
        {
          "output_type": "stream",
          "name": "stdout",
          "text": [
            "Name: tensorflow\n",
            "Version: 2.17.1\n",
            "Summary: TensorFlow is an open source machine learning framework for everyone.\n",
            "Home-page: https://www.tensorflow.org/\n",
            "Author: Google Inc.\n",
            "Author-email: packages@tensorflow.org\n",
            "License: Apache 2.0\n",
            "Location: /usr/local/lib/python3.10/dist-packages\n",
            "Requires: absl-py, astunparse, flatbuffers, gast, google-pasta, grpcio, h5py, keras, libclang, ml-dtypes, numpy, opt-einsum, packaging, protobuf, requests, setuptools, six, tensorboard, tensorflow-io-gcs-filesystem, termcolor, typing-extensions, wrapt\n",
            "Required-by: dopamine_rl, tf_keras\n"
          ]
        }
      ]
    },
    {
      "cell_type": "code",
      "source": [
        "from tensorflow.keras.callbacks import ModelCheckpoint\n",
        "from tensorflow.keras.callbacks import EarlyStopping\n",
        "early_stop = EarlyStopping(monitor='val_loss', patience=5, restore_best_weights=True)\n",
        "\n",
        "checkpoint = ModelCheckpoint(\n",
        "    'best_model.keras',  # Name of the file to save the model\n",
        "    monitor='val_loss',  # Metric to monitor (can be 'val_accuracy', 'val_loss', etc.)\n",
        "    save_best_only=True,  # Save only the best model\n",
        "    mode='min',  # 'min' means saving the model with the lowest validation loss\n",
        "    verbose=1  # Show messages when the model is saved\n",
        ")\n",
        "\n"
      ],
      "metadata": {
        "id": "F8bFu-zE6mHD"
      },
      "execution_count": null,
      "outputs": []
    },
    {
      "cell_type": "code",
      "source": [
        "from tensorflow.keras.models import Sequential\n",
        "from tensorflow.keras.layers import Dense, Dropout\n",
        "from tensorflow.keras.optimizers import Adam\n",
        "\n",
        "from sklearn.preprocessing import LabelEncoder, StandardScaler\n",
        "from sklearn.model_selection import train_test_split\n",
        "# # Define a simple neural network\n",
        "model = Sequential([\n",
        "    Dense(128, activation='relu', input_shape=(X_train_scaled.shape[1],)),\n",
        "    Dropout(0.3),\n",
        "    Dense(64, activation='relu'),\n",
        "    Dropout(0.3),\n",
        "    # Dense(32, activation='relu'),\n",
        "    # Dropout(0.2),\n",
        "    Dense(len(label_mapping), activation='softmax')\n",
        "   ])\n",
        "\n",
        "# # Compile the model\n",
        "optimiser = Adam(learning_rate=0.001)\n",
        "model.compile(optimizer= optimiser, loss='sparse_categorical_crossentropy', metrics=['accuracy'])\n",
        "model.save(\"best_model.keras\")\n",
        "print(\"Model saved as 'best_model.keras'\")\n",
        "model.summary()\n"
      ],
      "metadata": {
        "colab": {
          "base_uri": "https://localhost:8080/",
          "height": 315
        },
        "id": "f2woEekD90VV",
        "outputId": "27f837ee-5aad-444a-b0cd-47b18e969b51"
      },
      "execution_count": null,
      "outputs": [
        {
          "output_type": "stream",
          "name": "stdout",
          "text": [
            "Model saved as 'best_model.keras'\n"
          ]
        },
        {
          "output_type": "display_data",
          "data": {
            "text/plain": [
              "\u001b[1mModel: \"sequential_21\"\u001b[0m\n"
            ],
            "text/html": [
              "<pre style=\"white-space:pre;overflow-x:auto;line-height:normal;font-family:Menlo,'DejaVu Sans Mono',consolas,'Courier New',monospace\"><span style=\"font-weight: bold\">Model: \"sequential_21\"</span>\n",
              "</pre>\n"
            ]
          },
          "metadata": {}
        },
        {
          "output_type": "display_data",
          "data": {
            "text/plain": [
              "┏━━━━━━━━━━━━━━━━━━━━━━━━━━━━━━━━━━━━━━┳━━━━━━━━━━━━━━━━━━━━━━━━━━━━━┳━━━━━━━━━━━━━━━━━┓\n",
              "┃\u001b[1m \u001b[0m\u001b[1mLayer (type)                        \u001b[0m\u001b[1m \u001b[0m┃\u001b[1m \u001b[0m\u001b[1mOutput Shape               \u001b[0m\u001b[1m \u001b[0m┃\u001b[1m \u001b[0m\u001b[1m        Param #\u001b[0m\u001b[1m \u001b[0m┃\n",
              "┡━━━━━━━━━━━━━━━━━━━━━━━━━━━━━━━━━━━━━━╇━━━━━━━━━━━━━━━━━━━━━━━━━━━━━╇━━━━━━━━━━━━━━━━━┩\n",
              "│ dense_70 (\u001b[38;5;33mDense\u001b[0m)                     │ (\u001b[38;5;45mNone\u001b[0m, \u001b[38;5;34m128\u001b[0m)                 │           \u001b[38;5;34m4,352\u001b[0m │\n",
              "├──────────────────────────────────────┼─────────────────────────────┼─────────────────┤\n",
              "│ dropout_29 (\u001b[38;5;33mDropout\u001b[0m)                 │ (\u001b[38;5;45mNone\u001b[0m, \u001b[38;5;34m128\u001b[0m)                 │               \u001b[38;5;34m0\u001b[0m │\n",
              "├──────────────────────────────────────┼─────────────────────────────┼─────────────────┤\n",
              "│ dense_71 (\u001b[38;5;33mDense\u001b[0m)                     │ (\u001b[38;5;45mNone\u001b[0m, \u001b[38;5;34m64\u001b[0m)                  │           \u001b[38;5;34m8,256\u001b[0m │\n",
              "├──────────────────────────────────────┼─────────────────────────────┼─────────────────┤\n",
              "│ dropout_30 (\u001b[38;5;33mDropout\u001b[0m)                 │ (\u001b[38;5;45mNone\u001b[0m, \u001b[38;5;34m64\u001b[0m)                  │               \u001b[38;5;34m0\u001b[0m │\n",
              "├──────────────────────────────────────┼─────────────────────────────┼─────────────────┤\n",
              "│ dense_72 (\u001b[38;5;33mDense\u001b[0m)                     │ (\u001b[38;5;45mNone\u001b[0m, \u001b[38;5;34m2\u001b[0m)                   │             \u001b[38;5;34m130\u001b[0m │\n",
              "└──────────────────────────────────────┴─────────────────────────────┴─────────────────┘\n"
            ],
            "text/html": [
              "<pre style=\"white-space:pre;overflow-x:auto;line-height:normal;font-family:Menlo,'DejaVu Sans Mono',consolas,'Courier New',monospace\">┏━━━━━━━━━━━━━━━━━━━━━━━━━━━━━━━━━━━━━━┳━━━━━━━━━━━━━━━━━━━━━━━━━━━━━┳━━━━━━━━━━━━━━━━━┓\n",
              "┃<span style=\"font-weight: bold\"> Layer (type)                         </span>┃<span style=\"font-weight: bold\"> Output Shape                </span>┃<span style=\"font-weight: bold\">         Param # </span>┃\n",
              "┡━━━━━━━━━━━━━━━━━━━━━━━━━━━━━━━━━━━━━━╇━━━━━━━━━━━━━━━━━━━━━━━━━━━━━╇━━━━━━━━━━━━━━━━━┩\n",
              "│ dense_70 (<span style=\"color: #0087ff; text-decoration-color: #0087ff\">Dense</span>)                     │ (<span style=\"color: #00d7ff; text-decoration-color: #00d7ff\">None</span>, <span style=\"color: #00af00; text-decoration-color: #00af00\">128</span>)                 │           <span style=\"color: #00af00; text-decoration-color: #00af00\">4,352</span> │\n",
              "├──────────────────────────────────────┼─────────────────────────────┼─────────────────┤\n",
              "│ dropout_29 (<span style=\"color: #0087ff; text-decoration-color: #0087ff\">Dropout</span>)                 │ (<span style=\"color: #00d7ff; text-decoration-color: #00d7ff\">None</span>, <span style=\"color: #00af00; text-decoration-color: #00af00\">128</span>)                 │               <span style=\"color: #00af00; text-decoration-color: #00af00\">0</span> │\n",
              "├──────────────────────────────────────┼─────────────────────────────┼─────────────────┤\n",
              "│ dense_71 (<span style=\"color: #0087ff; text-decoration-color: #0087ff\">Dense</span>)                     │ (<span style=\"color: #00d7ff; text-decoration-color: #00d7ff\">None</span>, <span style=\"color: #00af00; text-decoration-color: #00af00\">64</span>)                  │           <span style=\"color: #00af00; text-decoration-color: #00af00\">8,256</span> │\n",
              "├──────────────────────────────────────┼─────────────────────────────┼─────────────────┤\n",
              "│ dropout_30 (<span style=\"color: #0087ff; text-decoration-color: #0087ff\">Dropout</span>)                 │ (<span style=\"color: #00d7ff; text-decoration-color: #00d7ff\">None</span>, <span style=\"color: #00af00; text-decoration-color: #00af00\">64</span>)                  │               <span style=\"color: #00af00; text-decoration-color: #00af00\">0</span> │\n",
              "├──────────────────────────────────────┼─────────────────────────────┼─────────────────┤\n",
              "│ dense_72 (<span style=\"color: #0087ff; text-decoration-color: #0087ff\">Dense</span>)                     │ (<span style=\"color: #00d7ff; text-decoration-color: #00d7ff\">None</span>, <span style=\"color: #00af00; text-decoration-color: #00af00\">2</span>)                   │             <span style=\"color: #00af00; text-decoration-color: #00af00\">130</span> │\n",
              "└──────────────────────────────────────┴─────────────────────────────┴─────────────────┘\n",
              "</pre>\n"
            ]
          },
          "metadata": {}
        },
        {
          "output_type": "display_data",
          "data": {
            "text/plain": [
              "\u001b[1m Total params: \u001b[0m\u001b[38;5;34m12,738\u001b[0m (49.76 KB)\n"
            ],
            "text/html": [
              "<pre style=\"white-space:pre;overflow-x:auto;line-height:normal;font-family:Menlo,'DejaVu Sans Mono',consolas,'Courier New',monospace\"><span style=\"font-weight: bold\"> Total params: </span><span style=\"color: #00af00; text-decoration-color: #00af00\">12,738</span> (49.76 KB)\n",
              "</pre>\n"
            ]
          },
          "metadata": {}
        },
        {
          "output_type": "display_data",
          "data": {
            "text/plain": [
              "\u001b[1m Trainable params: \u001b[0m\u001b[38;5;34m12,738\u001b[0m (49.76 KB)\n"
            ],
            "text/html": [
              "<pre style=\"white-space:pre;overflow-x:auto;line-height:normal;font-family:Menlo,'DejaVu Sans Mono',consolas,'Courier New',monospace\"><span style=\"font-weight: bold\"> Trainable params: </span><span style=\"color: #00af00; text-decoration-color: #00af00\">12,738</span> (49.76 KB)\n",
              "</pre>\n"
            ]
          },
          "metadata": {}
        },
        {
          "output_type": "display_data",
          "data": {
            "text/plain": [
              "\u001b[1m Non-trainable params: \u001b[0m\u001b[38;5;34m0\u001b[0m (0.00 B)\n"
            ],
            "text/html": [
              "<pre style=\"white-space:pre;overflow-x:auto;line-height:normal;font-family:Menlo,'DejaVu Sans Mono',consolas,'Courier New',monospace\"><span style=\"font-weight: bold\"> Non-trainable params: </span><span style=\"color: #00af00; text-decoration-color: #00af00\">0</span> (0.00 B)\n",
              "</pre>\n"
            ]
          },
          "metadata": {}
        }
      ]
    },
    {
      "cell_type": "code",
      "source": [
        "best_model = load_model('best_model.keras')\n",
        "print(\"Loaded Model Emotins\")\n",
        "test_loss, test_acc = model.evaluate(X_test_scaled, y_test)\n",
        "print(\"Test Accuracy:\", test_acc)"
      ],
      "metadata": {
        "colab": {
          "base_uri": "https://localhost:8080/"
        },
        "id": "-bvHgcBPEn8y",
        "outputId": "d616708d-56a1-464e-84bb-ca25d504caf5"
      },
      "execution_count": null,
      "outputs": [
        {
          "output_type": "stream",
          "name": "stdout",
          "text": [
            "Loaded Model Emotins\n",
            "\u001b[1m12/12\u001b[0m \u001b[32m━━━━━━━━━━━━━━━━━━━━\u001b[0m\u001b[37m\u001b[0m \u001b[1m0s\u001b[0m 2ms/step - accuracy: 0.8319 - loss: 0.3444 \n",
            "Test Accuracy: 0.8159999847412109\n"
          ]
        }
      ]
    },
    {
      "cell_type": "code",
      "source": [],
      "metadata": {
        "id": "7jQ36tDbEvAe"
      },
      "execution_count": null,
      "outputs": []
    },
    {
      "cell_type": "code",
      "source": [
        "# Train the model\n",
        "history = model.fit(X_train_scaled, y_train, epochs=35, batch_size=32, validation_split=0.2, callbacks = [early_stop,checkpoint])\n",
        "\n",
        "# Evaluate on the test set\n",
        "test_loss, test_acc = model.evaluate(X_test_scaled, y_test)\n",
        "print(\"Test Accuracy:\", test_acc)"
      ],
      "metadata": {
        "colab": {
          "base_uri": "https://localhost:8080/"
        },
        "id": "fAnGwJac-sSZ",
        "outputId": "253d63ee-eb57-4f59-9132-6035b9697c0c"
      },
      "execution_count": null,
      "outputs": [
        {
          "output_type": "stream",
          "name": "stdout",
          "text": [
            "Epoch 1/35\n",
            "\u001b[1m22/38\u001b[0m \u001b[32m━━━━━━━━━━━\u001b[0m\u001b[37m━━━━━━━━━\u001b[0m \u001b[1m0s\u001b[0m 2ms/step - accuracy: 0.5928 - loss: 0.6748\n",
            "Epoch 1: val_loss did not improve from 0.26264\n",
            "\u001b[1m38/38\u001b[0m \u001b[32m━━━━━━━━━━━━━━━━━━━━\u001b[0m\u001b[37m\u001b[0m \u001b[1m1s\u001b[0m 7ms/step - accuracy: 0.6065 - loss: 0.6640 - val_accuracy: 0.7700 - val_loss: 0.5078\n",
            "Epoch 2/35\n",
            "\u001b[1m29/38\u001b[0m \u001b[32m━━━━━━━━━━━━━━━\u001b[0m\u001b[37m━━━━━\u001b[0m \u001b[1m0s\u001b[0m 2ms/step - accuracy: 0.7358 - loss: 0.5383 \n",
            "Epoch 2: val_loss did not improve from 0.26264\n",
            "\u001b[1m38/38\u001b[0m \u001b[32m━━━━━━━━━━━━━━━━━━━━\u001b[0m\u001b[37m\u001b[0m \u001b[1m0s\u001b[0m 3ms/step - accuracy: 0.7346 - loss: 0.5421 - val_accuracy: 0.8333 - val_loss: 0.4395\n",
            "Epoch 3/35\n",
            "\u001b[1m29/38\u001b[0m \u001b[32m━━━━━━━━━━━━━━━\u001b[0m\u001b[37m━━━━━\u001b[0m \u001b[1m0s\u001b[0m 2ms/step - accuracy: 0.7532 - loss: 0.4794  \n",
            "Epoch 3: val_loss did not improve from 0.26264\n",
            "\u001b[1m38/38\u001b[0m \u001b[32m━━━━━━━━━━━━━━━━━━━━\u001b[0m\u001b[37m\u001b[0m \u001b[1m0s\u001b[0m 3ms/step - accuracy: 0.7523 - loss: 0.4815 - val_accuracy: 0.8333 - val_loss: 0.3995\n",
            "Epoch 4/35\n",
            "\u001b[1m25/38\u001b[0m \u001b[32m━━━━━━━━━━━━━\u001b[0m\u001b[37m━━━━━━━\u001b[0m \u001b[1m0s\u001b[0m 2ms/step - accuracy: 0.7728 - loss: 0.5144 \n",
            "Epoch 4: val_loss did not improve from 0.26264\n",
            "\u001b[1m38/38\u001b[0m \u001b[32m━━━━━━━━━━━━━━━━━━━━\u001b[0m\u001b[37m\u001b[0m \u001b[1m0s\u001b[0m 4ms/step - accuracy: 0.7742 - loss: 0.5023 - val_accuracy: 0.8600 - val_loss: 0.3691\n",
            "Epoch 5/35\n",
            "\u001b[1m29/38\u001b[0m \u001b[32m━━━━━━━━━━━━━━━\u001b[0m\u001b[37m━━━━━\u001b[0m \u001b[1m0s\u001b[0m 2ms/step - accuracy: 0.7929 - loss: 0.4400  \n",
            "Epoch 5: val_loss did not improve from 0.26264\n",
            "\u001b[1m38/38\u001b[0m \u001b[32m━━━━━━━━━━━━━━━━━━━━\u001b[0m\u001b[37m\u001b[0m \u001b[1m0s\u001b[0m 3ms/step - accuracy: 0.7918 - loss: 0.4418 - val_accuracy: 0.8600 - val_loss: 0.3494\n",
            "\u001b[1m12/12\u001b[0m \u001b[32m━━━━━━━━━━━━━━━━━━━━\u001b[0m\u001b[37m\u001b[0m \u001b[1m0s\u001b[0m 2ms/step - accuracy: 0.7784 - loss: 0.5002 \n",
            "Test Accuracy: 0.7360000014305115\n"
          ]
        }
      ]
    },
    {
      "cell_type": "code",
      "source": [
        "# best_model_125020122024\n",
        "# emotion_model.h5\n",
        "\n",
        "# from tensorflow.keras.models import Sequential\n",
        "# from tensorflow.keras.layers import Dense, Dropout\n",
        "# from sklearn.preprocessing import LabelEncoder, StandardScaler\n",
        "# from sklearn.model_selection import train_test_split\n",
        "# # Define a simple neural network\n",
        "# model = Sequential([\n",
        "#     Dense(64, activation='relu', input_shape=(X_train_scaled.shape[1],)),\n",
        "#     Dense(32, activation='relu'),\n",
        "#     Dense(len(label_mapping), activation='softmax')  # Output layer\n",
        "# ])\n",
        "\n",
        "# # Compile the model\n",
        "# model.compile(optimizer='adam', loss='sparse_categorical_crossentropy', metrics=['accuracy'])\n",
        "\n",
        "# # Train the model\n",
        "# history = model.fit(X_train_scaled, y_train, epochs=60, batch_size=32, validation_split=0.2, callbacks = [checkpoint])\n",
        "\n",
        "# # Evaluate on the test set\n",
        "# test_loss, test_acc = model.evaluate(X_test_scaled, y_test)\n",
        "# print(\"Test Accuracy:\", test_acc)\n"
      ],
      "metadata": {
        "colab": {
          "base_uri": "https://localhost:8080/"
        },
        "id": "uCzllhgzqXt_",
        "outputId": "fe795fe5-767a-416d-e15b-88d95ca67f12"
      },
      "execution_count": null,
      "outputs": [
        {
          "output_type": "stream",
          "name": "stdout",
          "text": [
            "Epoch 1/40\n"
          ]
        },
        {
          "output_type": "stream",
          "name": "stderr",
          "text": [
            "/usr/local/lib/python3.10/dist-packages/keras/src/layers/core/dense.py:87: UserWarning: Do not pass an `input_shape`/`input_dim` argument to a layer. When using Sequential models, prefer using an `Input(shape)` object as the first layer in the model instead.\n",
            "  super().__init__(activity_regularizer=activity_regularizer, **kwargs)\n"
          ]
        },
        {
          "output_type": "stream",
          "name": "stdout",
          "text": [
            "\u001b[1m37/38\u001b[0m \u001b[32m━━━━━━━━━━━━━━━━━━━\u001b[0m\u001b[37m━\u001b[0m \u001b[1m0s\u001b[0m 3ms/step - accuracy: 0.6288 - loss: 0.6657\n",
            "Epoch 1: val_loss improved from inf to 0.53957, saving model to best_model.keras\n",
            "\u001b[1m38/38\u001b[0m \u001b[32m━━━━━━━━━━━━━━━━━━━━\u001b[0m\u001b[37m\u001b[0m \u001b[1m2s\u001b[0m 12ms/step - accuracy: 0.6312 - loss: 0.6640 - val_accuracy: 0.7733 - val_loss: 0.5396\n",
            "Epoch 2/40\n",
            "\u001b[1m36/38\u001b[0m \u001b[32m━━━━━━━━━━━━━━━━━━\u001b[0m\u001b[37m━━\u001b[0m \u001b[1m0s\u001b[0m 1ms/step - accuracy: 0.7693 - loss: 0.5345 \n",
            "Epoch 2: val_loss improved from 0.53957 to 0.45347, saving model to best_model.keras\n",
            "\u001b[1m38/38\u001b[0m \u001b[32m━━━━━━━━━━━━━━━━━━━━\u001b[0m\u001b[37m\u001b[0m \u001b[1m0s\u001b[0m 3ms/step - accuracy: 0.7701 - loss: 0.5335 - val_accuracy: 0.8000 - val_loss: 0.4535\n",
            "Epoch 3/40\n",
            "\u001b[1m34/38\u001b[0m \u001b[32m━━━━━━━━━━━━━━━━━\u001b[0m\u001b[37m━━━\u001b[0m \u001b[1m0s\u001b[0m 2ms/step - accuracy: 0.7880 - loss: 0.4736  \n",
            "Epoch 3: val_loss improved from 0.45347 to 0.39670, saving model to best_model.keras\n",
            "\u001b[1m38/38\u001b[0m \u001b[32m━━━━━━━━━━━━━━━━━━━━\u001b[0m\u001b[37m\u001b[0m \u001b[1m0s\u001b[0m 3ms/step - accuracy: 0.7886 - loss: 0.4710 - val_accuracy: 0.8367 - val_loss: 0.3967\n",
            "Epoch 4/40\n",
            "\u001b[1m34/38\u001b[0m \u001b[32m━━━━━━━━━━━━━━━━━\u001b[0m\u001b[37m━━━\u001b[0m \u001b[1m0s\u001b[0m 2ms/step - accuracy: 0.8072 - loss: 0.4266 \n",
            "Epoch 4: val_loss improved from 0.39670 to 0.35478, saving model to best_model.keras\n",
            "\u001b[1m38/38\u001b[0m \u001b[32m━━━━━━━━━━━━━━━━━━━━\u001b[0m\u001b[37m\u001b[0m \u001b[1m0s\u001b[0m 3ms/step - accuracy: 0.8094 - loss: 0.4240 - val_accuracy: 0.8533 - val_loss: 0.3548\n",
            "Epoch 5/40\n",
            "\u001b[1m29/38\u001b[0m \u001b[32m━━━━━━━━━━━━━━━\u001b[0m\u001b[37m━━━━━\u001b[0m \u001b[1m0s\u001b[0m 2ms/step - accuracy: 0.8437 - loss: 0.3573 \n",
            "Epoch 5: val_loss improved from 0.35478 to 0.33673, saving model to best_model.keras\n",
            "\u001b[1m38/38\u001b[0m \u001b[32m━━━━━━━━━━━━━━━━━━━━\u001b[0m\u001b[37m\u001b[0m \u001b[1m0s\u001b[0m 4ms/step - accuracy: 0.8419 - loss: 0.3624 - val_accuracy: 0.8700 - val_loss: 0.3367\n",
            "Epoch 6/40\n",
            "\u001b[1m37/38\u001b[0m \u001b[32m━━━━━━━━━━━━━━━━━━━\u001b[0m\u001b[37m━\u001b[0m \u001b[1m0s\u001b[0m 1ms/step - accuracy: 0.8725 - loss: 0.3491  \n",
            "Epoch 6: val_loss improved from 0.33673 to 0.31899, saving model to best_model.keras\n",
            "\u001b[1m38/38\u001b[0m \u001b[32m━━━━━━━━━━━━━━━━━━━━\u001b[0m\u001b[37m\u001b[0m \u001b[1m0s\u001b[0m 3ms/step - accuracy: 0.8715 - loss: 0.3491 - val_accuracy: 0.8600 - val_loss: 0.3190\n",
            "Epoch 7/40\n",
            "\u001b[1m36/38\u001b[0m \u001b[32m━━━━━━━━━━━━━━━━━━\u001b[0m\u001b[37m━━\u001b[0m \u001b[1m0s\u001b[0m 1ms/step - accuracy: 0.8535 - loss: 0.3288 \n",
            "Epoch 7: val_loss improved from 0.31899 to 0.31129, saving model to best_model.keras\n",
            "\u001b[1m38/38\u001b[0m \u001b[32m━━━━━━━━━━━━━━━━━━━━\u001b[0m\u001b[37m\u001b[0m \u001b[1m0s\u001b[0m 3ms/step - accuracy: 0.8537 - loss: 0.3288 - val_accuracy: 0.8667 - val_loss: 0.3113\n",
            "Epoch 8/40\n",
            "\u001b[1m36/38\u001b[0m \u001b[32m━━━━━━━━━━━━━━━━━━\u001b[0m\u001b[37m━━\u001b[0m \u001b[1m0s\u001b[0m 1ms/step - accuracy: 0.8838 - loss: 0.3025  \n",
            "Epoch 8: val_loss improved from 0.31129 to 0.29712, saving model to best_model.keras\n",
            "\u001b[1m38/38\u001b[0m \u001b[32m━━━━━━━━━━━━━━━━━━━━\u001b[0m\u001b[37m\u001b[0m \u001b[1m0s\u001b[0m 3ms/step - accuracy: 0.8826 - loss: 0.3033 - val_accuracy: 0.8800 - val_loss: 0.2971\n",
            "Epoch 9/40\n",
            "\u001b[1m38/38\u001b[0m \u001b[32m━━━━━━━━━━━━━━━━━━━━\u001b[0m\u001b[37m\u001b[0m \u001b[1m0s\u001b[0m 1ms/step - accuracy: 0.8815 - loss: 0.2927 \n",
            "Epoch 9: val_loss improved from 0.29712 to 0.28925, saving model to best_model.keras\n",
            "\u001b[1m38/38\u001b[0m \u001b[32m━━━━━━━━━━━━━━━━━━━━\u001b[0m\u001b[37m\u001b[0m \u001b[1m0s\u001b[0m 3ms/step - accuracy: 0.8815 - loss: 0.2927 - val_accuracy: 0.8700 - val_loss: 0.2893\n",
            "Epoch 10/40\n",
            "\u001b[1m27/38\u001b[0m \u001b[32m━━━━━━━━━━━━━━\u001b[0m\u001b[37m━━━━━━\u001b[0m \u001b[1m0s\u001b[0m 2ms/step - accuracy: 0.8964 - loss: 0.2707 \n",
            "Epoch 10: val_loss did not improve from 0.28925\n",
            "\u001b[1m38/38\u001b[0m \u001b[32m━━━━━━━━━━━━━━━━━━━━\u001b[0m\u001b[37m\u001b[0m \u001b[1m0s\u001b[0m 3ms/step - accuracy: 0.8935 - loss: 0.2736 - val_accuracy: 0.8700 - val_loss: 0.2899\n",
            "Epoch 11/40\n",
            "\u001b[1m38/38\u001b[0m \u001b[32m━━━━━━━━━━━━━━━━━━━━\u001b[0m\u001b[37m\u001b[0m \u001b[1m0s\u001b[0m 1ms/step - accuracy: 0.8970 - loss: 0.2759 \n",
            "Epoch 11: val_loss improved from 0.28925 to 0.28111, saving model to best_model.keras\n",
            "\u001b[1m38/38\u001b[0m \u001b[32m━━━━━━━━━━━━━━━━━━━━\u001b[0m\u001b[37m\u001b[0m \u001b[1m0s\u001b[0m 3ms/step - accuracy: 0.8970 - loss: 0.2757 - val_accuracy: 0.8667 - val_loss: 0.2811\n",
            "Epoch 12/40\n",
            "\u001b[1m37/38\u001b[0m \u001b[32m━━━━━━━━━━━━━━━━━━━\u001b[0m\u001b[37m━\u001b[0m \u001b[1m0s\u001b[0m 1ms/step - accuracy: 0.8982 - loss: 0.2592 \n",
            "Epoch 12: val_loss improved from 0.28111 to 0.27985, saving model to best_model.keras\n",
            "\u001b[1m38/38\u001b[0m \u001b[32m━━━━━━━━━━━━━━━━━━━━\u001b[0m\u001b[37m\u001b[0m \u001b[1m0s\u001b[0m 3ms/step - accuracy: 0.8983 - loss: 0.2589 - val_accuracy: 0.8633 - val_loss: 0.2798\n",
            "Epoch 13/40\n",
            "\u001b[1m34/38\u001b[0m \u001b[32m━━━━━━━━━━━━━━━━━\u001b[0m\u001b[37m━━━\u001b[0m \u001b[1m0s\u001b[0m 2ms/step - accuracy: 0.9165 - loss: 0.2344  \n",
            "Epoch 13: val_loss improved from 0.27985 to 0.27529, saving model to best_model.keras\n",
            "\u001b[1m38/38\u001b[0m \u001b[32m━━━━━━━━━━━━━━━━━━━━\u001b[0m\u001b[37m\u001b[0m \u001b[1m0s\u001b[0m 3ms/step - accuracy: 0.9152 - loss: 0.2351 - val_accuracy: 0.8700 - val_loss: 0.2753\n",
            "Epoch 14/40\n",
            "\u001b[1m38/38\u001b[0m \u001b[32m━━━━━━━━━━━━━━━━━━━━\u001b[0m\u001b[37m\u001b[0m \u001b[1m0s\u001b[0m 1ms/step - accuracy: 0.9157 - loss: 0.2253 \n",
            "Epoch 14: val_loss did not improve from 0.27529\n",
            "\u001b[1m38/38\u001b[0m \u001b[32m━━━━━━━━━━━━━━━━━━━━\u001b[0m\u001b[37m\u001b[0m \u001b[1m0s\u001b[0m 2ms/step - accuracy: 0.9155 - loss: 0.2254 - val_accuracy: 0.8567 - val_loss: 0.2824\n",
            "Epoch 15/40\n",
            "\u001b[1m38/38\u001b[0m \u001b[32m━━━━━━━━━━━━━━━━━━━━\u001b[0m\u001b[37m\u001b[0m \u001b[1m0s\u001b[0m 1ms/step - accuracy: 0.9199 - loss: 0.2098 \n",
            "Epoch 15: val_loss improved from 0.27529 to 0.26781, saving model to best_model.keras\n",
            "\u001b[1m38/38\u001b[0m \u001b[32m━━━━━━━━━━━━━━━━━━━━\u001b[0m\u001b[37m\u001b[0m \u001b[1m0s\u001b[0m 3ms/step - accuracy: 0.9197 - loss: 0.2101 - val_accuracy: 0.8633 - val_loss: 0.2678\n",
            "Epoch 16/40\n",
            "\u001b[1m29/38\u001b[0m \u001b[32m━━━━━━━━━━━━━━━\u001b[0m\u001b[37m━━━━━\u001b[0m \u001b[1m0s\u001b[0m 2ms/step - accuracy: 0.9244 - loss: 0.1958 \n",
            "Epoch 16: val_loss did not improve from 0.26781\n",
            "\u001b[1m38/38\u001b[0m \u001b[32m━━━━━━━━━━━━━━━━━━━━\u001b[0m\u001b[37m\u001b[0m \u001b[1m0s\u001b[0m 3ms/step - accuracy: 0.9224 - loss: 0.1997 - val_accuracy: 0.8667 - val_loss: 0.2687\n",
            "Epoch 17/40\n",
            "\u001b[1m 1/38\u001b[0m \u001b[37m━━━━━━━━━━━━━━━━━━━━\u001b[0m \u001b[1m0s\u001b[0m 22ms/step - accuracy: 0.9062 - loss: 0.2122\n",
            "Epoch 17: val_loss improved from 0.26781 to 0.26393, saving model to best_model.keras\n",
            "\u001b[1m38/38\u001b[0m \u001b[32m━━━━━━━━━━━━━━━━━━━━\u001b[0m\u001b[37m\u001b[0m \u001b[1m0s\u001b[0m 3ms/step - accuracy: 0.9305 - loss: 0.1877 - val_accuracy: 0.8667 - val_loss: 0.2639\n",
            "Epoch 18/40\n",
            "\u001b[1m35/38\u001b[0m \u001b[32m━━━━━━━━━━━━━━━━━━\u001b[0m\u001b[37m━━\u001b[0m \u001b[1m0s\u001b[0m 1ms/step - accuracy: 0.9265 - loss: 0.1954 \n",
            "Epoch 18: val_loss improved from 0.26393 to 0.26346, saving model to best_model.keras\n",
            "\u001b[1m38/38\u001b[0m \u001b[32m━━━━━━━━━━━━━━━━━━━━\u001b[0m\u001b[37m\u001b[0m \u001b[1m0s\u001b[0m 3ms/step - accuracy: 0.9266 - loss: 0.1949 - val_accuracy: 0.8633 - val_loss: 0.2635\n",
            "Epoch 19/40\n",
            "\u001b[1m 1/38\u001b[0m \u001b[37m━━━━━━━━━━━━━━━━━━━━\u001b[0m \u001b[1m6s\u001b[0m 182ms/step - accuracy: 0.9062 - loss: 0.1529\n",
            "Epoch 19: val_loss did not improve from 0.26346\n",
            "\u001b[1m38/38\u001b[0m \u001b[32m━━━━━━━━━━━━━━━━━━━━\u001b[0m\u001b[37m\u001b[0m \u001b[1m0s\u001b[0m 3ms/step - accuracy: 0.9196 - loss: 0.1897 - val_accuracy: 0.8567 - val_loss: 0.2759\n",
            "Epoch 20/40\n",
            "\u001b[1m37/38\u001b[0m \u001b[32m━━━━━━━━━━━━━━━━━━━\u001b[0m\u001b[37m━\u001b[0m \u001b[1m0s\u001b[0m 1ms/step - accuracy: 0.9351 - loss: 0.1842 \n",
            "Epoch 20: val_loss did not improve from 0.26346\n",
            "\u001b[1m38/38\u001b[0m \u001b[32m━━━━━━━━━━━━━━━━━━━━\u001b[0m\u001b[37m\u001b[0m \u001b[1m0s\u001b[0m 3ms/step - accuracy: 0.9349 - loss: 0.1839 - val_accuracy: 0.8667 - val_loss: 0.2692\n",
            "Epoch 21/40\n",
            "\u001b[1m37/38\u001b[0m \u001b[32m━━━━━━━━━━━━━━━━━━━\u001b[0m\u001b[37m━\u001b[0m \u001b[1m0s\u001b[0m 1ms/step - accuracy: 0.9408 - loss: 0.1578 \n",
            "Epoch 21: val_loss did not improve from 0.26346\n",
            "\u001b[1m38/38\u001b[0m \u001b[32m━━━━━━━━━━━━━━━━━━━━\u001b[0m\u001b[37m\u001b[0m \u001b[1m0s\u001b[0m 3ms/step - accuracy: 0.9404 - loss: 0.1584 - val_accuracy: 0.8600 - val_loss: 0.2642\n",
            "Epoch 22/40\n",
            "\u001b[1m30/38\u001b[0m \u001b[32m━━━━━━━━━━━━━━━\u001b[0m\u001b[37m━━━━━\u001b[0m \u001b[1m0s\u001b[0m 2ms/step - accuracy: 0.9365 - loss: 0.1555 \n",
            "Epoch 22: val_loss did not improve from 0.26346\n",
            "\u001b[1m38/38\u001b[0m \u001b[32m━━━━━━━━━━━━━━━━━━━━\u001b[0m\u001b[37m\u001b[0m \u001b[1m0s\u001b[0m 3ms/step - accuracy: 0.9378 - loss: 0.1560 - val_accuracy: 0.8533 - val_loss: 0.2663\n",
            "Epoch 23/40\n",
            "\u001b[1m33/38\u001b[0m \u001b[32m━━━━━━━━━━━━━━━━━\u001b[0m\u001b[37m━━━\u001b[0m \u001b[1m0s\u001b[0m 2ms/step - accuracy: 0.9506 - loss: 0.1390  \n",
            "Epoch 23: val_loss did not improve from 0.26346\n",
            "\u001b[1m38/38\u001b[0m \u001b[32m━━━━━━━━━━━━━━━━━━━━\u001b[0m\u001b[37m\u001b[0m \u001b[1m0s\u001b[0m 3ms/step - accuracy: 0.9501 - loss: 0.1403 - val_accuracy: 0.8600 - val_loss: 0.2804\n",
            "Epoch 24/40\n",
            "\u001b[1m37/38\u001b[0m \u001b[32m━━━━━━━━━━━━━━━━━━━\u001b[0m\u001b[37m━\u001b[0m \u001b[1m0s\u001b[0m 1ms/step - accuracy: 0.9518 - loss: 0.1420 \n",
            "Epoch 24: val_loss did not improve from 0.26346\n",
            "\u001b[1m38/38\u001b[0m \u001b[32m━━━━━━━━━━━━━━━━━━━━\u001b[0m\u001b[37m\u001b[0m \u001b[1m0s\u001b[0m 3ms/step - accuracy: 0.9516 - loss: 0.1421 - val_accuracy: 0.8500 - val_loss: 0.2700\n",
            "Epoch 25/40\n",
            "\u001b[1m38/38\u001b[0m \u001b[32m━━━━━━━━━━━━━━━━━━━━\u001b[0m\u001b[37m\u001b[0m \u001b[1m0s\u001b[0m 1ms/step - accuracy: 0.9494 - loss: 0.1382 \n",
            "Epoch 25: val_loss did not improve from 0.26346\n",
            "\u001b[1m38/38\u001b[0m \u001b[32m━━━━━━━━━━━━━━━━━━━━\u001b[0m\u001b[37m\u001b[0m \u001b[1m0s\u001b[0m 2ms/step - accuracy: 0.9495 - loss: 0.1383 - val_accuracy: 0.8633 - val_loss: 0.2667\n",
            "Epoch 26/40\n",
            "\u001b[1m32/38\u001b[0m \u001b[32m━━━━━━━━━━━━━━━━\u001b[0m\u001b[37m━━━━\u001b[0m \u001b[1m0s\u001b[0m 2ms/step - accuracy: 0.9633 - loss: 0.1244 \n",
            "Epoch 26: val_loss did not improve from 0.26346\n",
            "\u001b[1m38/38\u001b[0m \u001b[32m━━━━━━━━━━━━━━━━━━━━\u001b[0m\u001b[37m\u001b[0m \u001b[1m0s\u001b[0m 3ms/step - accuracy: 0.9612 - loss: 0.1264 - val_accuracy: 0.8533 - val_loss: 0.2723\n",
            "Epoch 27/40\n",
            "\u001b[1m36/38\u001b[0m \u001b[32m━━━━━━━━━━━━━━━━━━\u001b[0m\u001b[37m━━\u001b[0m \u001b[1m0s\u001b[0m 1ms/step - accuracy: 0.9652 - loss: 0.1186  \n",
            "Epoch 27: val_loss did not improve from 0.26346\n",
            "\u001b[1m38/38\u001b[0m \u001b[32m━━━━━━━━━━━━━━━━━━━━\u001b[0m\u001b[37m\u001b[0m \u001b[1m0s\u001b[0m 3ms/step - accuracy: 0.9644 - loss: 0.1193 - val_accuracy: 0.8533 - val_loss: 0.2801\n",
            "Epoch 28/40\n",
            "\u001b[1m37/38\u001b[0m \u001b[32m━━━━━━━━━━━━━━━━━━━\u001b[0m\u001b[37m━\u001b[0m \u001b[1m0s\u001b[0m 1ms/step - accuracy: 0.9613 - loss: 0.1233 \n",
            "Epoch 28: val_loss did not improve from 0.26346\n",
            "\u001b[1m38/38\u001b[0m \u001b[32m━━━━━━━━━━━━━━━━━━━━\u001b[0m\u001b[37m\u001b[0m \u001b[1m0s\u001b[0m 3ms/step - accuracy: 0.9611 - loss: 0.1232 - val_accuracy: 0.8633 - val_loss: 0.2799\n",
            "Epoch 29/40\n",
            "\u001b[1m33/38\u001b[0m \u001b[32m━━━━━━━━━━━━━━━━━\u001b[0m\u001b[37m━━━\u001b[0m \u001b[1m0s\u001b[0m 2ms/step - accuracy: 0.9605 - loss: 0.1127 \n",
            "Epoch 29: val_loss did not improve from 0.26346\n",
            "\u001b[1m38/38\u001b[0m \u001b[32m━━━━━━━━━━━━━━━━━━━━\u001b[0m\u001b[37m\u001b[0m \u001b[1m0s\u001b[0m 3ms/step - accuracy: 0.9600 - loss: 0.1139 - val_accuracy: 0.8767 - val_loss: 0.2768\n",
            "Epoch 30/40\n",
            "\u001b[1m31/38\u001b[0m \u001b[32m━━━━━━━━━━━━━━━━\u001b[0m\u001b[37m━━━━\u001b[0m \u001b[1m0s\u001b[0m 2ms/step - accuracy: 0.9652 - loss: 0.1112  \n",
            "Epoch 30: val_loss did not improve from 0.26346\n",
            "\u001b[1m38/38\u001b[0m \u001b[32m━━━━━━━━━━━━━━━━━━━━\u001b[0m\u001b[37m\u001b[0m \u001b[1m0s\u001b[0m 3ms/step - accuracy: 0.9640 - loss: 0.1122 - val_accuracy: 0.8633 - val_loss: 0.2831\n",
            "Epoch 31/40\n",
            "\u001b[1m37/38\u001b[0m \u001b[32m━━━━━━━━━━━━━━━━━━━\u001b[0m\u001b[37m━\u001b[0m \u001b[1m0s\u001b[0m 1ms/step - accuracy: 0.9704 - loss: 0.1091 \n",
            "Epoch 31: val_loss did not improve from 0.26346\n",
            "\u001b[1m38/38\u001b[0m \u001b[32m━━━━━━━━━━━━━━━━━━━━\u001b[0m\u001b[37m\u001b[0m \u001b[1m0s\u001b[0m 3ms/step - accuracy: 0.9700 - loss: 0.1093 - val_accuracy: 0.8567 - val_loss: 0.2825\n",
            "Epoch 32/40\n",
            "\u001b[1m30/38\u001b[0m \u001b[32m━━━━━━━━━━━━━━━\u001b[0m\u001b[37m━━━━━\u001b[0m \u001b[1m0s\u001b[0m 2ms/step - accuracy: 0.9539 - loss: 0.1167 \n",
            "Epoch 32: val_loss did not improve from 0.26346\n",
            "\u001b[1m38/38\u001b[0m \u001b[32m━━━━━━━━━━━━━━━━━━━━\u001b[0m\u001b[37m\u001b[0m \u001b[1m0s\u001b[0m 3ms/step - accuracy: 0.9553 - loss: 0.1149 - val_accuracy: 0.8600 - val_loss: 0.2920\n",
            "Epoch 33/40\n",
            "\u001b[1m35/38\u001b[0m \u001b[32m━━━━━━━━━━━━━━━━━━\u001b[0m\u001b[37m━━\u001b[0m \u001b[1m0s\u001b[0m 1ms/step - accuracy: 0.9630 - loss: 0.1039 \n",
            "Epoch 33: val_loss did not improve from 0.26346\n",
            "\u001b[1m38/38\u001b[0m \u001b[32m━━━━━━━━━━━━━━━━━━━━\u001b[0m\u001b[37m\u001b[0m \u001b[1m0s\u001b[0m 3ms/step - accuracy: 0.9628 - loss: 0.1040 - val_accuracy: 0.8567 - val_loss: 0.2790\n",
            "Epoch 34/40\n",
            "\u001b[1m35/38\u001b[0m \u001b[32m━━━━━━━━━━━━━━━━━━\u001b[0m\u001b[37m━━\u001b[0m \u001b[1m0s\u001b[0m 2ms/step - accuracy: 0.9615 - loss: 0.1003 \n",
            "Epoch 34: val_loss did not improve from 0.26346\n",
            "\u001b[1m38/38\u001b[0m \u001b[32m━━━━━━━━━━━━━━━━━━━━\u001b[0m\u001b[37m\u001b[0m \u001b[1m0s\u001b[0m 3ms/step - accuracy: 0.9614 - loss: 0.1005 - val_accuracy: 0.8633 - val_loss: 0.3029\n",
            "Epoch 35/40\n",
            "\u001b[1m37/38\u001b[0m \u001b[32m━━━━━━━━━━━━━━━━━━━\u001b[0m\u001b[37m━\u001b[0m \u001b[1m0s\u001b[0m 1ms/step - accuracy: 0.9735 - loss: 0.0817 \n",
            "Epoch 35: val_loss did not improve from 0.26346\n",
            "\u001b[1m38/38\u001b[0m \u001b[32m━━━━━━━━━━━━━━━━━━━━\u001b[0m\u001b[37m\u001b[0m \u001b[1m0s\u001b[0m 3ms/step - accuracy: 0.9731 - loss: 0.0825 - val_accuracy: 0.8700 - val_loss: 0.3045\n",
            "Epoch 36/40\n",
            "\u001b[1m34/38\u001b[0m \u001b[32m━━━━━━━━━━━━━━━━━\u001b[0m\u001b[37m━━━\u001b[0m \u001b[1m0s\u001b[0m 2ms/step - accuracy: 0.9687 - loss: 0.0902 \n",
            "Epoch 36: val_loss did not improve from 0.26346\n",
            "\u001b[1m38/38\u001b[0m \u001b[32m━━━━━━━━━━━━━━━━━━━━\u001b[0m\u001b[37m\u001b[0m \u001b[1m0s\u001b[0m 3ms/step - accuracy: 0.9679 - loss: 0.0907 - val_accuracy: 0.8700 - val_loss: 0.2909\n",
            "Epoch 37/40\n",
            "\u001b[1m37/38\u001b[0m \u001b[32m━━━━━━━━━━━━━━━━━━━\u001b[0m\u001b[37m━\u001b[0m \u001b[1m0s\u001b[0m 1ms/step - accuracy: 0.9632 - loss: 0.0949 \n",
            "Epoch 37: val_loss did not improve from 0.26346\n",
            "\u001b[1m38/38\u001b[0m \u001b[32m━━━━━━━━━━━━━━━━━━━━\u001b[0m\u001b[37m\u001b[0m \u001b[1m0s\u001b[0m 2ms/step - accuracy: 0.9632 - loss: 0.0949 - val_accuracy: 0.8700 - val_loss: 0.3203\n",
            "Epoch 38/40\n",
            "\u001b[1m27/38\u001b[0m \u001b[32m━━━━━━━━━━━━━━\u001b[0m\u001b[37m━━━━━━\u001b[0m \u001b[1m0s\u001b[0m 2ms/step - accuracy: 0.9602 - loss: 0.0878 \n",
            "Epoch 38: val_loss did not improve from 0.26346\n",
            "\u001b[1m38/38\u001b[0m \u001b[32m━━━━━━━━━━━━━━━━━━━━\u001b[0m\u001b[37m\u001b[0m \u001b[1m0s\u001b[0m 3ms/step - accuracy: 0.9614 - loss: 0.0884 - val_accuracy: 0.8633 - val_loss: 0.3285\n",
            "Epoch 39/40\n",
            "\u001b[1m29/38\u001b[0m \u001b[32m━━━━━━━━━━━━━━━\u001b[0m\u001b[37m━━━━━\u001b[0m \u001b[1m0s\u001b[0m 2ms/step - accuracy: 0.9652 - loss: 0.0803 \n",
            "Epoch 39: val_loss did not improve from 0.26346\n",
            "\u001b[1m38/38\u001b[0m \u001b[32m━━━━━━━━━━━━━━━━━━━━\u001b[0m\u001b[37m\u001b[0m \u001b[1m0s\u001b[0m 3ms/step - accuracy: 0.9631 - loss: 0.0843 - val_accuracy: 0.8733 - val_loss: 0.2966\n",
            "Epoch 40/40\n",
            "\u001b[1m22/38\u001b[0m \u001b[32m━━━━━━━━━━━\u001b[0m\u001b[37m━━━━━━━━━\u001b[0m \u001b[1m0s\u001b[0m 2ms/step - accuracy: 0.9705 - loss: 0.0710 \n",
            "Epoch 40: val_loss did not improve from 0.26346\n",
            "\u001b[1m38/38\u001b[0m \u001b[32m━━━━━━━━━━━━━━━━━━━━\u001b[0m\u001b[37m\u001b[0m \u001b[1m0s\u001b[0m 3ms/step - accuracy: 0.9657 - loss: 0.0788 - val_accuracy: 0.8700 - val_loss: 0.3169\n",
            "\u001b[1m12/12\u001b[0m \u001b[32m━━━━━━━━━━━━━━━━━━━━\u001b[0m\u001b[37m\u001b[0m \u001b[1m0s\u001b[0m 2ms/step - accuracy: 0.8296 - loss: 0.4861 \n",
            "Test Accuracy: 0.8240000009536743\n"
          ]
        }
      ]
    },
    {
      "cell_type": "code",
      "source": [
        "y_pred = np.argmax(model.predict(X_test), axis=-1)\n"
      ],
      "metadata": {
        "colab": {
          "base_uri": "https://localhost:8080/"
        },
        "id": "6W1PMzNsramz",
        "outputId": "f632ad0a-e667-43d8-89fa-165f698b0aaf"
      },
      "execution_count": null,
      "outputs": [
        {
          "output_type": "stream",
          "name": "stdout",
          "text": [
            "\u001b[1m12/12\u001b[0m \u001b[32m━━━━━━━━━━━━━━━━━━━━\u001b[0m\u001b[37m\u001b[0m \u001b[1m0s\u001b[0m 5ms/step\n"
          ]
        }
      ]
    },
    {
      "cell_type": "markdown",
      "source": [],
      "metadata": {
        "id": "nJwOWrsg5Jj2"
      }
    },
    {
      "cell_type": "code",
      "source": [
        "import matplotlib.pyplot as plt\n",
        "\n",
        "# Accuracy plot\n",
        "plt.plot(history.history['accuracy'], label='Training Accuracy')\n",
        "plt.plot(history.history['val_accuracy'], label='Validation Accuracy')\n",
        "plt.legend()\n",
        "plt.title('Accuracy')\n",
        "plt.show()\n",
        "\n",
        "# Loss plot\n",
        "plt.plot(history.history['loss'], label='Training Loss')\n",
        "plt.plot(history.history['val_loss'], label='Validation Loss')\n",
        "plt.legend()\n",
        "plt.title('Loss')\n",
        "plt.show()\n"
      ],
      "metadata": {
        "colab": {
          "base_uri": "https://localhost:8080/",
          "height": 887
        },
        "id": "9qB3gc_LBAFz",
        "outputId": "339d289b-5f1f-434f-8170-190ac1bb41bd"
      },
      "execution_count": null,
      "outputs": [
        {
          "output_type": "display_data",
          "data": {
            "text/plain": [
              "<Figure size 640x480 with 1 Axes>"
            ],
            "image/png": "[encoded data removed]"
          },
          "metadata": {}
        },
        {
          "output_type": "display_data",
          "data": {
            "text/plain": [
              "<Figure size 640x480 with 1 Axes>"
            ],
            "image/png": "[encoded data removed]"
          },
          "metadata": {}
        }
      ]
    },
    {
      "cell_type": "code",
      "source": [
        "# best_model_125020122024\n",
        "# emotion_model.h5\n",
        "\n",
        "\n",
        "import matplotlib.pyplot as plt\n",
        "\n",
        "# Accuracy plot\n",
        "plt.plot(history.history['accuracy'], label='Training Accuracy')\n",
        "plt.plot(history.history['val_accuracy'], label='Validation Accuracy')\n",
        "plt.legend()\n",
        "plt.title('Accuracy')\n",
        "plt.show()\n",
        "\n",
        "# Loss plot\n",
        "plt.plot(history.history['loss'], label='Training Loss')\n",
        "plt.plot(history.history['val_loss'], label='Validation Loss')\n",
        "plt.legend()\n",
        "plt.title('Loss')\n",
        "plt.show()\n"
      ],
      "metadata": {
        "colab": {
          "base_uri": "https://localhost:8080/",
          "height": 887
        },
        "id": "R83wB1VWrfGu",
        "outputId": "6d041f61-765a-473d-b829-5cc0b55612d8"
      },
      "execution_count": null,
      "outputs": [
        {
          "output_type": "display_data",
          "data": {
            "text/plain": [
              "<Figure size 640x480 with 1 Axes>"
            ],
            "image/png": "[encoded data removed]"
          },
          "metadata": {}
        },
        {
          "output_type": "display_data",
          "data": {
            "text/plain": [
              "<Figure size 640x480 with 1 Axes>"
            ],
            "image/png": "[encoded data removed]"
          },
          "metadata": {}
        }
      ]
    },
    {
      "cell_type": "code",
      "source": [
        "y_pred"
      ],
      "metadata": {
        "colab": {
          "base_uri": "https://localhost:8080/"
        },
        "id": "J7yt3XzssY3o",
        "outputId": "0e01da9f-5bdb-4475-8f72-0fca060f65c3"
      },
      "execution_count": null,
      "outputs": [
        {
          "output_type": "execute_result",
          "data": {
            "text/plain": [
              "array([1, 1, 1, 1, 1, 1, 1, 1, 1, 1, 1, 1, 1, 1, 1, 1, 1, 1, 1, 1, 1, 1,\n",
              "       1, 1, 1, 1, 1, 1, 1, 1, 1, 1, 1, 1, 1, 1, 1, 1, 1, 1, 1, 1, 1, 1,\n",
              "       1, 1, 1, 1, 1, 1, 1, 1, 1, 1, 1, 1, 1, 1, 1, 1, 1, 1, 1, 1, 1, 1,\n",
              "       1, 1, 1, 1, 1, 1, 1, 1, 1, 1, 1, 1, 1, 1, 1, 1, 1, 1, 1, 1, 1, 1,\n",
              "       1, 1, 1, 1, 1, 1, 1, 1, 1, 1, 1, 1, 1, 1, 1, 1, 1, 1, 1, 1, 1, 1,\n",
              "       1, 1, 1, 1, 1, 1, 1, 1, 1, 1, 1, 1, 1, 1, 1, 1, 1, 1, 1, 1, 1, 1,\n",
              "       1, 1, 1, 1, 1, 1, 1, 1, 1, 1, 1, 1, 1, 1, 1, 1, 1, 1, 1, 1, 1, 1,\n",
              "       1, 1, 1, 1, 1, 1, 1, 1, 1, 1, 1, 1, 1, 1, 1, 1, 1, 1, 1, 1, 1, 1,\n",
              "       1, 1, 1, 1, 1, 1, 1, 1, 1, 1, 1, 1, 1, 1, 1, 1, 1, 1, 1, 1, 1, 1,\n",
              "       1, 1, 1, 1, 1, 1, 1, 1, 1, 1, 1, 1, 1, 1, 1, 1, 1, 1, 1, 1, 1, 1,\n",
              "       1, 1, 1, 1, 1, 1, 1, 1, 1, 1, 1, 1, 1, 1, 1, 1, 1, 1, 1, 1, 1, 1,\n",
              "       1, 1, 1, 1, 1, 1, 1, 1, 1, 1, 1, 1, 1, 1, 1, 1, 1, 1, 1, 1, 1, 1,\n",
              "       1, 1, 1, 1, 1, 1, 1, 1, 1, 1, 1, 1, 1, 1, 1, 1, 1, 1, 1, 1, 1, 1,\n",
              "       1, 1, 1, 1, 1, 1, 1, 1, 1, 1, 1, 1, 1, 1, 1, 1, 1, 1, 1, 1, 1, 1,\n",
              "       1, 1, 1, 1, 1, 1, 1, 1, 1, 1, 1, 1, 1, 1, 1, 1, 1, 1, 1, 1, 1, 1,\n",
              "       1, 1, 1, 1, 1, 1, 1, 1, 1, 1, 1, 1, 1, 1, 1, 1, 1, 1, 1, 1, 1, 1,\n",
              "       1, 1, 1, 1, 1, 1, 1, 1, 1, 1, 1, 1, 1, 1, 1, 1, 1, 1, 1, 1, 1, 1,\n",
              "       1])"
            ]
          },
          "metadata": {},
          "execution_count": 116
        }
      ]
    },
    {
      "cell_type": "code",
      "source": [],
      "metadata": {
        "id": "ZxzPIX67sZ56"
      },
      "execution_count": null,
      "outputs": []
    },
    {
      "cell_type": "code",
      "source": [
        "model.save('emotion_model.h5')\n",
        "print(\"Model saved as 'emotion_model.h5'\")"
      ],
      "metadata": {
        "colab": {
          "base_uri": "https://localhost:8080/"
        },
        "id": "DSZtJ-FAs--F",
        "outputId": "18061526-8f5c-4c59-ee98-ceb4a680c5df"
      },
      "execution_count": null,
      "outputs": [
        {
          "output_type": "stream",
          "name": "stderr",
          "text": [
            "WARNING:absl:You are saving your model as an HDF5 file via `model.save()` or `keras.saving.save_model(model)`. This file format is considered legacy. We recommend using instead the native Keras format, e.g. `model.save('my_model.keras')` or `keras.saving.save_model(model, 'my_model.keras')`. \n"
          ]
        },
        {
          "output_type": "stream",
          "name": "stdout",
          "text": [
            "Model saved as 'emotion_model.h5'\n"
          ]
        }
      ]
    },
    {
      "cell_type": "code",
      "source": [
        "from google.colab import files\n",
        "\n",
        "# Download the .h5 file\n",
        "files.download('best_model.keras')\n"
      ],
      "metadata": {
        "colab": {
          "base_uri": "https://localhost:8080/",
          "height": 17
        },
        "id": "35rkZ9c3xBRd",
        "outputId": "13aabaf8-c497-4537-d308-120f0c050b93"
      },
      "execution_count": null,
      "outputs": [
        {
          "output_type": "display_data",
          "data": {
            "text/plain": [
              "<IPython.core.display.Javascript object>"
            ],
            "application/javascript": [
              "\n",
              "    async function download(id, filename, size) {\n",
              "      if (!google.colab.kernel.accessAllowed) {\n",
              "        return;\n",
              "      }\n",
              "      const div = document.createElement('div');\n",
              "      const label = document.createElement('label');\n",
              "      label.textContent = `Downloading \"${filename}\": `;\n",
              "      div.appendChild(label);\n",
              "      const progress = document.createElement('progress');\n",
              "      progress.max = size;\n",
              "      div.appendChild(progress);\n",
              "      document.body.appendChild(div);\n",
              "\n",
              "      const buffers = [];\n",
              "      let downloaded = 0;\n",
              "\n",
              "      const channel = await google.colab.kernel.comms.open(id);\n",
              "      // Send a message to notify the kernel that we're ready.\n",
              "      channel.send({})\n",
              "\n",
              "      for await (const message of channel.messages) {\n",
              "        // Send a message to notify the kernel that we're ready.\n",
              "        channel.send({})\n",
              "        if (message.buffers) {\n",
              "          for (const buffer of message.buffers) {\n",
              "            buffers.push(buffer);\n",
              "            downloaded += buffer.byteLength;\n",
              "            progress.value = downloaded;\n",
              "          }\n",
              "        }\n",
              "      }\n",
              "      const blob = new Blob(buffers, {type: 'application/binary'});\n",
              "      const a = document.createElement('a');\n",
              "      a.href = window.URL.createObjectURL(blob);\n",
              "      a.download = filename;\n",
              "      div.appendChild(a);\n",
              "      a.click();\n",
              "      div.remove();\n",
              "    }\n",
              "  "
            ]
          },
          "metadata": {}
        },
        {
          "output_type": "display_data",
          "data": {
            "text/plain": [
              "<IPython.core.display.Javascript object>"
            ],
            "application/javascript": [
              "download(\"download_5a0615db-f4e9-475f-aab7-a81996419c3a\", \"best_model.keras\", 177930)"
            ]
          },
          "metadata": {}
        }
      ]
    },
    {
      "cell_type": "code",
      "source": [
        "from tensorflow.keras.models import load_model\n",
        "\n",
        "# Save the model\n",
        "model = load_model('best_model.keras')\n",
        "print(\"Loaded Model Emotins\")"
      ],
      "metadata": {
        "colab": {
          "base_uri": "https://localhost:8080/"
        },
        "id": "rNpsKmC3tCE0",
        "outputId": "00431d59-1fe8-4d25-c145-377b7bc5b04b"
      },
      "execution_count": null,
      "outputs": [
        {
          "output_type": "stream",
          "name": "stdout",
          "text": [
            "Loaded Model Emotins\n"
          ]
        }
      ]
    },
    {
      "cell_type": "code",
      "source": [],
      "metadata": {
        "id": "3l7dsIgkz2to"
      },
      "execution_count": null,
      "outputs": []
    },
    {
      "cell_type": "code",
      "source": [
        "import os\n",
        "import librosa\n",
        "import numpy as np\n",
        "import pandas as pd\n",
        "\n",
        "# Directory containing test .wav files\n",
        "test_dir = '/content/data/Test/Test/'  # Update with your actual folder path\n",
        "\n",
        "# Initialize a list to store results\n",
        "results = []\n",
        "test_feature_list = []\n",
        "# Loop through all .wav files in the directory\n",
        "for file_name in os.listdir(test_dir):\n",
        "    if file_name.endswith('.wav'):\n",
        "        file_path = os.path.join(test_dir, file_name)\n",
        "\n",
        "        # Load the audio file\n",
        "        audio, sample_rate = librosa.load(file_path, mono=True)\n",
        "\n",
        "        # Extract features (example: MFCCs, Chroma, Spectral Contrast)\n",
        "        mfccs_st = librosa.feature.mfcc(y=audio, sr=sample_rate, n_mfcc=13)\n",
        "        mfccs = np.mean(mfccs_st.T, axis=0)\n",
        "\n",
        "        chroma_st = librosa.feature.chroma_stft(y=audio, sr=sample_rate)\n",
        "        chroma = np.mean(chroma_st.T, axis=0)\n",
        "\n",
        "        spectral_contrast_st = librosa.feature.spectral_contrast(y=audio, sr=sample_rate)\n",
        "        spectral_contrast = np.mean(spectral_contrast_st.T, axis=0)\n",
        "        tempo, _ = librosa.beat.beat_track(y=audio, sr=sample_rate)\n",
        "        # Combine features into a single feature vector\n",
        "        features = np.hstack([mfccs, chroma, spectral_contrast, tempo])\n",
        "        # test_feature_list.append(features)\n",
        "        # features = np.hstack([mfccs, chroma_mean, spectral_contrast_mean,tempo ])\n",
        "        # print(features)\n",
        "        # features = np.hstack([mfccs, chroma_mean, spectral_contrast_mean,tempo ])\n",
        "\n",
        "        # Scale features using the scaler from training\n",
        "        features_scaled = scaler.transform([features])\n",
        "\n",
        "        # Predict the emotion\n",
        "        prediction = model.predict(features_scaled)\n",
        "        predicted_class = np.argmax(prediction, axis=1)\n",
        "        predicted_emotion = label_encoder.inverse_transform(predicted_class)\n",
        "\n",
        "        # Append the result\n",
        "        results.append({'File Name': file_name, 'Target': predicted_emotion[0]})\n",
        "\n",
        "# Convert results to a DataFrame\n",
        "results_df = pd.DataFrame(results)\n",
        "\n",
        "# Save results to a CSV file\n",
        "results_df.to_csv('submissions_now.csv', index=False)\n",
        "print(\"Predictions saved to 'submissiosns_130520122024.csv'\")\n"
      ],
      "metadata": {
        "colab": {
          "base_uri": "https://localhost:8080/"
        },
        "id": "xeAVWSqfuPc-",
        "outputId": "e8881a4e-4c28-46ea-d154-b51762c10a47"
      },
      "execution_count": null,
      "outputs": [
        {
          "output_type": "stream",
          "name": "stdout",
          "text": [
            "\r\u001b[1m1/1\u001b[0m \u001b[32m━━━━━━━━━━━━━━━━━━━━\u001b[0m\u001b[37m\u001b[0m \u001b[1m0s\u001b[0m 80ms/step"
          ]
        },
        {
          "output_type": "stream",
          "name": "stderr",
          "text": [
            "/usr/local/lib/python3.10/dist-packages/sklearn/utils/validation.py:2739: UserWarning: X does not have valid feature names, but StandardScaler was fitted with feature names\n",
            "  warnings.warn(\n"
          ]
        },
        {
          "output_type": "stream",
          "name": "stdout",
          "text": [
            "\u001b[1m1/1\u001b[0m \u001b[32m━━━━━━━━━━━━━━━━━━━━\u001b[0m\u001b[37m\u001b[0m \u001b[1m0s\u001b[0m 87ms/step\n",
            "\u001b[1m1/1\u001b[0m \u001b[32m━━━━━━━━━━━━━━━━━━━━\u001b[0m\u001b[37m\u001b[0m \u001b[1m0s\u001b[0m 64ms/step\n"
          ]
        },
        {
          "output_type": "stream",
          "name": "stderr",
          "text": [
            "/usr/local/lib/python3.10/dist-packages/sklearn/utils/validation.py:2739: UserWarning: X does not have valid feature names, but StandardScaler was fitted with feature names\n",
            "  warnings.warn(\n",
            "/usr/local/lib/python3.10/dist-packages/sklearn/utils/validation.py:2739: UserWarning: X does not have valid feature names, but StandardScaler was fitted with feature names\n",
            "  warnings.warn(\n"
          ]
        },
        {
          "output_type": "stream",
          "name": "stdout",
          "text": [
            "\u001b[1m1/1\u001b[0m \u001b[32m━━━━━━━━━━━━━━━━━━━━\u001b[0m\u001b[37m\u001b[0m \u001b[1m0s\u001b[0m 74ms/step\n",
            "\u001b[1m1/1\u001b[0m \u001b[32m━━━━━━━━━━━━━━━━━━━━\u001b[0m\u001b[37m\u001b[0m \u001b[1m0s\u001b[0m 50ms/step\n"
          ]
        },
        {
          "output_type": "stream",
          "name": "stderr",
          "text": [
            "/usr/local/lib/python3.10/dist-packages/sklearn/utils/validation.py:2739: UserWarning: X does not have valid feature names, but StandardScaler was fitted with feature names\n",
            "  warnings.warn(\n"
          ]
        },
        {
          "output_type": "stream",
          "name": "stdout",
          "text": [
            "\u001b[1m1/1\u001b[0m \u001b[32m━━━━━━━━━━━━━━━━━━━━\u001b[0m\u001b[37m\u001b[0m \u001b[1m0s\u001b[0m 30ms/step\n"
          ]
        },
        {
          "output_type": "stream",
          "name": "stderr",
          "text": [
            "/usr/local/lib/python3.10/dist-packages/sklearn/utils/validation.py:2739: UserWarning: X does not have valid feature names, but StandardScaler was fitted with feature names\n",
            "  warnings.warn(\n"
          ]
        },
        {
          "output_type": "stream",
          "name": "stdout",
          "text": [
            "\u001b[1m1/1\u001b[0m \u001b[32m━━━━━━━━━━━━━━━━━━━━\u001b[0m\u001b[37m\u001b[0m \u001b[1m0s\u001b[0m 32ms/step\n"
          ]
        },
        {
          "output_type": "stream",
          "name": "stderr",
          "text": [
            "/usr/local/lib/python3.10/dist-packages/sklearn/utils/validation.py:2739: UserWarning: X does not have valid feature names, but StandardScaler was fitted with feature names\n",
            "  warnings.warn(\n"
          ]
        },
        {
          "output_type": "stream",
          "name": "stdout",
          "text": [
            "\u001b[1m1/1\u001b[0m \u001b[32m━━━━━━━━━━━━━━━━━━━━\u001b[0m\u001b[37m\u001b[0m \u001b[1m0s\u001b[0m 31ms/step\n"
          ]
        },
        {
          "output_type": "stream",
          "name": "stderr",
          "text": [
            "/usr/local/lib/python3.10/dist-packages/sklearn/utils/validation.py:2739: UserWarning: X does not have valid feature names, but StandardScaler was fitted with feature names\n",
            "  warnings.warn(\n",
            "/usr/local/lib/python3.10/dist-packages/sklearn/utils/validation.py:2739: UserWarning: X does not have valid feature names, but StandardScaler was fitted with feature names\n",
            "  warnings.warn(\n"
          ]
        },
        {
          "output_type": "stream",
          "name": "stdout",
          "text": [
            "\u001b[1m1/1\u001b[0m \u001b[32m━━━━━━━━━━━━━━━━━━━━\u001b[0m\u001b[37m\u001b[0m \u001b[1m0s\u001b[0m 30ms/step\n",
            "\u001b[1m1/1\u001b[0m \u001b[32m━━━━━━━━━━━━━━━━━━━━\u001b[0m\u001b[37m\u001b[0m \u001b[1m0s\u001b[0m 25ms/step\n"
          ]
        },
        {
          "output_type": "stream",
          "name": "stderr",
          "text": [
            "/usr/local/lib/python3.10/dist-packages/sklearn/utils/validation.py:2739: UserWarning: X does not have valid feature names, but StandardScaler was fitted with feature names\n",
            "  warnings.warn(\n",
            "/usr/local/lib/python3.10/dist-packages/sklearn/utils/validation.py:2739: UserWarning: X does not have valid feature names, but StandardScaler was fitted with feature names\n",
            "  warnings.warn(\n"
          ]
        },
        {
          "output_type": "stream",
          "name": "stdout",
          "text": [
            "\u001b[1m1/1\u001b[0m \u001b[32m━━━━━━━━━━━━━━━━━━━━\u001b[0m\u001b[37m\u001b[0m \u001b[1m0s\u001b[0m 28ms/step\n",
            "\u001b[1m1/1\u001b[0m \u001b[32m━━━━━━━━━━━━━━━━━━━━\u001b[0m\u001b[37m\u001b[0m \u001b[1m0s\u001b[0m 32ms/step\n"
          ]
        },
        {
          "output_type": "stream",
          "name": "stderr",
          "text": [
            "/usr/local/lib/python3.10/dist-packages/librosa/core/spectrum.py:266: UserWarning: n_fft=2048 is too large for input signal of length=1059\n",
            "  warnings.warn(\n",
            "/usr/local/lib/python3.10/dist-packages/sklearn/utils/validation.py:2739: UserWarning: X does not have valid feature names, but StandardScaler was fitted with feature names\n",
            "  warnings.warn(\n"
          ]
        },
        {
          "output_type": "stream",
          "name": "stdout",
          "text": [
            "\u001b[1m1/1\u001b[0m \u001b[32m━━━━━━━━━━━━━━━━━━━━\u001b[0m\u001b[37m\u001b[0m \u001b[1m0s\u001b[0m 31ms/step\n"
          ]
        },
        {
          "output_type": "stream",
          "name": "stderr",
          "text": [
            "/usr/local/lib/python3.10/dist-packages/sklearn/utils/validation.py:2739: UserWarning: X does not have valid feature names, but StandardScaler was fitted with feature names\n",
            "  warnings.warn(\n"
          ]
        },
        {
          "output_type": "stream",
          "name": "stdout",
          "text": [
            "\u001b[1m1/1\u001b[0m \u001b[32m━━━━━━━━━━━━━━━━━━━━\u001b[0m\u001b[37m\u001b[0m \u001b[1m0s\u001b[0m 25ms/step\n"
          ]
        },
        {
          "output_type": "stream",
          "name": "stderr",
          "text": [
            "/usr/local/lib/python3.10/dist-packages/sklearn/utils/validation.py:2739: UserWarning: X does not have valid feature names, but StandardScaler was fitted with feature names\n",
            "  warnings.warn(\n"
          ]
        },
        {
          "output_type": "stream",
          "name": "stdout",
          "text": [
            "\u001b[1m1/1\u001b[0m \u001b[32m━━━━━━━━━━━━━━━━━━━━\u001b[0m\u001b[37m\u001b[0m \u001b[1m0s\u001b[0m 35ms/step\n"
          ]
        },
        {
          "output_type": "stream",
          "name": "stderr",
          "text": [
            "/usr/local/lib/python3.10/dist-packages/sklearn/utils/validation.py:2739: UserWarning: X does not have valid feature names, but StandardScaler was fitted with feature names\n",
            "  warnings.warn(\n"
          ]
        },
        {
          "output_type": "stream",
          "name": "stdout",
          "text": [
            "\u001b[1m1/1\u001b[0m \u001b[32m━━━━━━━━━━━━━━━━━━━━\u001b[0m\u001b[37m\u001b[0m \u001b[1m0s\u001b[0m 26ms/step\n"
          ]
        },
        {
          "output_type": "stream",
          "name": "stderr",
          "text": [
            "/usr/local/lib/python3.10/dist-packages/sklearn/utils/validation.py:2739: UserWarning: X does not have valid feature names, but StandardScaler was fitted with feature names\n",
            "  warnings.warn(\n"
          ]
        },
        {
          "output_type": "stream",
          "name": "stdout",
          "text": [
            "\u001b[1m1/1\u001b[0m \u001b[32m━━━━━━━━━━━━━━━━━━━━\u001b[0m\u001b[37m\u001b[0m \u001b[1m0s\u001b[0m 22ms/step\n"
          ]
        },
        {
          "output_type": "stream",
          "name": "stderr",
          "text": [
            "/usr/local/lib/python3.10/dist-packages/sklearn/utils/validation.py:2739: UserWarning: X does not have valid feature names, but StandardScaler was fitted with feature names\n",
            "  warnings.warn(\n"
          ]
        },
        {
          "output_type": "stream",
          "name": "stdout",
          "text": [
            "\u001b[1m1/1\u001b[0m \u001b[32m━━━━━━━━━━━━━━━━━━━━\u001b[0m\u001b[37m\u001b[0m \u001b[1m0s\u001b[0m 30ms/step\n"
          ]
        },
        {
          "output_type": "stream",
          "name": "stderr",
          "text": [
            "/usr/local/lib/python3.10/dist-packages/sklearn/utils/validation.py:2739: UserWarning: X does not have valid feature names, but StandardScaler was fitted with feature names\n",
            "  warnings.warn(\n"
          ]
        },
        {
          "output_type": "stream",
          "name": "stdout",
          "text": [
            "\u001b[1m1/1\u001b[0m \u001b[32m━━━━━━━━━━━━━━━━━━━━\u001b[0m\u001b[37m\u001b[0m \u001b[1m0s\u001b[0m 29ms/step\n"
          ]
        },
        {
          "output_type": "stream",
          "name": "stderr",
          "text": [
            "/usr/local/lib/python3.10/dist-packages/sklearn/utils/validation.py:2739: UserWarning: X does not have valid feature names, but StandardScaler was fitted with feature names\n",
            "  warnings.warn(\n"
          ]
        },
        {
          "output_type": "stream",
          "name": "stdout",
          "text": [
            "\u001b[1m1/1\u001b[0m \u001b[32m━━━━━━━━━━━━━━━━━━━━\u001b[0m\u001b[37m\u001b[0m \u001b[1m0s\u001b[0m 29ms/step\n"
          ]
        },
        {
          "output_type": "stream",
          "name": "stderr",
          "text": [
            "/usr/local/lib/python3.10/dist-packages/sklearn/utils/validation.py:2739: UserWarning: X does not have valid feature names, but StandardScaler was fitted with feature names\n",
            "  warnings.warn(\n"
          ]
        },
        {
          "output_type": "stream",
          "name": "stdout",
          "text": [
            "\u001b[1m1/1\u001b[0m \u001b[32m━━━━━━━━━━━━━━━━━━━━\u001b[0m\u001b[37m\u001b[0m \u001b[1m0s\u001b[0m 24ms/step\n"
          ]
        },
        {
          "output_type": "stream",
          "name": "stderr",
          "text": [
            "/usr/local/lib/python3.10/dist-packages/sklearn/utils/validation.py:2739: UserWarning: X does not have valid feature names, but StandardScaler was fitted with feature names\n",
            "  warnings.warn(\n"
          ]
        },
        {
          "output_type": "stream",
          "name": "stdout",
          "text": [
            "\u001b[1m1/1\u001b[0m \u001b[32m━━━━━━━━━━━━━━━━━━━━\u001b[0m\u001b[37m\u001b[0m \u001b[1m0s\u001b[0m 26ms/step\n"
          ]
        },
        {
          "output_type": "stream",
          "name": "stderr",
          "text": [
            "/usr/local/lib/python3.10/dist-packages/sklearn/utils/validation.py:2739: UserWarning: X does not have valid feature names, but StandardScaler was fitted with feature names\n",
            "  warnings.warn(\n"
          ]
        },
        {
          "output_type": "stream",
          "name": "stdout",
          "text": [
            "\u001b[1m1/1\u001b[0m \u001b[32m━━━━━━━━━━━━━━━━━━━━\u001b[0m\u001b[37m\u001b[0m \u001b[1m0s\u001b[0m 25ms/step\n"
          ]
        },
        {
          "output_type": "stream",
          "name": "stderr",
          "text": [
            "/usr/local/lib/python3.10/dist-packages/sklearn/utils/validation.py:2739: UserWarning: X does not have valid feature names, but StandardScaler was fitted with feature names\n",
            "  warnings.warn(\n"
          ]
        },
        {
          "output_type": "stream",
          "name": "stdout",
          "text": [
            "\u001b[1m1/1\u001b[0m \u001b[32m━━━━━━━━━━━━━━━━━━━━\u001b[0m\u001b[37m\u001b[0m \u001b[1m0s\u001b[0m 28ms/step\n"
          ]
        },
        {
          "output_type": "stream",
          "name": "stderr",
          "text": [
            "/usr/local/lib/python3.10/dist-packages/sklearn/utils/validation.py:2739: UserWarning: X does not have valid feature names, but StandardScaler was fitted with feature names\n",
            "  warnings.warn(\n"
          ]
        },
        {
          "output_type": "stream",
          "name": "stdout",
          "text": [
            "\u001b[1m1/1\u001b[0m \u001b[32m━━━━━━━━━━━━━━━━━━━━\u001b[0m\u001b[37m\u001b[0m \u001b[1m0s\u001b[0m 27ms/step\n"
          ]
        },
        {
          "output_type": "stream",
          "name": "stderr",
          "text": [
            "/usr/local/lib/python3.10/dist-packages/sklearn/utils/validation.py:2739: UserWarning: X does not have valid feature names, but StandardScaler was fitted with feature names\n",
            "  warnings.warn(\n"
          ]
        },
        {
          "output_type": "stream",
          "name": "stdout",
          "text": [
            "\u001b[1m1/1\u001b[0m \u001b[32m━━━━━━━━━━━━━━━━━━━━\u001b[0m\u001b[37m\u001b[0m \u001b[1m0s\u001b[0m 25ms/step\n"
          ]
        },
        {
          "output_type": "stream",
          "name": "stderr",
          "text": [
            "/usr/local/lib/python3.10/dist-packages/sklearn/utils/validation.py:2739: UserWarning: X does not have valid feature names, but StandardScaler was fitted with feature names\n",
            "  warnings.warn(\n"
          ]
        },
        {
          "output_type": "stream",
          "name": "stdout",
          "text": [
            "\u001b[1m1/1\u001b[0m \u001b[32m━━━━━━━━━━━━━━━━━━━━\u001b[0m\u001b[37m\u001b[0m \u001b[1m0s\u001b[0m 27ms/step\n"
          ]
        },
        {
          "output_type": "stream",
          "name": "stderr",
          "text": [
            "/usr/local/lib/python3.10/dist-packages/sklearn/utils/validation.py:2739: UserWarning: X does not have valid feature names, but StandardScaler was fitted with feature names\n",
            "  warnings.warn(\n"
          ]
        },
        {
          "output_type": "stream",
          "name": "stdout",
          "text": [
            "\u001b[1m1/1\u001b[0m \u001b[32m━━━━━━━━━━━━━━━━━━━━\u001b[0m\u001b[37m\u001b[0m \u001b[1m0s\u001b[0m 30ms/step\n"
          ]
        },
        {
          "output_type": "stream",
          "name": "stderr",
          "text": [
            "/usr/local/lib/python3.10/dist-packages/sklearn/utils/validation.py:2739: UserWarning: X does not have valid feature names, but StandardScaler was fitted with feature names\n",
            "  warnings.warn(\n"
          ]
        },
        {
          "output_type": "stream",
          "name": "stdout",
          "text": [
            "\u001b[1m1/1\u001b[0m \u001b[32m━━━━━━━━━━━━━━━━━━━━\u001b[0m\u001b[37m\u001b[0m \u001b[1m0s\u001b[0m 23ms/step\n"
          ]
        },
        {
          "output_type": "stream",
          "name": "stderr",
          "text": [
            "/usr/local/lib/python3.10/dist-packages/sklearn/utils/validation.py:2739: UserWarning: X does not have valid feature names, but StandardScaler was fitted with feature names\n",
            "  warnings.warn(\n"
          ]
        },
        {
          "output_type": "stream",
          "name": "stdout",
          "text": [
            "\u001b[1m1/1\u001b[0m \u001b[32m━━━━━━━━━━━━━━━━━━━━\u001b[0m\u001b[37m\u001b[0m \u001b[1m0s\u001b[0m 26ms/step\n"
          ]
        },
        {
          "output_type": "stream",
          "name": "stderr",
          "text": [
            "/usr/local/lib/python3.10/dist-packages/sklearn/utils/validation.py:2739: UserWarning: X does not have valid feature names, but StandardScaler was fitted with feature names\n",
            "  warnings.warn(\n"
          ]
        },
        {
          "output_type": "stream",
          "name": "stdout",
          "text": [
            "\u001b[1m1/1\u001b[0m \u001b[32m━━━━━━━━━━━━━━━━━━━━\u001b[0m\u001b[37m\u001b[0m \u001b[1m0s\u001b[0m 26ms/step\n"
          ]
        },
        {
          "output_type": "stream",
          "name": "stderr",
          "text": [
            "/usr/local/lib/python3.10/dist-packages/sklearn/utils/validation.py:2739: UserWarning: X does not have valid feature names, but StandardScaler was fitted with feature names\n",
            "  warnings.warn(\n"
          ]
        },
        {
          "output_type": "stream",
          "name": "stdout",
          "text": [
            "\u001b[1m1/1\u001b[0m \u001b[32m━━━━━━━━━━━━━━━━━━━━\u001b[0m\u001b[37m\u001b[0m \u001b[1m0s\u001b[0m 26ms/step\n"
          ]
        },
        {
          "output_type": "stream",
          "name": "stderr",
          "text": [
            "/usr/local/lib/python3.10/dist-packages/sklearn/utils/validation.py:2739: UserWarning: X does not have valid feature names, but StandardScaler was fitted with feature names\n",
            "  warnings.warn(\n"
          ]
        },
        {
          "output_type": "stream",
          "name": "stdout",
          "text": [
            "\u001b[1m1/1\u001b[0m \u001b[32m━━━━━━━━━━━━━━━━━━━━\u001b[0m\u001b[37m\u001b[0m \u001b[1m0s\u001b[0m 26ms/step\n"
          ]
        },
        {
          "output_type": "stream",
          "name": "stderr",
          "text": [
            "/usr/local/lib/python3.10/dist-packages/sklearn/utils/validation.py:2739: UserWarning: X does not have valid feature names, but StandardScaler was fitted with feature names\n",
            "  warnings.warn(\n"
          ]
        },
        {
          "output_type": "stream",
          "name": "stdout",
          "text": [
            "\u001b[1m1/1\u001b[0m \u001b[32m━━━━━━━━━━━━━━━━━━━━\u001b[0m\u001b[37m\u001b[0m \u001b[1m0s\u001b[0m 28ms/step\n"
          ]
        },
        {
          "output_type": "stream",
          "name": "stderr",
          "text": [
            "/usr/local/lib/python3.10/dist-packages/sklearn/utils/validation.py:2739: UserWarning: X does not have valid feature names, but StandardScaler was fitted with feature names\n",
            "  warnings.warn(\n"
          ]
        },
        {
          "output_type": "stream",
          "name": "stdout",
          "text": [
            "\u001b[1m1/1\u001b[0m \u001b[32m━━━━━━━━━━━━━━━━━━━━\u001b[0m\u001b[37m\u001b[0m \u001b[1m0s\u001b[0m 25ms/step\n"
          ]
        },
        {
          "output_type": "stream",
          "name": "stderr",
          "text": [
            "/usr/local/lib/python3.10/dist-packages/sklearn/utils/validation.py:2739: UserWarning: X does not have valid feature names, but StandardScaler was fitted with feature names\n",
            "  warnings.warn(\n"
          ]
        },
        {
          "output_type": "stream",
          "name": "stdout",
          "text": [
            "\u001b[1m1/1\u001b[0m \u001b[32m━━━━━━━━━━━━━━━━━━━━\u001b[0m\u001b[37m\u001b[0m \u001b[1m0s\u001b[0m 29ms/step\n"
          ]
        },
        {
          "output_type": "stream",
          "name": "stderr",
          "text": [
            "/usr/local/lib/python3.10/dist-packages/sklearn/utils/validation.py:2739: UserWarning: X does not have valid feature names, but StandardScaler was fitted with feature names\n",
            "  warnings.warn(\n"
          ]
        },
        {
          "output_type": "stream",
          "name": "stdout",
          "text": [
            "\u001b[1m1/1\u001b[0m \u001b[32m━━━━━━━━━━━━━━━━━━━━\u001b[0m\u001b[37m\u001b[0m \u001b[1m0s\u001b[0m 29ms/step\n"
          ]
        },
        {
          "output_type": "stream",
          "name": "stderr",
          "text": [
            "/usr/local/lib/python3.10/dist-packages/sklearn/utils/validation.py:2739: UserWarning: X does not have valid feature names, but StandardScaler was fitted with feature names\n",
            "  warnings.warn(\n"
          ]
        },
        {
          "output_type": "stream",
          "name": "stdout",
          "text": [
            "\u001b[1m1/1\u001b[0m \u001b[32m━━━━━━━━━━━━━━━━━━━━\u001b[0m\u001b[37m\u001b[0m \u001b[1m0s\u001b[0m 42ms/step\n"
          ]
        },
        {
          "output_type": "stream",
          "name": "stderr",
          "text": [
            "/usr/local/lib/python3.10/dist-packages/sklearn/utils/validation.py:2739: UserWarning: X does not have valid feature names, but StandardScaler was fitted with feature names\n",
            "  warnings.warn(\n"
          ]
        },
        {
          "output_type": "stream",
          "name": "stdout",
          "text": [
            "\u001b[1m1/1\u001b[0m \u001b[32m━━━━━━━━━━━━━━━━━━━━\u001b[0m\u001b[37m\u001b[0m \u001b[1m0s\u001b[0m 25ms/step\n"
          ]
        },
        {
          "output_type": "stream",
          "name": "stderr",
          "text": [
            "/usr/local/lib/python3.10/dist-packages/sklearn/utils/validation.py:2739: UserWarning: X does not have valid feature names, but StandardScaler was fitted with feature names\n",
            "  warnings.warn(\n"
          ]
        },
        {
          "output_type": "stream",
          "name": "stdout",
          "text": [
            "\u001b[1m1/1\u001b[0m \u001b[32m━━━━━━━━━━━━━━━━━━━━\u001b[0m\u001b[37m\u001b[0m \u001b[1m0s\u001b[0m 24ms/step\n"
          ]
        },
        {
          "output_type": "stream",
          "name": "stderr",
          "text": [
            "/usr/local/lib/python3.10/dist-packages/sklearn/utils/validation.py:2739: UserWarning: X does not have valid feature names, but StandardScaler was fitted with feature names\n",
            "  warnings.warn(\n"
          ]
        },
        {
          "output_type": "stream",
          "name": "stdout",
          "text": [
            "\u001b[1m1/1\u001b[0m \u001b[32m━━━━━━━━━━━━━━━━━━━━\u001b[0m\u001b[37m\u001b[0m \u001b[1m0s\u001b[0m 30ms/step\n"
          ]
        },
        {
          "output_type": "stream",
          "name": "stderr",
          "text": [
            "/usr/local/lib/python3.10/dist-packages/sklearn/utils/validation.py:2739: UserWarning: X does not have valid feature names, but StandardScaler was fitted with feature names\n",
            "  warnings.warn(\n"
          ]
        },
        {
          "output_type": "stream",
          "name": "stdout",
          "text": [
            "\u001b[1m1/1\u001b[0m \u001b[32m━━━━━━━━━━━━━━━━━━━━\u001b[0m\u001b[37m\u001b[0m \u001b[1m0s\u001b[0m 26ms/step\n"
          ]
        },
        {
          "output_type": "stream",
          "name": "stderr",
          "text": [
            "/usr/local/lib/python3.10/dist-packages/sklearn/utils/validation.py:2739: UserWarning: X does not have valid feature names, but StandardScaler was fitted with feature names\n",
            "  warnings.warn(\n"
          ]
        },
        {
          "output_type": "stream",
          "name": "stdout",
          "text": [
            "\u001b[1m1/1\u001b[0m \u001b[32m━━━━━━━━━━━━━━━━━━━━\u001b[0m\u001b[37m\u001b[0m \u001b[1m0s\u001b[0m 30ms/step\n"
          ]
        },
        {
          "output_type": "stream",
          "name": "stderr",
          "text": [
            "/usr/local/lib/python3.10/dist-packages/sklearn/utils/validation.py:2739: UserWarning: X does not have valid feature names, but StandardScaler was fitted with feature names\n",
            "  warnings.warn(\n"
          ]
        },
        {
          "output_type": "stream",
          "name": "stdout",
          "text": [
            "\u001b[1m1/1\u001b[0m \u001b[32m━━━━━━━━━━━━━━━━━━━━\u001b[0m\u001b[37m\u001b[0m \u001b[1m0s\u001b[0m 27ms/step\n"
          ]
        },
        {
          "output_type": "stream",
          "name": "stderr",
          "text": [
            "/usr/local/lib/python3.10/dist-packages/sklearn/utils/validation.py:2739: UserWarning: X does not have valid feature names, but StandardScaler was fitted with feature names\n",
            "  warnings.warn(\n"
          ]
        },
        {
          "output_type": "stream",
          "name": "stdout",
          "text": [
            "\u001b[1m1/1\u001b[0m \u001b[32m━━━━━━━━━━━━━━━━━━━━\u001b[0m\u001b[37m\u001b[0m \u001b[1m0s\u001b[0m 26ms/step\n"
          ]
        },
        {
          "output_type": "stream",
          "name": "stderr",
          "text": [
            "/usr/local/lib/python3.10/dist-packages/sklearn/utils/validation.py:2739: UserWarning: X does not have valid feature names, but StandardScaler was fitted with feature names\n",
            "  warnings.warn(\n"
          ]
        },
        {
          "output_type": "stream",
          "name": "stdout",
          "text": [
            "\u001b[1m1/1\u001b[0m \u001b[32m━━━━━━━━━━━━━━━━━━━━\u001b[0m\u001b[37m\u001b[0m \u001b[1m0s\u001b[0m 25ms/step\n"
          ]
        },
        {
          "output_type": "stream",
          "name": "stderr",
          "text": [
            "/usr/local/lib/python3.10/dist-packages/sklearn/utils/validation.py:2739: UserWarning: X does not have valid feature names, but StandardScaler was fitted with feature names\n",
            "  warnings.warn(\n"
          ]
        },
        {
          "output_type": "stream",
          "name": "stdout",
          "text": [
            "\u001b[1m1/1\u001b[0m \u001b[32m━━━━━━━━━━━━━━━━━━━━\u001b[0m\u001b[37m\u001b[0m \u001b[1m0s\u001b[0m 26ms/step\n"
          ]
        },
        {
          "output_type": "stream",
          "name": "stderr",
          "text": [
            "/usr/local/lib/python3.10/dist-packages/sklearn/utils/validation.py:2739: UserWarning: X does not have valid feature names, but StandardScaler was fitted with feature names\n",
            "  warnings.warn(\n"
          ]
        },
        {
          "output_type": "stream",
          "name": "stdout",
          "text": [
            "\u001b[1m1/1\u001b[0m \u001b[32m━━━━━━━━━━━━━━━━━━━━\u001b[0m\u001b[37m\u001b[0m \u001b[1m0s\u001b[0m 26ms/step\n"
          ]
        },
        {
          "output_type": "stream",
          "name": "stderr",
          "text": [
            "/usr/local/lib/python3.10/dist-packages/sklearn/utils/validation.py:2739: UserWarning: X does not have valid feature names, but StandardScaler was fitted with feature names\n",
            "  warnings.warn(\n"
          ]
        },
        {
          "output_type": "stream",
          "name": "stdout",
          "text": [
            "\u001b[1m1/1\u001b[0m \u001b[32m━━━━━━━━━━━━━━━━━━━━\u001b[0m\u001b[37m\u001b[0m \u001b[1m0s\u001b[0m 27ms/step\n"
          ]
        },
        {
          "output_type": "stream",
          "name": "stderr",
          "text": [
            "/usr/local/lib/python3.10/dist-packages/sklearn/utils/validation.py:2739: UserWarning: X does not have valid feature names, but StandardScaler was fitted with feature names\n",
            "  warnings.warn(\n"
          ]
        },
        {
          "output_type": "stream",
          "name": "stdout",
          "text": [
            "\u001b[1m1/1\u001b[0m \u001b[32m━━━━━━━━━━━━━━━━━━━━\u001b[0m\u001b[37m\u001b[0m \u001b[1m0s\u001b[0m 29ms/step\n"
          ]
        },
        {
          "output_type": "stream",
          "name": "stderr",
          "text": [
            "/usr/local/lib/python3.10/dist-packages/sklearn/utils/validation.py:2739: UserWarning: X does not have valid feature names, but StandardScaler was fitted with feature names\n",
            "  warnings.warn(\n"
          ]
        },
        {
          "output_type": "stream",
          "name": "stdout",
          "text": [
            "\u001b[1m1/1\u001b[0m \u001b[32m━━━━━━━━━━━━━━━━━━━━\u001b[0m\u001b[37m\u001b[0m \u001b[1m0s\u001b[0m 46ms/step\n"
          ]
        },
        {
          "output_type": "stream",
          "name": "stderr",
          "text": [
            "/usr/local/lib/python3.10/dist-packages/sklearn/utils/validation.py:2739: UserWarning: X does not have valid feature names, but StandardScaler was fitted with feature names\n",
            "  warnings.warn(\n"
          ]
        },
        {
          "output_type": "stream",
          "name": "stdout",
          "text": [
            "\u001b[1m1/1\u001b[0m \u001b[32m━━━━━━━━━━━━━━━━━━━━\u001b[0m\u001b[37m\u001b[0m \u001b[1m0s\u001b[0m 27ms/step\n"
          ]
        },
        {
          "output_type": "stream",
          "name": "stderr",
          "text": [
            "/usr/local/lib/python3.10/dist-packages/sklearn/utils/validation.py:2739: UserWarning: X does not have valid feature names, but StandardScaler was fitted with feature names\n",
            "  warnings.warn(\n"
          ]
        },
        {
          "output_type": "stream",
          "name": "stdout",
          "text": [
            "\u001b[1m1/1\u001b[0m \u001b[32m━━━━━━━━━━━━━━━━━━━━\u001b[0m\u001b[37m\u001b[0m \u001b[1m0s\u001b[0m 31ms/step\n"
          ]
        },
        {
          "output_type": "stream",
          "name": "stderr",
          "text": [
            "/usr/local/lib/python3.10/dist-packages/sklearn/utils/validation.py:2739: UserWarning: X does not have valid feature names, but StandardScaler was fitted with feature names\n",
            "  warnings.warn(\n"
          ]
        },
        {
          "output_type": "stream",
          "name": "stdout",
          "text": [
            "\u001b[1m1/1\u001b[0m \u001b[32m━━━━━━━━━━━━━━━━━━━━\u001b[0m\u001b[37m\u001b[0m \u001b[1m0s\u001b[0m 32ms/step\n"
          ]
        },
        {
          "output_type": "stream",
          "name": "stderr",
          "text": [
            "/usr/local/lib/python3.10/dist-packages/sklearn/utils/validation.py:2739: UserWarning: X does not have valid feature names, but StandardScaler was fitted with feature names\n",
            "  warnings.warn(\n"
          ]
        },
        {
          "output_type": "stream",
          "name": "stdout",
          "text": [
            "\u001b[1m1/1\u001b[0m \u001b[32m━━━━━━━━━━━━━━━━━━━━\u001b[0m\u001b[37m\u001b[0m \u001b[1m0s\u001b[0m 29ms/step\n"
          ]
        },
        {
          "output_type": "stream",
          "name": "stderr",
          "text": [
            "/usr/local/lib/python3.10/dist-packages/sklearn/utils/validation.py:2739: UserWarning: X does not have valid feature names, but StandardScaler was fitted with feature names\n",
            "  warnings.warn(\n"
          ]
        },
        {
          "output_type": "stream",
          "name": "stdout",
          "text": [
            "\u001b[1m1/1\u001b[0m \u001b[32m━━━━━━━━━━━━━━━━━━━━\u001b[0m\u001b[37m\u001b[0m \u001b[1m0s\u001b[0m 30ms/step\n"
          ]
        },
        {
          "output_type": "stream",
          "name": "stderr",
          "text": [
            "/usr/local/lib/python3.10/dist-packages/sklearn/utils/validation.py:2739: UserWarning: X does not have valid feature names, but StandardScaler was fitted with feature names\n",
            "  warnings.warn(\n"
          ]
        },
        {
          "output_type": "stream",
          "name": "stdout",
          "text": [
            "\u001b[1m1/1\u001b[0m \u001b[32m━━━━━━━━━━━━━━━━━━━━\u001b[0m\u001b[37m\u001b[0m \u001b[1m0s\u001b[0m 31ms/step\n"
          ]
        },
        {
          "output_type": "stream",
          "name": "stderr",
          "text": [
            "/usr/local/lib/python3.10/dist-packages/sklearn/utils/validation.py:2739: UserWarning: X does not have valid feature names, but StandardScaler was fitted with feature names\n",
            "  warnings.warn(\n"
          ]
        },
        {
          "output_type": "stream",
          "name": "stdout",
          "text": [
            "\u001b[1m1/1\u001b[0m \u001b[32m━━━━━━━━━━━━━━━━━━━━\u001b[0m\u001b[37m\u001b[0m \u001b[1m0s\u001b[0m 28ms/step\n"
          ]
        },
        {
          "output_type": "stream",
          "name": "stderr",
          "text": [
            "/usr/local/lib/python3.10/dist-packages/sklearn/utils/validation.py:2739: UserWarning: X does not have valid feature names, but StandardScaler was fitted with feature names\n",
            "  warnings.warn(\n"
          ]
        },
        {
          "output_type": "stream",
          "name": "stdout",
          "text": [
            "\u001b[1m1/1\u001b[0m \u001b[32m━━━━━━━━━━━━━━━━━━━━\u001b[0m\u001b[37m\u001b[0m \u001b[1m0s\u001b[0m 28ms/step\n"
          ]
        },
        {
          "output_type": "stream",
          "name": "stderr",
          "text": [
            "/usr/local/lib/python3.10/dist-packages/sklearn/utils/validation.py:2739: UserWarning: X does not have valid feature names, but StandardScaler was fitted with feature names\n",
            "  warnings.warn(\n"
          ]
        },
        {
          "output_type": "stream",
          "name": "stdout",
          "text": [
            "\u001b[1m1/1\u001b[0m \u001b[32m━━━━━━━━━━━━━━━━━━━━\u001b[0m\u001b[37m\u001b[0m \u001b[1m0s\u001b[0m 24ms/step\n"
          ]
        },
        {
          "output_type": "stream",
          "name": "stderr",
          "text": [
            "/usr/local/lib/python3.10/dist-packages/sklearn/utils/validation.py:2739: UserWarning: X does not have valid feature names, but StandardScaler was fitted with feature names\n",
            "  warnings.warn(\n"
          ]
        },
        {
          "output_type": "stream",
          "name": "stdout",
          "text": [
            "\u001b[1m1/1\u001b[0m \u001b[32m━━━━━━━━━━━━━━━━━━━━\u001b[0m\u001b[37m\u001b[0m \u001b[1m0s\u001b[0m 28ms/step\n"
          ]
        },
        {
          "output_type": "stream",
          "name": "stderr",
          "text": [
            "/usr/local/lib/python3.10/dist-packages/sklearn/utils/validation.py:2739: UserWarning: X does not have valid feature names, but StandardScaler was fitted with feature names\n",
            "  warnings.warn(\n"
          ]
        },
        {
          "output_type": "stream",
          "name": "stdout",
          "text": [
            "\u001b[1m1/1\u001b[0m \u001b[32m━━━━━━━━━━━━━━━━━━━━\u001b[0m\u001b[37m\u001b[0m \u001b[1m0s\u001b[0m 27ms/step\n"
          ]
        },
        {
          "output_type": "stream",
          "name": "stderr",
          "text": [
            "/usr/local/lib/python3.10/dist-packages/sklearn/utils/validation.py:2739: UserWarning: X does not have valid feature names, but StandardScaler was fitted with feature names\n",
            "  warnings.warn(\n"
          ]
        },
        {
          "output_type": "stream",
          "name": "stdout",
          "text": [
            "\u001b[1m1/1\u001b[0m \u001b[32m━━━━━━━━━━━━━━━━━━━━\u001b[0m\u001b[37m\u001b[0m \u001b[1m0s\u001b[0m 31ms/step\n"
          ]
        },
        {
          "output_type": "stream",
          "name": "stderr",
          "text": [
            "/usr/local/lib/python3.10/dist-packages/sklearn/utils/validation.py:2739: UserWarning: X does not have valid feature names, but StandardScaler was fitted with feature names\n",
            "  warnings.warn(\n"
          ]
        },
        {
          "output_type": "stream",
          "name": "stdout",
          "text": [
            "\u001b[1m1/1\u001b[0m \u001b[32m━━━━━━━━━━━━━━━━━━━━\u001b[0m\u001b[37m\u001b[0m \u001b[1m0s\u001b[0m 26ms/step\n"
          ]
        },
        {
          "output_type": "stream",
          "name": "stderr",
          "text": [
            "/usr/local/lib/python3.10/dist-packages/sklearn/utils/validation.py:2739: UserWarning: X does not have valid feature names, but StandardScaler was fitted with feature names\n",
            "  warnings.warn(\n"
          ]
        },
        {
          "output_type": "stream",
          "name": "stdout",
          "text": [
            "\u001b[1m1/1\u001b[0m \u001b[32m━━━━━━━━━━━━━━━━━━━━\u001b[0m\u001b[37m\u001b[0m \u001b[1m0s\u001b[0m 25ms/step\n"
          ]
        },
        {
          "output_type": "stream",
          "name": "stderr",
          "text": [
            "/usr/local/lib/python3.10/dist-packages/sklearn/utils/validation.py:2739: UserWarning: X does not have valid feature names, but StandardScaler was fitted with feature names\n",
            "  warnings.warn(\n"
          ]
        },
        {
          "output_type": "stream",
          "name": "stdout",
          "text": [
            "\u001b[1m1/1\u001b[0m \u001b[32m━━━━━━━━━━━━━━━━━━━━\u001b[0m\u001b[37m\u001b[0m \u001b[1m0s\u001b[0m 27ms/step\n"
          ]
        },
        {
          "output_type": "stream",
          "name": "stderr",
          "text": [
            "/usr/local/lib/python3.10/dist-packages/sklearn/utils/validation.py:2739: UserWarning: X does not have valid feature names, but StandardScaler was fitted with feature names\n",
            "  warnings.warn(\n"
          ]
        },
        {
          "output_type": "stream",
          "name": "stdout",
          "text": [
            "\u001b[1m1/1\u001b[0m \u001b[32m━━━━━━━━━━━━━━━━━━━━\u001b[0m\u001b[37m\u001b[0m \u001b[1m0s\u001b[0m 26ms/step\n"
          ]
        },
        {
          "output_type": "stream",
          "name": "stderr",
          "text": [
            "/usr/local/lib/python3.10/dist-packages/sklearn/utils/validation.py:2739: UserWarning: X does not have valid feature names, but StandardScaler was fitted with feature names\n",
            "  warnings.warn(\n"
          ]
        },
        {
          "output_type": "stream",
          "name": "stdout",
          "text": [
            "\u001b[1m1/1\u001b[0m \u001b[32m━━━━━━━━━━━━━━━━━━━━\u001b[0m\u001b[37m\u001b[0m \u001b[1m0s\u001b[0m 28ms/step\n"
          ]
        },
        {
          "output_type": "stream",
          "name": "stderr",
          "text": [
            "/usr/local/lib/python3.10/dist-packages/sklearn/utils/validation.py:2739: UserWarning: X does not have valid feature names, but StandardScaler was fitted with feature names\n",
            "  warnings.warn(\n"
          ]
        },
        {
          "output_type": "stream",
          "name": "stdout",
          "text": [
            "\u001b[1m1/1\u001b[0m \u001b[32m━━━━━━━━━━━━━━━━━━━━\u001b[0m\u001b[37m\u001b[0m \u001b[1m0s\u001b[0m 44ms/step\n"
          ]
        },
        {
          "output_type": "stream",
          "name": "stderr",
          "text": [
            "/usr/local/lib/python3.10/dist-packages/sklearn/utils/validation.py:2739: UserWarning: X does not have valid feature names, but StandardScaler was fitted with feature names\n",
            "  warnings.warn(\n"
          ]
        },
        {
          "output_type": "stream",
          "name": "stdout",
          "text": [
            "\u001b[1m1/1\u001b[0m \u001b[32m━━━━━━━━━━━━━━━━━━━━\u001b[0m\u001b[37m\u001b[0m \u001b[1m0s\u001b[0m 25ms/step\n"
          ]
        },
        {
          "output_type": "stream",
          "name": "stderr",
          "text": [
            "/usr/local/lib/python3.10/dist-packages/sklearn/utils/validation.py:2739: UserWarning: X does not have valid feature names, but StandardScaler was fitted with feature names\n",
            "  warnings.warn(\n"
          ]
        },
        {
          "output_type": "stream",
          "name": "stdout",
          "text": [
            "\u001b[1m1/1\u001b[0m \u001b[32m━━━━━━━━━━━━━━━━━━━━\u001b[0m\u001b[37m\u001b[0m \u001b[1m0s\u001b[0m 27ms/step\n"
          ]
        },
        {
          "output_type": "stream",
          "name": "stderr",
          "text": [
            "/usr/local/lib/python3.10/dist-packages/sklearn/utils/validation.py:2739: UserWarning: X does not have valid feature names, but StandardScaler was fitted with feature names\n",
            "  warnings.warn(\n"
          ]
        },
        {
          "output_type": "stream",
          "name": "stdout",
          "text": [
            "\u001b[1m1/1\u001b[0m \u001b[32m━━━━━━━━━━━━━━━━━━━━\u001b[0m\u001b[37m\u001b[0m \u001b[1m0s\u001b[0m 25ms/step\n"
          ]
        },
        {
          "output_type": "stream",
          "name": "stderr",
          "text": [
            "/usr/local/lib/python3.10/dist-packages/sklearn/utils/validation.py:2739: UserWarning: X does not have valid feature names, but StandardScaler was fitted with feature names\n",
            "  warnings.warn(\n"
          ]
        },
        {
          "output_type": "stream",
          "name": "stdout",
          "text": [
            "\u001b[1m1/1\u001b[0m \u001b[32m━━━━━━━━━━━━━━━━━━━━\u001b[0m\u001b[37m\u001b[0m \u001b[1m0s\u001b[0m 37ms/step\n"
          ]
        },
        {
          "output_type": "stream",
          "name": "stderr",
          "text": [
            "/usr/local/lib/python3.10/dist-packages/sklearn/utils/validation.py:2739: UserWarning: X does not have valid feature names, but StandardScaler was fitted with feature names\n",
            "  warnings.warn(\n"
          ]
        },
        {
          "output_type": "stream",
          "name": "stdout",
          "text": [
            "\u001b[1m1/1\u001b[0m \u001b[32m━━━━━━━━━━━━━━━━━━━━\u001b[0m\u001b[37m\u001b[0m \u001b[1m0s\u001b[0m 28ms/step\n"
          ]
        },
        {
          "output_type": "stream",
          "name": "stderr",
          "text": [
            "/usr/local/lib/python3.10/dist-packages/sklearn/utils/validation.py:2739: UserWarning: X does not have valid feature names, but StandardScaler was fitted with feature names\n",
            "  warnings.warn(\n"
          ]
        },
        {
          "output_type": "stream",
          "name": "stdout",
          "text": [
            "\u001b[1m1/1\u001b[0m \u001b[32m━━━━━━━━━━━━━━━━━━━━\u001b[0m\u001b[37m\u001b[0m \u001b[1m0s\u001b[0m 26ms/step\n"
          ]
        },
        {
          "output_type": "stream",
          "name": "stderr",
          "text": [
            "/usr/local/lib/python3.10/dist-packages/sklearn/utils/validation.py:2739: UserWarning: X does not have valid feature names, but StandardScaler was fitted with feature names\n",
            "  warnings.warn(\n"
          ]
        },
        {
          "output_type": "stream",
          "name": "stdout",
          "text": [
            "\u001b[1m1/1\u001b[0m \u001b[32m━━━━━━━━━━━━━━━━━━━━\u001b[0m\u001b[37m\u001b[0m \u001b[1m0s\u001b[0m 26ms/step\n"
          ]
        },
        {
          "output_type": "stream",
          "name": "stderr",
          "text": [
            "/usr/local/lib/python3.10/dist-packages/sklearn/utils/validation.py:2739: UserWarning: X does not have valid feature names, but StandardScaler was fitted with feature names\n",
            "  warnings.warn(\n"
          ]
        },
        {
          "output_type": "stream",
          "name": "stdout",
          "text": [
            "\u001b[1m1/1\u001b[0m \u001b[32m━━━━━━━━━━━━━━━━━━━━\u001b[0m\u001b[37m\u001b[0m \u001b[1m0s\u001b[0m 24ms/step\n"
          ]
        },
        {
          "output_type": "stream",
          "name": "stderr",
          "text": [
            "/usr/local/lib/python3.10/dist-packages/sklearn/utils/validation.py:2739: UserWarning: X does not have valid feature names, but StandardScaler was fitted with feature names\n",
            "  warnings.warn(\n"
          ]
        },
        {
          "output_type": "stream",
          "name": "stdout",
          "text": [
            "\u001b[1m1/1\u001b[0m \u001b[32m━━━━━━━━━━━━━━━━━━━━\u001b[0m\u001b[37m\u001b[0m \u001b[1m0s\u001b[0m 24ms/step\n"
          ]
        },
        {
          "output_type": "stream",
          "name": "stderr",
          "text": [
            "/usr/local/lib/python3.10/dist-packages/sklearn/utils/validation.py:2739: UserWarning: X does not have valid feature names, but StandardScaler was fitted with feature names\n",
            "  warnings.warn(\n"
          ]
        },
        {
          "output_type": "stream",
          "name": "stdout",
          "text": [
            "\u001b[1m1/1\u001b[0m \u001b[32m━━━━━━━━━━━━━━━━━━━━\u001b[0m\u001b[37m\u001b[0m \u001b[1m0s\u001b[0m 30ms/step\n"
          ]
        },
        {
          "output_type": "stream",
          "name": "stderr",
          "text": [
            "/usr/local/lib/python3.10/dist-packages/sklearn/utils/validation.py:2739: UserWarning: X does not have valid feature names, but StandardScaler was fitted with feature names\n",
            "  warnings.warn(\n"
          ]
        },
        {
          "output_type": "stream",
          "name": "stdout",
          "text": [
            "\u001b[1m1/1\u001b[0m \u001b[32m━━━━━━━━━━━━━━━━━━━━\u001b[0m\u001b[37m\u001b[0m \u001b[1m0s\u001b[0m 24ms/step\n"
          ]
        },
        {
          "output_type": "stream",
          "name": "stderr",
          "text": [
            "/usr/local/lib/python3.10/dist-packages/sklearn/utils/validation.py:2739: UserWarning: X does not have valid feature names, but StandardScaler was fitted with feature names\n",
            "  warnings.warn(\n"
          ]
        },
        {
          "output_type": "stream",
          "name": "stdout",
          "text": [
            "\u001b[1m1/1\u001b[0m \u001b[32m━━━━━━━━━━━━━━━━━━━━\u001b[0m\u001b[37m\u001b[0m \u001b[1m0s\u001b[0m 26ms/step\n"
          ]
        },
        {
          "output_type": "stream",
          "name": "stderr",
          "text": [
            "/usr/local/lib/python3.10/dist-packages/sklearn/utils/validation.py:2739: UserWarning: X does not have valid feature names, but StandardScaler was fitted with feature names\n",
            "  warnings.warn(\n"
          ]
        },
        {
          "output_type": "stream",
          "name": "stdout",
          "text": [
            "\u001b[1m1/1\u001b[0m \u001b[32m━━━━━━━━━━━━━━━━━━━━\u001b[0m\u001b[37m\u001b[0m \u001b[1m0s\u001b[0m 25ms/step\n"
          ]
        },
        {
          "output_type": "stream",
          "name": "stderr",
          "text": [
            "/usr/local/lib/python3.10/dist-packages/sklearn/utils/validation.py:2739: UserWarning: X does not have valid feature names, but StandardScaler was fitted with feature names\n",
            "  warnings.warn(\n"
          ]
        },
        {
          "output_type": "stream",
          "name": "stdout",
          "text": [
            "\u001b[1m1/1\u001b[0m \u001b[32m━━━━━━━━━━━━━━━━━━━━\u001b[0m\u001b[37m\u001b[0m \u001b[1m0s\u001b[0m 28ms/step\n"
          ]
        },
        {
          "output_type": "stream",
          "name": "stderr",
          "text": [
            "/usr/local/lib/python3.10/dist-packages/sklearn/utils/validation.py:2739: UserWarning: X does not have valid feature names, but StandardScaler was fitted with feature names\n",
            "  warnings.warn(\n"
          ]
        },
        {
          "output_type": "stream",
          "name": "stdout",
          "text": [
            "\u001b[1m1/1\u001b[0m \u001b[32m━━━━━━━━━━━━━━━━━━━━\u001b[0m\u001b[37m\u001b[0m \u001b[1m0s\u001b[0m 34ms/step\n"
          ]
        },
        {
          "output_type": "stream",
          "name": "stderr",
          "text": [
            "/usr/local/lib/python3.10/dist-packages/sklearn/utils/validation.py:2739: UserWarning: X does not have valid feature names, but StandardScaler was fitted with feature names\n",
            "  warnings.warn(\n"
          ]
        },
        {
          "output_type": "stream",
          "name": "stdout",
          "text": [
            "\u001b[1m1/1\u001b[0m \u001b[32m━━━━━━━━━━━━━━━━━━━━\u001b[0m\u001b[37m\u001b[0m \u001b[1m0s\u001b[0m 25ms/step\n"
          ]
        },
        {
          "output_type": "stream",
          "name": "stderr",
          "text": [
            "/usr/local/lib/python3.10/dist-packages/sklearn/utils/validation.py:2739: UserWarning: X does not have valid feature names, but StandardScaler was fitted with feature names\n",
            "  warnings.warn(\n"
          ]
        },
        {
          "output_type": "stream",
          "name": "stdout",
          "text": [
            "\u001b[1m1/1\u001b[0m \u001b[32m━━━━━━━━━━━━━━━━━━━━\u001b[0m\u001b[37m\u001b[0m \u001b[1m0s\u001b[0m 25ms/step\n"
          ]
        },
        {
          "output_type": "stream",
          "name": "stderr",
          "text": [
            "/usr/local/lib/python3.10/dist-packages/sklearn/utils/validation.py:2739: UserWarning: X does not have valid feature names, but StandardScaler was fitted with feature names\n",
            "  warnings.warn(\n"
          ]
        },
        {
          "output_type": "stream",
          "name": "stdout",
          "text": [
            "\u001b[1m1/1\u001b[0m \u001b[32m━━━━━━━━━━━━━━━━━━━━\u001b[0m\u001b[37m\u001b[0m \u001b[1m0s\u001b[0m 27ms/step\n"
          ]
        },
        {
          "output_type": "stream",
          "name": "stderr",
          "text": [
            "/usr/local/lib/python3.10/dist-packages/sklearn/utils/validation.py:2739: UserWarning: X does not have valid feature names, but StandardScaler was fitted with feature names\n",
            "  warnings.warn(\n"
          ]
        },
        {
          "output_type": "stream",
          "name": "stdout",
          "text": [
            "\u001b[1m1/1\u001b[0m \u001b[32m━━━━━━━━━━━━━━━━━━━━\u001b[0m\u001b[37m\u001b[0m \u001b[1m0s\u001b[0m 24ms/step\n"
          ]
        },
        {
          "output_type": "stream",
          "name": "stderr",
          "text": [
            "/usr/local/lib/python3.10/dist-packages/sklearn/utils/validation.py:2739: UserWarning: X does not have valid feature names, but StandardScaler was fitted with feature names\n",
            "  warnings.warn(\n"
          ]
        },
        {
          "output_type": "stream",
          "name": "stdout",
          "text": [
            "\u001b[1m1/1\u001b[0m \u001b[32m━━━━━━━━━━━━━━━━━━━━\u001b[0m\u001b[37m\u001b[0m \u001b[1m0s\u001b[0m 26ms/step\n"
          ]
        },
        {
          "output_type": "stream",
          "name": "stderr",
          "text": [
            "/usr/local/lib/python3.10/dist-packages/sklearn/utils/validation.py:2739: UserWarning: X does not have valid feature names, but StandardScaler was fitted with feature names\n",
            "  warnings.warn(\n"
          ]
        },
        {
          "output_type": "stream",
          "name": "stdout",
          "text": [
            "\u001b[1m1/1\u001b[0m \u001b[32m━━━━━━━━━━━━━━━━━━━━\u001b[0m\u001b[37m\u001b[0m \u001b[1m0s\u001b[0m 25ms/step\n"
          ]
        },
        {
          "output_type": "stream",
          "name": "stderr",
          "text": [
            "/usr/local/lib/python3.10/dist-packages/sklearn/utils/validation.py:2739: UserWarning: X does not have valid feature names, but StandardScaler was fitted with feature names\n",
            "  warnings.warn(\n"
          ]
        },
        {
          "output_type": "stream",
          "name": "stdout",
          "text": [
            "\u001b[1m1/1\u001b[0m \u001b[32m━━━━━━━━━━━━━━━━━━━━\u001b[0m\u001b[37m\u001b[0m \u001b[1m0s\u001b[0m 26ms/step\n"
          ]
        },
        {
          "output_type": "stream",
          "name": "stderr",
          "text": [
            "/usr/local/lib/python3.10/dist-packages/sklearn/utils/validation.py:2739: UserWarning: X does not have valid feature names, but StandardScaler was fitted with feature names\n",
            "  warnings.warn(\n"
          ]
        },
        {
          "output_type": "stream",
          "name": "stdout",
          "text": [
            "\u001b[1m1/1\u001b[0m \u001b[32m━━━━━━━━━━━━━━━━━━━━\u001b[0m\u001b[37m\u001b[0m \u001b[1m0s\u001b[0m 21ms/step\n"
          ]
        },
        {
          "output_type": "stream",
          "name": "stderr",
          "text": [
            "/usr/local/lib/python3.10/dist-packages/sklearn/utils/validation.py:2739: UserWarning: X does not have valid feature names, but StandardScaler was fitted with feature names\n",
            "  warnings.warn(\n"
          ]
        },
        {
          "output_type": "stream",
          "name": "stdout",
          "text": [
            "\u001b[1m1/1\u001b[0m \u001b[32m━━━━━━━━━━━━━━━━━━━━\u001b[0m\u001b[37m\u001b[0m \u001b[1m0s\u001b[0m 32ms/step\n"
          ]
        },
        {
          "output_type": "stream",
          "name": "stderr",
          "text": [
            "/usr/local/lib/python3.10/dist-packages/sklearn/utils/validation.py:2739: UserWarning: X does not have valid feature names, but StandardScaler was fitted with feature names\n",
            "  warnings.warn(\n"
          ]
        },
        {
          "output_type": "stream",
          "name": "stdout",
          "text": [
            "\u001b[1m1/1\u001b[0m \u001b[32m━━━━━━━━━━━━━━━━━━━━\u001b[0m\u001b[37m\u001b[0m \u001b[1m0s\u001b[0m 31ms/step\n"
          ]
        },
        {
          "output_type": "stream",
          "name": "stderr",
          "text": [
            "/usr/local/lib/python3.10/dist-packages/sklearn/utils/validation.py:2739: UserWarning: X does not have valid feature names, but StandardScaler was fitted with feature names\n",
            "  warnings.warn(\n"
          ]
        },
        {
          "output_type": "stream",
          "name": "stdout",
          "text": [
            "\u001b[1m1/1\u001b[0m \u001b[32m━━━━━━━━━━━━━━━━━━━━\u001b[0m\u001b[37m\u001b[0m \u001b[1m0s\u001b[0m 30ms/step\n"
          ]
        },
        {
          "output_type": "stream",
          "name": "stderr",
          "text": [
            "/usr/local/lib/python3.10/dist-packages/sklearn/utils/validation.py:2739: UserWarning: X does not have valid feature names, but StandardScaler was fitted with feature names\n",
            "  warnings.warn(\n"
          ]
        },
        {
          "output_type": "stream",
          "name": "stdout",
          "text": [
            "\u001b[1m1/1\u001b[0m \u001b[32m━━━━━━━━━━━━━━━━━━━━\u001b[0m\u001b[37m\u001b[0m \u001b[1m0s\u001b[0m 26ms/step\n"
          ]
        },
        {
          "output_type": "stream",
          "name": "stderr",
          "text": [
            "/usr/local/lib/python3.10/dist-packages/sklearn/utils/validation.py:2739: UserWarning: X does not have valid feature names, but StandardScaler was fitted with feature names\n",
            "  warnings.warn(\n"
          ]
        },
        {
          "output_type": "stream",
          "name": "stdout",
          "text": [
            "\u001b[1m1/1\u001b[0m \u001b[32m━━━━━━━━━━━━━━━━━━━━\u001b[0m\u001b[37m\u001b[0m \u001b[1m0s\u001b[0m 34ms/step\n"
          ]
        },
        {
          "output_type": "stream",
          "name": "stderr",
          "text": [
            "/usr/local/lib/python3.10/dist-packages/sklearn/utils/validation.py:2739: UserWarning: X does not have valid feature names, but StandardScaler was fitted with feature names\n",
            "  warnings.warn(\n"
          ]
        },
        {
          "output_type": "stream",
          "name": "stdout",
          "text": [
            "\u001b[1m1/1\u001b[0m \u001b[32m━━━━━━━━━━━━━━━━━━━━\u001b[0m\u001b[37m\u001b[0m \u001b[1m0s\u001b[0m 27ms/step\n"
          ]
        },
        {
          "output_type": "stream",
          "name": "stderr",
          "text": [
            "/usr/local/lib/python3.10/dist-packages/sklearn/utils/validation.py:2739: UserWarning: X does not have valid feature names, but StandardScaler was fitted with feature names\n",
            "  warnings.warn(\n"
          ]
        },
        {
          "output_type": "stream",
          "name": "stdout",
          "text": [
            "\u001b[1m1/1\u001b[0m \u001b[32m━━━━━━━━━━━━━━━━━━━━\u001b[0m\u001b[37m\u001b[0m \u001b[1m0s\u001b[0m 26ms/step\n"
          ]
        },
        {
          "output_type": "stream",
          "name": "stderr",
          "text": [
            "/usr/local/lib/python3.10/dist-packages/sklearn/utils/validation.py:2739: UserWarning: X does not have valid feature names, but StandardScaler was fitted with feature names\n",
            "  warnings.warn(\n"
          ]
        },
        {
          "output_type": "stream",
          "name": "stdout",
          "text": [
            "\u001b[1m1/1\u001b[0m \u001b[32m━━━━━━━━━━━━━━━━━━━━\u001b[0m\u001b[37m\u001b[0m \u001b[1m0s\u001b[0m 50ms/step\n"
          ]
        },
        {
          "output_type": "stream",
          "name": "stderr",
          "text": [
            "/usr/local/lib/python3.10/dist-packages/sklearn/utils/validation.py:2739: UserWarning: X does not have valid feature names, but StandardScaler was fitted with feature names\n",
            "  warnings.warn(\n"
          ]
        },
        {
          "output_type": "stream",
          "name": "stdout",
          "text": [
            "\u001b[1m1/1\u001b[0m \u001b[32m━━━━━━━━━━━━━━━━━━━━\u001b[0m\u001b[37m\u001b[0m \u001b[1m0s\u001b[0m 26ms/step\n"
          ]
        },
        {
          "output_type": "stream",
          "name": "stderr",
          "text": [
            "/usr/local/lib/python3.10/dist-packages/sklearn/utils/validation.py:2739: UserWarning: X does not have valid feature names, but StandardScaler was fitted with feature names\n",
            "  warnings.warn(\n"
          ]
        },
        {
          "output_type": "stream",
          "name": "stdout",
          "text": [
            "\u001b[1m1/1\u001b[0m \u001b[32m━━━━━━━━━━━━━━━━━━━━\u001b[0m\u001b[37m\u001b[0m \u001b[1m0s\u001b[0m 26ms/step\n"
          ]
        },
        {
          "output_type": "stream",
          "name": "stderr",
          "text": [
            "/usr/local/lib/python3.10/dist-packages/sklearn/utils/validation.py:2739: UserWarning: X does not have valid feature names, but StandardScaler was fitted with feature names\n",
            "  warnings.warn(\n"
          ]
        },
        {
          "output_type": "stream",
          "name": "stdout",
          "text": [
            "\u001b[1m1/1\u001b[0m \u001b[32m━━━━━━━━━━━━━━━━━━━━\u001b[0m\u001b[37m\u001b[0m \u001b[1m0s\u001b[0m 27ms/step\n"
          ]
        },
        {
          "output_type": "stream",
          "name": "stderr",
          "text": [
            "/usr/local/lib/python3.10/dist-packages/sklearn/utils/validation.py:2739: UserWarning: X does not have valid feature names, but StandardScaler was fitted with feature names\n",
            "  warnings.warn(\n"
          ]
        },
        {
          "output_type": "stream",
          "name": "stdout",
          "text": [
            "\u001b[1m1/1\u001b[0m \u001b[32m━━━━━━━━━━━━━━━━━━━━\u001b[0m\u001b[37m\u001b[0m \u001b[1m0s\u001b[0m 26ms/step\n"
          ]
        },
        {
          "output_type": "stream",
          "name": "stderr",
          "text": [
            "/usr/local/lib/python3.10/dist-packages/sklearn/utils/validation.py:2739: UserWarning: X does not have valid feature names, but StandardScaler was fitted with feature names\n",
            "  warnings.warn(\n"
          ]
        },
        {
          "output_type": "stream",
          "name": "stdout",
          "text": [
            "\u001b[1m1/1\u001b[0m \u001b[32m━━━━━━━━━━━━━━━━━━━━\u001b[0m\u001b[37m\u001b[0m \u001b[1m0s\u001b[0m 28ms/step\n"
          ]
        },
        {
          "output_type": "stream",
          "name": "stderr",
          "text": [
            "/usr/local/lib/python3.10/dist-packages/sklearn/utils/validation.py:2739: UserWarning: X does not have valid feature names, but StandardScaler was fitted with feature names\n",
            "  warnings.warn(\n"
          ]
        },
        {
          "output_type": "stream",
          "name": "stdout",
          "text": [
            "\u001b[1m1/1\u001b[0m \u001b[32m━━━━━━━━━━━━━━━━━━━━\u001b[0m\u001b[37m\u001b[0m \u001b[1m0s\u001b[0m 35ms/step\n"
          ]
        },
        {
          "output_type": "stream",
          "name": "stderr",
          "text": [
            "/usr/local/lib/python3.10/dist-packages/sklearn/utils/validation.py:2739: UserWarning: X does not have valid feature names, but StandardScaler was fitted with feature names\n",
            "  warnings.warn(\n"
          ]
        },
        {
          "output_type": "stream",
          "name": "stdout",
          "text": [
            "\u001b[1m1/1\u001b[0m \u001b[32m━━━━━━━━━━━━━━━━━━━━\u001b[0m\u001b[37m\u001b[0m \u001b[1m0s\u001b[0m 30ms/step\n"
          ]
        },
        {
          "output_type": "stream",
          "name": "stderr",
          "text": [
            "/usr/local/lib/python3.10/dist-packages/sklearn/utils/validation.py:2739: UserWarning: X does not have valid feature names, but StandardScaler was fitted with feature names\n",
            "  warnings.warn(\n"
          ]
        },
        {
          "output_type": "stream",
          "name": "stdout",
          "text": [
            "\u001b[1m1/1\u001b[0m \u001b[32m━━━━━━━━━━━━━━━━━━━━\u001b[0m\u001b[37m\u001b[0m \u001b[1m0s\u001b[0m 31ms/step\n"
          ]
        },
        {
          "output_type": "stream",
          "name": "stderr",
          "text": [
            "/usr/local/lib/python3.10/dist-packages/sklearn/utils/validation.py:2739: UserWarning: X does not have valid feature names, but StandardScaler was fitted with feature names\n",
            "  warnings.warn(\n"
          ]
        },
        {
          "output_type": "stream",
          "name": "stdout",
          "text": [
            "\u001b[1m1/1\u001b[0m \u001b[32m━━━━━━━━━━━━━━━━━━━━\u001b[0m\u001b[37m\u001b[0m \u001b[1m0s\u001b[0m 50ms/step\n"
          ]
        },
        {
          "output_type": "stream",
          "name": "stderr",
          "text": [
            "/usr/local/lib/python3.10/dist-packages/sklearn/utils/validation.py:2739: UserWarning: X does not have valid feature names, but StandardScaler was fitted with feature names\n",
            "  warnings.warn(\n"
          ]
        },
        {
          "output_type": "stream",
          "name": "stdout",
          "text": [
            "\u001b[1m1/1\u001b[0m \u001b[32m━━━━━━━━━━━━━━━━━━━━\u001b[0m\u001b[37m\u001b[0m \u001b[1m0s\u001b[0m 30ms/step\n"
          ]
        },
        {
          "output_type": "stream",
          "name": "stderr",
          "text": [
            "/usr/local/lib/python3.10/dist-packages/sklearn/utils/validation.py:2739: UserWarning: X does not have valid feature names, but StandardScaler was fitted with feature names\n",
            "  warnings.warn(\n"
          ]
        },
        {
          "output_type": "stream",
          "name": "stdout",
          "text": [
            "\u001b[1m1/1\u001b[0m \u001b[32m━━━━━━━━━━━━━━━━━━━━\u001b[0m\u001b[37m\u001b[0m \u001b[1m0s\u001b[0m 26ms/step\n"
          ]
        },
        {
          "output_type": "stream",
          "name": "stderr",
          "text": [
            "/usr/local/lib/python3.10/dist-packages/sklearn/utils/validation.py:2739: UserWarning: X does not have valid feature names, but StandardScaler was fitted with feature names\n",
            "  warnings.warn(\n"
          ]
        },
        {
          "output_type": "stream",
          "name": "stdout",
          "text": [
            "\u001b[1m1/1\u001b[0m \u001b[32m━━━━━━━━━━━━━━━━━━━━\u001b[0m\u001b[37m\u001b[0m \u001b[1m0s\u001b[0m 25ms/step\n"
          ]
        },
        {
          "output_type": "stream",
          "name": "stderr",
          "text": [
            "/usr/local/lib/python3.10/dist-packages/sklearn/utils/validation.py:2739: UserWarning: X does not have valid feature names, but StandardScaler was fitted with feature names\n",
            "  warnings.warn(\n"
          ]
        },
        {
          "output_type": "stream",
          "name": "stdout",
          "text": [
            "\u001b[1m1/1\u001b[0m \u001b[32m━━━━━━━━━━━━━━━━━━━━\u001b[0m\u001b[37m\u001b[0m \u001b[1m0s\u001b[0m 26ms/step\n"
          ]
        },
        {
          "output_type": "stream",
          "name": "stderr",
          "text": [
            "/usr/local/lib/python3.10/dist-packages/sklearn/utils/validation.py:2739: UserWarning: X does not have valid feature names, but StandardScaler was fitted with feature names\n",
            "  warnings.warn(\n"
          ]
        },
        {
          "output_type": "stream",
          "name": "stdout",
          "text": [
            "\u001b[1m1/1\u001b[0m \u001b[32m━━━━━━━━━━━━━━━━━━━━\u001b[0m\u001b[37m\u001b[0m \u001b[1m0s\u001b[0m 27ms/step\n"
          ]
        },
        {
          "output_type": "stream",
          "name": "stderr",
          "text": [
            "/usr/local/lib/python3.10/dist-packages/sklearn/utils/validation.py:2739: UserWarning: X does not have valid feature names, but StandardScaler was fitted with feature names\n",
            "  warnings.warn(\n"
          ]
        },
        {
          "output_type": "stream",
          "name": "stdout",
          "text": [
            "\u001b[1m1/1\u001b[0m \u001b[32m━━━━━━━━━━━━━━━━━━━━\u001b[0m\u001b[37m\u001b[0m \u001b[1m0s\u001b[0m 38ms/step\n"
          ]
        },
        {
          "output_type": "stream",
          "name": "stderr",
          "text": [
            "/usr/local/lib/python3.10/dist-packages/sklearn/utils/validation.py:2739: UserWarning: X does not have valid feature names, but StandardScaler was fitted with feature names\n",
            "  warnings.warn(\n"
          ]
        },
        {
          "output_type": "stream",
          "name": "stdout",
          "text": [
            "\u001b[1m1/1\u001b[0m \u001b[32m━━━━━━━━━━━━━━━━━━━━\u001b[0m\u001b[37m\u001b[0m \u001b[1m0s\u001b[0m 25ms/step\n"
          ]
        },
        {
          "output_type": "stream",
          "name": "stderr",
          "text": [
            "/usr/local/lib/python3.10/dist-packages/sklearn/utils/validation.py:2739: UserWarning: X does not have valid feature names, but StandardScaler was fitted with feature names\n",
            "  warnings.warn(\n"
          ]
        },
        {
          "output_type": "stream",
          "name": "stdout",
          "text": [
            "\u001b[1m1/1\u001b[0m \u001b[32m━━━━━━━━━━━━━━━━━━━━\u001b[0m\u001b[37m\u001b[0m \u001b[1m0s\u001b[0m 31ms/step\n"
          ]
        },
        {
          "output_type": "stream",
          "name": "stderr",
          "text": [
            "/usr/local/lib/python3.10/dist-packages/sklearn/utils/validation.py:2739: UserWarning: X does not have valid feature names, but StandardScaler was fitted with feature names\n",
            "  warnings.warn(\n"
          ]
        },
        {
          "output_type": "stream",
          "name": "stdout",
          "text": [
            "\u001b[1m1/1\u001b[0m \u001b[32m━━━━━━━━━━━━━━━━━━━━\u001b[0m\u001b[37m\u001b[0m \u001b[1m0s\u001b[0m 25ms/step\n"
          ]
        },
        {
          "output_type": "stream",
          "name": "stderr",
          "text": [
            "/usr/local/lib/python3.10/dist-packages/sklearn/utils/validation.py:2739: UserWarning: X does not have valid feature names, but StandardScaler was fitted with feature names\n",
            "  warnings.warn(\n"
          ]
        },
        {
          "output_type": "stream",
          "name": "stdout",
          "text": [
            "\u001b[1m1/1\u001b[0m \u001b[32m━━━━━━━━━━━━━━━━━━━━\u001b[0m\u001b[37m\u001b[0m \u001b[1m0s\u001b[0m 30ms/step\n"
          ]
        },
        {
          "output_type": "stream",
          "name": "stderr",
          "text": [
            "/usr/local/lib/python3.10/dist-packages/sklearn/utils/validation.py:2739: UserWarning: X does not have valid feature names, but StandardScaler was fitted with feature names\n",
            "  warnings.warn(\n"
          ]
        },
        {
          "output_type": "stream",
          "name": "stdout",
          "text": [
            "\u001b[1m1/1\u001b[0m \u001b[32m━━━━━━━━━━━━━━━━━━━━\u001b[0m\u001b[37m\u001b[0m \u001b[1m0s\u001b[0m 27ms/step\n"
          ]
        },
        {
          "output_type": "stream",
          "name": "stderr",
          "text": [
            "/usr/local/lib/python3.10/dist-packages/sklearn/utils/validation.py:2739: UserWarning: X does not have valid feature names, but StandardScaler was fitted with feature names\n",
            "  warnings.warn(\n"
          ]
        },
        {
          "output_type": "stream",
          "name": "stdout",
          "text": [
            "\u001b[1m1/1\u001b[0m \u001b[32m━━━━━━━━━━━━━━━━━━━━\u001b[0m\u001b[37m\u001b[0m \u001b[1m0s\u001b[0m 28ms/step\n"
          ]
        },
        {
          "output_type": "stream",
          "name": "stderr",
          "text": [
            "/usr/local/lib/python3.10/dist-packages/sklearn/utils/validation.py:2739: UserWarning: X does not have valid feature names, but StandardScaler was fitted with feature names\n",
            "  warnings.warn(\n"
          ]
        },
        {
          "output_type": "stream",
          "name": "stdout",
          "text": [
            "\u001b[1m1/1\u001b[0m \u001b[32m━━━━━━━━━━━━━━━━━━━━\u001b[0m\u001b[37m\u001b[0m \u001b[1m0s\u001b[0m 26ms/step\n"
          ]
        },
        {
          "output_type": "stream",
          "name": "stderr",
          "text": [
            "/usr/local/lib/python3.10/dist-packages/sklearn/utils/validation.py:2739: UserWarning: X does not have valid feature names, but StandardScaler was fitted with feature names\n",
            "  warnings.warn(\n"
          ]
        },
        {
          "output_type": "stream",
          "name": "stdout",
          "text": [
            "\u001b[1m1/1\u001b[0m \u001b[32m━━━━━━━━━━━━━━━━━━━━\u001b[0m\u001b[37m\u001b[0m \u001b[1m0s\u001b[0m 30ms/step\n"
          ]
        },
        {
          "output_type": "stream",
          "name": "stderr",
          "text": [
            "/usr/local/lib/python3.10/dist-packages/sklearn/utils/validation.py:2739: UserWarning: X does not have valid feature names, but StandardScaler was fitted with feature names\n",
            "  warnings.warn(\n"
          ]
        },
        {
          "output_type": "stream",
          "name": "stdout",
          "text": [
            "\u001b[1m1/1\u001b[0m \u001b[32m━━━━━━━━━━━━━━━━━━━━\u001b[0m\u001b[37m\u001b[0m \u001b[1m0s\u001b[0m 34ms/step\n"
          ]
        },
        {
          "output_type": "stream",
          "name": "stderr",
          "text": [
            "/usr/local/lib/python3.10/dist-packages/sklearn/utils/validation.py:2739: UserWarning: X does not have valid feature names, but StandardScaler was fitted with feature names\n",
            "  warnings.warn(\n"
          ]
        },
        {
          "output_type": "stream",
          "name": "stdout",
          "text": [
            "\u001b[1m1/1\u001b[0m \u001b[32m━━━━━━━━━━━━━━━━━━━━\u001b[0m\u001b[37m\u001b[0m \u001b[1m0s\u001b[0m 32ms/step\n"
          ]
        },
        {
          "output_type": "stream",
          "name": "stderr",
          "text": [
            "/usr/local/lib/python3.10/dist-packages/sklearn/utils/validation.py:2739: UserWarning: X does not have valid feature names, but StandardScaler was fitted with feature names\n",
            "  warnings.warn(\n",
            "/usr/local/lib/python3.10/dist-packages/sklearn/utils/validation.py:2739: UserWarning: X does not have valid feature names, but StandardScaler was fitted with feature names\n",
            "  warnings.warn(\n"
          ]
        },
        {
          "output_type": "stream",
          "name": "stdout",
          "text": [
            "\u001b[1m1/1\u001b[0m \u001b[32m━━━━━━━━━━━━━━━━━━━━\u001b[0m\u001b[37m\u001b[0m \u001b[1m0s\u001b[0m 31ms/step\n",
            "\u001b[1m1/1\u001b[0m \u001b[32m━━━━━━━━━━━━━━━━━━━━\u001b[0m\u001b[37m\u001b[0m \u001b[1m0s\u001b[0m 27ms/step\n"
          ]
        },
        {
          "output_type": "stream",
          "name": "stderr",
          "text": [
            "/usr/local/lib/python3.10/dist-packages/sklearn/utils/validation.py:2739: UserWarning: X does not have valid feature names, but StandardScaler was fitted with feature names\n",
            "  warnings.warn(\n"
          ]
        },
        {
          "output_type": "stream",
          "name": "stdout",
          "text": [
            "\u001b[1m1/1\u001b[0m \u001b[32m━━━━━━━━━━━━━━━━━━━━\u001b[0m\u001b[37m\u001b[0m \u001b[1m0s\u001b[0m 29ms/step\n"
          ]
        },
        {
          "output_type": "stream",
          "name": "stderr",
          "text": [
            "/usr/local/lib/python3.10/dist-packages/sklearn/utils/validation.py:2739: UserWarning: X does not have valid feature names, but StandardScaler was fitted with feature names\n",
            "  warnings.warn(\n"
          ]
        },
        {
          "output_type": "stream",
          "name": "stdout",
          "text": [
            "\u001b[1m1/1\u001b[0m \u001b[32m━━━━━━━━━━━━━━━━━━━━\u001b[0m\u001b[37m\u001b[0m \u001b[1m0s\u001b[0m 26ms/step\n"
          ]
        },
        {
          "output_type": "stream",
          "name": "stderr",
          "text": [
            "/usr/local/lib/python3.10/dist-packages/sklearn/utils/validation.py:2739: UserWarning: X does not have valid feature names, but StandardScaler was fitted with feature names\n",
            "  warnings.warn(\n"
          ]
        },
        {
          "output_type": "stream",
          "name": "stdout",
          "text": [
            "\u001b[1m1/1\u001b[0m \u001b[32m━━━━━━━━━━━━━━━━━━━━\u001b[0m\u001b[37m\u001b[0m \u001b[1m0s\u001b[0m 29ms/step\n"
          ]
        },
        {
          "output_type": "stream",
          "name": "stderr",
          "text": [
            "/usr/local/lib/python3.10/dist-packages/sklearn/utils/validation.py:2739: UserWarning: X does not have valid feature names, but StandardScaler was fitted with feature names\n",
            "  warnings.warn(\n"
          ]
        },
        {
          "output_type": "stream",
          "name": "stdout",
          "text": [
            "\u001b[1m1/1\u001b[0m \u001b[32m━━━━━━━━━━━━━━━━━━━━\u001b[0m\u001b[37m\u001b[0m \u001b[1m0s\u001b[0m 25ms/step\n"
          ]
        },
        {
          "output_type": "stream",
          "name": "stderr",
          "text": [
            "/usr/local/lib/python3.10/dist-packages/sklearn/utils/validation.py:2739: UserWarning: X does not have valid feature names, but StandardScaler was fitted with feature names\n",
            "  warnings.warn(\n"
          ]
        },
        {
          "output_type": "stream",
          "name": "stdout",
          "text": [
            "\u001b[1m1/1\u001b[0m \u001b[32m━━━━━━━━━━━━━━━━━━━━\u001b[0m\u001b[37m\u001b[0m \u001b[1m0s\u001b[0m 27ms/step\n"
          ]
        },
        {
          "output_type": "stream",
          "name": "stderr",
          "text": [
            "/usr/local/lib/python3.10/dist-packages/sklearn/utils/validation.py:2739: UserWarning: X does not have valid feature names, but StandardScaler was fitted with feature names\n",
            "  warnings.warn(\n"
          ]
        },
        {
          "output_type": "stream",
          "name": "stdout",
          "text": [
            "\u001b[1m1/1\u001b[0m \u001b[32m━━━━━━━━━━━━━━━━━━━━\u001b[0m\u001b[37m\u001b[0m \u001b[1m0s\u001b[0m 26ms/step\n"
          ]
        },
        {
          "output_type": "stream",
          "name": "stderr",
          "text": [
            "/usr/local/lib/python3.10/dist-packages/sklearn/utils/validation.py:2739: UserWarning: X does not have valid feature names, but StandardScaler was fitted with feature names\n",
            "  warnings.warn(\n"
          ]
        },
        {
          "output_type": "stream",
          "name": "stdout",
          "text": [
            "\u001b[1m1/1\u001b[0m \u001b[32m━━━━━━━━━━━━━━━━━━━━\u001b[0m\u001b[37m\u001b[0m \u001b[1m0s\u001b[0m 44ms/step\n"
          ]
        },
        {
          "output_type": "stream",
          "name": "stderr",
          "text": [
            "/usr/local/lib/python3.10/dist-packages/sklearn/utils/validation.py:2739: UserWarning: X does not have valid feature names, but StandardScaler was fitted with feature names\n",
            "  warnings.warn(\n",
            "/usr/local/lib/python3.10/dist-packages/sklearn/utils/validation.py:2739: UserWarning: X does not have valid feature names, but StandardScaler was fitted with feature names\n",
            "  warnings.warn(\n"
          ]
        },
        {
          "output_type": "stream",
          "name": "stdout",
          "text": [
            "\u001b[1m1/1\u001b[0m \u001b[32m━━━━━━━━━━━━━━━━━━━━\u001b[0m\u001b[37m\u001b[0m \u001b[1m0s\u001b[0m 26ms/step\n",
            "\u001b[1m1/1\u001b[0m \u001b[32m━━━━━━━━━━━━━━━━━━━━\u001b[0m\u001b[37m\u001b[0m \u001b[1m0s\u001b[0m 28ms/step\n"
          ]
        },
        {
          "output_type": "stream",
          "name": "stderr",
          "text": [
            "/usr/local/lib/python3.10/dist-packages/sklearn/utils/validation.py:2739: UserWarning: X does not have valid feature names, but StandardScaler was fitted with feature names\n",
            "  warnings.warn(\n"
          ]
        },
        {
          "output_type": "stream",
          "name": "stdout",
          "text": [
            "\u001b[1m1/1\u001b[0m \u001b[32m━━━━━━━━━━━━━━━━━━━━\u001b[0m\u001b[37m\u001b[0m \u001b[1m0s\u001b[0m 25ms/step\n"
          ]
        },
        {
          "output_type": "stream",
          "name": "stderr",
          "text": [
            "/usr/local/lib/python3.10/dist-packages/sklearn/utils/validation.py:2739: UserWarning: X does not have valid feature names, but StandardScaler was fitted with feature names\n",
            "  warnings.warn(\n"
          ]
        },
        {
          "output_type": "stream",
          "name": "stdout",
          "text": [
            "\u001b[1m1/1\u001b[0m \u001b[32m━━━━━━━━━━━━━━━━━━━━\u001b[0m\u001b[37m\u001b[0m \u001b[1m0s\u001b[0m 27ms/step\n"
          ]
        },
        {
          "output_type": "stream",
          "name": "stderr",
          "text": [
            "/usr/local/lib/python3.10/dist-packages/sklearn/utils/validation.py:2739: UserWarning: X does not have valid feature names, but StandardScaler was fitted with feature names\n",
            "  warnings.warn(\n"
          ]
        },
        {
          "output_type": "stream",
          "name": "stdout",
          "text": [
            "\u001b[1m1/1\u001b[0m \u001b[32m━━━━━━━━━━━━━━━━━━━━\u001b[0m\u001b[37m\u001b[0m \u001b[1m0s\u001b[0m 28ms/step\n"
          ]
        },
        {
          "output_type": "stream",
          "name": "stderr",
          "text": [
            "/usr/local/lib/python3.10/dist-packages/sklearn/utils/validation.py:2739: UserWarning: X does not have valid feature names, but StandardScaler was fitted with feature names\n",
            "  warnings.warn(\n"
          ]
        },
        {
          "output_type": "stream",
          "name": "stdout",
          "text": [
            "\u001b[1m1/1\u001b[0m \u001b[32m━━━━━━━━━━━━━━━━━━━━\u001b[0m\u001b[37m\u001b[0m \u001b[1m0s\u001b[0m 28ms/step\n"
          ]
        },
        {
          "output_type": "stream",
          "name": "stderr",
          "text": [
            "/usr/local/lib/python3.10/dist-packages/sklearn/utils/validation.py:2739: UserWarning: X does not have valid feature names, but StandardScaler was fitted with feature names\n",
            "  warnings.warn(\n"
          ]
        },
        {
          "output_type": "stream",
          "name": "stdout",
          "text": [
            "\u001b[1m1/1\u001b[0m \u001b[32m━━━━━━━━━━━━━━━━━━━━\u001b[0m\u001b[37m\u001b[0m \u001b[1m0s\u001b[0m 25ms/step\n"
          ]
        },
        {
          "output_type": "stream",
          "name": "stderr",
          "text": [
            "/usr/local/lib/python3.10/dist-packages/sklearn/utils/validation.py:2739: UserWarning: X does not have valid feature names, but StandardScaler was fitted with feature names\n",
            "  warnings.warn(\n"
          ]
        },
        {
          "output_type": "stream",
          "name": "stdout",
          "text": [
            "\u001b[1m1/1\u001b[0m \u001b[32m━━━━━━━━━━━━━━━━━━━━\u001b[0m\u001b[37m\u001b[0m \u001b[1m0s\u001b[0m 25ms/step\n",
            "\u001b[1m1/1\u001b[0m \u001b[32m━━━━━━━━━━━━━━━━━━━━\u001b[0m\u001b[37m\u001b[0m \u001b[1m0s\u001b[0m 25ms/step\n"
          ]
        },
        {
          "output_type": "stream",
          "name": "stderr",
          "text": [
            "/usr/local/lib/python3.10/dist-packages/sklearn/utils/validation.py:2739: UserWarning: X does not have valid feature names, but StandardScaler was fitted with feature names\n",
            "  warnings.warn(\n",
            "/usr/local/lib/python3.10/dist-packages/librosa/core/spectrum.py:266: UserWarning: n_fft=2048 is too large for input signal of length=1152\n",
            "  warnings.warn(\n",
            "/usr/local/lib/python3.10/dist-packages/librosa/core/pitch.py:101: UserWarning: Trying to estimate tuning from empty frequency set.\n",
            "  return pitch_tuning(\n",
            "/usr/local/lib/python3.10/dist-packages/sklearn/utils/validation.py:2739: UserWarning: X does not have valid feature names, but StandardScaler was fitted with feature names\n",
            "  warnings.warn(\n"
          ]
        },
        {
          "output_type": "stream",
          "name": "stdout",
          "text": [
            "\u001b[1m1/1\u001b[0m \u001b[32m━━━━━━━━━━━━━━━━━━━━\u001b[0m\u001b[37m\u001b[0m \u001b[1m0s\u001b[0m 32ms/step\n"
          ]
        },
        {
          "output_type": "stream",
          "name": "stderr",
          "text": [
            "/usr/local/lib/python3.10/dist-packages/sklearn/utils/validation.py:2739: UserWarning: X does not have valid feature names, but StandardScaler was fitted with feature names\n",
            "  warnings.warn(\n"
          ]
        },
        {
          "output_type": "stream",
          "name": "stdout",
          "text": [
            "\u001b[1m1/1\u001b[0m \u001b[32m━━━━━━━━━━━━━━━━━━━━\u001b[0m\u001b[37m\u001b[0m \u001b[1m0s\u001b[0m 53ms/step\n"
          ]
        },
        {
          "output_type": "stream",
          "name": "stderr",
          "text": [
            "/usr/local/lib/python3.10/dist-packages/sklearn/utils/validation.py:2739: UserWarning: X does not have valid feature names, but StandardScaler was fitted with feature names\n",
            "  warnings.warn(\n"
          ]
        },
        {
          "output_type": "stream",
          "name": "stdout",
          "text": [
            "\u001b[1m1/1\u001b[0m \u001b[32m━━━━━━━━━━━━━━━━━━━━\u001b[0m\u001b[37m\u001b[0m \u001b[1m0s\u001b[0m 26ms/step\n"
          ]
        },
        {
          "output_type": "stream",
          "name": "stderr",
          "text": [
            "/usr/local/lib/python3.10/dist-packages/sklearn/utils/validation.py:2739: UserWarning: X does not have valid feature names, but StandardScaler was fitted with feature names\n",
            "  warnings.warn(\n"
          ]
        },
        {
          "output_type": "stream",
          "name": "stdout",
          "text": [
            "\u001b[1m1/1\u001b[0m \u001b[32m━━━━━━━━━━━━━━━━━━━━\u001b[0m\u001b[37m\u001b[0m \u001b[1m0s\u001b[0m 27ms/step\n"
          ]
        },
        {
          "output_type": "stream",
          "name": "stderr",
          "text": [
            "/usr/local/lib/python3.10/dist-packages/sklearn/utils/validation.py:2739: UserWarning: X does not have valid feature names, but StandardScaler was fitted with feature names\n",
            "  warnings.warn(\n"
          ]
        },
        {
          "output_type": "stream",
          "name": "stdout",
          "text": [
            "\u001b[1m1/1\u001b[0m \u001b[32m━━━━━━━━━━━━━━━━━━━━\u001b[0m\u001b[37m\u001b[0m \u001b[1m0s\u001b[0m 29ms/step\n"
          ]
        },
        {
          "output_type": "stream",
          "name": "stderr",
          "text": [
            "/usr/local/lib/python3.10/dist-packages/sklearn/utils/validation.py:2739: UserWarning: X does not have valid feature names, but StandardScaler was fitted with feature names\n",
            "  warnings.warn(\n"
          ]
        },
        {
          "output_type": "stream",
          "name": "stdout",
          "text": [
            "\u001b[1m1/1\u001b[0m \u001b[32m━━━━━━━━━━━━━━━━━━━━\u001b[0m\u001b[37m\u001b[0m \u001b[1m0s\u001b[0m 52ms/step\n"
          ]
        },
        {
          "output_type": "stream",
          "name": "stderr",
          "text": [
            "/usr/local/lib/python3.10/dist-packages/sklearn/utils/validation.py:2739: UserWarning: X does not have valid feature names, but StandardScaler was fitted with feature names\n",
            "  warnings.warn(\n"
          ]
        },
        {
          "output_type": "stream",
          "name": "stdout",
          "text": [
            "\u001b[1m1/1\u001b[0m \u001b[32m━━━━━━━━━━━━━━━━━━━━\u001b[0m\u001b[37m\u001b[0m \u001b[1m0s\u001b[0m 35ms/step\n"
          ]
        },
        {
          "output_type": "stream",
          "name": "stderr",
          "text": [
            "/usr/local/lib/python3.10/dist-packages/sklearn/utils/validation.py:2739: UserWarning: X does not have valid feature names, but StandardScaler was fitted with feature names\n",
            "  warnings.warn(\n"
          ]
        },
        {
          "output_type": "stream",
          "name": "stdout",
          "text": [
            "\u001b[1m1/1\u001b[0m \u001b[32m━━━━━━━━━━━━━━━━━━━━\u001b[0m\u001b[37m\u001b[0m \u001b[1m0s\u001b[0m 28ms/step\n"
          ]
        },
        {
          "output_type": "stream",
          "name": "stderr",
          "text": [
            "/usr/local/lib/python3.10/dist-packages/sklearn/utils/validation.py:2739: UserWarning: X does not have valid feature names, but StandardScaler was fitted with feature names\n",
            "  warnings.warn(\n"
          ]
        },
        {
          "output_type": "stream",
          "name": "stdout",
          "text": [
            "\u001b[1m1/1\u001b[0m \u001b[32m━━━━━━━━━━━━━━━━━━━━\u001b[0m\u001b[37m\u001b[0m \u001b[1m0s\u001b[0m 29ms/step\n"
          ]
        },
        {
          "output_type": "stream",
          "name": "stderr",
          "text": [
            "/usr/local/lib/python3.10/dist-packages/sklearn/utils/validation.py:2739: UserWarning: X does not have valid feature names, but StandardScaler was fitted with feature names\n",
            "  warnings.warn(\n"
          ]
        },
        {
          "output_type": "stream",
          "name": "stdout",
          "text": [
            "\u001b[1m1/1\u001b[0m \u001b[32m━━━━━━━━━━━━━━━━━━━━\u001b[0m\u001b[37m\u001b[0m \u001b[1m0s\u001b[0m 25ms/step\n"
          ]
        },
        {
          "output_type": "stream",
          "name": "stderr",
          "text": [
            "/usr/local/lib/python3.10/dist-packages/sklearn/utils/validation.py:2739: UserWarning: X does not have valid feature names, but StandardScaler was fitted with feature names\n",
            "  warnings.warn(\n"
          ]
        },
        {
          "output_type": "stream",
          "name": "stdout",
          "text": [
            "\u001b[1m1/1\u001b[0m \u001b[32m━━━━━━━━━━━━━━━━━━━━\u001b[0m\u001b[37m\u001b[0m \u001b[1m0s\u001b[0m 26ms/step\n"
          ]
        },
        {
          "output_type": "stream",
          "name": "stderr",
          "text": [
            "/usr/local/lib/python3.10/dist-packages/sklearn/utils/validation.py:2739: UserWarning: X does not have valid feature names, but StandardScaler was fitted with feature names\n",
            "  warnings.warn(\n"
          ]
        },
        {
          "output_type": "stream",
          "name": "stdout",
          "text": [
            "\u001b[1m1/1\u001b[0m \u001b[32m━━━━━━━━━━━━━━━━━━━━\u001b[0m\u001b[37m\u001b[0m \u001b[1m0s\u001b[0m 30ms/step\n"
          ]
        },
        {
          "output_type": "stream",
          "name": "stderr",
          "text": [
            "/usr/local/lib/python3.10/dist-packages/sklearn/utils/validation.py:2739: UserWarning: X does not have valid feature names, but StandardScaler was fitted with feature names\n",
            "  warnings.warn(\n"
          ]
        },
        {
          "output_type": "stream",
          "name": "stdout",
          "text": [
            "\u001b[1m1/1\u001b[0m \u001b[32m━━━━━━━━━━━━━━━━━━━━\u001b[0m\u001b[37m\u001b[0m \u001b[1m0s\u001b[0m 38ms/step\n"
          ]
        },
        {
          "output_type": "stream",
          "name": "stderr",
          "text": [
            "/usr/local/lib/python3.10/dist-packages/sklearn/utils/validation.py:2739: UserWarning: X does not have valid feature names, but StandardScaler was fitted with feature names\n",
            "  warnings.warn(\n"
          ]
        },
        {
          "output_type": "stream",
          "name": "stdout",
          "text": [
            "\u001b[1m1/1\u001b[0m \u001b[32m━━━━━━━━━━━━━━━━━━━━\u001b[0m\u001b[37m\u001b[0m \u001b[1m0s\u001b[0m 30ms/step\n"
          ]
        },
        {
          "output_type": "stream",
          "name": "stderr",
          "text": [
            "/usr/local/lib/python3.10/dist-packages/sklearn/utils/validation.py:2739: UserWarning: X does not have valid feature names, but StandardScaler was fitted with feature names\n",
            "  warnings.warn(\n"
          ]
        },
        {
          "output_type": "stream",
          "name": "stdout",
          "text": [
            "\u001b[1m1/1\u001b[0m \u001b[32m━━━━━━━━━━━━━━━━━━━━\u001b[0m\u001b[37m\u001b[0m \u001b[1m0s\u001b[0m 32ms/step\n"
          ]
        },
        {
          "output_type": "stream",
          "name": "stderr",
          "text": [
            "/usr/local/lib/python3.10/dist-packages/sklearn/utils/validation.py:2739: UserWarning: X does not have valid feature names, but StandardScaler was fitted with feature names\n",
            "  warnings.warn(\n"
          ]
        },
        {
          "output_type": "stream",
          "name": "stdout",
          "text": [
            "\u001b[1m1/1\u001b[0m \u001b[32m━━━━━━━━━━━━━━━━━━━━\u001b[0m\u001b[37m\u001b[0m \u001b[1m0s\u001b[0m 27ms/step\n"
          ]
        },
        {
          "output_type": "stream",
          "name": "stderr",
          "text": [
            "/usr/local/lib/python3.10/dist-packages/sklearn/utils/validation.py:2739: UserWarning: X does not have valid feature names, but StandardScaler was fitted with feature names\n",
            "  warnings.warn(\n"
          ]
        },
        {
          "output_type": "stream",
          "name": "stdout",
          "text": [
            "\u001b[1m1/1\u001b[0m \u001b[32m━━━━━━━━━━━━━━━━━━━━\u001b[0m\u001b[37m\u001b[0m \u001b[1m0s\u001b[0m 31ms/step\n"
          ]
        },
        {
          "output_type": "stream",
          "name": "stderr",
          "text": [
            "/usr/local/lib/python3.10/dist-packages/sklearn/utils/validation.py:2739: UserWarning: X does not have valid feature names, but StandardScaler was fitted with feature names\n",
            "  warnings.warn(\n"
          ]
        },
        {
          "output_type": "stream",
          "name": "stdout",
          "text": [
            "\u001b[1m1/1\u001b[0m \u001b[32m━━━━━━━━━━━━━━━━━━━━\u001b[0m\u001b[37m\u001b[0m \u001b[1m0s\u001b[0m 27ms/step\n"
          ]
        },
        {
          "output_type": "stream",
          "name": "stderr",
          "text": [
            "/usr/local/lib/python3.10/dist-packages/sklearn/utils/validation.py:2739: UserWarning: X does not have valid feature names, but StandardScaler was fitted with feature names\n",
            "  warnings.warn(\n"
          ]
        },
        {
          "output_type": "stream",
          "name": "stdout",
          "text": [
            "\u001b[1m1/1\u001b[0m \u001b[32m━━━━━━━━━━━━━━━━━━━━\u001b[0m\u001b[37m\u001b[0m \u001b[1m0s\u001b[0m 33ms/step\n"
          ]
        },
        {
          "output_type": "stream",
          "name": "stderr",
          "text": [
            "/usr/local/lib/python3.10/dist-packages/sklearn/utils/validation.py:2739: UserWarning: X does not have valid feature names, but StandardScaler was fitted with feature names\n",
            "  warnings.warn(\n"
          ]
        },
        {
          "output_type": "stream",
          "name": "stdout",
          "text": [
            "\u001b[1m1/1\u001b[0m \u001b[32m━━━━━━━━━━━━━━━━━━━━\u001b[0m\u001b[37m\u001b[0m \u001b[1m0s\u001b[0m 25ms/step\n"
          ]
        },
        {
          "output_type": "stream",
          "name": "stderr",
          "text": [
            "/usr/local/lib/python3.10/dist-packages/sklearn/utils/validation.py:2739: UserWarning: X does not have valid feature names, but StandardScaler was fitted with feature names\n",
            "  warnings.warn(\n"
          ]
        },
        {
          "output_type": "stream",
          "name": "stdout",
          "text": [
            "\u001b[1m1/1\u001b[0m \u001b[32m━━━━━━━━━━━━━━━━━━━━\u001b[0m\u001b[37m\u001b[0m \u001b[1m0s\u001b[0m 27ms/step\n"
          ]
        },
        {
          "output_type": "stream",
          "name": "stderr",
          "text": [
            "/usr/local/lib/python3.10/dist-packages/sklearn/utils/validation.py:2739: UserWarning: X does not have valid feature names, but StandardScaler was fitted with feature names\n",
            "  warnings.warn(\n"
          ]
        },
        {
          "output_type": "stream",
          "name": "stdout",
          "text": [
            "\u001b[1m1/1\u001b[0m \u001b[32m━━━━━━━━━━━━━━━━━━━━\u001b[0m\u001b[37m\u001b[0m \u001b[1m0s\u001b[0m 32ms/step\n"
          ]
        },
        {
          "output_type": "stream",
          "name": "stderr",
          "text": [
            "/usr/local/lib/python3.10/dist-packages/sklearn/utils/validation.py:2739: UserWarning: X does not have valid feature names, but StandardScaler was fitted with feature names\n",
            "  warnings.warn(\n"
          ]
        },
        {
          "output_type": "stream",
          "name": "stdout",
          "text": [
            "\u001b[1m1/1\u001b[0m \u001b[32m━━━━━━━━━━━━━━━━━━━━\u001b[0m\u001b[37m\u001b[0m \u001b[1m0s\u001b[0m 24ms/step\n"
          ]
        },
        {
          "output_type": "stream",
          "name": "stderr",
          "text": [
            "/usr/local/lib/python3.10/dist-packages/sklearn/utils/validation.py:2739: UserWarning: X does not have valid feature names, but StandardScaler was fitted with feature names\n",
            "  warnings.warn(\n"
          ]
        },
        {
          "output_type": "stream",
          "name": "stdout",
          "text": [
            "\u001b[1m1/1\u001b[0m \u001b[32m━━━━━━━━━━━━━━━━━━━━\u001b[0m\u001b[37m\u001b[0m \u001b[1m0s\u001b[0m 40ms/step\n"
          ]
        },
        {
          "output_type": "stream",
          "name": "stderr",
          "text": [
            "/usr/local/lib/python3.10/dist-packages/sklearn/utils/validation.py:2739: UserWarning: X does not have valid feature names, but StandardScaler was fitted with feature names\n",
            "  warnings.warn(\n"
          ]
        },
        {
          "output_type": "stream",
          "name": "stdout",
          "text": [
            "\u001b[1m1/1\u001b[0m \u001b[32m━━━━━━━━━━━━━━━━━━━━\u001b[0m\u001b[37m\u001b[0m \u001b[1m0s\u001b[0m 26ms/step\n"
          ]
        },
        {
          "output_type": "stream",
          "name": "stderr",
          "text": [
            "/usr/local/lib/python3.10/dist-packages/sklearn/utils/validation.py:2739: UserWarning: X does not have valid feature names, but StandardScaler was fitted with feature names\n",
            "  warnings.warn(\n"
          ]
        },
        {
          "output_type": "stream",
          "name": "stdout",
          "text": [
            "\u001b[1m1/1\u001b[0m \u001b[32m━━━━━━━━━━━━━━━━━━━━\u001b[0m\u001b[37m\u001b[0m \u001b[1m0s\u001b[0m 29ms/step\n"
          ]
        },
        {
          "output_type": "stream",
          "name": "stderr",
          "text": [
            "/usr/local/lib/python3.10/dist-packages/sklearn/utils/validation.py:2739: UserWarning: X does not have valid feature names, but StandardScaler was fitted with feature names\n",
            "  warnings.warn(\n"
          ]
        },
        {
          "output_type": "stream",
          "name": "stdout",
          "text": [
            "\u001b[1m1/1\u001b[0m \u001b[32m━━━━━━━━━━━━━━━━━━━━\u001b[0m\u001b[37m\u001b[0m \u001b[1m0s\u001b[0m 27ms/step\n"
          ]
        },
        {
          "output_type": "stream",
          "name": "stderr",
          "text": [
            "/usr/local/lib/python3.10/dist-packages/sklearn/utils/validation.py:2739: UserWarning: X does not have valid feature names, but StandardScaler was fitted with feature names\n",
            "  warnings.warn(\n"
          ]
        },
        {
          "output_type": "stream",
          "name": "stdout",
          "text": [
            "\u001b[1m1/1\u001b[0m \u001b[32m━━━━━━━━━━━━━━━━━━━━\u001b[0m\u001b[37m\u001b[0m \u001b[1m0s\u001b[0m 30ms/step\n"
          ]
        },
        {
          "output_type": "stream",
          "name": "stderr",
          "text": [
            "/usr/local/lib/python3.10/dist-packages/sklearn/utils/validation.py:2739: UserWarning: X does not have valid feature names, but StandardScaler was fitted with feature names\n",
            "  warnings.warn(\n"
          ]
        },
        {
          "output_type": "stream",
          "name": "stdout",
          "text": [
            "\u001b[1m1/1\u001b[0m \u001b[32m━━━━━━━━━━━━━━━━━━━━\u001b[0m\u001b[37m\u001b[0m \u001b[1m0s\u001b[0m 27ms/step\n"
          ]
        },
        {
          "output_type": "stream",
          "name": "stderr",
          "text": [
            "/usr/local/lib/python3.10/dist-packages/sklearn/utils/validation.py:2739: UserWarning: X does not have valid feature names, but StandardScaler was fitted with feature names\n",
            "  warnings.warn(\n",
            "/usr/local/lib/python3.10/dist-packages/sklearn/utils/validation.py:2739: UserWarning: X does not have valid feature names, but StandardScaler was fitted with feature names\n",
            "  warnings.warn(\n"
          ]
        },
        {
          "output_type": "stream",
          "name": "stdout",
          "text": [
            "\u001b[1m1/1\u001b[0m \u001b[32m━━━━━━━━━━━━━━━━━━━━\u001b[0m\u001b[37m\u001b[0m \u001b[1m0s\u001b[0m 71ms/step\n",
            "\u001b[1m1/1\u001b[0m \u001b[32m━━━━━━━━━━━━━━━━━━━━\u001b[0m\u001b[37m\u001b[0m \u001b[1m0s\u001b[0m 28ms/step\n"
          ]
        },
        {
          "output_type": "stream",
          "name": "stderr",
          "text": [
            "/usr/local/lib/python3.10/dist-packages/sklearn/utils/validation.py:2739: UserWarning: X does not have valid feature names, but StandardScaler was fitted with feature names\n",
            "  warnings.warn(\n"
          ]
        },
        {
          "output_type": "stream",
          "name": "stdout",
          "text": [
            "\u001b[1m1/1\u001b[0m \u001b[32m━━━━━━━━━━━━━━━━━━━━\u001b[0m\u001b[37m\u001b[0m \u001b[1m0s\u001b[0m 41ms/step\n"
          ]
        },
        {
          "output_type": "stream",
          "name": "stderr",
          "text": [
            "/usr/local/lib/python3.10/dist-packages/sklearn/utils/validation.py:2739: UserWarning: X does not have valid feature names, but StandardScaler was fitted with feature names\n",
            "  warnings.warn(\n"
          ]
        },
        {
          "output_type": "stream",
          "name": "stdout",
          "text": [
            "\u001b[1m1/1\u001b[0m \u001b[32m━━━━━━━━━━━━━━━━━━━━\u001b[0m\u001b[37m\u001b[0m \u001b[1m0s\u001b[0m 97ms/step\n"
          ]
        },
        {
          "output_type": "stream",
          "name": "stderr",
          "text": [
            "/usr/local/lib/python3.10/dist-packages/sklearn/utils/validation.py:2739: UserWarning: X does not have valid feature names, but StandardScaler was fitted with feature names\n",
            "  warnings.warn(\n"
          ]
        },
        {
          "output_type": "stream",
          "name": "stdout",
          "text": [
            "\u001b[1m1/1\u001b[0m \u001b[32m━━━━━━━━━━━━━━━━━━━━\u001b[0m\u001b[37m\u001b[0m \u001b[1m0s\u001b[0m 30ms/step\n"
          ]
        },
        {
          "output_type": "stream",
          "name": "stderr",
          "text": [
            "/usr/local/lib/python3.10/dist-packages/sklearn/utils/validation.py:2739: UserWarning: X does not have valid feature names, but StandardScaler was fitted with feature names\n",
            "  warnings.warn(\n"
          ]
        },
        {
          "output_type": "stream",
          "name": "stdout",
          "text": [
            "\u001b[1m1/1\u001b[0m \u001b[32m━━━━━━━━━━━━━━━━━━━━\u001b[0m\u001b[37m\u001b[0m \u001b[1m0s\u001b[0m 28ms/step\n"
          ]
        },
        {
          "output_type": "stream",
          "name": "stderr",
          "text": [
            "/usr/local/lib/python3.10/dist-packages/sklearn/utils/validation.py:2739: UserWarning: X does not have valid feature names, but StandardScaler was fitted with feature names\n",
            "  warnings.warn(\n"
          ]
        },
        {
          "output_type": "stream",
          "name": "stdout",
          "text": [
            "\u001b[1m1/1\u001b[0m \u001b[32m━━━━━━━━━━━━━━━━━━━━\u001b[0m\u001b[37m\u001b[0m \u001b[1m0s\u001b[0m 34ms/step\n"
          ]
        },
        {
          "output_type": "stream",
          "name": "stderr",
          "text": [
            "/usr/local/lib/python3.10/dist-packages/sklearn/utils/validation.py:2739: UserWarning: X does not have valid feature names, but StandardScaler was fitted with feature names\n",
            "  warnings.warn(\n"
          ]
        },
        {
          "output_type": "stream",
          "name": "stdout",
          "text": [
            "\u001b[1m1/1\u001b[0m \u001b[32m━━━━━━━━━━━━━━━━━━━━\u001b[0m\u001b[37m\u001b[0m \u001b[1m0s\u001b[0m 27ms/step\n"
          ]
        },
        {
          "output_type": "stream",
          "name": "stderr",
          "text": [
            "/usr/local/lib/python3.10/dist-packages/sklearn/utils/validation.py:2739: UserWarning: X does not have valid feature names, but StandardScaler was fitted with feature names\n",
            "  warnings.warn(\n"
          ]
        },
        {
          "output_type": "stream",
          "name": "stdout",
          "text": [
            "\u001b[1m1/1\u001b[0m \u001b[32m━━━━━━━━━━━━━━━━━━━━\u001b[0m\u001b[37m\u001b[0m \u001b[1m0s\u001b[0m 49ms/step\n"
          ]
        },
        {
          "output_type": "stream",
          "name": "stderr",
          "text": [
            "/usr/local/lib/python3.10/dist-packages/sklearn/utils/validation.py:2739: UserWarning: X does not have valid feature names, but StandardScaler was fitted with feature names\n",
            "  warnings.warn(\n"
          ]
        },
        {
          "output_type": "stream",
          "name": "stdout",
          "text": [
            "\u001b[1m1/1\u001b[0m \u001b[32m━━━━━━━━━━━━━━━━━━━━\u001b[0m\u001b[37m\u001b[0m \u001b[1m0s\u001b[0m 48ms/step\n"
          ]
        },
        {
          "output_type": "stream",
          "name": "stderr",
          "text": [
            "/usr/local/lib/python3.10/dist-packages/sklearn/utils/validation.py:2739: UserWarning: X does not have valid feature names, but StandardScaler was fitted with feature names\n",
            "  warnings.warn(\n"
          ]
        },
        {
          "output_type": "stream",
          "name": "stdout",
          "text": [
            "\u001b[1m1/1\u001b[0m \u001b[32m━━━━━━━━━━━━━━━━━━━━\u001b[0m\u001b[37m\u001b[0m \u001b[1m0s\u001b[0m 72ms/step\n"
          ]
        },
        {
          "output_type": "stream",
          "name": "stderr",
          "text": [
            "/usr/local/lib/python3.10/dist-packages/sklearn/utils/validation.py:2739: UserWarning: X does not have valid feature names, but StandardScaler was fitted with feature names\n",
            "  warnings.warn(\n"
          ]
        },
        {
          "output_type": "stream",
          "name": "stdout",
          "text": [
            "\u001b[1m1/1\u001b[0m \u001b[32m━━━━━━━━━━━━━━━━━━━━\u001b[0m\u001b[37m\u001b[0m \u001b[1m0s\u001b[0m 40ms/step\n"
          ]
        },
        {
          "output_type": "stream",
          "name": "stderr",
          "text": [
            "/usr/local/lib/python3.10/dist-packages/sklearn/utils/validation.py:2739: UserWarning: X does not have valid feature names, but StandardScaler was fitted with feature names\n",
            "  warnings.warn(\n"
          ]
        },
        {
          "output_type": "stream",
          "name": "stdout",
          "text": [
            "\u001b[1m1/1\u001b[0m \u001b[32m━━━━━━━━━━━━━━━━━━━━\u001b[0m\u001b[37m\u001b[0m \u001b[1m0s\u001b[0m 63ms/step\n"
          ]
        },
        {
          "output_type": "stream",
          "name": "stderr",
          "text": [
            "/usr/local/lib/python3.10/dist-packages/sklearn/utils/validation.py:2739: UserWarning: X does not have valid feature names, but StandardScaler was fitted with feature names\n",
            "  warnings.warn(\n"
          ]
        },
        {
          "output_type": "stream",
          "name": "stdout",
          "text": [
            "\u001b[1m1/1\u001b[0m \u001b[32m━━━━━━━━━━━━━━━━━━━━\u001b[0m\u001b[37m\u001b[0m \u001b[1m0s\u001b[0m 44ms/step\n"
          ]
        },
        {
          "output_type": "stream",
          "name": "stderr",
          "text": [
            "/usr/local/lib/python3.10/dist-packages/sklearn/utils/validation.py:2739: UserWarning: X does not have valid feature names, but StandardScaler was fitted with feature names\n",
            "  warnings.warn(\n",
            "/usr/local/lib/python3.10/dist-packages/sklearn/utils/validation.py:2739: UserWarning: X does not have valid feature names, but StandardScaler was fitted with feature names\n",
            "  warnings.warn(\n"
          ]
        },
        {
          "output_type": "stream",
          "name": "stdout",
          "text": [
            "\u001b[1m1/1\u001b[0m \u001b[32m━━━━━━━━━━━━━━━━━━━━\u001b[0m\u001b[37m\u001b[0m \u001b[1m0s\u001b[0m 64ms/step\n"
          ]
        },
        {
          "output_type": "stream",
          "name": "stderr",
          "text": [
            "/usr/local/lib/python3.10/dist-packages/sklearn/utils/validation.py:2739: UserWarning: X does not have valid feature names, but StandardScaler was fitted with feature names\n",
            "  warnings.warn(\n"
          ]
        },
        {
          "output_type": "stream",
          "name": "stdout",
          "text": [
            "\u001b[1m1/1\u001b[0m \u001b[32m━━━━━━━━━━━━━━━━━━━━\u001b[0m\u001b[37m\u001b[0m \u001b[1m0s\u001b[0m 33ms/step\n",
            "\u001b[1m1/1\u001b[0m \u001b[32m━━━━━━━━━━━━━━━━━━━━\u001b[0m\u001b[37m\u001b[0m \u001b[1m0s\u001b[0m 28ms/step\n"
          ]
        },
        {
          "output_type": "stream",
          "name": "stderr",
          "text": [
            "/usr/local/lib/python3.10/dist-packages/sklearn/utils/validation.py:2739: UserWarning: X does not have valid feature names, but StandardScaler was fitted with feature names\n",
            "  warnings.warn(\n"
          ]
        },
        {
          "output_type": "stream",
          "name": "stdout",
          "text": [
            "\u001b[1m1/1\u001b[0m \u001b[32m━━━━━━━━━━━━━━━━━━━━\u001b[0m\u001b[37m\u001b[0m \u001b[1m0s\u001b[0m 27ms/step\n"
          ]
        },
        {
          "output_type": "stream",
          "name": "stderr",
          "text": [
            "/usr/local/lib/python3.10/dist-packages/sklearn/utils/validation.py:2739: UserWarning: X does not have valid feature names, but StandardScaler was fitted with feature names\n",
            "  warnings.warn(\n"
          ]
        },
        {
          "output_type": "stream",
          "name": "stdout",
          "text": [
            "\u001b[1m1/1\u001b[0m \u001b[32m━━━━━━━━━━━━━━━━━━━━\u001b[0m\u001b[37m\u001b[0m \u001b[1m0s\u001b[0m 31ms/step\n"
          ]
        },
        {
          "output_type": "stream",
          "name": "stderr",
          "text": [
            "/usr/local/lib/python3.10/dist-packages/sklearn/utils/validation.py:2739: UserWarning: X does not have valid feature names, but StandardScaler was fitted with feature names\n",
            "  warnings.warn(\n"
          ]
        },
        {
          "output_type": "stream",
          "name": "stdout",
          "text": [
            "\u001b[1m1/1\u001b[0m \u001b[32m━━━━━━━━━━━━━━━━━━━━\u001b[0m\u001b[37m\u001b[0m \u001b[1m0s\u001b[0m 28ms/step\n"
          ]
        },
        {
          "output_type": "stream",
          "name": "stderr",
          "text": [
            "/usr/local/lib/python3.10/dist-packages/sklearn/utils/validation.py:2739: UserWarning: X does not have valid feature names, but StandardScaler was fitted with feature names\n",
            "  warnings.warn(\n"
          ]
        },
        {
          "output_type": "stream",
          "name": "stdout",
          "text": [
            "\u001b[1m1/1\u001b[0m \u001b[32m━━━━━━━━━━━━━━━━━━━━\u001b[0m\u001b[37m\u001b[0m \u001b[1m0s\u001b[0m 30ms/step\n"
          ]
        },
        {
          "output_type": "stream",
          "name": "stderr",
          "text": [
            "/usr/local/lib/python3.10/dist-packages/sklearn/utils/validation.py:2739: UserWarning: X does not have valid feature names, but StandardScaler was fitted with feature names\n",
            "  warnings.warn(\n"
          ]
        },
        {
          "output_type": "stream",
          "name": "stdout",
          "text": [
            "\u001b[1m1/1\u001b[0m \u001b[32m━━━━━━━━━━━━━━━━━━━━\u001b[0m\u001b[37m\u001b[0m \u001b[1m0s\u001b[0m 30ms/step\n"
          ]
        },
        {
          "output_type": "stream",
          "name": "stderr",
          "text": [
            "/usr/local/lib/python3.10/dist-packages/sklearn/utils/validation.py:2739: UserWarning: X does not have valid feature names, but StandardScaler was fitted with feature names\n",
            "  warnings.warn(\n"
          ]
        },
        {
          "output_type": "stream",
          "name": "stdout",
          "text": [
            "\u001b[1m1/1\u001b[0m \u001b[32m━━━━━━━━━━━━━━━━━━━━\u001b[0m\u001b[37m\u001b[0m \u001b[1m0s\u001b[0m 27ms/step\n"
          ]
        },
        {
          "output_type": "stream",
          "name": "stderr",
          "text": [
            "/usr/local/lib/python3.10/dist-packages/sklearn/utils/validation.py:2739: UserWarning: X does not have valid feature names, but StandardScaler was fitted with feature names\n",
            "  warnings.warn(\n"
          ]
        },
        {
          "output_type": "stream",
          "name": "stdout",
          "text": [
            "\u001b[1m1/1\u001b[0m \u001b[32m━━━━━━━━━━━━━━━━━━━━\u001b[0m\u001b[37m\u001b[0m \u001b[1m0s\u001b[0m 27ms/step\n"
          ]
        },
        {
          "output_type": "stream",
          "name": "stderr",
          "text": [
            "/usr/local/lib/python3.10/dist-packages/sklearn/utils/validation.py:2739: UserWarning: X does not have valid feature names, but StandardScaler was fitted with feature names\n",
            "  warnings.warn(\n"
          ]
        },
        {
          "output_type": "stream",
          "name": "stdout",
          "text": [
            "\u001b[1m1/1\u001b[0m \u001b[32m━━━━━━━━━━━━━━━━━━━━\u001b[0m\u001b[37m\u001b[0m \u001b[1m0s\u001b[0m 38ms/step\n"
          ]
        },
        {
          "output_type": "stream",
          "name": "stderr",
          "text": [
            "/usr/local/lib/python3.10/dist-packages/sklearn/utils/validation.py:2739: UserWarning: X does not have valid feature names, but StandardScaler was fitted with feature names\n",
            "  warnings.warn(\n"
          ]
        },
        {
          "output_type": "stream",
          "name": "stdout",
          "text": [
            "\u001b[1m1/1\u001b[0m \u001b[32m━━━━━━━━━━━━━━━━━━━━\u001b[0m\u001b[37m\u001b[0m \u001b[1m0s\u001b[0m 29ms/step\n"
          ]
        },
        {
          "output_type": "stream",
          "name": "stderr",
          "text": [
            "/usr/local/lib/python3.10/dist-packages/sklearn/utils/validation.py:2739: UserWarning: X does not have valid feature names, but StandardScaler was fitted with feature names\n",
            "  warnings.warn(\n"
          ]
        },
        {
          "output_type": "stream",
          "name": "stdout",
          "text": [
            "\u001b[1m1/1\u001b[0m \u001b[32m━━━━━━━━━━━━━━━━━━━━\u001b[0m\u001b[37m\u001b[0m \u001b[1m0s\u001b[0m 27ms/step\n"
          ]
        },
        {
          "output_type": "stream",
          "name": "stderr",
          "text": [
            "/usr/local/lib/python3.10/dist-packages/sklearn/utils/validation.py:2739: UserWarning: X does not have valid feature names, but StandardScaler was fitted with feature names\n",
            "  warnings.warn(\n"
          ]
        },
        {
          "output_type": "stream",
          "name": "stdout",
          "text": [
            "\u001b[1m1/1\u001b[0m \u001b[32m━━━━━━━━━━━━━━━━━━━━\u001b[0m\u001b[37m\u001b[0m \u001b[1m0s\u001b[0m 29ms/step\n"
          ]
        },
        {
          "output_type": "stream",
          "name": "stderr",
          "text": [
            "/usr/local/lib/python3.10/dist-packages/sklearn/utils/validation.py:2739: UserWarning: X does not have valid feature names, but StandardScaler was fitted with feature names\n",
            "  warnings.warn(\n"
          ]
        },
        {
          "output_type": "stream",
          "name": "stdout",
          "text": [
            "\u001b[1m1/1\u001b[0m \u001b[32m━━━━━━━━━━━━━━━━━━━━\u001b[0m\u001b[37m\u001b[0m \u001b[1m0s\u001b[0m 28ms/step\n"
          ]
        },
        {
          "output_type": "stream",
          "name": "stderr",
          "text": [
            "/usr/local/lib/python3.10/dist-packages/sklearn/utils/validation.py:2739: UserWarning: X does not have valid feature names, but StandardScaler was fitted with feature names\n",
            "  warnings.warn(\n"
          ]
        },
        {
          "output_type": "stream",
          "name": "stdout",
          "text": [
            "\u001b[1m1/1\u001b[0m \u001b[32m━━━━━━━━━━━━━━━━━━━━\u001b[0m\u001b[37m\u001b[0m \u001b[1m0s\u001b[0m 26ms/step\n"
          ]
        },
        {
          "output_type": "stream",
          "name": "stderr",
          "text": [
            "/usr/local/lib/python3.10/dist-packages/sklearn/utils/validation.py:2739: UserWarning: X does not have valid feature names, but StandardScaler was fitted with feature names\n",
            "  warnings.warn(\n"
          ]
        },
        {
          "output_type": "stream",
          "name": "stdout",
          "text": [
            "\u001b[1m1/1\u001b[0m \u001b[32m━━━━━━━━━━━━━━━━━━━━\u001b[0m\u001b[37m\u001b[0m \u001b[1m0s\u001b[0m 24ms/step\n"
          ]
        },
        {
          "output_type": "stream",
          "name": "stderr",
          "text": [
            "/usr/local/lib/python3.10/dist-packages/sklearn/utils/validation.py:2739: UserWarning: X does not have valid feature names, but StandardScaler was fitted with feature names\n",
            "  warnings.warn(\n"
          ]
        },
        {
          "output_type": "stream",
          "name": "stdout",
          "text": [
            "\u001b[1m1/1\u001b[0m \u001b[32m━━━━━━━━━━━━━━━━━━━━\u001b[0m\u001b[37m\u001b[0m \u001b[1m0s\u001b[0m 26ms/step\n"
          ]
        },
        {
          "output_type": "stream",
          "name": "stderr",
          "text": [
            "/usr/local/lib/python3.10/dist-packages/sklearn/utils/validation.py:2739: UserWarning: X does not have valid feature names, but StandardScaler was fitted with feature names\n",
            "  warnings.warn(\n"
          ]
        },
        {
          "output_type": "stream",
          "name": "stdout",
          "text": [
            "\u001b[1m1/1\u001b[0m \u001b[32m━━━━━━━━━━━━━━━━━━━━\u001b[0m\u001b[37m\u001b[0m \u001b[1m0s\u001b[0m 29ms/step\n"
          ]
        },
        {
          "output_type": "stream",
          "name": "stderr",
          "text": [
            "/usr/local/lib/python3.10/dist-packages/sklearn/utils/validation.py:2739: UserWarning: X does not have valid feature names, but StandardScaler was fitted with feature names\n",
            "  warnings.warn(\n",
            "/usr/local/lib/python3.10/dist-packages/sklearn/utils/validation.py:2739: UserWarning: X does not have valid feature names, but StandardScaler was fitted with feature names\n",
            "  warnings.warn(\n"
          ]
        },
        {
          "output_type": "stream",
          "name": "stdout",
          "text": [
            "\u001b[1m1/1\u001b[0m \u001b[32m━━━━━━━━━━━━━━━━━━━━\u001b[0m\u001b[37m\u001b[0m \u001b[1m0s\u001b[0m 25ms/step\n",
            "\u001b[1m1/1\u001b[0m \u001b[32m━━━━━━━━━━━━━━━━━━━━\u001b[0m\u001b[37m\u001b[0m \u001b[1m0s\u001b[0m 30ms/step\n"
          ]
        },
        {
          "output_type": "stream",
          "name": "stderr",
          "text": [
            "/usr/local/lib/python3.10/dist-packages/sklearn/utils/validation.py:2739: UserWarning: X does not have valid feature names, but StandardScaler was fitted with feature names\n",
            "  warnings.warn(\n"
          ]
        },
        {
          "output_type": "stream",
          "name": "stdout",
          "text": [
            "\u001b[1m1/1\u001b[0m \u001b[32m━━━━━━━━━━━━━━━━━━━━\u001b[0m\u001b[37m\u001b[0m \u001b[1m0s\u001b[0m 30ms/step\n"
          ]
        },
        {
          "output_type": "stream",
          "name": "stderr",
          "text": [
            "/usr/local/lib/python3.10/dist-packages/sklearn/utils/validation.py:2739: UserWarning: X does not have valid feature names, but StandardScaler was fitted with feature names\n",
            "  warnings.warn(\n"
          ]
        },
        {
          "output_type": "stream",
          "name": "stdout",
          "text": [
            "\u001b[1m1/1\u001b[0m \u001b[32m━━━━━━━━━━━━━━━━━━━━\u001b[0m\u001b[37m\u001b[0m \u001b[1m0s\u001b[0m 25ms/step\n"
          ]
        },
        {
          "output_type": "stream",
          "name": "stderr",
          "text": [
            "/usr/local/lib/python3.10/dist-packages/sklearn/utils/validation.py:2739: UserWarning: X does not have valid feature names, but StandardScaler was fitted with feature names\n",
            "  warnings.warn(\n",
            "/usr/local/lib/python3.10/dist-packages/sklearn/utils/validation.py:2739: UserWarning: X does not have valid feature names, but StandardScaler was fitted with feature names\n",
            "  warnings.warn(\n"
          ]
        },
        {
          "output_type": "stream",
          "name": "stdout",
          "text": [
            "\u001b[1m1/1\u001b[0m \u001b[32m━━━━━━━━━━━━━━━━━━━━\u001b[0m\u001b[37m\u001b[0m \u001b[1m0s\u001b[0m 26ms/step\n",
            "\u001b[1m1/1\u001b[0m \u001b[32m━━━━━━━━━━━━━━━━━━━━\u001b[0m\u001b[37m\u001b[0m \u001b[1m0s\u001b[0m 24ms/step\n"
          ]
        },
        {
          "output_type": "stream",
          "name": "stderr",
          "text": [
            "/usr/local/lib/python3.10/dist-packages/sklearn/utils/validation.py:2739: UserWarning: X does not have valid feature names, but StandardScaler was fitted with feature names\n",
            "  warnings.warn(\n"
          ]
        },
        {
          "output_type": "stream",
          "name": "stdout",
          "text": [
            "\u001b[1m1/1\u001b[0m \u001b[32m━━━━━━━━━━━━━━━━━━━━\u001b[0m\u001b[37m\u001b[0m \u001b[1m0s\u001b[0m 25ms/step\n"
          ]
        },
        {
          "output_type": "stream",
          "name": "stderr",
          "text": [
            "/usr/local/lib/python3.10/dist-packages/sklearn/utils/validation.py:2739: UserWarning: X does not have valid feature names, but StandardScaler was fitted with feature names\n",
            "  warnings.warn(\n"
          ]
        },
        {
          "output_type": "stream",
          "name": "stdout",
          "text": [
            "\u001b[1m1/1\u001b[0m \u001b[32m━━━━━━━━━━━━━━━━━━━━\u001b[0m\u001b[37m\u001b[0m \u001b[1m0s\u001b[0m 25ms/step\n"
          ]
        },
        {
          "output_type": "stream",
          "name": "stderr",
          "text": [
            "/usr/local/lib/python3.10/dist-packages/sklearn/utils/validation.py:2739: UserWarning: X does not have valid feature names, but StandardScaler was fitted with feature names\n",
            "  warnings.warn(\n"
          ]
        },
        {
          "output_type": "stream",
          "name": "stdout",
          "text": [
            "\u001b[1m1/1\u001b[0m \u001b[32m━━━━━━━━━━━━━━━━━━━━\u001b[0m\u001b[37m\u001b[0m \u001b[1m0s\u001b[0m 28ms/step\n"
          ]
        },
        {
          "output_type": "stream",
          "name": "stderr",
          "text": [
            "/usr/local/lib/python3.10/dist-packages/sklearn/utils/validation.py:2739: UserWarning: X does not have valid feature names, but StandardScaler was fitted with feature names\n",
            "  warnings.warn(\n"
          ]
        },
        {
          "output_type": "stream",
          "name": "stdout",
          "text": [
            "\u001b[1m1/1\u001b[0m \u001b[32m━━━━━━━━━━━━━━━━━━━━\u001b[0m\u001b[37m\u001b[0m \u001b[1m0s\u001b[0m 27ms/step\n"
          ]
        },
        {
          "output_type": "stream",
          "name": "stderr",
          "text": [
            "/usr/local/lib/python3.10/dist-packages/sklearn/utils/validation.py:2739: UserWarning: X does not have valid feature names, but StandardScaler was fitted with feature names\n",
            "  warnings.warn(\n"
          ]
        },
        {
          "output_type": "stream",
          "name": "stdout",
          "text": [
            "\u001b[1m1/1\u001b[0m \u001b[32m━━━━━━━━━━━━━━━━━━━━\u001b[0m\u001b[37m\u001b[0m \u001b[1m0s\u001b[0m 26ms/step\n"
          ]
        },
        {
          "output_type": "stream",
          "name": "stderr",
          "text": [
            "/usr/local/lib/python3.10/dist-packages/sklearn/utils/validation.py:2739: UserWarning: X does not have valid feature names, but StandardScaler was fitted with feature names\n",
            "  warnings.warn(\n"
          ]
        },
        {
          "output_type": "stream",
          "name": "stdout",
          "text": [
            "\u001b[1m1/1\u001b[0m \u001b[32m━━━━━━━━━━━━━━━━━━━━\u001b[0m\u001b[37m\u001b[0m \u001b[1m0s\u001b[0m 26ms/step\n"
          ]
        },
        {
          "output_type": "stream",
          "name": "stderr",
          "text": [
            "/usr/local/lib/python3.10/dist-packages/sklearn/utils/validation.py:2739: UserWarning: X does not have valid feature names, but StandardScaler was fitted with feature names\n",
            "  warnings.warn(\n"
          ]
        },
        {
          "output_type": "stream",
          "name": "stdout",
          "text": [
            "\u001b[1m1/1\u001b[0m \u001b[32m━━━━━━━━━━━━━━━━━━━━\u001b[0m\u001b[37m\u001b[0m \u001b[1m0s\u001b[0m 25ms/step\n"
          ]
        },
        {
          "output_type": "stream",
          "name": "stderr",
          "text": [
            "/usr/local/lib/python3.10/dist-packages/sklearn/utils/validation.py:2739: UserWarning: X does not have valid feature names, but StandardScaler was fitted with feature names\n",
            "  warnings.warn(\n"
          ]
        },
        {
          "output_type": "stream",
          "name": "stdout",
          "text": [
            "\u001b[1m1/1\u001b[0m \u001b[32m━━━━━━━━━━━━━━━━━━━━\u001b[0m\u001b[37m\u001b[0m \u001b[1m0s\u001b[0m 29ms/step\n"
          ]
        },
        {
          "output_type": "stream",
          "name": "stderr",
          "text": [
            "/usr/local/lib/python3.10/dist-packages/sklearn/utils/validation.py:2739: UserWarning: X does not have valid feature names, but StandardScaler was fitted with feature names\n",
            "  warnings.warn(\n",
            "/usr/local/lib/python3.10/dist-packages/sklearn/utils/validation.py:2739: UserWarning: X does not have valid feature names, but StandardScaler was fitted with feature names\n",
            "  warnings.warn(\n"
          ]
        },
        {
          "output_type": "stream",
          "name": "stdout",
          "text": [
            "\u001b[1m1/1\u001b[0m \u001b[32m━━━━━━━━━━━━━━━━━━━━\u001b[0m\u001b[37m\u001b[0m \u001b[1m0s\u001b[0m 25ms/step\n",
            "\u001b[1m1/1\u001b[0m \u001b[32m━━━━━━━━━━━━━━━━━━━━\u001b[0m\u001b[37m\u001b[0m \u001b[1m0s\u001b[0m 26ms/step\n"
          ]
        },
        {
          "output_type": "stream",
          "name": "stderr",
          "text": [
            "/usr/local/lib/python3.10/dist-packages/sklearn/utils/validation.py:2739: UserWarning: X does not have valid feature names, but StandardScaler was fitted with feature names\n",
            "  warnings.warn(\n"
          ]
        },
        {
          "output_type": "stream",
          "name": "stdout",
          "text": [
            "\u001b[1m1/1\u001b[0m \u001b[32m━━━━━━━━━━━━━━━━━━━━\u001b[0m\u001b[37m\u001b[0m \u001b[1m0s\u001b[0m 27ms/step\n"
          ]
        },
        {
          "output_type": "stream",
          "name": "stderr",
          "text": [
            "/usr/local/lib/python3.10/dist-packages/sklearn/utils/validation.py:2739: UserWarning: X does not have valid feature names, but StandardScaler was fitted with feature names\n",
            "  warnings.warn(\n"
          ]
        },
        {
          "output_type": "stream",
          "name": "stdout",
          "text": [
            "\u001b[1m1/1\u001b[0m \u001b[32m━━━━━━━━━━━━━━━━━━━━\u001b[0m\u001b[37m\u001b[0m \u001b[1m0s\u001b[0m 36ms/step\n"
          ]
        },
        {
          "output_type": "stream",
          "name": "stderr",
          "text": [
            "/usr/local/lib/python3.10/dist-packages/sklearn/utils/validation.py:2739: UserWarning: X does not have valid feature names, but StandardScaler was fitted with feature names\n",
            "  warnings.warn(\n"
          ]
        },
        {
          "output_type": "stream",
          "name": "stdout",
          "text": [
            "\u001b[1m1/1\u001b[0m \u001b[32m━━━━━━━━━━━━━━━━━━━━\u001b[0m\u001b[37m\u001b[0m \u001b[1m0s\u001b[0m 26ms/step\n"
          ]
        },
        {
          "output_type": "stream",
          "name": "stderr",
          "text": [
            "/usr/local/lib/python3.10/dist-packages/sklearn/utils/validation.py:2739: UserWarning: X does not have valid feature names, but StandardScaler was fitted with feature names\n",
            "  warnings.warn(\n"
          ]
        },
        {
          "output_type": "stream",
          "name": "stdout",
          "text": [
            "\u001b[1m1/1\u001b[0m \u001b[32m━━━━━━━━━━━━━━━━━━━━\u001b[0m\u001b[37m\u001b[0m \u001b[1m0s\u001b[0m 26ms/step\n"
          ]
        },
        {
          "output_type": "stream",
          "name": "stderr",
          "text": [
            "/usr/local/lib/python3.10/dist-packages/sklearn/utils/validation.py:2739: UserWarning: X does not have valid feature names, but StandardScaler was fitted with feature names\n",
            "  warnings.warn(\n"
          ]
        },
        {
          "output_type": "stream",
          "name": "stdout",
          "text": [
            "\u001b[1m1/1\u001b[0m \u001b[32m━━━━━━━━━━━━━━━━━━━━\u001b[0m\u001b[37m\u001b[0m \u001b[1m0s\u001b[0m 26ms/step\n"
          ]
        },
        {
          "output_type": "stream",
          "name": "stderr",
          "text": [
            "/usr/local/lib/python3.10/dist-packages/sklearn/utils/validation.py:2739: UserWarning: X does not have valid feature names, but StandardScaler was fitted with feature names\n",
            "  warnings.warn(\n"
          ]
        },
        {
          "output_type": "stream",
          "name": "stdout",
          "text": [
            "\u001b[1m1/1\u001b[0m \u001b[32m━━━━━━━━━━━━━━━━━━━━\u001b[0m\u001b[37m\u001b[0m \u001b[1m0s\u001b[0m 30ms/step\n"
          ]
        },
        {
          "output_type": "stream",
          "name": "stderr",
          "text": [
            "/usr/local/lib/python3.10/dist-packages/sklearn/utils/validation.py:2739: UserWarning: X does not have valid feature names, but StandardScaler was fitted with feature names\n",
            "  warnings.warn(\n"
          ]
        },
        {
          "output_type": "stream",
          "name": "stdout",
          "text": [
            "\u001b[1m1/1\u001b[0m \u001b[32m━━━━━━━━━━━━━━━━━━━━\u001b[0m\u001b[37m\u001b[0m \u001b[1m0s\u001b[0m 26ms/step\n"
          ]
        },
        {
          "output_type": "stream",
          "name": "stderr",
          "text": [
            "/usr/local/lib/python3.10/dist-packages/sklearn/utils/validation.py:2739: UserWarning: X does not have valid feature names, but StandardScaler was fitted with feature names\n",
            "  warnings.warn(\n"
          ]
        },
        {
          "output_type": "stream",
          "name": "stdout",
          "text": [
            "\u001b[1m1/1\u001b[0m \u001b[32m━━━━━━━━━━━━━━━━━━━━\u001b[0m\u001b[37m\u001b[0m \u001b[1m0s\u001b[0m 25ms/step\n"
          ]
        },
        {
          "output_type": "stream",
          "name": "stderr",
          "text": [
            "/usr/local/lib/python3.10/dist-packages/sklearn/utils/validation.py:2739: UserWarning: X does not have valid feature names, but StandardScaler was fitted with feature names\n",
            "  warnings.warn(\n"
          ]
        },
        {
          "output_type": "stream",
          "name": "stdout",
          "text": [
            "\u001b[1m1/1\u001b[0m \u001b[32m━━━━━━━━━━━━━━━━━━━━\u001b[0m\u001b[37m\u001b[0m \u001b[1m0s\u001b[0m 30ms/step\n"
          ]
        },
        {
          "output_type": "stream",
          "name": "stderr",
          "text": [
            "/usr/local/lib/python3.10/dist-packages/sklearn/utils/validation.py:2739: UserWarning: X does not have valid feature names, but StandardScaler was fitted with feature names\n",
            "  warnings.warn(\n"
          ]
        },
        {
          "output_type": "stream",
          "name": "stdout",
          "text": [
            "\u001b[1m1/1\u001b[0m \u001b[32m━━━━━━━━━━━━━━━━━━━━\u001b[0m\u001b[37m\u001b[0m \u001b[1m0s\u001b[0m 31ms/step\n"
          ]
        },
        {
          "output_type": "stream",
          "name": "stderr",
          "text": [
            "/usr/local/lib/python3.10/dist-packages/sklearn/utils/validation.py:2739: UserWarning: X does not have valid feature names, but StandardScaler was fitted with feature names\n",
            "  warnings.warn(\n"
          ]
        },
        {
          "output_type": "stream",
          "name": "stdout",
          "text": [
            "\u001b[1m1/1\u001b[0m \u001b[32m━━━━━━━━━━━━━━━━━━━━\u001b[0m\u001b[37m\u001b[0m \u001b[1m0s\u001b[0m 34ms/step\n"
          ]
        },
        {
          "output_type": "stream",
          "name": "stderr",
          "text": [
            "/usr/local/lib/python3.10/dist-packages/sklearn/utils/validation.py:2739: UserWarning: X does not have valid feature names, but StandardScaler was fitted with feature names\n",
            "  warnings.warn(\n"
          ]
        },
        {
          "output_type": "stream",
          "name": "stdout",
          "text": [
            "\u001b[1m1/1\u001b[0m \u001b[32m━━━━━━━━━━━━━━━━━━━━\u001b[0m\u001b[37m\u001b[0m \u001b[1m0s\u001b[0m 30ms/step\n"
          ]
        },
        {
          "output_type": "stream",
          "name": "stderr",
          "text": [
            "/usr/local/lib/python3.10/dist-packages/sklearn/utils/validation.py:2739: UserWarning: X does not have valid feature names, but StandardScaler was fitted with feature names\n",
            "  warnings.warn(\n"
          ]
        },
        {
          "output_type": "stream",
          "name": "stdout",
          "text": [
            "\u001b[1m1/1\u001b[0m \u001b[32m━━━━━━━━━━━━━━━━━━━━\u001b[0m\u001b[37m\u001b[0m \u001b[1m0s\u001b[0m 25ms/step\n"
          ]
        },
        {
          "output_type": "stream",
          "name": "stderr",
          "text": [
            "/usr/local/lib/python3.10/dist-packages/sklearn/utils/validation.py:2739: UserWarning: X does not have valid feature names, but StandardScaler was fitted with feature names\n",
            "  warnings.warn(\n"
          ]
        },
        {
          "output_type": "stream",
          "name": "stdout",
          "text": [
            "\u001b[1m1/1\u001b[0m \u001b[32m━━━━━━━━━━━━━━━━━━━━\u001b[0m\u001b[37m\u001b[0m \u001b[1m0s\u001b[0m 28ms/step\n"
          ]
        },
        {
          "output_type": "stream",
          "name": "stderr",
          "text": [
            "/usr/local/lib/python3.10/dist-packages/sklearn/utils/validation.py:2739: UserWarning: X does not have valid feature names, but StandardScaler was fitted with feature names\n",
            "  warnings.warn(\n"
          ]
        },
        {
          "output_type": "stream",
          "name": "stdout",
          "text": [
            "\u001b[1m1/1\u001b[0m \u001b[32m━━━━━━━━━━━━━━━━━━━━\u001b[0m\u001b[37m\u001b[0m \u001b[1m0s\u001b[0m 28ms/step\n"
          ]
        },
        {
          "output_type": "stream",
          "name": "stderr",
          "text": [
            "/usr/local/lib/python3.10/dist-packages/sklearn/utils/validation.py:2739: UserWarning: X does not have valid feature names, but StandardScaler was fitted with feature names\n",
            "  warnings.warn(\n"
          ]
        },
        {
          "output_type": "stream",
          "name": "stdout",
          "text": [
            "\u001b[1m1/1\u001b[0m \u001b[32m━━━━━━━━━━━━━━━━━━━━\u001b[0m\u001b[37m\u001b[0m \u001b[1m0s\u001b[0m 28ms/step\n"
          ]
        },
        {
          "output_type": "stream",
          "name": "stderr",
          "text": [
            "/usr/local/lib/python3.10/dist-packages/sklearn/utils/validation.py:2739: UserWarning: X does not have valid feature names, but StandardScaler was fitted with feature names\n",
            "  warnings.warn(\n"
          ]
        },
        {
          "output_type": "stream",
          "name": "stdout",
          "text": [
            "\u001b[1m1/1\u001b[0m \u001b[32m━━━━━━━━━━━━━━━━━━━━\u001b[0m\u001b[37m\u001b[0m \u001b[1m0s\u001b[0m 25ms/step\n"
          ]
        },
        {
          "output_type": "stream",
          "name": "stderr",
          "text": [
            "/usr/local/lib/python3.10/dist-packages/sklearn/utils/validation.py:2739: UserWarning: X does not have valid feature names, but StandardScaler was fitted with feature names\n",
            "  warnings.warn(\n"
          ]
        },
        {
          "output_type": "stream",
          "name": "stdout",
          "text": [
            "\u001b[1m1/1\u001b[0m \u001b[32m━━━━━━━━━━━━━━━━━━━━\u001b[0m\u001b[37m\u001b[0m \u001b[1m0s\u001b[0m 38ms/step\n"
          ]
        },
        {
          "output_type": "stream",
          "name": "stderr",
          "text": [
            "/usr/local/lib/python3.10/dist-packages/sklearn/utils/validation.py:2739: UserWarning: X does not have valid feature names, but StandardScaler was fitted with feature names\n",
            "  warnings.warn(\n"
          ]
        },
        {
          "output_type": "stream",
          "name": "stdout",
          "text": [
            "\u001b[1m1/1\u001b[0m \u001b[32m━━━━━━━━━━━━━━━━━━━━\u001b[0m\u001b[37m\u001b[0m \u001b[1m0s\u001b[0m 27ms/step\n"
          ]
        },
        {
          "output_type": "stream",
          "name": "stderr",
          "text": [
            "/usr/local/lib/python3.10/dist-packages/sklearn/utils/validation.py:2739: UserWarning: X does not have valid feature names, but StandardScaler was fitted with feature names\n",
            "  warnings.warn(\n"
          ]
        },
        {
          "output_type": "stream",
          "name": "stdout",
          "text": [
            "\u001b[1m1/1\u001b[0m \u001b[32m━━━━━━━━━━━━━━━━━━━━\u001b[0m\u001b[37m\u001b[0m \u001b[1m0s\u001b[0m 26ms/step\n"
          ]
        },
        {
          "output_type": "stream",
          "name": "stderr",
          "text": [
            "/usr/local/lib/python3.10/dist-packages/sklearn/utils/validation.py:2739: UserWarning: X does not have valid feature names, but StandardScaler was fitted with feature names\n",
            "  warnings.warn(\n"
          ]
        },
        {
          "output_type": "stream",
          "name": "stdout",
          "text": [
            "\u001b[1m1/1\u001b[0m \u001b[32m━━━━━━━━━━━━━━━━━━━━\u001b[0m\u001b[37m\u001b[0m \u001b[1m0s\u001b[0m 24ms/step\n"
          ]
        },
        {
          "output_type": "stream",
          "name": "stderr",
          "text": [
            "/usr/local/lib/python3.10/dist-packages/sklearn/utils/validation.py:2739: UserWarning: X does not have valid feature names, but StandardScaler was fitted with feature names\n",
            "  warnings.warn(\n"
          ]
        },
        {
          "output_type": "stream",
          "name": "stdout",
          "text": [
            "\u001b[1m1/1\u001b[0m \u001b[32m━━━━━━━━━━━━━━━━━━━━\u001b[0m\u001b[37m\u001b[0m \u001b[1m0s\u001b[0m 29ms/step\n"
          ]
        },
        {
          "output_type": "stream",
          "name": "stderr",
          "text": [
            "/usr/local/lib/python3.10/dist-packages/sklearn/utils/validation.py:2739: UserWarning: X does not have valid feature names, but StandardScaler was fitted with feature names\n",
            "  warnings.warn(\n"
          ]
        },
        {
          "output_type": "stream",
          "name": "stdout",
          "text": [
            "\u001b[1m1/1\u001b[0m \u001b[32m━━━━━━━━━━━━━━━━━━━━\u001b[0m\u001b[37m\u001b[0m \u001b[1m0s\u001b[0m 25ms/step\n"
          ]
        },
        {
          "output_type": "stream",
          "name": "stderr",
          "text": [
            "/usr/local/lib/python3.10/dist-packages/sklearn/utils/validation.py:2739: UserWarning: X does not have valid feature names, but StandardScaler was fitted with feature names\n",
            "  warnings.warn(\n"
          ]
        },
        {
          "output_type": "stream",
          "name": "stdout",
          "text": [
            "\u001b[1m1/1\u001b[0m \u001b[32m━━━━━━━━━━━━━━━━━━━━\u001b[0m\u001b[37m\u001b[0m \u001b[1m0s\u001b[0m 29ms/step\n"
          ]
        },
        {
          "output_type": "stream",
          "name": "stderr",
          "text": [
            "/usr/local/lib/python3.10/dist-packages/sklearn/utils/validation.py:2739: UserWarning: X does not have valid feature names, but StandardScaler was fitted with feature names\n",
            "  warnings.warn(\n"
          ]
        },
        {
          "output_type": "stream",
          "name": "stdout",
          "text": [
            "\u001b[1m1/1\u001b[0m \u001b[32m━━━━━━━━━━━━━━━━━━━━\u001b[0m\u001b[37m\u001b[0m \u001b[1m0s\u001b[0m 32ms/step\n"
          ]
        },
        {
          "output_type": "stream",
          "name": "stderr",
          "text": [
            "/usr/local/lib/python3.10/dist-packages/sklearn/utils/validation.py:2739: UserWarning: X does not have valid feature names, but StandardScaler was fitted with feature names\n",
            "  warnings.warn(\n"
          ]
        },
        {
          "output_type": "stream",
          "name": "stdout",
          "text": [
            "\u001b[1m1/1\u001b[0m \u001b[32m━━━━━━━━━━━━━━━━━━━━\u001b[0m\u001b[37m\u001b[0m \u001b[1m0s\u001b[0m 29ms/step\n"
          ]
        },
        {
          "output_type": "stream",
          "name": "stderr",
          "text": [
            "/usr/local/lib/python3.10/dist-packages/sklearn/utils/validation.py:2739: UserWarning: X does not have valid feature names, but StandardScaler was fitted with feature names\n",
            "  warnings.warn(\n"
          ]
        },
        {
          "output_type": "stream",
          "name": "stdout",
          "text": [
            "\u001b[1m1/1\u001b[0m \u001b[32m━━━━━━━━━━━━━━━━━━━━\u001b[0m\u001b[37m\u001b[0m \u001b[1m0s\u001b[0m 26ms/step\n"
          ]
        },
        {
          "output_type": "stream",
          "name": "stderr",
          "text": [
            "/usr/local/lib/python3.10/dist-packages/sklearn/utils/validation.py:2739: UserWarning: X does not have valid feature names, but StandardScaler was fitted with feature names\n",
            "  warnings.warn(\n"
          ]
        },
        {
          "output_type": "stream",
          "name": "stdout",
          "text": [
            "\u001b[1m1/1\u001b[0m \u001b[32m━━━━━━━━━━━━━━━━━━━━\u001b[0m\u001b[37m\u001b[0m \u001b[1m0s\u001b[0m 25ms/step\n"
          ]
        },
        {
          "output_type": "stream",
          "name": "stderr",
          "text": [
            "/usr/local/lib/python3.10/dist-packages/sklearn/utils/validation.py:2739: UserWarning: X does not have valid feature names, but StandardScaler was fitted with feature names\n",
            "  warnings.warn(\n"
          ]
        },
        {
          "output_type": "stream",
          "name": "stdout",
          "text": [
            "\u001b[1m1/1\u001b[0m \u001b[32m━━━━━━━━━━━━━━━━━━━━\u001b[0m\u001b[37m\u001b[0m \u001b[1m0s\u001b[0m 33ms/step\n"
          ]
        },
        {
          "output_type": "stream",
          "name": "stderr",
          "text": [
            "/usr/local/lib/python3.10/dist-packages/sklearn/utils/validation.py:2739: UserWarning: X does not have valid feature names, but StandardScaler was fitted with feature names\n",
            "  warnings.warn(\n"
          ]
        },
        {
          "output_type": "stream",
          "name": "stdout",
          "text": [
            "\u001b[1m1/1\u001b[0m \u001b[32m━━━━━━━━━━━━━━━━━━━━\u001b[0m\u001b[37m\u001b[0m \u001b[1m0s\u001b[0m 27ms/step\n"
          ]
        },
        {
          "output_type": "stream",
          "name": "stderr",
          "text": [
            "/usr/local/lib/python3.10/dist-packages/sklearn/utils/validation.py:2739: UserWarning: X does not have valid feature names, but StandardScaler was fitted with feature names\n",
            "  warnings.warn(\n"
          ]
        },
        {
          "output_type": "stream",
          "name": "stdout",
          "text": [
            "\u001b[1m1/1\u001b[0m \u001b[32m━━━━━━━━━━━━━━━━━━━━\u001b[0m\u001b[37m\u001b[0m \u001b[1m0s\u001b[0m 26ms/step\n"
          ]
        },
        {
          "output_type": "stream",
          "name": "stderr",
          "text": [
            "/usr/local/lib/python3.10/dist-packages/sklearn/utils/validation.py:2739: UserWarning: X does not have valid feature names, but StandardScaler was fitted with feature names\n",
            "  warnings.warn(\n"
          ]
        },
        {
          "output_type": "stream",
          "name": "stdout",
          "text": [
            "\u001b[1m1/1\u001b[0m \u001b[32m━━━━━━━━━━━━━━━━━━━━\u001b[0m\u001b[37m\u001b[0m \u001b[1m0s\u001b[0m 32ms/step\n"
          ]
        },
        {
          "output_type": "stream",
          "name": "stderr",
          "text": [
            "/usr/local/lib/python3.10/dist-packages/sklearn/utils/validation.py:2739: UserWarning: X does not have valid feature names, but StandardScaler was fitted with feature names\n",
            "  warnings.warn(\n"
          ]
        },
        {
          "output_type": "stream",
          "name": "stdout",
          "text": [
            "\u001b[1m1/1\u001b[0m \u001b[32m━━━━━━━━━━━━━━━━━━━━\u001b[0m\u001b[37m\u001b[0m \u001b[1m0s\u001b[0m 25ms/step\n",
            "Predictions saved to 'submissiosns_130520122024.csv'\n"
          ]
        },
        {
          "output_type": "stream",
          "name": "stderr",
          "text": [
            "/usr/local/lib/python3.10/dist-packages/sklearn/utils/validation.py:2739: UserWarning: X does not have valid feature names, but StandardScaler was fitted with feature names\n",
            "  warnings.warn(\n"
          ]
        }
      ]
    },
    {
      "cell_type": "code",
      "source": [
        "test_feature_df = pd.read_csv('features.csv')"
      ],
      "metadata": {
        "id": "Nu9dq97YxnTm"
      },
      "execution_count": null,
      "outputs": []
    },
    {
      "cell_type": "code",
      "source": [
        "results_df.head()"
      ],
      "metadata": {
        "colab": {
          "base_uri": "https://localhost:8080/",
          "height": 206
        },
        "id": "Z-HXjM7Rx9Mz",
        "outputId": "f4d02be0-e4de-45a8-f402-afb95c6f24f8"
      },
      "execution_count": null,
      "outputs": [
        {
          "output_type": "execute_result",
          "data": {
            "text/plain": [
              "  File Name Target\n",
              "0    91.wav    Sad\n",
              "1   250.wav    Sad\n",
              "2    25.wav    Sad\n",
              "3   139.wav    Sad\n",
              "4   229.wav    Sad"
            ],
            "text/html": [
              "\n",
              "  <div id=\"df-017c7b5f-177c-402e-8a27-2803b8ba912a\" class=\"colab-df-container\">\n",
              "    <div>\n",
              "<style scoped>\n",
              "    .dataframe tbody tr th:only-of-type {\n",
              "        vertical-align: middle;\n",
              "    }\n",
              "\n",
              "    .dataframe tbody tr th {\n",
              "        vertical-align: top;\n",
              "    }\n",
              "\n",
              "    .dataframe thead th {\n",
              "        text-align: right;\n",
              "    }\n",
              "</style>\n",
              "<table border=\"1\" class=\"dataframe\">\n",
              "  <thead>\n",
              "    <tr style=\"text-align: right;\">\n",
              "      <th></th>\n",
              "      <th>File Name</th>\n",
              "      <th>Target</th>\n",
              "    </tr>\n",
              "  </thead>\n",
              "  <tbody>\n",
              "    <tr>\n",
              "      <th>0</th>\n",
              "      <td>91.wav</td>\n",
              "      <td>Sad</td>\n",
              "    </tr>\n",
              "    <tr>\n",
              "      <th>1</th>\n",
              "      <td>250.wav</td>\n",
              "      <td>Sad</td>\n",
              "    </tr>\n",
              "    <tr>\n",
              "      <th>2</th>\n",
              "      <td>25.wav</td>\n",
              "      <td>Sad</td>\n",
              "    </tr>\n",
              "    <tr>\n",
              "      <th>3</th>\n",
              "      <td>139.wav</td>\n",
              "      <td>Sad</td>\n",
              "    </tr>\n",
              "    <tr>\n",
              "      <th>4</th>\n",
              "      <td>229.wav</td>\n",
              "      <td>Sad</td>\n",
              "    </tr>\n",
              "  </tbody>\n",
              "</table>\n",
              "</div>\n",
              "    <div class=\"colab-df-buttons\">\n",
              "\n",
              "  <div class=\"colab-df-container\">\n",
              "    <button class=\"colab-df-convert\" onclick=\"convertToInteractive('df-017c7b5f-177c-402e-8a27-2803b8ba912a')\"\n",
              "            title=\"Convert this dataframe to an interactive table.\"\n",
              "            style=\"display:none;\">\n",
              "\n",
              "  <svg xmlns=\"http://www.w3.org/2000/svg\" height=\"24px\" viewBox=\"0 -960 960 960\">\n",
              "    <path d=\"M120-120v-720h720v720H120Zm60-500h600v-160H180v160Zm220 220h160v-160H400v160Zm0 220h160v-160H400v160ZM180-400h160v-160H180v160Zm440 0h160v-160H620v160ZM180-180h160v-160H180v160Zm440 0h160v-160H620v160Z\"/>\n",
              "  </svg>\n",
              "    </button>\n",
              "\n",
              "  <style>\n",
              "    .colab-df-container {\n",
              "      display:flex;\n",
              "      gap: 12px;\n",
              "    }\n",
              "\n",
              "    .colab-df-convert {\n",
              "      background-color: #E8F0FE;\n",
              "      border: none;\n",
              "      border-radius: 50%;\n",
              "      cursor: pointer;\n",
              "      display: none;\n",
              "      fill: #1967D2;\n",
              "      height: 32px;\n",
              "      padding: 0 0 0 0;\n",
              "      width: 32px;\n",
              "    }\n",
              "\n",
              "    .colab-df-convert:hover {\n",
              "      background-color: #E2EBFA;\n",
              "      box-shadow: 0px 1px 2px rgba(60, 64, 67, 0.3), 0px 1px 3px 1px rgba(60, 64, 67, 0.15);\n",
              "      fill: #174EA6;\n",
              "    }\n",
              "\n",
              "    .colab-df-buttons div {\n",
              "      margin-bottom: 4px;\n",
              "    }\n",
              "\n",
              "    [theme=dark] .colab-df-convert {\n",
              "      background-color: #3B4455;\n",
              "      fill: #D2E3FC;\n",
              "    }\n",
              "\n",
              "    [theme=dark] .colab-df-convert:hover {\n",
              "      background-color: #434B5C;\n",
              "      box-shadow: 0px 1px 3px 1px rgba(0, 0, 0, 0.15);\n",
              "      filter: drop-shadow(0px 1px 2px rgba(0, 0, 0, 0.3));\n",
              "      fill: #FFFFFF;\n",
              "    }\n",
              "  </style>\n",
              "\n",
              "    <script>\n",
              "      const buttonEl =\n",
              "        document.querySelector('#df-017c7b5f-177c-402e-8a27-2803b8ba912a button.colab-df-convert');\n",
              "      buttonEl.style.display =\n",
              "        google.colab.kernel.accessAllowed ? 'block' : 'none';\n",
              "\n",
              "      async function convertToInteractive(key) {\n",
              "        const element = document.querySelector('#df-017c7b5f-177c-402e-8a27-2803b8ba912a');\n",
              "        const dataTable =\n",
              "          await google.colab.kernel.invokeFunction('convertToInteractive',\n",
              "                                                    [key], {});\n",
              "        if (!dataTable) return;\n",
              "\n",
              "        const docLinkHtml = 'Like what you see? Visit the ' +\n",
              "          '<a target=\"_blank\" href=https://colab.research.google.com/notebooks/data_table.ipynb>data table notebook</a>'\n",
              "          + ' to learn more about interactive tables.';\n",
              "        element.innerHTML = '';\n",
              "        dataTable['output_type'] = 'display_data';\n",
              "        await google.colab.output.renderOutput(dataTable, element);\n",
              "        const docLink = document.createElement('div');\n",
              "        docLink.innerHTML = docLinkHtml;\n",
              "        element.appendChild(docLink);\n",
              "      }\n",
              "    </script>\n",
              "  </div>\n",
              "\n",
              "\n",
              "<div id=\"df-3290c777-f059-4e90-a4ed-a178bb3812fe\">\n",
              "  <button class=\"colab-df-quickchart\" onclick=\"quickchart('df-3290c777-f059-4e90-a4ed-a178bb3812fe')\"\n",
              "            title=\"Suggest charts\"\n",
              "            style=\"display:none;\">\n",
              "\n",
              "<svg xmlns=\"http://www.w3.org/2000/svg\" height=\"24px\"viewBox=\"0 0 24 24\"\n",
              "     width=\"24px\">\n",
              "    <g>\n",
              "        <path d=\"M19 3H5c-1.1 0-2 .9-2 2v14c0 1.1.9 2 2 2h14c1.1 0 2-.9 2-2V5c0-1.1-.9-2-2-2zM9 17H7v-7h2v7zm4 0h-2V7h2v10zm4 0h-2v-4h2v4z\"/>\n",
              "    </g>\n",
              "</svg>\n",
              "  </button>\n",
              "\n",
              "<style>\n",
              "  .colab-df-quickchart {\n",
              "      --bg-color: #E8F0FE;\n",
              "      --fill-color: #1967D2;\n",
              "      --hover-bg-color: #E2EBFA;\n",
              "      --hover-fill-color: #174EA6;\n",
              "      --disabled-fill-color: #AAA;\n",
              "      --disabled-bg-color: #DDD;\n",
              "  }\n",
              "\n",
              "  [theme=dark] .colab-df-quickchart {\n",
              "      --bg-color: #3B4455;\n",
              "      --fill-color: #D2E3FC;\n",
              "      --hover-bg-color: #434B5C;\n",
              "      --hover-fill-color: #FFFFFF;\n",
              "      --disabled-bg-color: #3B4455;\n",
              "      --disabled-fill-color: #666;\n",
              "  }\n",
              "\n",
              "  .colab-df-quickchart {\n",
              "    background-color: var(--bg-color);\n",
              "    border: none;\n",
              "    border-radius: 50%;\n",
              "    cursor: pointer;\n",
              "    display: none;\n",
              "    fill: var(--fill-color);\n",
              "    height: 32px;\n",
              "    padding: 0;\n",
              "    width: 32px;\n",
              "  }\n",
              "\n",
              "  .colab-df-quickchart:hover {\n",
              "    background-color: var(--hover-bg-color);\n",
              "    box-shadow: 0 1px 2px rgba(60, 64, 67, 0.3), 0 1px 3px 1px rgba(60, 64, 67, 0.15);\n",
              "    fill: var(--button-hover-fill-color);\n",
              "  }\n",
              "\n",
              "  .colab-df-quickchart-complete:disabled,\n",
              "  .colab-df-quickchart-complete:disabled:hover {\n",
              "    background-color: var(--disabled-bg-color);\n",
              "    fill: var(--disabled-fill-color);\n",
              "    box-shadow: none;\n",
              "  }\n",
              "\n",
              "  .colab-df-spinner {\n",
              "    border: 2px solid var(--fill-color);\n",
              "    border-color: transparent;\n",
              "    border-bottom-color: var(--fill-color);\n",
              "    animation:\n",
              "      spin 1s steps(1) infinite;\n",
              "  }\n",
              "\n",
              "  @keyframes spin {\n",
              "    0% {\n",
              "      border-color: transparent;\n",
              "      border-bottom-color: var(--fill-color);\n",
              "      border-left-color: var(--fill-color);\n",
              "    }\n",
              "    20% {\n",
              "      border-color: transparent;\n",
              "      border-left-color: var(--fill-color);\n",
              "      border-top-color: var(--fill-color);\n",
              "    }\n",
              "    30% {\n",
              "      border-color: transparent;\n",
              "      border-left-color: var(--fill-color);\n",
              "      border-top-color: var(--fill-color);\n",
              "      border-right-color: var(--fill-color);\n",
              "    }\n",
              "    40% {\n",
              "      border-color: transparent;\n",
              "      border-right-color: var(--fill-color);\n",
              "      border-top-color: var(--fill-color);\n",
              "    }\n",
              "    60% {\n",
              "      border-color: transparent;\n",
              "      border-right-color: var(--fill-color);\n",
              "    }\n",
              "    80% {\n",
              "      border-color: transparent;\n",
              "      border-right-color: var(--fill-color);\n",
              "      border-bottom-color: var(--fill-color);\n",
              "    }\n",
              "    90% {\n",
              "      border-color: transparent;\n",
              "      border-bottom-color: var(--fill-color);\n",
              "    }\n",
              "  }\n",
              "</style>\n",
              "\n",
              "  <script>\n",
              "    async function quickchart(key) {\n",
              "      const quickchartButtonEl =\n",
              "        document.querySelector('#' + key + ' button');\n",
              "      quickchartButtonEl.disabled = true;  // To prevent multiple clicks.\n",
              "      quickchartButtonEl.classList.add('colab-df-spinner');\n",
              "      try {\n",
              "        const charts = await google.colab.kernel.invokeFunction(\n",
              "            'suggestCharts', [key], {});\n",
              "      } catch (error) {\n",
              "        console.error('Error during call to suggestCharts:', error);\n",
              "      }\n",
              "      quickchartButtonEl.classList.remove('colab-df-spinner');\n",
              "      quickchartButtonEl.classList.add('colab-df-quickchart-complete');\n",
              "    }\n",
              "    (() => {\n",
              "      let quickchartButtonEl =\n",
              "        document.querySelector('#df-3290c777-f059-4e90-a4ed-a178bb3812fe button');\n",
              "      quickchartButtonEl.style.display =\n",
              "        google.colab.kernel.accessAllowed ? 'block' : 'none';\n",
              "    })();\n",
              "  </script>\n",
              "</div>\n",
              "\n",
              "    </div>\n",
              "  </div>\n"
            ],
            "application/vnd.google.colaboratory.intrinsic+json": {
              "type": "dataframe",
              "variable_name": "results_df",
              "summary": "{\n  \"name\": \"results_df\",\n  \"rows\": 253,\n  \"fields\": [\n    {\n      \"column\": \"File Name\",\n      \"properties\": {\n        \"dtype\": \"string\",\n        \"num_unique_values\": 253,\n        \"samples\": [\n          \"173.wav\",\n          \"63.wav\",\n          \"169.wav\"\n        ],\n        \"semantic_type\": \"\",\n        \"description\": \"\"\n      }\n    },\n    {\n      \"column\": \"Target\",\n      \"properties\": {\n        \"dtype\": \"category\",\n        \"num_unique_values\": 2,\n        \"samples\": [\n          \"Happy\",\n          \"Sad\"\n        ],\n        \"semantic_type\": \"\",\n        \"description\": \"\"\n      }\n    }\n  ]\n}"
            }
          },
          "metadata": {},
          "execution_count": 109
        }
      ]
    },
    {
      "source": [
        "# @title Distribution of Predicted Emotions\n",
        "\n",
        "import matplotlib.pyplot as plt\n",
        "\n",
        "emotion_counts = results_df['Target'].value_counts()\n",
        "\n",
        "plt.figure(figsize=(8, 6))\n",
        "plt.bar(emotion_counts.index, emotion_counts.values, color=['skyblue', 'salmon'])\n",
        "plt.xlabel('Emotion')\n",
        "plt.ylabel('Count')\n",
        "_ = plt.title('Distribution of Predicted Emotions')\n"
      ],
      "cell_type": "code",
      "execution_count": null,
      "outputs": [
        {
          "output_type": "display_data",
          "data": {
            "text/plain": [
              "<Figure size 800x600 with 1 Axes>"
            ],
            "image/png": "[encoded data removed]"
          },
          "metadata": {}
        }
      ],
      "metadata": {
        "cellView": "form",
        "colab": {
          "base_uri": "https://localhost:8080/",
          "height": 511
        },
        "id": "YGfGJKK19Esq",
        "outputId": "046b0d92-f6cc-4d37-9089-8bfd76cbb08c"
      }
    },
    {
      "source": [
        "# @title Predicted Emotion\n",
        "\n",
        "from matplotlib import pyplot as plt\n",
        "import seaborn as sns\n",
        "results_df.groupby('Predicted Emotion').size().plot(kind='barh', color=sns.palettes.mpl_palette('Dark2'))\n",
        "plt.gca().spines[['top', 'right',]].set_visible(False)"
      ],
      "cell_type": "code",
      "execution_count": null,
      "outputs": [
        {
          "output_type": "display_data",
          "data": {
            "text/plain": [
              "<Figure size 640x480 with 1 Axes>"
            ],
            "image/png": "[encoded data removed]"
          },
          "metadata": {}
        }
      ],
      "metadata": {
        "cellView": "form",
        "colab": {
          "base_uri": "https://localhost:8080/",
          "height": 430
        },
        "id": "Wxho6fmgyEon",
        "outputId": "687b6473-f992-49bb-d094-43d90c44183d"
      }
    },
    {
      "cell_type": "code",
      "source": [
        "results"
      ],
      "metadata": {
        "id": "bMVPym32yJhF"
      },
      "execution_count": null,
      "outputs": []
    },
    {
      "cell_type": "code",
      "source": [
        "feature_names_train = feature_df.columns\n",
        "print(\"Feature names during training:\", feature_names_train)\n"
      ],
      "metadata": {
        "colab": {
          "base_uri": "https://localhost:8080/"
        },
        "id": "_BvyyDmb0OQR",
        "outputId": "14c5c6f1-5720-4c84-cc32-9bf06e9dcc3b"
      },
      "execution_count": null,
      "outputs": [
        {
          "output_type": "stream",
          "name": "stdout",
          "text": [
            "Feature names during training: Index(['0', '1', '2', '3', '4', '5', '6', '7', '8', '9', '10', '11', '12',\n",
            "       '13', '14', '15', '16', '17', '18', '19', '20', '21', '22', '23', '24',\n",
            "       '25', '26', '27', '28', '29', '30', '31', '32', 'emotion'],\n",
            "      dtype='object')\n"
          ]
        }
      ]
    },
    {
      "cell_type": "code",
      "source": [
        "features_names_test = results_df.columns"
      ],
      "metadata": {
        "id": "Whxm2EgU0f96"
      },
      "execution_count": null,
      "outputs": []
    },
    {
      "cell_type": "code",
      "source": [
        "print(\"feature names during test\",features_names_test)"
      ],
      "metadata": {
        "colab": {
          "base_uri": "https://localhost:8080/"
        },
        "id": "ujGEXWgd0kMW",
        "outputId": "187911af-c0cc-49f1-a9d2-3fcfcd649712"
      },
      "execution_count": null,
      "outputs": [
        {
          "output_type": "stream",
          "name": "stdout",
          "text": [
            "feature names during test Index(['File', 'Target'], dtype='object')\n"
          ]
        }
      ]
    },
    {
      "cell_type": "code",
      "source": [
        "features_scaled"
      ],
      "metadata": {
        "colab": {
          "base_uri": "https://localhost:8080/"
        },
        "id": "wJdJN7MO089S",
        "outputId": "fca275f3-1d5a-4366-99be-70e968809381"
      },
      "execution_count": null,
      "outputs": [
        {
          "output_type": "execute_result",
          "data": {
            "text/plain": [
              "array([[ 0.87223343, -0.12524037, -0.61504456,  0.61775849,  0.0449337 ,\n",
              "         0.04462612, -0.20248017,  0.558559  ,  0.72977747,  1.03945415,\n",
              "         0.56703773,  0.75689354, -0.08867731, -0.53388047, -0.44891476,\n",
              "        -0.86869524, -0.68422695,  0.22973165,  0.12396688, -0.72316813,\n",
              "        -0.59532863,  0.41403965,  2.37795334,  0.6061579 , -0.13199271,\n",
              "        -1.15490427, -0.71286845, -0.5763273 , -0.44911878, -0.19513938,\n",
              "        -0.29473694,  0.20693304,  0.71468301]])"
            ]
          },
          "metadata": {},
          "execution_count": 82
        }
      ]
    },
    {
      "cell_type": "code",
      "source": [
        "files.download(\"test_predictions_1.csv\")"
      ],
      "metadata": {
        "colab": {
          "base_uri": "https://localhost:8080/",
          "height": 17
        },
        "id": "FheQCJn50-Z_",
        "outputId": "71eb9d5a-5671-476f-d047-15efaecc2e7a"
      },
      "execution_count": null,
      "outputs": [
        {
          "output_type": "display_data",
          "data": {
            "text/plain": [
              "<IPython.core.display.Javascript object>"
            ],
            "application/javascript": [
              "\n",
              "    async function download(id, filename, size) {\n",
              "      if (!google.colab.kernel.accessAllowed) {\n",
              "        return;\n",
              "      }\n",
              "      const div = document.createElement('div');\n",
              "      const label = document.createElement('label');\n",
              "      label.textContent = `Downloading \"${filename}\": `;\n",
              "      div.appendChild(label);\n",
              "      const progress = document.createElement('progress');\n",
              "      progress.max = size;\n",
              "      div.appendChild(progress);\n",
              "      document.body.appendChild(div);\n",
              "\n",
              "      const buffers = [];\n",
              "      let downloaded = 0;\n",
              "\n",
              "      const channel = await google.colab.kernel.comms.open(id);\n",
              "      // Send a message to notify the kernel that we're ready.\n",
              "      channel.send({})\n",
              "\n",
              "      for await (const message of channel.messages) {\n",
              "        // Send a message to notify the kernel that we're ready.\n",
              "        channel.send({})\n",
              "        if (message.buffers) {\n",
              "          for (const buffer of message.buffers) {\n",
              "            buffers.push(buffer);\n",
              "            downloaded += buffer.byteLength;\n",
              "            progress.value = downloaded;\n",
              "          }\n",
              "        }\n",
              "      }\n",
              "      const blob = new Blob(buffers, {type: 'application/binary'});\n",
              "      const a = document.createElement('a');\n",
              "      a.href = window.URL.createObjectURL(blob);\n",
              "      a.download = filename;\n",
              "      div.appendChild(a);\n",
              "      a.click();\n",
              "      div.remove();\n",
              "    }\n",
              "  "
            ]
          },
          "metadata": {}
        },
        {
          "output_type": "display_data",
          "data": {
            "text/plain": [
              "<IPython.core.display.Javascript object>"
            ],
            "application/javascript": [
              "download(\"download_8d5662d2-c213-43ed-b043-5c57bab30e42\", \"test_predictions_1.csv\", 3036)"
            ]
          },
          "metadata": {}
        }
      ]
    },
    {
      "cell_type": "code",
      "source": [
        "unseen_data_scaled = scaler.transform(unseen_data)\n"
      ],
      "metadata": {
        "id": "hxCP2srN3yIi"
      },
      "execution_count": null,
      "outputs": []
    }
  ]
}